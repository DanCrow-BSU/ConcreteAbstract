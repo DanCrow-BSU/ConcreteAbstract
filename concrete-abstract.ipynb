{
 "cells": [
  {
   "cell_type": "raw",
   "id": "252fa8cc",
   "metadata": {},
   "source": [
    "Purpose:\n",
    "To create a set of abstrct word embeddings from a set of concrete word embeddings.\n",
    "\n",
    "Strategy:\n",
    "We have three datasets we'll be using:\n",
    "[wac2vec]\n",
    "[WordNet]\n",
    "[Concretness Ratings]\n",
    "\n",
    "\n",
    "Let's create a class to store these and hold functions for manipulating them:\n",
    "[ConcreteAbstract]\n",
    " - isa: class\n",
    " - anchor\n",
    "\n",
    "[AbstractionTree]\n",
    " - anchor\n",
    " - a \"tree\"\n",
    "  - each leaf has a concrete word, embedding, abstraction level\n",
    "  - every parent is an abstract word one (or more?) abstraction level(s) above its children\n",
    "   - contains a classifier that can classify its children\n",
    " - pandas dataframe\n",
    "  - I think pandas will have some useful functions\n",
    "   \n",
    "\n",
    "What are some possible functions we may need?\n",
    "init_abstraction_tree()\n",
    " - takes the three datasets and starts a new tree with the root\n",
    "\n",
    "build_abstraction_tree()\n",
    " - takes the three datasets and builds the [AbstractionTree]\n",
    "  - starts with the leaves and builds towards the root(s)\n",
    " - we can try different kinds of trees using variations of this function\n",
    "\n",
    "\n",
    "build_classifiers()\n",
    " - takes an [AbstractionTree] and builds classifieres for the abstract words\n",
    "\n",
    "\n",
    "\n",
    "Wrapper classes for data?\n",
    "\n",
    "\n",
    "\n",
    "\n",
    "\n",
    "\n"
   ]
  },
  {
   "cell_type": "code",
   "execution_count": 39,
   "id": "86653052",
   "metadata": {},
   "outputs": [
    {
     "name": "stderr",
     "output_type": "stream",
     "text": [
      "[nltk_data] Downloading package wordnet to /home/crow/nltk_data...\n",
      "[nltk_data]   Package wordnet is already up-to-date!\n"
     ]
    },
    {
     "data": {
      "text/plain": [
       "True"
      ]
     },
     "execution_count": 39,
     "metadata": {},
     "output_type": "execute_result"
    }
   ],
   "source": [
    "import pickle\n",
    "#import sklearn\n",
    "#from sklearn import metrics\n",
    "#from sklearn import linear_model\n",
    "import random\n",
    "import numpy as np\n",
    "#from wac import WAC\n",
    "from tqdm.notebook import tqdm\n",
    "import pandas as pd\n",
    "#from sklearn import neural_network\n",
    "#import matplotlib.pyplot as plt\n",
    "from nltk.corpus import wordnet as wn\n",
    "from collections import defaultdict as dd\n",
    "import nltk \n",
    "nltk.download('wordnet')"
   ]
  },
  {
   "cell_type": "markdown",
   "id": "5c3369d5",
   "metadata": {},
   "source": [
    "## Initiate Datasets"
   ]
  },
  {
   "cell_type": "raw",
   "id": "dbb416b7",
   "metadata": {},
   "source": [
    "f = open('ddata/clip.bertvocab.embeddings.513.txt').readlines()\n",
    "f = [line.split() for line in f]\n",
    "wac2vec = {line[0]:np.array(line[1:], dtype=np.float32) for line in f}\n",
    "pickle.dump(wac2vec, open( \"ddata/clip.bertvocab.embeddings.513.pkl\", \"wb\" ))"
   ]
  },
  {
   "cell_type": "code",
   "execution_count": 2,
   "id": "a58f457d",
   "metadata": {},
   "outputs": [
    {
     "data": {
      "text/plain": [
       "30522"
      ]
     },
     "execution_count": 2,
     "metadata": {},
     "output_type": "execute_result"
    }
   ],
   "source": [
    "wac2vec = pickle.load(open('ddata/clip.bertvocab.embeddings.513.pkl', 'rb'))\n",
    "len(wac2vec)"
   ]
  },
  {
   "cell_type": "raw",
   "id": "a0a1ef48",
   "metadata": {},
   "source": [
    "concr_scores = pd.read_csv('ddata/AC_ratings_google3m_koeper_SiW.csv', delimiter='\\t')\n",
    "concr_scores = concr_scores.dropna()\n",
    "concr_scores.WORD = concr_scores.WORD.apply(lambda x: x.replace(\"_\", \" \"))\n",
    "concr_scores.index = concr_scores.WORD\n",
    "pickle.dump(concr_scores, open( \"ddata/AC_ratings_google3m_koeper_SiW.pkl\", \"wb\" ))"
   ]
  },
  {
   "cell_type": "code",
   "execution_count": 3,
   "id": "87cb10ff",
   "metadata": {},
   "outputs": [
    {
     "data": {
      "text/plain": [
       "2168990"
      ]
     },
     "execution_count": 3,
     "metadata": {},
     "output_type": "execute_result"
    }
   ],
   "source": [
    "concr_scores = pickle.load(open('ddata/AC_ratings_google3m_koeper_SiW.pkl', 'rb'))\n",
    "len(concr_scores)"
   ]
  },
  {
   "cell_type": "markdown",
   "id": "31cc199c",
   "metadata": {},
   "source": [
    "## ConcreteAbstract Class"
   ]
  },
  {
   "cell_type": "code",
   "execution_count": 4,
   "id": "cac17b9c",
   "metadata": {},
   "outputs": [],
   "source": [
    "class ConcreteAbstract:\n",
    "    def __init__(self, word_vectors, concr_scores, word_net):\n",
    "        pass"
   ]
  },
  {
   "cell_type": "code",
   "execution_count": null,
   "id": "f81683a8",
   "metadata": {},
   "outputs": [],
   "source": []
  },
  {
   "cell_type": "markdown",
   "id": "e13c006a",
   "metadata": {},
   "source": [
    "### Build Abstraction Tree"
   ]
  },
  {
   "cell_type": "raw",
   "id": "3b4a74fb",
   "metadata": {},
   "source": [
    "Strategy:\n",
    "Start with a set of concrete words that have embeddings and are in WordNet.\n",
    " - We'll call these Leaves.  All other embeddings are derived from these.\n",
    "\n",
    "[List of Leaf Words]\n",
    "\n",
    "<Attach embedings to these words for later use>\n",
    " - We can put these directly into our abstraction tree\n",
    "\n",
    "[Abstraction Tree]\n",
    "\n",
    "<Find a proper Synset for each leaf\n",
    "\n",
    "[List of Leaf Synsets]\n",
    "\n",
    "<Trim leaves that are ancestors of other leaves>\n",
    "\n",
    "[List of True Leaf Synsets]\n",
    "\n",
    "<Make sure only the True Leaf Synsets are in our [Abstraction Tree]>\n",
    "\n",
    "<Create a list of unprocessed Synsets>\n",
    "\n",
    "[Unprocessed Synsets]\n",
    "\n",
    "<Start \"processing\" each of these [Unprocessed Synsets]>\n",
    " <Find a hypernym>\n",
    " <Add hypernym to [Unprocessed Synsets]>\n",
    "  <Track some information>\n",
    "   - list of direct children?\n",
    "   - list of children and their depths?\n",
    "   - number of leaves\n",
    "   \n",
    "\n"
   ]
  },
  {
   "cell_type": "code",
   "execution_count": 5,
   "id": "b7e089c1",
   "metadata": {},
   "outputs": [],
   "source": [
    "import warnings\n",
    "\n",
    "def init_abstraction_tree(min_rating=8):\n",
    "\n",
    "    wac_words = list(wac2vec.keys())\n",
    "    wn_words = set(i for i in wn.words())\n",
    "    wn_wac_words = wn_words & set(wac_words)\n",
    "    \n",
    "    concr_scores_subset = concr_scores[concr_scores.RATING >= min_rating]\n",
    "    leaf_words = [w for w in tqdm(wn_wac_words) if w in concr_scores_subset.index]\n",
    "\n",
    "    # Get Leaf Synsets...\n",
    "    leaf_synsets = [wn.synsets(w)[0] for w in leaf_words]\n",
    "\n",
    "    # Initiate Abstraction Tree\n",
    "    embeddings = [wac2vec[w] for w in leaf_words]\n",
    "    data = {\n",
    "        \"SYNSET\" : leaf_synsets,\n",
    "        \"WORD\" : leaf_words,\n",
    "        \"DIST2LEAF\": [0]*len(leaf_synsets),\n",
    "        \"NUM_LEAVES\": [1]*len(leaf_synsets),\n",
    "        \"HYPERNYM\": [[]]*len(leaf_synsets),\n",
    "        \"HYPONYMS\": [[]]*len(leaf_synsets),\n",
    "        \"EMBEDDING\" : embeddings\n",
    "        \n",
    "    }\n",
    "    abstraction_tree = pd.DataFrame(data)\n",
    "    abstraction_tree.index = abstraction_tree.SYNSET\n",
    "\n",
    "    # Get True Leaf Synsets\n",
    "    ancestors = set()\n",
    "    with warnings.catch_warnings():\n",
    "        warnings.simplefilter(\"ignore\")\n",
    "        for s in leaf_synsets:\n",
    "            #print(set(s.closure(lambda s: s.hypernyms())))\n",
    "            ancestors = ancestors.union(set(s.closure(lambda s: s.hypernyms())))\n",
    "\n",
    "    # Remove leaves that are ansestors of other leaves\n",
    "    true_leaf_synsets = set(leaf_synsets) - ancestors\n",
    "    ansestor_leaves = set(leaf_synsets) - true_leaf_synsets\n",
    "    abstraction_tree.drop(ansestor_leaves, inplace=True)\n",
    "    \n",
    "    # Remove leaves that have the same Synset\n",
    "    abstraction_tree.drop_duplicates(subset='SYNSET', inplace=True)\n",
    "    \n",
    "    return abstraction_tree"
   ]
  },
  {
   "cell_type": "raw",
   "id": "7d3b6413",
   "metadata": {},
   "source": [
    "#abstraction_tree = init_abstraction_tree(3.418)\n",
    "#abstraction_tree = init_abstraction_tree(3.418)"
   ]
  },
  {
   "cell_type": "code",
   "execution_count": 6,
   "id": "303c7b6d",
   "metadata": {},
   "outputs": [],
   "source": [
    "# Grow abstraction tree\n",
    "\n",
    "def grow_abstraction_tree(abstraction_tree):\n",
    "    \"\"\"Takes an initial abstraction tree (containing only leaves) and grows\n",
    "    the rest of the tree.\"\"\"\n",
    "    \n",
    "    synset_list = list(abstraction_tree['SYNSET'])\n",
    "\n",
    "    for s in tqdm(synset_list):\n",
    "        h = s.hypernyms()\n",
    "\n",
    "        if len(h) == 0:\n",
    "            continue\n",
    "\n",
    "        h = h[0]\n",
    "\n",
    "        if h not in abstraction_tree.SYNSET:\n",
    "            synset_list.append(h)\n",
    "            abstraction_tree.loc[h] = [\n",
    "                h,    # SYNSET\n",
    "                None, # WORD\n",
    "                0,    # DIST2LEAF\n",
    "                0,    # NUM_LEAVES\n",
    "                [],   # HYPERNYM\n",
    "                [],   # HYPONYMS\n",
    "                None  # EMBEDDING\n",
    "            ]\n",
    "\n",
    "        # Set DIST2LEAF\n",
    "        s_dist = abstraction_tree.loc[s, 'DIST2LEAF']\n",
    "        h_dist = abstraction_tree.loc[h, 'DIST2LEAF']\n",
    "        #print(s)\n",
    "        if s_dist >= h_dist:\n",
    "            abstraction_tree.loc[h, 'DIST2LEAF'] = s_dist + 1\n",
    "\n",
    "        # Set NUM_LEAVES\n",
    "        s_num_leaves = abstraction_tree.loc[s, 'NUM_LEAVES']\n",
    "        h_num_leaves = abstraction_tree.loc[h, 'NUM_LEAVES']\n",
    "        abstraction_tree.loc[h, 'NUM_LEAVES'] = h_num_leaves + s_num_leaves\n",
    "\n",
    "        # Add hypernym to synset\n",
    "        abstraction_tree.loc[s, 'HYPERNYM'] = [h]\n",
    "\n",
    "        # Add synset to hypernym\n",
    "        abstraction_tree.loc[h, 'HYPONYMS'].append(s)"
   ]
  },
  {
   "cell_type": "code",
   "execution_count": 7,
   "id": "2757dc71",
   "metadata": {},
   "outputs": [],
   "source": [
    "# Display abstraction tree\n",
    "from nltk.tree import Tree\n",
    "\n",
    "def build_display_tree(df, root_synset, trim_name=-1):\n",
    "    \"\"\"Display an abstraction tree starting with the root_synset.\n",
    "    Returns an nltk Tree structure.\n",
    "    Do not use on big trees!\"\"\"\n",
    "    row = df.loc[root_synset]\n",
    "    #root_name = row['SYNSET'].name()[:5]\n",
    "    root_name = row['SYNSET'].lemmas()[0].name()[:trim_name]\n",
    "    if len(row['HYPONYMS']) == 0:\n",
    "        return root_name\n",
    "    \n",
    "    children = [build_display_tree(df, h, trim_name) for h in row['HYPONYMS']]\n",
    "    \n",
    "    return Tree(root_name, children)"
   ]
  },
  {
   "cell_type": "code",
   "execution_count": 8,
   "id": "b5588be6",
   "metadata": {},
   "outputs": [
    {
     "data": {
      "application/vnd.jupyter.widget-view+json": {
       "model_id": "bbd03afab21e45e58ad45baa97475a91",
       "version_major": 2,
       "version_minor": 0
      },
      "text/plain": [
       "  0%|          | 0/14510 [00:00<?, ?it/s]"
      ]
     },
     "metadata": {},
     "output_type": "display_data"
    }
   ],
   "source": [
    "abstraction_tree = init_abstraction_tree(9)"
   ]
  },
  {
   "cell_type": "code",
   "execution_count": 9,
   "id": "46691939",
   "metadata": {},
   "outputs": [
    {
     "data": {
      "application/vnd.jupyter.widget-view+json": {
       "model_id": "9836dcdb61f242239ed65b67cb17f074",
       "version_major": 2,
       "version_minor": 0
      },
      "text/plain": [
       "  0%|          | 0/17 [00:00<?, ?it/s]"
      ]
     },
     "metadata": {},
     "output_type": "display_data"
    }
   ],
   "source": [
    "grow_abstraction_tree(abstraction_tree)"
   ]
  },
  {
   "cell_type": "code",
   "execution_count": 10,
   "id": "b5e2b201",
   "metadata": {},
   "outputs": [],
   "source": [
    "#build_display_tree(abstraction_tree, wn.synset('entity.n.01'), trim_name=5)"
   ]
  },
  {
   "cell_type": "code",
   "execution_count": null,
   "id": "bfe51cdb",
   "metadata": {},
   "outputs": [],
   "source": []
  },
  {
   "cell_type": "code",
   "execution_count": 11,
   "id": "f12043f5",
   "metadata": {},
   "outputs": [],
   "source": [
    "# Get Positive Synsets"
   ]
  },
  {
   "cell_type": "raw",
   "id": "8bbb230f",
   "metadata": {},
   "source": [
    "Concrete ideas (synsets) already have embeddings.  We want to get embeddings for more abstract ideas.\n",
    "\n",
    "We will try to add a clasifier to each abstract idea (synset).\n",
    "\n",
    "Every classifier will need a set of positive embeddings to train on.\n",
    "\n",
    "These embeddings will come from the hyponym synsets.\n",
    "\n",
    "If there are not enough synsets under a hypernym, then it will not get a classifier.\n",
    "\n",
    "\n",
    "We'll want to do a breadth first search...\n",
    "We can use NUM_LEAVES to tell us if a particular synset will have a classifier."
   ]
  },
  {
   "cell_type": "code",
   "execution_count": 60,
   "id": "60cb591d",
   "metadata": {},
   "outputs": [],
   "source": [
    "# Number of positive examples we want for each classifier\n",
    "pos_count = 3\n",
    "neg_count = 9\n",
    "\n",
    "def is_leaf(synset):\n",
    "    if synset not in abstraction_tree.index:\n",
    "        return False\n",
    "    return abstraction_tree.loc[synset, 'DIST2LEAF'] == 0\n",
    "\n",
    "def embedding_capable(synset):\n",
    "    \"\"\"Return true if the synset is capable of having an embedding.\"\"\"\n",
    "    if synset not in abstraction_tree.index:\n",
    "        return False\n",
    "    return is_leaf(synset) or abstraction_tree.loc[synset, 'NUM_LEAVES'] >= pos_count\n",
    "\n",
    "def get_hyponyms(synset):\n",
    "    \"\"\"Return a list of hyponyms, or itself if there are none.\"\"\"\n",
    "    if synset not in abstraction_tree.index:\n",
    "        return None\n",
    "    hypos = abstraction_tree.loc[synset, 'HYPONYMS']\n",
    "    if len(hypos) == 0:\n",
    "        return [synset]\n",
    "    else:\n",
    "        return hypos\n",
    "\n",
    "def count_embedding_capable(synset_list):\n",
    "    \"\"\"Given a list of synsets, returns a count of how many are capable of having an embedding.\"\"\"\n",
    "    return sum((embedding_capable(s) == True)*1 for s in synset_list)\n",
    "\n",
    "def expand_hyponym_list(synset_list):\n",
    "    hypos = []\n",
    "    for s in synset_list:\n",
    "        hypos += get_hyponyms(s)\n",
    "    return hypos\n",
    "\n",
    "def find_positive_examples(synset, depth=100):\n",
    "    pos = get_hyponyms(synset)\n",
    "    for _ in range(depth):\n",
    "        pos = expand_hyponym_list(pos)\n",
    "        if count_embedding_capable(pos) >= pos_count:\n",
    "            return pos\n",
    "    \n",
    "    raise Exception(\"Reached depth of {} without finding enough positive example\".format(depth))"
   ]
  },
  {
   "cell_type": "code",
   "execution_count": 61,
   "id": "22a0bb8f",
   "metadata": {},
   "outputs": [
    {
     "data": {
      "text/plain": [
       "[Synset('cocoa.n.01'),\n",
       " Synset('pizza.n.01'),\n",
       " Synset('sausage.n.01'),\n",
       " Synset('solanaceous_vegetable.n.01'),\n",
       " Synset('rug.n.01'),\n",
       " Synset('shoe.n.01'),\n",
       " Synset('dressing.n.04'),\n",
       " Synset('watchband.n.01'),\n",
       " Synset('clothing.n.01'),\n",
       " Synset('chordate.n.01'),\n",
       " Synset('invertebrate.n.01'),\n",
       " Synset('vascular_plant.n.01'),\n",
       " Synset('flap.n.04')]"
      ]
     },
     "execution_count": 61,
     "metadata": {},
     "output_type": "execute_result"
    }
   ],
   "source": [
    "find_positive_examples(wn.synset('entity.n.01'))"
   ]
  },
  {
   "cell_type": "code",
   "execution_count": null,
   "id": "969db64a",
   "metadata": {},
   "outputs": [],
   "source": []
  },
  {
   "cell_type": "code",
   "execution_count": 62,
   "id": "76f539f7",
   "metadata": {},
   "outputs": [],
   "source": [
    "# Find negative examples..."
   ]
  },
  {
   "cell_type": "code",
   "execution_count": 81,
   "id": "292c37cd",
   "metadata": {},
   "outputs": [],
   "source": [
    "def find_negative_examples(synset, pos_examples):\n",
    "    # All synsets\n",
    "    neg = np.array(abstraction_tree['SYNSET'])\n",
    "    # Embedding capable synsets\n",
    "    neg = neg[list(map(embedding_capable, neg))]\n",
    "    # neg examples not in positive examples\n",
    "    neg = set(neg) - set(pos_examples)\n",
    "    neg_examples = random.sample(list(neg), k=min(neg_count, len(neg)))\n",
    "    return neg_examples"
   ]
  },
  {
   "cell_type": "code",
   "execution_count": 82,
   "id": "32c41a50",
   "metadata": {},
   "outputs": [],
   "source": [
    "pos_examples = find_positive_examples(wn.synset('entity.n.01'))"
   ]
  },
  {
   "cell_type": "code",
   "execution_count": 83,
   "id": "eaf4c16f",
   "metadata": {
    "scrolled": true
   },
   "outputs": [],
   "source": [
    "neg_examples = find_negative_examples(wn.synset('entity.n.01'), pos_examples)"
   ]
  },
  {
   "cell_type": "code",
   "execution_count": 84,
   "id": "c118271a",
   "metadata": {},
   "outputs": [
    {
     "data": {
      "text/plain": [
       "[Synset('crocodile.n.01'),\n",
       " Synset('brassiere.n.01'),\n",
       " Synset('tomato.n.01'),\n",
       " Synset('matter.n.03'),\n",
       " Synset('eyelid.n.01'),\n",
       " Synset('frog.n.01'),\n",
       " Synset('shark.n.01'),\n",
       " Synset('bandage.n.01'),\n",
       " Synset('covering.n.02')]"
      ]
     },
     "execution_count": 84,
     "metadata": {},
     "output_type": "execute_result"
    }
   ],
   "source": [
    "neg_examples"
   ]
  },
  {
   "cell_type": "code",
   "execution_count": 85,
   "id": "2c14c67e",
   "metadata": {},
   "outputs": [
    {
     "data": {
      "text/plain": [
       "[Synset('cocoa.n.01'),\n",
       " Synset('pizza.n.01'),\n",
       " Synset('sausage.n.01'),\n",
       " Synset('solanaceous_vegetable.n.01'),\n",
       " Synset('rug.n.01'),\n",
       " Synset('shoe.n.01'),\n",
       " Synset('dressing.n.04'),\n",
       " Synset('watchband.n.01'),\n",
       " Synset('clothing.n.01'),\n",
       " Synset('chordate.n.01'),\n",
       " Synset('invertebrate.n.01'),\n",
       " Synset('vascular_plant.n.01'),\n",
       " Synset('flap.n.04')]"
      ]
     },
     "execution_count": 85,
     "metadata": {},
     "output_type": "execute_result"
    }
   ],
   "source": [
    "pos_examples"
   ]
  },
  {
   "cell_type": "code",
   "execution_count": null,
   "id": "77674adf",
   "metadata": {},
   "outputs": [],
   "source": []
  },
  {
   "cell_type": "code",
   "execution_count": null,
   "id": "c2f8467e",
   "metadata": {},
   "outputs": [],
   "source": []
  },
  {
   "cell_type": "code",
   "execution_count": null,
   "id": "66744d4a",
   "metadata": {},
   "outputs": [],
   "source": []
  },
  {
   "cell_type": "code",
   "execution_count": null,
   "id": "6bfc61c9",
   "metadata": {},
   "outputs": [],
   "source": []
  },
  {
   "cell_type": "code",
   "execution_count": null,
   "id": "36cc840f",
   "metadata": {},
   "outputs": [],
   "source": []
  },
  {
   "cell_type": "code",
   "execution_count": null,
   "id": "e6628652",
   "metadata": {},
   "outputs": [],
   "source": []
  }
 ],
 "metadata": {
  "kernelspec": {
   "display_name": "Python 3",
   "language": "python",
   "name": "python3"
  },
  "language_info": {
   "codemirror_mode": {
    "name": "ipython",
    "version": 3
   },
   "file_extension": ".py",
   "mimetype": "text/x-python",
   "name": "python",
   "nbconvert_exporter": "python",
   "pygments_lexer": "ipython3",
   "version": "3.9.16"
  }
 },
 "nbformat": 4,
 "nbformat_minor": 5
}
