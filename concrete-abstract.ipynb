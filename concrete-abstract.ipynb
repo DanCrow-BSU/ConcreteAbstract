{
 "cells": [
  {
   "cell_type": "raw",
   "id": "cffe473c",
   "metadata": {},
   "source": [
    "Purpose:\n",
    "To create a set of abstrct word embeddings from a set of concrete word embeddings.\n",
    "\n",
    "Strategy:\n",
    "We have three datasets we'll be using:\n",
    "[wac2vec]\n",
    "[WordNet]\n",
    "[Concretness Ratings]\n",
    "\n",
    "\n",
    "Let's create a class to store these and hold functions for manipulating them:\n",
    "[ConcreteAbstract]\n",
    " - isa: class\n",
    " - anchor\n",
    "\n",
    "[AbstractionTree]\n",
    " - anchor\n",
    " - a \"tree\"\n",
    "  - each leaf has a concrete word, embedding, abstraction level\n",
    "  - every parent is an abstract word one (or more?) abstraction level(s) above its children\n",
    "   - contains a classifier that can classify its children\n",
    " - pandas dataframe\n",
    "  - I think pandas will have some useful functions\n",
    "   \n",
    "\n",
    "What are some possible functions we may need?\n",
    "init_abstraction_tree()\n",
    " - takes the three datasets and starts a new tree with the root\n",
    "\n",
    "build_abstraction_tree()\n",
    " - takes the three datasets and builds the [AbstractionTree]\n",
    "  - starts with the leaves and builds towards the root(s)\n",
    " - we can try different kinds of trees using variations of this function\n",
    "\n",
    "\n",
    "build_classifiers()\n",
    " - takes an [AbstractionTree] and builds classifieres for the abstract words\n",
    "\n",
    "\n",
    "\n",
    "Wrapper classes for data?\n",
    "\n",
    "\n",
    "\n",
    "\n",
    "\n",
    "\n"
   ]
  },
  {
   "cell_type": "code",
   "execution_count": 12,
   "id": "022bb7e0",
   "metadata": {},
   "outputs": [
    {
     "name": "stderr",
     "output_type": "stream",
     "text": [
      "[nltk_data] Downloading package wordnet to /home/crow/nltk_data...\n",
      "[nltk_data]   Package wordnet is already up-to-date!\n"
     ]
    },
    {
     "data": {
      "text/plain": [
       "True"
      ]
     },
     "execution_count": 12,
     "metadata": {},
     "output_type": "execute_result"
    }
   ],
   "source": [
    "#import pickle\n",
    "#import sklearn\n",
    "#from sklearn import metrics\n",
    "#from sklearn import linear_model\n",
    "#import random\n",
    "#import numpy as np\n",
    "#from wac import WAC\n",
    "from tqdm.notebook import tqdm\n",
    "import pandas as pd\n",
    "#from sklearn import neural_network\n",
    "#import matplotlib.pyplot as plt\n",
    "from nltk.corpus import wordnet as wn\n",
    "from collections import defaultdict as dd\n",
    "import nltk \n",
    "nltk.download('wordnet')"
   ]
  },
  {
   "cell_type": "markdown",
   "id": "70fe5d6f",
   "metadata": {},
   "source": [
    "## Initiate Datasets"
   ]
  },
  {
   "cell_type": "raw",
   "id": "93cddf1d",
   "metadata": {},
   "source": [
    "f = open('ddata/clip.bertvocab.embeddings.513.txt').readlines()\n",
    "f = [line.split() for line in f]\n",
    "wac2vec = {line[0]:np.array(line[1:], dtype=np.float32) for line in f}\n",
    "pickle.dump(wac2vec, open( \"ddata/clip.bertvocab.embeddings.513.pkl\", \"wb\" ))"
   ]
  },
  {
   "cell_type": "code",
   "execution_count": 24,
   "id": "39ab756d",
   "metadata": {},
   "outputs": [
    {
     "data": {
      "text/plain": [
       "30522"
      ]
     },
     "execution_count": 24,
     "metadata": {},
     "output_type": "execute_result"
    }
   ],
   "source": [
    "wac2vec = pickle.load(open('ddata/clip.bertvocab.embeddings.513.pkl', 'rb'))\n",
    "len(wac2vec)"
   ]
  },
  {
   "cell_type": "raw",
   "id": "aee736b5",
   "metadata": {},
   "source": [
    "concr_scores = pd.read_csv('ddata/AC_ratings_google3m_koeper_SiW.csv', delimiter='\\t')\n",
    "concr_scores = concr_scores.dropna()\n",
    "concr_scores.WORD = concr_scores.WORD.apply(lambda x: x.replace(\"_\", \" \"))\n",
    "concr_scores.index = concr_scores.WORD\n",
    "pickle.dump(concr_scores, open( \"ddata/AC_ratings_google3m_koeper_SiW.pkl\", \"wb\" ))"
   ]
  },
  {
   "cell_type": "code",
   "execution_count": 22,
   "id": "0751777e",
   "metadata": {},
   "outputs": [
    {
     "data": {
      "text/plain": [
       "2168990"
      ]
     },
     "execution_count": 22,
     "metadata": {},
     "output_type": "execute_result"
    }
   ],
   "source": [
    "concr_scores = pickle.load(open('ddata/AC_ratings_google3m_koeper_SiW.pkl', 'rb'))\n",
    "len(concr_scores)"
   ]
  },
  {
   "cell_type": "code",
   "execution_count": 29,
   "id": "357d035b",
   "metadata": {},
   "outputs": [],
   "source": [
    "#wn_words = set(i for i in wn.words())\n",
    "#wn_wac_words = wn_words & set(wac_words)"
   ]
  },
  {
   "cell_type": "markdown",
   "id": "9fc32573",
   "metadata": {},
   "source": [
    "## ConcreteAbstract Class"
   ]
  },
  {
   "cell_type": "code",
   "execution_count": 28,
   "id": "d964213f",
   "metadata": {},
   "outputs": [],
   "source": [
    "class ConcreteAbstract:\n",
    "    def __init__(self, word_vectors, concr_scores, word_net):\n",
    "        pass"
   ]
  },
  {
   "cell_type": "code",
   "execution_count": null,
   "id": "bdc974d1",
   "metadata": {},
   "outputs": [],
   "source": []
  },
  {
   "cell_type": "code",
   "execution_count": 30,
   "id": "bff620c9",
   "metadata": {},
   "outputs": [],
   "source": [
    "# play with wordnet"
   ]
  },
  {
   "cell_type": "code",
   "execution_count": 31,
   "id": "e72edde4",
   "metadata": {},
   "outputs": [
    {
     "data": {
      "text/plain": [
       "[Synset('cow.n.01'),\n",
       " Synset('cow.n.02'),\n",
       " Synset('cow.n.03'),\n",
       " Synset('overawe.v.01')]"
      ]
     },
     "execution_count": 31,
     "metadata": {},
     "output_type": "execute_result"
    }
   ],
   "source": [
    "wn.synsets('cow')"
   ]
  },
  {
   "cell_type": "code",
   "execution_count": 32,
   "id": "39ddeab3",
   "metadata": {},
   "outputs": [
    {
     "name": "stdout",
     "output_type": "stream",
     "text": [
      "Help on method synsets in module nltk.corpus.reader.wordnet:\n",
      "\n",
      "synsets(lemma, pos=None, lang='eng', check_exceptions=True) method of nltk.corpus.reader.wordnet.WordNetCorpusReader instance\n",
      "    Load all synsets with a given lemma and part of speech tag.\n",
      "    If no pos is specified, all synsets for all parts of speech\n",
      "    will be loaded.\n",
      "    If lang is specified, all the synsets associated with the lemma name\n",
      "    of that language will be returned.\n",
      "\n"
     ]
    }
   ],
   "source": [
    "help(wn.synsets)"
   ]
  },
  {
   "cell_type": "code",
   "execution_count": 35,
   "id": "ebfef5be",
   "metadata": {},
   "outputs": [],
   "source": [
    "synset = wn.synsets('cow')[1]"
   ]
  },
  {
   "cell_type": "code",
   "execution_count": 38,
   "id": "6939f600",
   "metadata": {},
   "outputs": [
    {
     "data": {
      "text/plain": [
       "Synset('cow.n.02')"
      ]
     },
     "execution_count": 38,
     "metadata": {},
     "output_type": "execute_result"
    }
   ],
   "source": [
    "synset"
   ]
  },
  {
   "cell_type": "code",
   "execution_count": 37,
   "id": "7ee9d385",
   "metadata": {
    "scrolled": true
   },
   "outputs": [
    {
     "name": "stdout",
     "output_type": "stream",
     "text": [
      "Help on Synset in module nltk.corpus.reader.wordnet object:\n",
      "\n",
      "class Synset(_WordNetObject)\n",
      " |  Synset(wordnet_corpus_reader)\n",
      " |  \n",
      " |  Create a Synset from a \"<lemma>.<pos>.<number>\" string where:\n",
      " |  <lemma> is the word's morphological stem\n",
      " |  <pos> is one of the module attributes ADJ, ADJ_SAT, ADV, NOUN or VERB\n",
      " |  <number> is the sense number, counting from 0.\n",
      " |  \n",
      " |  Synset attributes, accessible via methods with the same name:\n",
      " |  \n",
      " |  - name: The canonical name of this synset, formed using the first lemma\n",
      " |    of this synset. Note that this may be different from the name\n",
      " |    passed to the constructor if that string used a different lemma to\n",
      " |    identify the synset.\n",
      " |  - pos: The synset's part of speech, matching one of the module level\n",
      " |    attributes ADJ, ADJ_SAT, ADV, NOUN or VERB.\n",
      " |  - lemmas: A list of the Lemma objects for this synset.\n",
      " |  - definition: The definition for this synset.\n",
      " |  - examples: A list of example strings for this synset.\n",
      " |  - offset: The offset in the WordNet dict file of this synset.\n",
      " |  - lexname: The name of the lexicographer file containing this synset.\n",
      " |  \n",
      " |  Synset methods:\n",
      " |  \n",
      " |  Synsets have the following methods for retrieving related Synsets.\n",
      " |  They correspond to the names for the pointer symbols defined here:\n",
      " |  https://wordnet.princeton.edu/documentation/wninput5wn\n",
      " |  These methods all return lists of Synsets.\n",
      " |  \n",
      " |  - hypernyms, instance_hypernyms\n",
      " |  - hyponyms, instance_hyponyms\n",
      " |  - member_holonyms, substance_holonyms, part_holonyms\n",
      " |  - member_meronyms, substance_meronyms, part_meronyms\n",
      " |  - attributes\n",
      " |  - entailments\n",
      " |  - causes\n",
      " |  - also_sees\n",
      " |  - verb_groups\n",
      " |  - similar_tos\n",
      " |  \n",
      " |  Additionally, Synsets support the following methods specific to the\n",
      " |  hypernym relation:\n",
      " |  \n",
      " |  - root_hypernyms\n",
      " |  - common_hypernyms\n",
      " |  - lowest_common_hypernyms\n",
      " |  \n",
      " |  Note that Synsets do not support the following relations because\n",
      " |  these are defined by WordNet as lexical relations:\n",
      " |  \n",
      " |  - antonyms\n",
      " |  - derivationally_related_forms\n",
      " |  - pertainyms\n",
      " |  \n",
      " |  Method resolution order:\n",
      " |      Synset\n",
      " |      _WordNetObject\n",
      " |      builtins.object\n",
      " |  \n",
      " |  Methods defined here:\n",
      " |  \n",
      " |  __init__(self, wordnet_corpus_reader)\n",
      " |      Initialize self.  See help(type(self)) for accurate signature.\n",
      " |  \n",
      " |  __repr__(self)\n",
      " |      Return repr(self).\n",
      " |  \n",
      " |  acyclic_tree = acyclic_depth_first(tree, children=<built-in function iter>, depth=-1, cut_mark=None, traversed=None)\n",
      " |      Traverse the nodes of a tree in depth-first order,\n",
      " |      discarding eventual cycles within any branch,\n",
      " |      adding cut_mark (when specified) if cycles were truncated.\n",
      " |      \n",
      " |      The first argument should be the tree root;\n",
      " |      children should be a function taking as argument a tree node\n",
      " |      and returning an iterator of the node's children.\n",
      " |      \n",
      " |      Catches all cycles:\n",
      " |      \n",
      " |      >>> import nltk\n",
      " |      >>> from nltk.util import acyclic_depth_first as acyclic_tree\n",
      " |      >>> wn=nltk.corpus.wordnet\n",
      " |      >>> from pprint import pprint\n",
      " |      >>> pprint(acyclic_tree(wn.synset('dog.n.01'), lambda s:s.hypernyms(),cut_mark='...'))\n",
      " |      [Synset('dog.n.01'),\n",
      " |       [Synset('canine.n.02'),\n",
      " |        [Synset('carnivore.n.01'),\n",
      " |         [Synset('placental.n.01'),\n",
      " |          [Synset('mammal.n.01'),\n",
      " |           [Synset('vertebrate.n.01'),\n",
      " |            [Synset('chordate.n.01'),\n",
      " |             [Synset('animal.n.01'),\n",
      " |              [Synset('organism.n.01'),\n",
      " |               [Synset('living_thing.n.01'),\n",
      " |                [Synset('whole.n.02'),\n",
      " |                 [Synset('object.n.01'),\n",
      " |                  [Synset('physical_entity.n.01'),\n",
      " |                   [Synset('entity.n.01')]]]]]]]]]]]]],\n",
      " |       [Synset('domestic_animal.n.01'), \"Cycle(Synset('animal.n.01'),-3,...)\"]]\n",
      " |  \n",
      " |  closure(self, rel, depth=-1)\n",
      " |      Return the transitive closure of source under the rel\n",
      " |      relationship, breadth-first, discarding cycles:\n",
      " |      \n",
      " |      >>> from nltk.corpus import wordnet as wn\n",
      " |      >>> computer = wn.synset('computer.n.01')\n",
      " |      >>> topic = lambda s:s.topic_domains()\n",
      " |      >>> print(list(computer.closure(topic)))\n",
      " |      [Synset('computer_science.n.01')]\n",
      " |      \n",
      " |      UserWarning: Discarded redundant search for Synset('computer.n.01') at depth 2\n",
      " |      \n",
      " |      \n",
      " |      Include redundant paths (but only once), avoiding duplicate searches\n",
      " |      (from 'animal.n.01' to 'entity.n.01'):\n",
      " |      \n",
      " |      >>> dog = wn.synset('dog.n.01')\n",
      " |      >>> hyp = lambda s:s.hypernyms()\n",
      " |      >>> print(list(dog.closure(hyp)))\n",
      " |      [Synset('canine.n.02'), Synset('domestic_animal.n.01'), Synset('carnivore.n.01'), Synset('animal.n.01'), Synset('placental.n.01'), Synset('organism.n.01'), Synset('mammal.n.01'), Synset('living_thing.n.01'), Synset('vertebrate.n.01'), Synset('whole.n.02'), Synset('chordate.n.01'), Synset('object.n.01'), Synset('physical_entity.n.01'), Synset('entity.n.01')]\n",
      " |      \n",
      " |      UserWarning: Discarded redundant search for Synset('animal.n.01') at depth 7\n",
      " |  \n",
      " |  common_hypernyms(self, other)\n",
      " |      Find all synsets that are hypernyms of this synset and the\n",
      " |      other synset.\n",
      " |      \n",
      " |      :type other: Synset\n",
      " |      :param other: other input synset.\n",
      " |      :return: The synsets that are hypernyms of both synsets.\n",
      " |  \n",
      " |  definition(self, lang='eng')\n",
      " |      Return definition in specified language\n",
      " |  \n",
      " |  examples(self, lang='eng')\n",
      " |      Return examples in specified language\n",
      " |  \n",
      " |  frame_ids(self)\n",
      " |  \n",
      " |  hypernym_distances(self, distance=0, simulate_root=False)\n",
      " |      Get the path(s) from this synset to the root, counting the distance\n",
      " |      of each node from the initial node on the way. A set of\n",
      " |      (synset, distance) tuples is returned.\n",
      " |      \n",
      " |      :type distance: int\n",
      " |      :param distance: the distance (number of edges) from this hypernym to\n",
      " |          the original hypernym ``Synset`` on which this method was called.\n",
      " |      :return: A set of ``(Synset, int)`` tuples where each ``Synset`` is\n",
      " |         a hypernym of the first ``Synset``.\n",
      " |  \n",
      " |  hypernym_paths(self)\n",
      " |      Get the path(s) from this synset to the root, where each path is a\n",
      " |      list of the synset nodes traversed on the way to the root.\n",
      " |      \n",
      " |      :return: A list of lists, where each list gives the node sequence\n",
      " |         connecting the initial ``Synset`` node and a root node.\n",
      " |  \n",
      " |  jcn_similarity(self, other, ic, verbose=False)\n",
      " |      Jiang-Conrath Similarity:\n",
      " |      Return a score denoting how similar two word senses are, based on the\n",
      " |      Information Content (IC) of the Least Common Subsumer (most specific\n",
      " |      ancestor node) and that of the two input Synsets. The relationship is\n",
      " |      given by the equation 1 / (IC(s1) + IC(s2) - 2 * IC(lcs)).\n",
      " |      \n",
      " |      :type  other: Synset\n",
      " |      :param other: The ``Synset`` that this ``Synset`` is being compared to.\n",
      " |      :type  ic: dict\n",
      " |      :param ic: an information content object (as returned by\n",
      " |          ``nltk.corpus.wordnet_ic.ic()``).\n",
      " |      :return: A float score denoting the similarity of the two ``Synset``\n",
      " |          objects.\n",
      " |  \n",
      " |  lch_similarity(self, other, verbose=False, simulate_root=True)\n",
      " |      Leacock Chodorow Similarity:\n",
      " |      Return a score denoting how similar two word senses are, based on the\n",
      " |      shortest path that connects the senses (as above) and the maximum depth\n",
      " |      of the taxonomy in which the senses occur. The relationship is given as\n",
      " |      -log(p/2d) where p is the shortest path length and d is the taxonomy\n",
      " |      depth.\n",
      " |      \n",
      " |      :type  other: Synset\n",
      " |      :param other: The ``Synset`` that this ``Synset`` is being compared to.\n",
      " |      :type simulate_root: bool\n",
      " |      :param simulate_root: The various verb taxonomies do not\n",
      " |          share a single root which disallows this metric from working for\n",
      " |          synsets that are not connected. This flag (True by default)\n",
      " |          creates a fake root that connects all the taxonomies. Set it\n",
      " |          to false to disable this behavior. For the noun taxonomy,\n",
      " |          there is usually a default root except for WordNet version 1.6.\n",
      " |          If you are using wordnet 1.6, a fake root will be added for nouns\n",
      " |          as well.\n",
      " |      :return: A score denoting the similarity of the two ``Synset`` objects,\n",
      " |          normally greater than 0. None is returned if no connecting path\n",
      " |          could be found. If a ``Synset`` is compared with itself, the\n",
      " |          maximum score is returned, which varies depending on the taxonomy\n",
      " |          depth.\n",
      " |  \n",
      " |  lemma_names(self, lang='eng')\n",
      " |      Return all the lemma_names associated with the synset\n",
      " |  \n",
      " |  lemmas(self, lang='eng')\n",
      " |      Return all the lemma objects associated with the synset\n",
      " |  \n",
      " |  lexname(self)\n",
      " |  \n",
      " |  lin_similarity(self, other, ic, verbose=False)\n",
      " |      Lin Similarity:\n",
      " |      Return a score denoting how similar two word senses are, based on the\n",
      " |      Information Content (IC) of the Least Common Subsumer (most specific\n",
      " |      ancestor node) and that of the two input Synsets. The relationship is\n",
      " |      given by the equation 2 * IC(lcs) / (IC(s1) + IC(s2)).\n",
      " |      \n",
      " |      :type other: Synset\n",
      " |      :param other: The ``Synset`` that this ``Synset`` is being compared to.\n",
      " |      :type ic: dict\n",
      " |      :param ic: an information content object (as returned by\n",
      " |          ``nltk.corpus.wordnet_ic.ic()``).\n",
      " |      :return: A float score denoting the similarity of the two ``Synset``\n",
      " |          objects, in the range 0 to 1.\n",
      " |  \n",
      " |  lowest_common_hypernyms(self, other, simulate_root=False, use_min_depth=False)\n",
      " |      Get a list of lowest synset(s) that both synsets have as a hypernym.\n",
      " |      When `use_min_depth == False` this means that the synset which appears\n",
      " |      as a hypernym of both `self` and `other` with the lowest maximum depth\n",
      " |      is returned or if there are multiple such synsets at the same depth\n",
      " |      they are all returned\n",
      " |      \n",
      " |      However, if `use_min_depth == True` then the synset(s) which has/have\n",
      " |      the lowest minimum depth and appear(s) in both paths is/are returned.\n",
      " |      \n",
      " |      By setting the use_min_depth flag to True, the behavior of NLTK2 can be\n",
      " |      preserved. This was changed in NLTK3 to give more accurate results in a\n",
      " |      small set of cases, generally with synsets concerning people. (eg:\n",
      " |      'chef.n.01', 'fireman.n.01', etc.)\n",
      " |      \n",
      " |      This method is an implementation of Ted Pedersen's \"Lowest Common\n",
      " |      Subsumer\" method from the Perl Wordnet module. It can return either\n",
      " |      \"self\" or \"other\" if they are a hypernym of the other.\n",
      " |      \n",
      " |      :type other: Synset\n",
      " |      :param other: other input synset\n",
      " |      :type simulate_root: bool\n",
      " |      :param simulate_root: The various verb taxonomies do not\n",
      " |          share a single root which disallows this metric from working for\n",
      " |          synsets that are not connected. This flag (False by default)\n",
      " |          creates a fake root that connects all the taxonomies. Set it\n",
      " |          to True to enable this behavior. For the noun taxonomy,\n",
      " |          there is usually a default root except for WordNet version 1.6.\n",
      " |          If you are using wordnet 1.6, a fake root will need to be added\n",
      " |          for nouns as well.\n",
      " |      :type use_min_depth: bool\n",
      " |      :param use_min_depth: This setting mimics older (v2) behavior of NLTK\n",
      " |          wordnet If True, will use the min_depth function to calculate the\n",
      " |          lowest common hypernyms. This is known to give strange results for\n",
      " |          some synset pairs (eg: 'chef.n.01', 'fireman.n.01') but is retained\n",
      " |          for backwards compatibility\n",
      " |      :return: The synsets that are the lowest common hypernyms of both\n",
      " |          synsets\n",
      " |  \n",
      " |  max_depth(self)\n",
      " |      :return: The length of the longest hypernym path from this\n",
      " |          synset to the root.\n",
      " |  \n",
      " |  min_depth(self)\n",
      " |      :return: The length of the shortest hypernym path from this\n",
      " |          synset to the root.\n",
      " |  \n",
      " |  mst = unweighted_minimum_spanning_tree(tree, children=<built-in function iter>)\n",
      " |      Output a Minimum Spanning Tree (MST) of an unweighted graph,\n",
      " |      by traversing the nodes of a tree in breadth-first order,\n",
      " |      discarding eventual cycles.\n",
      " |      \n",
      " |      The first argument should be the tree root;\n",
      " |      children should be a function taking as argument a tree node\n",
      " |      and returning an iterator of the node's children.\n",
      " |      \n",
      " |      >>> import nltk\n",
      " |      >>> from nltk.util import unweighted_minimum_spanning_tree as mst\n",
      " |      >>> wn=nltk.corpus.wordnet\n",
      " |      >>> from pprint import pprint\n",
      " |      >>> pprint(mst(wn.synset('bound.a.01'), lambda s:s.also_sees()))\n",
      " |      [Synset('bound.a.01'),\n",
      " |       [Synset('unfree.a.02'),\n",
      " |        [Synset('confined.a.02')],\n",
      " |        [Synset('dependent.a.01')],\n",
      " |        [Synset('restricted.a.01'), [Synset('classified.a.02')]]]]\n",
      " |  \n",
      " |  name(self)\n",
      " |  \n",
      " |  offset(self)\n",
      " |  \n",
      " |  path_similarity(self, other, verbose=False, simulate_root=True)\n",
      " |      Path Distance Similarity:\n",
      " |      Return a score denoting how similar two word senses are, based on the\n",
      " |      shortest path that connects the senses in the is-a (hypernym/hypnoym)\n",
      " |      taxonomy. The score is in the range 0 to 1, except in those cases where\n",
      " |      a path cannot be found (will only be true for verbs as there are many\n",
      " |      distinct verb taxonomies), in which case None is returned. A score of\n",
      " |      1 represents identity i.e. comparing a sense with itself will return 1.\n",
      " |      \n",
      " |      :type other: Synset\n",
      " |      :param other: The ``Synset`` that this ``Synset`` is being compared to.\n",
      " |      :type simulate_root: bool\n",
      " |      :param simulate_root: The various verb taxonomies do not\n",
      " |          share a single root which disallows this metric from working for\n",
      " |          synsets that are not connected. This flag (True by default)\n",
      " |          creates a fake root that connects all the taxonomies. Set it\n",
      " |          to false to disable this behavior. For the noun taxonomy,\n",
      " |          there is usually a default root except for WordNet version 1.6.\n",
      " |          If you are using wordnet 1.6, a fake root will be added for nouns\n",
      " |          as well.\n",
      " |      :return: A score denoting the similarity of the two ``Synset`` objects,\n",
      " |          normally between 0 and 1. None is returned if no connecting path\n",
      " |          could be found. 1 is returned if a ``Synset`` is compared with\n",
      " |          itself.\n",
      " |  \n",
      " |  pos(self)\n",
      " |  \n",
      " |  res_similarity(self, other, ic, verbose=False)\n",
      " |      Resnik Similarity:\n",
      " |      Return a score denoting how similar two word senses are, based on the\n",
      " |      Information Content (IC) of the Least Common Subsumer (most specific\n",
      " |      ancestor node).\n",
      " |      \n",
      " |      :type  other: Synset\n",
      " |      :param other: The ``Synset`` that this ``Synset`` is being compared to.\n",
      " |      :type ic: dict\n",
      " |      :param ic: an information content object (as returned by\n",
      " |          ``nltk.corpus.wordnet_ic.ic()``).\n",
      " |      :return: A float score denoting the similarity of the two ``Synset``\n",
      " |          objects. Synsets whose LCS is the root node of the taxonomy will\n",
      " |          have a score of 0 (e.g. N['dog'][0] and N['table'][0]).\n",
      " |  \n",
      " |  root_hypernyms(self)\n",
      " |      Get the topmost hypernyms of this synset in WordNet.\n",
      " |  \n",
      " |  shortest_path_distance(self, other, simulate_root=False)\n",
      " |      Returns the distance of the shortest path linking the two synsets (if\n",
      " |      one exists). For each synset, all the ancestor nodes and their\n",
      " |      distances are recorded and compared. The ancestor node common to both\n",
      " |      synsets that can be reached with the minimum number of traversals is\n",
      " |      used. If no ancestor nodes are common, None is returned. If a node is\n",
      " |      compared with itself 0 is returned.\n",
      " |      \n",
      " |      :type other: Synset\n",
      " |      :param other: The Synset to which the shortest path will be found.\n",
      " |      :return: The number of edges in the shortest path connecting the two\n",
      " |          nodes, or None if no path exists.\n",
      " |  \n",
      " |  tree(self, rel, depth=-1, cut_mark=None)\n",
      " |      Return the full relation tree, including self,\n",
      " |      discarding cycles:\n",
      " |      \n",
      " |      >>> from nltk.corpus import wordnet as wn\n",
      " |      >>> from pprint import pprint\n",
      " |      >>> computer = wn.synset('computer.n.01')\n",
      " |      >>> topic = lambda s:s.topic_domains()\n",
      " |      >>> pprint(computer.tree(topic))\n",
      " |      [Synset('computer.n.01'), [Synset('computer_science.n.01')]]\n",
      " |      \n",
      " |      UserWarning: Discarded redundant search for Synset('computer.n.01') at depth -3\n",
      " |      \n",
      " |      \n",
      " |      But keep duplicate branches (from 'animal.n.01' to 'entity.n.01'):\n",
      " |      \n",
      " |      >>> dog = wn.synset('dog.n.01')\n",
      " |      >>> hyp = lambda s:s.hypernyms()\n",
      " |      >>> pprint(dog.tree(hyp))\n",
      " |      [Synset('dog.n.01'),\n",
      " |       [Synset('canine.n.02'),\n",
      " |        [Synset('carnivore.n.01'),\n",
      " |         [Synset('placental.n.01'),\n",
      " |          [Synset('mammal.n.01'),\n",
      " |           [Synset('vertebrate.n.01'),\n",
      " |            [Synset('chordate.n.01'),\n",
      " |             [Synset('animal.n.01'),\n",
      " |              [Synset('organism.n.01'),\n",
      " |               [Synset('living_thing.n.01'),\n",
      " |                [Synset('whole.n.02'),\n",
      " |                 [Synset('object.n.01'),\n",
      " |                  [Synset('physical_entity.n.01'),\n",
      " |                   [Synset('entity.n.01')]]]]]]]]]]]]],\n",
      " |       [Synset('domestic_animal.n.01'),\n",
      " |        [Synset('animal.n.01'),\n",
      " |         [Synset('organism.n.01'),\n",
      " |          [Synset('living_thing.n.01'),\n",
      " |           [Synset('whole.n.02'),\n",
      " |            [Synset('object.n.01'),\n",
      " |             [Synset('physical_entity.n.01'), [Synset('entity.n.01')]]]]]]]]]\n",
      " |  \n",
      " |  wup_similarity(self, other, verbose=False, simulate_root=True)\n",
      " |      Wu-Palmer Similarity:\n",
      " |      Return a score denoting how similar two word senses are, based on the\n",
      " |      depth of the two senses in the taxonomy and that of their Least Common\n",
      " |      Subsumer (most specific ancestor node). Previously, the scores computed\n",
      " |      by this implementation did _not_ always agree with those given by\n",
      " |      Pedersen's Perl implementation of WordNet Similarity. However, with\n",
      " |      the addition of the simulate_root flag (see below), the score for\n",
      " |      verbs now almost always agree but not always for nouns.\n",
      " |      \n",
      " |      The LCS does not necessarily feature in the shortest path connecting\n",
      " |      the two senses, as it is by definition the common ancestor deepest in\n",
      " |      the taxonomy, not closest to the two senses. Typically, however, it\n",
      " |      will so feature. Where multiple candidates for the LCS exist, that\n",
      " |      whose shortest path to the root node is the longest will be selected.\n",
      " |      Where the LCS has multiple paths to the root, the longer path is used\n",
      " |      for the purposes of the calculation.\n",
      " |      \n",
      " |      :type  other: Synset\n",
      " |      :param other: The ``Synset`` that this ``Synset`` is being compared to.\n",
      " |      :type simulate_root: bool\n",
      " |      :param simulate_root: The various verb taxonomies do not\n",
      " |          share a single root which disallows this metric from working for\n",
      " |          synsets that are not connected. This flag (True by default)\n",
      " |          creates a fake root that connects all the taxonomies. Set it\n",
      " |          to false to disable this behavior. For the noun taxonomy,\n",
      " |          there is usually a default root except for WordNet version 1.6.\n",
      " |          If you are using wordnet 1.6, a fake root will be added for nouns\n",
      " |          as well.\n",
      " |      :return: A float score denoting the similarity of the two ``Synset``\n",
      " |          objects, normally greater than zero. If no connecting path between\n",
      " |          the two senses can be found, None is returned.\n",
      " |  \n",
      " |  ----------------------------------------------------------------------\n",
      " |  Methods inherited from _WordNetObject:\n",
      " |  \n",
      " |  __eq__(self, other)\n",
      " |      Return self==value.\n",
      " |  \n",
      " |  __ge__(self, other, NotImplemented=NotImplemented)\n",
      " |      Return a >= b.  Computed by @total_ordering from (not a < b).\n",
      " |  \n",
      " |  __gt__(self, other, NotImplemented=NotImplemented)\n",
      " |      Return a > b.  Computed by @total_ordering from (not a < b) and (a != b).\n",
      " |  \n",
      " |  __hash__(self)\n",
      " |      Return hash(self).\n",
      " |  \n",
      " |  __le__(self, other, NotImplemented=NotImplemented)\n",
      " |      Return a <= b.  Computed by @total_ordering from (a < b) or (a == b).\n",
      " |  \n",
      " |  __lt__(self, other)\n",
      " |      Return self<value.\n",
      " |  \n",
      " |  __ne__(self, other)\n",
      " |      Return self!=value.\n",
      " |  \n",
      " |  also_sees(self)\n",
      " |  \n",
      " |  attributes(self)\n",
      " |  \n",
      " |  causes(self)\n",
      " |  \n",
      " |  entailments(self)\n",
      " |  \n",
      " |  hypernyms(self)\n",
      " |  \n",
      " |  hyponyms(self)\n",
      " |  \n",
      " |  in_region_domains(self)\n",
      " |  \n",
      " |  in_topic_domains(self)\n",
      " |  \n",
      " |  in_usage_domains(self)\n",
      " |  \n",
      " |  instance_hypernyms(self)\n",
      " |  \n",
      " |  instance_hyponyms(self)\n",
      " |  \n",
      " |  member_holonyms(self)\n",
      " |  \n",
      " |  member_meronyms(self)\n",
      " |  \n",
      " |  part_holonyms(self)\n",
      " |  \n",
      " |  part_meronyms(self)\n",
      " |  \n",
      " |  region_domains(self)\n",
      " |  \n",
      " |  similar_tos(self)\n",
      " |  \n",
      " |  substance_holonyms(self)\n",
      " |  \n",
      " |  substance_meronyms(self)\n",
      " |  \n",
      " |  topic_domains(self)\n",
      " |  \n",
      " |  usage_domains(self)\n",
      " |  \n",
      " |  verb_groups(self)\n",
      " |  \n",
      " |  ----------------------------------------------------------------------\n",
      " |  Data descriptors inherited from _WordNetObject:\n",
      " |  \n",
      " |  __dict__\n",
      " |      dictionary for instance variables (if defined)\n",
      " |  \n",
      " |  __weakref__\n",
      " |      list of weak references to the object (if defined)\n",
      "\n"
     ]
    }
   ],
   "source": [
    "help(synset)"
   ]
  },
  {
   "cell_type": "code",
   "execution_count": 77,
   "id": "ea22e53d",
   "metadata": {},
   "outputs": [],
   "source": [
    "hypo = lambda s: s.hyponyms()\n",
    "hyper = lambda s: s.hypernyms()"
   ]
  },
  {
   "cell_type": "code",
   "execution_count": 85,
   "id": "22144701",
   "metadata": {},
   "outputs": [
    {
     "data": {
      "text/plain": [
       "[Synset('canine.n.02'), Synset('domestic_animal.n.01')]"
      ]
     },
     "execution_count": 85,
     "metadata": {},
     "output_type": "execute_result"
    }
   ],
   "source": [
    "wn.synsets('dog')[0].hypernyms()"
   ]
  },
  {
   "cell_type": "code",
   "execution_count": 56,
   "id": "65bd6629",
   "metadata": {},
   "outputs": [
    {
     "data": {
      "text/plain": [
       "[Synset('frump.n.01')]"
      ]
     },
     "execution_count": 56,
     "metadata": {},
     "output_type": "execute_result"
    }
   ],
   "source": [
    "wn.synsets('frump')"
   ]
  },
  {
   "cell_type": "code",
   "execution_count": 80,
   "id": "a59f55c6",
   "metadata": {},
   "outputs": [
    {
     "data": {
      "text/plain": [
       "[Synset('placental.n.01')]"
      ]
     },
     "execution_count": 80,
     "metadata": {},
     "output_type": "execute_result"
    }
   ],
   "source": [
    "synset.hypernyms()"
   ]
  },
  {
   "cell_type": "code",
   "execution_count": 81,
   "id": "b7f8b11a",
   "metadata": {},
   "outputs": [
    {
     "data": {
      "text/plain": [
       "Synset('cow.n.02')"
      ]
     },
     "execution_count": 81,
     "metadata": {},
     "output_type": "execute_result"
    }
   ],
   "source": [
    "synset"
   ]
  },
  {
   "cell_type": "code",
   "execution_count": 86,
   "id": "c250bcc8",
   "metadata": {},
   "outputs": [
    {
     "name": "stderr",
     "output_type": "stream",
     "text": [
      "/home/crow/anaconda3/envs/nlp2/lib/python3.9/site-packages/nltk/corpus/reader/wordnet.py:604: UserWarning: Discarded redundant search for Synset('restrain.v.01') at depth 2\n",
      "  for synset in acyclic_breadth_first(self, rel, depth):\n"
     ]
    },
    {
     "data": {
      "text/plain": [
       "[Synset('confine.v.03'),\n",
       " Synset('control.v.02'),\n",
       " Synset('hold.v.36'),\n",
       " Synset('inhibit.v.04'),\n",
       " Synset('cabin.v.01'),\n",
       " Synset('closet.v.01'),\n",
       " Synset('coop_up.v.01'),\n",
       " Synset('lock_in.v.01'),\n",
       " Synset('lock_in.v.02'),\n",
       " Synset('bate.v.01'),\n",
       " Synset('catch.v.13'),\n",
       " Synset('countercheck.v.01'),\n",
       " Synset('damp.v.02'),\n",
       " Synset('deny.v.05'),\n",
       " Synset('mortify.v.02'),\n",
       " Synset('restrict.v.02'),\n",
       " Synset('restrict.v.03'),\n",
       " Synset('suppress.v.01'),\n",
       " Synset('thermostat.v.01'),\n",
       " Synset('train.v.09'),\n",
       " Synset('choke.v.07'),\n",
       " Synset('quench.v.03'),\n",
       " Synset('mortify.v.01'),\n",
       " Synset('classify.v.02'),\n",
       " Synset('localize.v.03'),\n",
       " Synset('scant.v.02'),\n",
       " Synset('taboo.v.01'),\n",
       " Synset('baffle.v.03'),\n",
       " Synset('clamp_down.v.01'),\n",
       " Synset('draw_the_line.v.01'),\n",
       " Synset('gate.v.03'),\n",
       " Synset('hamper.v.01'),\n",
       " Synset('inhibit.v.02'),\n",
       " Synset('mark_off.v.01'),\n",
       " Synset('reduce.v.11'),\n",
       " Synset('restrain.v.04'),\n",
       " Synset('rule.v.07'),\n",
       " Synset('stiffen.v.03'),\n",
       " Synset('tie.v.03'),\n",
       " Synset('burke.v.02'),\n",
       " Synset('choke_off.v.01'),\n",
       " Synset('hush.v.02'),\n",
       " Synset('silence.v.02'),\n",
       " Synset('smother.v.03'),\n",
       " Synset('squelch.v.01'),\n",
       " Synset('stifle.v.02'),\n",
       " Synset('wink.v.04'),\n",
       " Synset('trellis.v.01'),\n",
       " Synset('draw.v.36'),\n",
       " Synset('bridle.v.02'),\n",
       " Synset('clog.v.03'),\n",
       " Synset('curb.v.03'),\n",
       " Synset('gag.v.01'),\n",
       " Synset('lull.v.02'),\n",
       " Synset('shout_down.v.01'),\n",
       " Synset('shush.v.01'),\n",
       " Synset('suffocate.v.04'),\n",
       " Synset('suppurate.v.01'),\n",
       " Synset('snaffle.v.02')]"
      ]
     },
     "execution_count": 86,
     "metadata": {},
     "output_type": "execute_result"
    }
   ],
   "source": [
    "list(wn.synset('restrain.v.01').closure(lambda s:s.hyponyms(), depth=-1))"
   ]
  },
  {
   "cell_type": "code",
   "execution_count": 90,
   "id": "646095a1",
   "metadata": {},
   "outputs": [
    {
     "name": "stderr",
     "output_type": "stream",
     "text": [
      "/home/crow/anaconda3/envs/nlp2/lib/python3.9/site-packages/nltk/corpus/reader/wordnet.py:604: UserWarning: Discarded redundant search for Synset('inhibit.v.04') at depth 2\n",
      "  for synset in acyclic_breadth_first(self, rel, depth):\n"
     ]
    },
    {
     "data": {
      "text/plain": [
       "[Synset('choke.v.07'),\n",
       " Synset('quench.v.03'),\n",
       " Synset('restrain.v.01'),\n",
       " Synset('confine.v.03'),\n",
       " Synset('control.v.02'),\n",
       " Synset('hold.v.36'),\n",
       " Synset('cabin.v.01'),\n",
       " Synset('closet.v.01'),\n",
       " Synset('coop_up.v.01'),\n",
       " Synset('lock_in.v.01'),\n",
       " Synset('lock_in.v.02'),\n",
       " Synset('bate.v.01'),\n",
       " Synset('catch.v.13'),\n",
       " Synset('countercheck.v.01'),\n",
       " Synset('damp.v.02'),\n",
       " Synset('deny.v.05'),\n",
       " Synset('mortify.v.02'),\n",
       " Synset('restrict.v.02'),\n",
       " Synset('restrict.v.03'),\n",
       " Synset('suppress.v.01'),\n",
       " Synset('thermostat.v.01'),\n",
       " Synset('train.v.09'),\n",
       " Synset('mortify.v.01'),\n",
       " Synset('classify.v.02'),\n",
       " Synset('localize.v.03'),\n",
       " Synset('scant.v.02'),\n",
       " Synset('taboo.v.01'),\n",
       " Synset('baffle.v.03'),\n",
       " Synset('clamp_down.v.01'),\n",
       " Synset('draw_the_line.v.01'),\n",
       " Synset('gate.v.03'),\n",
       " Synset('hamper.v.01'),\n",
       " Synset('inhibit.v.02'),\n",
       " Synset('mark_off.v.01'),\n",
       " Synset('reduce.v.11'),\n",
       " Synset('restrain.v.04'),\n",
       " Synset('rule.v.07'),\n",
       " Synset('stiffen.v.03'),\n",
       " Synset('tie.v.03'),\n",
       " Synset('burke.v.02'),\n",
       " Synset('choke_off.v.01'),\n",
       " Synset('hush.v.02'),\n",
       " Synset('silence.v.02'),\n",
       " Synset('smother.v.03'),\n",
       " Synset('squelch.v.01'),\n",
       " Synset('stifle.v.02'),\n",
       " Synset('wink.v.04'),\n",
       " Synset('trellis.v.01'),\n",
       " Synset('draw.v.36'),\n",
       " Synset('bridle.v.02'),\n",
       " Synset('clog.v.03'),\n",
       " Synset('curb.v.03'),\n",
       " Synset('gag.v.01'),\n",
       " Synset('lull.v.02'),\n",
       " Synset('shout_down.v.01'),\n",
       " Synset('shush.v.01'),\n",
       " Synset('suffocate.v.04'),\n",
       " Synset('suppurate.v.01'),\n",
       " Synset('snaffle.v.02')]"
      ]
     },
     "execution_count": 90,
     "metadata": {},
     "output_type": "execute_result"
    }
   ],
   "source": [
    "list(wn.synset('inhibit.v.04').closure(lambda s:s.hyponyms(), depth=-1))"
   ]
  },
  {
   "cell_type": "code",
   "execution_count": 101,
   "id": "17a198da",
   "metadata": {},
   "outputs": [
    {
     "data": {
      "text/plain": [
       "[Synset('suppress.v.04')]"
      ]
     },
     "execution_count": 101,
     "metadata": {},
     "output_type": "execute_result"
    }
   ],
   "source": [
    "wn.synset('restrain.v.01').hypernyms()[0].hypernyms()"
   ]
  },
  {
   "cell_type": "code",
   "execution_count": 97,
   "id": "f66779ea",
   "metadata": {},
   "outputs": [
    {
     "data": {
      "text/plain": [
       "[Synset('choke.v.07'), Synset('quench.v.03'), Synset('restrain.v.01')]"
      ]
     },
     "execution_count": 97,
     "metadata": {},
     "output_type": "execute_result"
    }
   ],
   "source": [
    "list(wn.synset('inhibit.v.04').closure(lambda s:s.hyponyms(), depth=1))"
   ]
  },
  {
   "cell_type": "code",
   "execution_count": 98,
   "id": "650e383a",
   "metadata": {},
   "outputs": [
    {
     "data": {
      "text/plain": [
       "[Synset('confine.v.03'),\n",
       " Synset('control.v.02'),\n",
       " Synset('hold.v.36'),\n",
       " Synset('inhibit.v.04')]"
      ]
     },
     "execution_count": 98,
     "metadata": {},
     "output_type": "execute_result"
    }
   ],
   "source": [
    "list(wn.synset('restrain.v.01').closure(lambda s:s.hyponyms(), depth=1))"
   ]
  },
  {
   "cell_type": "code",
   "execution_count": 103,
   "id": "2536733c",
   "metadata": {},
   "outputs": [
    {
     "data": {
      "text/plain": [
       "[Synset('inhibit.v.04'), Synset('suppress.v.04'), Synset('forget.v.01')]"
      ]
     },
     "execution_count": 103,
     "metadata": {},
     "output_type": "execute_result"
    }
   ],
   "source": [
    "list(wn.synset('restrain.v.01').closure(lambda s:s.hypernyms(), depth=-1))"
   ]
  },
  {
   "cell_type": "code",
   "execution_count": 107,
   "id": "c15bbf5e",
   "metadata": {},
   "outputs": [
    {
     "data": {
      "text/plain": [
       "[Synset('suppress.v.04'), Synset('unlearn.v.01')]"
      ]
     },
     "execution_count": 107,
     "metadata": {},
     "output_type": "execute_result"
    }
   ],
   "source": [
    "list(wn.synset('forget.v.01').closure(lambda s:s.hyponyms(), depth=1))"
   ]
  },
  {
   "cell_type": "code",
   "execution_count": 108,
   "id": "72646873",
   "metadata": {},
   "outputs": [
    {
     "data": {
      "text/plain": [
       "[Synset('basenji.n.01'),\n",
       " Synset('corgi.n.01'),\n",
       " Synset('cur.n.01'),\n",
       " Synset('dalmatian.n.02'),\n",
       " Synset('great_pyrenees.n.01'),\n",
       " Synset('griffon.n.02'),\n",
       " Synset('hunting_dog.n.01'),\n",
       " Synset('lapdog.n.01'),\n",
       " Synset('leonberg.n.01'),\n",
       " Synset('mexican_hairless.n.01'),\n",
       " Synset('newfoundland.n.01'),\n",
       " Synset('pooch.n.01'),\n",
       " Synset('poodle.n.01'),\n",
       " Synset('pug.n.01'),\n",
       " Synset('puppy.n.01'),\n",
       " Synset('spitz.n.01'),\n",
       " Synset('toy_dog.n.01'),\n",
       " Synset('working_dog.n.01')]"
      ]
     },
     "execution_count": 108,
     "metadata": {},
     "output_type": "execute_result"
    }
   ],
   "source": [
    "list(wn.synset('dog.n.01').closure(lambda s:s.hyponyms(), depth=1))"
   ]
  },
  {
   "cell_type": "code",
   "execution_count": 112,
   "id": "a8b7117b",
   "metadata": {},
   "outputs": [
    {
     "data": {
      "text/plain": [
       "[Synset('dog.n.01')]"
      ]
     },
     "execution_count": 112,
     "metadata": {},
     "output_type": "execute_result"
    }
   ],
   "source": [
    "list(wn.synset('spitz.n.01').closure(lambda s:s.hypernyms(), depth=1))"
   ]
  },
  {
   "cell_type": "markdown",
   "id": "a50fd1b3",
   "metadata": {},
   "source": [
    "### Build Abstraction Tree"
   ]
  },
  {
   "cell_type": "raw",
   "id": "513486b7",
   "metadata": {},
   "source": [
    "Strategy:\n",
    "Start with a set of concrete words that have embeddings and are in wordnet.\n"
   ]
  },
  {
   "cell_type": "code",
   "execution_count": null,
   "id": "241d32e2",
   "metadata": {},
   "outputs": [],
   "source": []
  }
 ],
 "metadata": {
  "kernelspec": {
   "display_name": "Python 3",
   "language": "python",
   "name": "python3"
  },
  "language_info": {
   "codemirror_mode": {
    "name": "ipython",
    "version": 3
   },
   "file_extension": ".py",
   "mimetype": "text/x-python",
   "name": "python",
   "nbconvert_exporter": "python",
   "pygments_lexer": "ipython3",
   "version": "3.9.16"
  }
 },
 "nbformat": 4,
 "nbformat_minor": 5
}
