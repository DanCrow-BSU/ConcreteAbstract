{
 "cells": [
  {
   "cell_type": "raw",
   "id": "818d046a",
   "metadata": {},
   "source": [
    "Purpose:\n",
    "To create a set of abstrct word embeddings from a set of concrete word embeddings.\n",
    "\n",
    "Strategy:\n",
    "We have three datasets we'll be using:\n",
    "[wac2vec]\n",
    "[WordNet]\n",
    "[Concretness Ratings]\n",
    "\n",
    "\n",
    "Let's create a class to store these and hold functions for manipulating them:\n",
    "[ConcreteAbstract]\n",
    " - isa: class\n",
    " - anchor\n",
    "\n",
    "[AbstractionTree]\n",
    " - anchor\n",
    " - a \"tree\"\n",
    "  - each leaf has a concrete word, embedding, abstraction level\n",
    "  - every parent is an abstract word one (or more?) abstraction level(s) above its children\n",
    "   - contains a classifier that can classify its children\n",
    " - pandas dataframe\n",
    "  - I think pandas will have some useful functions\n",
    "   \n",
    "\n",
    "What are some possible functions we may need?\n",
    "init_abstraction_tree()\n",
    " - takes the three datasets and starts a new tree with the root\n",
    "\n",
    "build_abstraction_tree()\n",
    " - takes the three datasets and builds the [AbstractionTree]\n",
    "  - starts with the leaves and builds towards the root(s)\n",
    " - we can try different kinds of trees using variations of this function\n",
    "\n",
    "\n",
    "build_classifiers()\n",
    " - takes an [AbstractionTree] and builds classifieres for the abstract words\n",
    "\n",
    "\n",
    "\n",
    "Wrapper classes for data?\n",
    "\n",
    "\n",
    "\n",
    "\n",
    "\n",
    "\n"
   ]
  },
  {
   "cell_type": "code",
   "execution_count": 1,
   "id": "fc90d37c",
   "metadata": {},
   "outputs": [
    {
     "name": "stderr",
     "output_type": "stream",
     "text": [
      "[nltk_data] Downloading package wordnet to /home/crow/nltk_data...\n",
      "[nltk_data]   Package wordnet is already up-to-date!\n"
     ]
    },
    {
     "data": {
      "text/plain": [
       "True"
      ]
     },
     "execution_count": 1,
     "metadata": {},
     "output_type": "execute_result"
    }
   ],
   "source": [
    "import pickle\n",
    "#import sklearn\n",
    "#from sklearn import metrics\n",
    "#from sklearn import linear_model\n",
    "#import random\n",
    "#import numpy as np\n",
    "#from wac import WAC\n",
    "from tqdm.notebook import tqdm\n",
    "import pandas as pd\n",
    "#from sklearn import neural_network\n",
    "#import matplotlib.pyplot as plt\n",
    "from nltk.corpus import wordnet as wn\n",
    "from collections import defaultdict as dd\n",
    "import nltk \n",
    "nltk.download('wordnet')"
   ]
  },
  {
   "cell_type": "markdown",
   "id": "6c74c2e9",
   "metadata": {},
   "source": [
    "## Initiate Datasets"
   ]
  },
  {
   "cell_type": "raw",
   "id": "58b2174b",
   "metadata": {},
   "source": [
    "f = open('ddata/clip.bertvocab.embeddings.513.txt').readlines()\n",
    "f = [line.split() for line in f]\n",
    "wac2vec = {line[0]:np.array(line[1:], dtype=np.float32) for line in f}\n",
    "pickle.dump(wac2vec, open( \"ddata/clip.bertvocab.embeddings.513.pkl\", \"wb\" ))"
   ]
  },
  {
   "cell_type": "code",
   "execution_count": 2,
   "id": "6ed4bf4c",
   "metadata": {},
   "outputs": [
    {
     "data": {
      "text/plain": [
       "30522"
      ]
     },
     "execution_count": 2,
     "metadata": {},
     "output_type": "execute_result"
    }
   ],
   "source": [
    "wac2vec = pickle.load(open('ddata/clip.bertvocab.embeddings.513.pkl', 'rb'))\n",
    "len(wac2vec)"
   ]
  },
  {
   "cell_type": "raw",
   "id": "bbf15a7a",
   "metadata": {},
   "source": [
    "concr_scores = pd.read_csv('ddata/AC_ratings_google3m_koeper_SiW.csv', delimiter='\\t')\n",
    "concr_scores = concr_scores.dropna()\n",
    "concr_scores.WORD = concr_scores.WORD.apply(lambda x: x.replace(\"_\", \" \"))\n",
    "concr_scores.index = concr_scores.WORD\n",
    "pickle.dump(concr_scores, open( \"ddata/AC_ratings_google3m_koeper_SiW.pkl\", \"wb\" ))"
   ]
  },
  {
   "cell_type": "code",
   "execution_count": 3,
   "id": "9c80bdf9",
   "metadata": {},
   "outputs": [
    {
     "data": {
      "text/plain": [
       "2168990"
      ]
     },
     "execution_count": 3,
     "metadata": {},
     "output_type": "execute_result"
    }
   ],
   "source": [
    "concr_scores = pickle.load(open('ddata/AC_ratings_google3m_koeper_SiW.pkl', 'rb'))\n",
    "len(concr_scores)"
   ]
  },
  {
   "cell_type": "markdown",
   "id": "97e96ccd",
   "metadata": {},
   "source": [
    "## ConcreteAbstract Class"
   ]
  },
  {
   "cell_type": "code",
   "execution_count": 4,
   "id": "e7df5b28",
   "metadata": {},
   "outputs": [],
   "source": [
    "class ConcreteAbstract:\n",
    "    def __init__(self, word_vectors, concr_scores, word_net):\n",
    "        pass"
   ]
  },
  {
   "cell_type": "code",
   "execution_count": null,
   "id": "d341464d",
   "metadata": {},
   "outputs": [],
   "source": []
  },
  {
   "cell_type": "markdown",
   "id": "3dcd8f4e",
   "metadata": {},
   "source": [
    "### Build Abstraction Tree"
   ]
  },
  {
   "cell_type": "raw",
   "id": "416deb66",
   "metadata": {},
   "source": [
    "Strategy:\n",
    "Start with a set of concrete words that have embeddings and are in WordNet.\n",
    " - We'll call these Leaves.  All other embeddings are derived from these.\n",
    "\n",
    "[List of Leaf Words]\n",
    "\n",
    "<Attach embedings to these words for later use>\n",
    " - We can put these directly into our abstraction tree\n",
    "\n",
    "[Abstraction Tree]\n",
    "\n",
    "<Find a proper SynSet for each leaf\n",
    "\n",
    "[List of Leaf Synsets]\n",
    "\n",
    "<Trim leaves that are ancestors of other leaves>\n",
    "\n",
    "[List of True Leaf Synsets]\n",
    "\n",
    "<Make sure only the True Leaf Synsets are in our [Abstraction Tree]>\n",
    "\n",
    "<Create a list of unprocessed SynSets>\n",
    "\n",
    "[Unprocessed Synsets]\n",
    "\n",
    "<Start \"processing\" each of these [Unprocessed Synsets]>\n",
    " <Find a hypernym>\n",
    " <Add hypernym to [Unprocessed SynSets]>\n",
    "  <Track some information>\n",
    "   - list of direct children?\n",
    "   - list of children and their depths?\n",
    "   - number of leaves\n",
    "   \n",
    "\n"
   ]
  },
  {
   "cell_type": "code",
   "execution_count": 52,
   "id": "ffc6d968",
   "metadata": {
    "scrolled": true
   },
   "outputs": [
    {
     "data": {
      "application/vnd.jupyter.widget-view+json": {
       "model_id": "d503ee68ac3b4ea1863e1d24fc3429d3",
       "version_major": 2,
       "version_minor": 0
      },
      "text/plain": [
       "  0%|          | 0/14510 [00:00<?, ?it/s]"
      ]
     },
     "metadata": {},
     "output_type": "display_data"
    },
    {
     "data": {
      "application/vnd.jupyter.widget-view+json": {
       "model_id": "3f9116c4ff404f8783a9aa96a1294730",
       "version_major": 2,
       "version_minor": 0
      },
      "text/plain": [
       "  0%|          | 0/18 [00:00<?, ?it/s]"
      ]
     },
     "metadata": {},
     "output_type": "display_data"
    }
   ],
   "source": [
    "min_rating = 9\n",
    "wac_words = list(wac2vec.keys())\n",
    "wn_words = set(i for i in wn.words())\n",
    "wn_wac_words = wn_words & set(wac_words)\n",
    "\n",
    "concr_scores_subset = concr_scores[concr_scores.RATING >= min_rating]\n",
    "\n",
    "leaf_words = [w for w in tqdm(wn_wac_words) if w in concr_scores_subset.index]\n",
    "leaf_synsets = [wn.synsets(w)[0] for w in tqdm(leaf_words)]"
   ]
  },
  {
   "cell_type": "code",
   "execution_count": null,
   "id": "5c2ef15a",
   "metadata": {},
   "outputs": [],
   "source": [
    "cocoa"
   ]
  },
  {
   "cell_type": "code",
   "execution_count": 55,
   "id": "b382e7ba",
   "metadata": {},
   "outputs": [
    {
     "data": {
      "text/plain": [
       "[('tomato', Synset('tomato.n.01')),\n",
       " ('bandage', Synset('bandage.n.01')),\n",
       " ('cereal', Synset('cereal.n.01')),\n",
       " ('pig', Synset('hog.n.03')),\n",
       " ('beetle', Synset('beetle.n.01')),\n",
       " ('lid', Synset('eyelid.n.01')),\n",
       " ('bracelet', Synset('watchband.n.01')),\n",
       " ('bra', Synset('brassiere.n.01')),\n",
       " ('gorilla', Synset('gorilla.n.01')),\n",
       " ('pizza', Synset('pizza.n.01')),\n",
       " ('shoe', Synset('shoe.n.01')),\n",
       " ('sausage', Synset('sausage.n.01')),\n",
       " ('crocodile', Synset('crocodile.n.01')),\n",
       " ('chocolate', Synset('cocoa.n.01')),\n",
       " ('frog', Synset('frog.n.01')),\n",
       " ('cocoa', Synset('cocoa.n.01')),\n",
       " ('rug', Synset('rug.n.01')),\n",
       " ('shark', Synset('shark.n.01'))]"
      ]
     },
     "execution_count": 55,
     "metadata": {},
     "output_type": "execute_result"
    }
   ],
   "source": [
    "list(zip(leaf_words, leaf_synsets))"
   ]
  },
  {
   "cell_type": "code",
   "execution_count": null,
   "id": "723ea5be",
   "metadata": {},
   "outputs": [],
   "source": [
    "leaf_synsets"
   ]
  },
  {
   "cell_type": "code",
   "execution_count": 173,
   "id": "4ffaacc7",
   "metadata": {},
   "outputs": [],
   "source": [
    "def init_abstraction_tree(min_rating=8):\n",
    "\n",
    "    wac_words = list(wac2vec.keys())\n",
    "    wn_words = set(i for i in wn.words())\n",
    "    wn_wac_words = wn_words & set(wac_words)\n",
    "    \n",
    "    concr_scores_subset = concr_scores[concr_scores.RATING >= min_rating]\n",
    "\n",
    "    leaf_words = [w for w in tqdm(wn_wac_words) if w in concr_scores_subset.index]\n",
    "\n",
    "    # Get Leaf SynSets...\n",
    "    leaf_synsets = [wn.synsets(w)[0] for w in tqdm(leaf_words)]\n",
    "\n",
    "    # Initiate Abstraction Tree\n",
    "    embeddings = [wac2vec[w] for w in tqdm(leaf_words)]\n",
    "    data = {\n",
    "        \"SYNSET\" : leaf_synsets,\n",
    "        \"WORD\" : leaf_words,\n",
    "        \"DIST2LEAF\": [0]*len(leaf_synsets),\n",
    "        \"NUM_LEAVES\": [1]*len(leaf_synsets),\n",
    "        \"HYPERNYM\": [[]]*len(leaf_synsets),\n",
    "        \"HYPONYMS\": [[]]*len(leaf_synsets),\n",
    "        \"EMBEDDING\" : embeddings\n",
    "        \n",
    "    }\n",
    "    abstraction_tree = pd.DataFrame(data)\n",
    "    abstraction_tree.index = abstraction_tree.SYNSET\n",
    "\n",
    "    # Get True Leaf SynSets\n",
    "    ancestors = set()\n",
    "    for s in tqdm(leaf_synsets):\n",
    "        #print(set(s.closure(lambda s: s.hypernyms())))\n",
    "        ancestors = ancestors.union(set(s.closure(lambda s: s.hypernyms())))\n",
    "\n",
    "    # Remove leaves that are ansestors of other leaves\n",
    "    true_leaf_synsets = set(leaf_synsets) - ancestors\n",
    "    ansestor_leaves = set(leaf_synsets) - true_leaf_synsets\n",
    "    abstraction_tree = abstraction_tree.drop(ansestor_leaves)\n",
    "    \n",
    "    return abstraction_tree"
   ]
  },
  {
   "cell_type": "code",
   "execution_count": 174,
   "id": "16462f34",
   "metadata": {},
   "outputs": [
    {
     "data": {
      "application/vnd.jupyter.widget-view+json": {
       "model_id": "39e4d949252740d98da939a611b05f9a",
       "version_major": 2,
       "version_minor": 0
      },
      "text/plain": [
       "  0%|          | 0/14510 [00:00<?, ?it/s]"
      ]
     },
     "metadata": {},
     "output_type": "display_data"
    },
    {
     "data": {
      "application/vnd.jupyter.widget-view+json": {
       "model_id": "70d3f571940c4d41ba9d99add0ab4f3c",
       "version_major": 2,
       "version_minor": 0
      },
      "text/plain": [
       "  0%|          | 0/18 [00:00<?, ?it/s]"
      ]
     },
     "metadata": {},
     "output_type": "display_data"
    },
    {
     "data": {
      "application/vnd.jupyter.widget-view+json": {
       "model_id": "f322f0cba4284e49954a2a4a8b24e0bd",
       "version_major": 2,
       "version_minor": 0
      },
      "text/plain": [
       "  0%|          | 0/18 [00:00<?, ?it/s]"
      ]
     },
     "metadata": {},
     "output_type": "display_data"
    },
    {
     "data": {
      "application/vnd.jupyter.widget-view+json": {
       "model_id": "c43fe286c54f4169a6f9d5c95b4e67c7",
       "version_major": 2,
       "version_minor": 0
      },
      "text/plain": [
       "  0%|          | 0/18 [00:00<?, ?it/s]"
      ]
     },
     "metadata": {},
     "output_type": "display_data"
    },
    {
     "name": "stderr",
     "output_type": "stream",
     "text": [
      "/home/crow/anaconda3/envs/nlp2/lib/python3.9/site-packages/nltk/corpus/reader/wordnet.py:604: UserWarning: Discarded redundant search for Synset('artifact.n.01') at depth 6\n",
      "  for synset in acyclic_breadth_first(self, rel, depth):\n",
      "/home/crow/anaconda3/envs/nlp2/lib/python3.9/site-packages/nltk/corpus/reader/wordnet.py:604: UserWarning: Discarded redundant search for Synset('matter.n.03') at depth 5\n",
      "  for synset in acyclic_breadth_first(self, rel, depth):\n",
      "/home/crow/anaconda3/envs/nlp2/lib/python3.9/site-packages/nltk/corpus/reader/wordnet.py:604: UserWarning: Discarded redundant search for Synset('entity.n.01') at depth 8\n",
      "  for synset in acyclic_breadth_first(self, rel, depth):\n"
     ]
    }
   ],
   "source": [
    "abstraction_tree = init_abstraction_tree(9)"
   ]
  },
  {
   "cell_type": "code",
   "execution_count": 175,
   "id": "f34850d2",
   "metadata": {},
   "outputs": [
    {
     "data": {
      "text/plain": [
       "18"
      ]
     },
     "execution_count": 175,
     "metadata": {},
     "output_type": "execute_result"
    }
   ],
   "source": [
    "len(abstraction_tree)"
   ]
  },
  {
   "cell_type": "code",
   "execution_count": null,
   "id": "6f6b45fa",
   "metadata": {},
   "outputs": [],
   "source": []
  },
  {
   "cell_type": "code",
   "execution_count": 176,
   "id": "2b5b821e",
   "metadata": {},
   "outputs": [],
   "source": [
    "# Build abstraction tree"
   ]
  },
  {
   "cell_type": "code",
   "execution_count": 177,
   "id": "a71f38f9",
   "metadata": {},
   "outputs": [],
   "source": [
    "unprocessed_synsets = list(abstraction_tree.SYNSET)"
   ]
  },
  {
   "cell_type": "code",
   "execution_count": 178,
   "id": "17cef98b",
   "metadata": {},
   "outputs": [
    {
     "data": {
      "text/plain": [
       "Synset('cocoa.n.01')"
      ]
     },
     "execution_count": 178,
     "metadata": {},
     "output_type": "execute_result"
    }
   ],
   "source": [
    "wn.synset('cocoa.n.01')"
   ]
  },
  {
   "cell_type": "code",
   "execution_count": 179,
   "id": "51aca63e",
   "metadata": {},
   "outputs": [],
   "source": [
    "# \"start\" here\n",
    "s = unprocessed_synsets[2]\n",
    "#s = wn.synset('cocoa.n.01')"
   ]
  },
  {
   "cell_type": "code",
   "execution_count": 180,
   "id": "841dd61c",
   "metadata": {},
   "outputs": [],
   "source": [
    "h = s.hypernyms()[0]"
   ]
  },
  {
   "cell_type": "code",
   "execution_count": 181,
   "id": "a1317299",
   "metadata": {},
   "outputs": [],
   "source": [
    "#abstraction_tree.loc[s, 'DIST2LEAF'] = 2"
   ]
  },
  {
   "cell_type": "code",
   "execution_count": 182,
   "id": "6bcd56df",
   "metadata": {},
   "outputs": [],
   "source": [
    "if h not in abstraction_tree.SYNSET:\n",
    "    abstraction_tree.loc[h] = [\n",
    "        h,    # SYNSET\n",
    "        None, # WORD\n",
    "        0,    # DIST2LEAF\n",
    "        0,    # NUM_LEAVES\n",
    "        [],   # HYPERNYM\n",
    "        [],   # HYPONYMS\n",
    "        None  # EMBEDDING\n",
    "    ]"
   ]
  },
  {
   "cell_type": "code",
   "execution_count": 158,
   "id": "423f5f5b",
   "metadata": {
    "scrolled": true
   },
   "outputs": [
    {
     "data": {
      "text/plain": [
       "True"
      ]
     },
     "execution_count": 158,
     "metadata": {},
     "output_type": "execute_result"
    }
   ],
   "source": [
    "h in abstraction_tree.SYNSET"
   ]
  },
  {
   "cell_type": "code",
   "execution_count": 172,
   "id": "e4cd6bd2",
   "metadata": {},
   "outputs": [],
   "source": [
    "# Set DIST2LEAF\n",
    "s_dist = abstraction_tree.loc[s, 'DIST2LEAF']\n",
    "h_dist = abstraction_tree.loc[h, 'DIST2LEAF']\n",
    "if s_dist >= h_dist:\n",
    "    abstraction_tree.loc[h, 'DIST2LEAF'] = s_dist + 1"
   ]
  },
  {
   "cell_type": "code",
   "execution_count": 183,
   "id": "241ffe2e",
   "metadata": {},
   "outputs": [],
   "source": [
    "# Set NUM_LEAVES\n",
    "s_num_leaves = abstraction_tree.loc[s, 'NUM_LEAVES']\n",
    "h_num_leaves = abstraction_tree.loc[h, 'NUM_LEAVES']\n",
    "abstraction_tree.loc[h, 'NUM_LEAVES'] = h_num_leaves + s_num_leaves"
   ]
  },
  {
   "cell_type": "code",
   "execution_count": 186,
   "id": "d719941f",
   "metadata": {},
   "outputs": [],
   "source": [
    "abstraction_tree.loc[s, 'HYPERNYM'] = [h]"
   ]
  },
  {
   "cell_type": "code",
   "execution_count": 188,
   "id": "2916721a",
   "metadata": {},
   "outputs": [],
   "source": [
    "abstraction_tree.loc[h, 'HYPONYMS'].append(s)"
   ]
  },
  {
   "cell_type": "code",
   "execution_count": 189,
   "id": "a168b1e6",
   "metadata": {},
   "outputs": [
    {
     "data": {
      "text/html": [
       "<div>\n",
       "<style scoped>\n",
       "    .dataframe tbody tr th:only-of-type {\n",
       "        vertical-align: middle;\n",
       "    }\n",
       "\n",
       "    .dataframe tbody tr th {\n",
       "        vertical-align: top;\n",
       "    }\n",
       "\n",
       "    .dataframe thead th {\n",
       "        text-align: right;\n",
       "    }\n",
       "</style>\n",
       "<table border=\"1\" class=\"dataframe\">\n",
       "  <thead>\n",
       "    <tr style=\"text-align: right;\">\n",
       "      <th></th>\n",
       "      <th>SYNSET</th>\n",
       "      <th>WORD</th>\n",
       "      <th>DIST2LEAF</th>\n",
       "      <th>NUM_LEAVES</th>\n",
       "      <th>HYPERNYM</th>\n",
       "      <th>HYPONYMS</th>\n",
       "      <th>EMBEDDING</th>\n",
       "    </tr>\n",
       "    <tr>\n",
       "      <th>SYNSET</th>\n",
       "      <th></th>\n",
       "      <th></th>\n",
       "      <th></th>\n",
       "      <th></th>\n",
       "      <th></th>\n",
       "      <th></th>\n",
       "      <th></th>\n",
       "    </tr>\n",
       "  </thead>\n",
       "  <tbody>\n",
       "    <tr>\n",
       "      <th>Synset('tomato.n.01')</th>\n",
       "      <td>Synset('tomato.n.01')</td>\n",
       "      <td>tomato</td>\n",
       "      <td>0</td>\n",
       "      <td>1</td>\n",
       "      <td>[]</td>\n",
       "      <td>[]</td>\n",
       "      <td>[-0.156617, -0.061644472, 0.08238742, 0.168585...</td>\n",
       "    </tr>\n",
       "    <tr>\n",
       "      <th>Synset('bandage.n.01')</th>\n",
       "      <td>Synset('bandage.n.01')</td>\n",
       "      <td>bandage</td>\n",
       "      <td>0</td>\n",
       "      <td>1</td>\n",
       "      <td>[]</td>\n",
       "      <td>[]</td>\n",
       "      <td>[-0.39212647, -0.09895855, -0.19498833, 0.1028...</td>\n",
       "    </tr>\n",
       "    <tr>\n",
       "      <th>Synset('cereal.n.01')</th>\n",
       "      <td>Synset('cereal.n.01')</td>\n",
       "      <td>cereal</td>\n",
       "      <td>0</td>\n",
       "      <td>1</td>\n",
       "      <td>[Synset('grass.n.01')]</td>\n",
       "      <td>[]</td>\n",
       "      <td>[-0.12203906, -0.10503117, -0.055202194, 0.165...</td>\n",
       "    </tr>\n",
       "    <tr>\n",
       "      <th>Synset('hog.n.03')</th>\n",
       "      <td>Synset('hog.n.03')</td>\n",
       "      <td>pig</td>\n",
       "      <td>0</td>\n",
       "      <td>1</td>\n",
       "      <td>[]</td>\n",
       "      <td>[]</td>\n",
       "      <td>[-0.019314175, -0.3430049, 0.027988998, -0.070...</td>\n",
       "    </tr>\n",
       "    <tr>\n",
       "      <th>Synset('beetle.n.01')</th>\n",
       "      <td>Synset('beetle.n.01')</td>\n",
       "      <td>beetle</td>\n",
       "      <td>0</td>\n",
       "      <td>1</td>\n",
       "      <td>[]</td>\n",
       "      <td>[]</td>\n",
       "      <td>[-0.05565099, -0.01425737, -0.0025513684, -0.1...</td>\n",
       "    </tr>\n",
       "    <tr>\n",
       "      <th>Synset('eyelid.n.01')</th>\n",
       "      <td>Synset('eyelid.n.01')</td>\n",
       "      <td>lid</td>\n",
       "      <td>0</td>\n",
       "      <td>1</td>\n",
       "      <td>[]</td>\n",
       "      <td>[]</td>\n",
       "      <td>[-0.08566167, 0.091532074, -0.25215068, 0.2703...</td>\n",
       "    </tr>\n",
       "    <tr>\n",
       "      <th>Synset('watchband.n.01')</th>\n",
       "      <td>Synset('watchband.n.01')</td>\n",
       "      <td>bracelet</td>\n",
       "      <td>0</td>\n",
       "      <td>1</td>\n",
       "      <td>[]</td>\n",
       "      <td>[]</td>\n",
       "      <td>[-0.16948672, -0.073408335, -0.04957973, -0.26...</td>\n",
       "    </tr>\n",
       "    <tr>\n",
       "      <th>Synset('brassiere.n.01')</th>\n",
       "      <td>Synset('brassiere.n.01')</td>\n",
       "      <td>bra</td>\n",
       "      <td>0</td>\n",
       "      <td>1</td>\n",
       "      <td>[]</td>\n",
       "      <td>[]</td>\n",
       "      <td>[0.0060521583, -0.007831488, -0.13950057, -0.0...</td>\n",
       "    </tr>\n",
       "    <tr>\n",
       "      <th>Synset('gorilla.n.01')</th>\n",
       "      <td>Synset('gorilla.n.01')</td>\n",
       "      <td>gorilla</td>\n",
       "      <td>0</td>\n",
       "      <td>1</td>\n",
       "      <td>[]</td>\n",
       "      <td>[]</td>\n",
       "      <td>[0.013077118, 0.099059194, -0.09871134, -0.131...</td>\n",
       "    </tr>\n",
       "    <tr>\n",
       "      <th>Synset('pizza.n.01')</th>\n",
       "      <td>Synset('pizza.n.01')</td>\n",
       "      <td>pizza</td>\n",
       "      <td>0</td>\n",
       "      <td>1</td>\n",
       "      <td>[]</td>\n",
       "      <td>[]</td>\n",
       "      <td>[-0.008589342, 0.028149165, 0.07240878, 0.2433...</td>\n",
       "    </tr>\n",
       "    <tr>\n",
       "      <th>Synset('shoe.n.01')</th>\n",
       "      <td>Synset('shoe.n.01')</td>\n",
       "      <td>shoe</td>\n",
       "      <td>0</td>\n",
       "      <td>1</td>\n",
       "      <td>[]</td>\n",
       "      <td>[]</td>\n",
       "      <td>[-0.22675982, -0.18527755, 0.024165135, 0.2042...</td>\n",
       "    </tr>\n",
       "    <tr>\n",
       "      <th>Synset('sausage.n.01')</th>\n",
       "      <td>Synset('sausage.n.01')</td>\n",
       "      <td>sausage</td>\n",
       "      <td>0</td>\n",
       "      <td>1</td>\n",
       "      <td>[]</td>\n",
       "      <td>[]</td>\n",
       "      <td>[-0.37618685, -0.07018195, 0.0029441416, -0.12...</td>\n",
       "    </tr>\n",
       "    <tr>\n",
       "      <th>Synset('crocodile.n.01')</th>\n",
       "      <td>Synset('crocodile.n.01')</td>\n",
       "      <td>crocodile</td>\n",
       "      <td>0</td>\n",
       "      <td>1</td>\n",
       "      <td>[]</td>\n",
       "      <td>[]</td>\n",
       "      <td>[-0.018247928, -0.09612818, -0.028747449, -0.1...</td>\n",
       "    </tr>\n",
       "    <tr>\n",
       "      <th>Synset('cocoa.n.01')</th>\n",
       "      <td>Synset('cocoa.n.01')</td>\n",
       "      <td>chocolate</td>\n",
       "      <td>0</td>\n",
       "      <td>1</td>\n",
       "      <td>[]</td>\n",
       "      <td>[]</td>\n",
       "      <td>[-0.18374076, 0.25045606, -0.060874898, 0.2488...</td>\n",
       "    </tr>\n",
       "    <tr>\n",
       "      <th>Synset('frog.n.01')</th>\n",
       "      <td>Synset('frog.n.01')</td>\n",
       "      <td>frog</td>\n",
       "      <td>0</td>\n",
       "      <td>1</td>\n",
       "      <td>[]</td>\n",
       "      <td>[]</td>\n",
       "      <td>[-0.059752204, -0.031495545, -0.08334111, -0.0...</td>\n",
       "    </tr>\n",
       "    <tr>\n",
       "      <th>Synset('cocoa.n.01')</th>\n",
       "      <td>Synset('cocoa.n.01')</td>\n",
       "      <td>cocoa</td>\n",
       "      <td>0</td>\n",
       "      <td>1</td>\n",
       "      <td>[]</td>\n",
       "      <td>[]</td>\n",
       "      <td>[-0.058093462, 0.28700057, -0.033978797, 0.251...</td>\n",
       "    </tr>\n",
       "    <tr>\n",
       "      <th>Synset('rug.n.01')</th>\n",
       "      <td>Synset('rug.n.01')</td>\n",
       "      <td>rug</td>\n",
       "      <td>0</td>\n",
       "      <td>1</td>\n",
       "      <td>[]</td>\n",
       "      <td>[]</td>\n",
       "      <td>[-0.1299707, -0.28146982, -0.06565369, -0.1460...</td>\n",
       "    </tr>\n",
       "    <tr>\n",
       "      <th>Synset('shark.n.01')</th>\n",
       "      <td>Synset('shark.n.01')</td>\n",
       "      <td>shark</td>\n",
       "      <td>0</td>\n",
       "      <td>1</td>\n",
       "      <td>[]</td>\n",
       "      <td>[]</td>\n",
       "      <td>[0.007867358, -0.15365313, -0.1028103, -0.1171...</td>\n",
       "    </tr>\n",
       "    <tr>\n",
       "      <th>Synset('grass.n.01')</th>\n",
       "      <td>Synset('grass.n.01')</td>\n",
       "      <td>None</td>\n",
       "      <td>0</td>\n",
       "      <td>1</td>\n",
       "      <td>[]</td>\n",
       "      <td>[Synset('cereal.n.01')]</td>\n",
       "      <td>None</td>\n",
       "    </tr>\n",
       "  </tbody>\n",
       "</table>\n",
       "</div>"
      ],
      "text/plain": [
       "                                            SYNSET       WORD  DIST2LEAF  \\\n",
       "SYNSET                                                                     \n",
       "Synset('tomato.n.01')        Synset('tomato.n.01')     tomato          0   \n",
       "Synset('bandage.n.01')      Synset('bandage.n.01')    bandage          0   \n",
       "Synset('cereal.n.01')        Synset('cereal.n.01')     cereal          0   \n",
       "Synset('hog.n.03')              Synset('hog.n.03')        pig          0   \n",
       "Synset('beetle.n.01')        Synset('beetle.n.01')     beetle          0   \n",
       "Synset('eyelid.n.01')        Synset('eyelid.n.01')        lid          0   \n",
       "Synset('watchband.n.01')  Synset('watchband.n.01')   bracelet          0   \n",
       "Synset('brassiere.n.01')  Synset('brassiere.n.01')        bra          0   \n",
       "Synset('gorilla.n.01')      Synset('gorilla.n.01')    gorilla          0   \n",
       "Synset('pizza.n.01')          Synset('pizza.n.01')      pizza          0   \n",
       "Synset('shoe.n.01')            Synset('shoe.n.01')       shoe          0   \n",
       "Synset('sausage.n.01')      Synset('sausage.n.01')    sausage          0   \n",
       "Synset('crocodile.n.01')  Synset('crocodile.n.01')  crocodile          0   \n",
       "Synset('cocoa.n.01')          Synset('cocoa.n.01')  chocolate          0   \n",
       "Synset('frog.n.01')            Synset('frog.n.01')       frog          0   \n",
       "Synset('cocoa.n.01')          Synset('cocoa.n.01')      cocoa          0   \n",
       "Synset('rug.n.01')              Synset('rug.n.01')        rug          0   \n",
       "Synset('shark.n.01')          Synset('shark.n.01')      shark          0   \n",
       "Synset('grass.n.01')          Synset('grass.n.01')       None          0   \n",
       "\n",
       "                          NUM_LEAVES                HYPERNYM  \\\n",
       "SYNSET                                                         \n",
       "Synset('tomato.n.01')              1                      []   \n",
       "Synset('bandage.n.01')             1                      []   \n",
       "Synset('cereal.n.01')              1  [Synset('grass.n.01')]   \n",
       "Synset('hog.n.03')                 1                      []   \n",
       "Synset('beetle.n.01')              1                      []   \n",
       "Synset('eyelid.n.01')              1                      []   \n",
       "Synset('watchband.n.01')           1                      []   \n",
       "Synset('brassiere.n.01')           1                      []   \n",
       "Synset('gorilla.n.01')             1                      []   \n",
       "Synset('pizza.n.01')               1                      []   \n",
       "Synset('shoe.n.01')                1                      []   \n",
       "Synset('sausage.n.01')             1                      []   \n",
       "Synset('crocodile.n.01')           1                      []   \n",
       "Synset('cocoa.n.01')               1                      []   \n",
       "Synset('frog.n.01')                1                      []   \n",
       "Synset('cocoa.n.01')               1                      []   \n",
       "Synset('rug.n.01')                 1                      []   \n",
       "Synset('shark.n.01')               1                      []   \n",
       "Synset('grass.n.01')               1                      []   \n",
       "\n",
       "                                         HYPONYMS  \\\n",
       "SYNSET                                              \n",
       "Synset('tomato.n.01')                          []   \n",
       "Synset('bandage.n.01')                         []   \n",
       "Synset('cereal.n.01')                          []   \n",
       "Synset('hog.n.03')                             []   \n",
       "Synset('beetle.n.01')                          []   \n",
       "Synset('eyelid.n.01')                          []   \n",
       "Synset('watchband.n.01')                       []   \n",
       "Synset('brassiere.n.01')                       []   \n",
       "Synset('gorilla.n.01')                         []   \n",
       "Synset('pizza.n.01')                           []   \n",
       "Synset('shoe.n.01')                            []   \n",
       "Synset('sausage.n.01')                         []   \n",
       "Synset('crocodile.n.01')                       []   \n",
       "Synset('cocoa.n.01')                           []   \n",
       "Synset('frog.n.01')                            []   \n",
       "Synset('cocoa.n.01')                           []   \n",
       "Synset('rug.n.01')                             []   \n",
       "Synset('shark.n.01')                           []   \n",
       "Synset('grass.n.01')      [Synset('cereal.n.01')]   \n",
       "\n",
       "                                                                  EMBEDDING  \n",
       "SYNSET                                                                       \n",
       "Synset('tomato.n.01')     [-0.156617, -0.061644472, 0.08238742, 0.168585...  \n",
       "Synset('bandage.n.01')    [-0.39212647, -0.09895855, -0.19498833, 0.1028...  \n",
       "Synset('cereal.n.01')     [-0.12203906, -0.10503117, -0.055202194, 0.165...  \n",
       "Synset('hog.n.03')        [-0.019314175, -0.3430049, 0.027988998, -0.070...  \n",
       "Synset('beetle.n.01')     [-0.05565099, -0.01425737, -0.0025513684, -0.1...  \n",
       "Synset('eyelid.n.01')     [-0.08566167, 0.091532074, -0.25215068, 0.2703...  \n",
       "Synset('watchband.n.01')  [-0.16948672, -0.073408335, -0.04957973, -0.26...  \n",
       "Synset('brassiere.n.01')  [0.0060521583, -0.007831488, -0.13950057, -0.0...  \n",
       "Synset('gorilla.n.01')    [0.013077118, 0.099059194, -0.09871134, -0.131...  \n",
       "Synset('pizza.n.01')      [-0.008589342, 0.028149165, 0.07240878, 0.2433...  \n",
       "Synset('shoe.n.01')       [-0.22675982, -0.18527755, 0.024165135, 0.2042...  \n",
       "Synset('sausage.n.01')    [-0.37618685, -0.07018195, 0.0029441416, -0.12...  \n",
       "Synset('crocodile.n.01')  [-0.018247928, -0.09612818, -0.028747449, -0.1...  \n",
       "Synset('cocoa.n.01')      [-0.18374076, 0.25045606, -0.060874898, 0.2488...  \n",
       "Synset('frog.n.01')       [-0.059752204, -0.031495545, -0.08334111, -0.0...  \n",
       "Synset('cocoa.n.01')      [-0.058093462, 0.28700057, -0.033978797, 0.251...  \n",
       "Synset('rug.n.01')        [-0.1299707, -0.28146982, -0.06565369, -0.1460...  \n",
       "Synset('shark.n.01')      [0.007867358, -0.15365313, -0.1028103, -0.1171...  \n",
       "Synset('grass.n.01')                                                   None  "
      ]
     },
     "execution_count": 189,
     "metadata": {},
     "output_type": "execute_result"
    }
   ],
   "source": [
    "abstraction_tree"
   ]
  },
  {
   "cell_type": "code",
   "execution_count": 129,
   "id": "061f2522",
   "metadata": {},
   "outputs": [
    {
     "data": {
      "text/plain": [
       "Synset('solanaceous_vegetable.n.01')"
      ]
     },
     "execution_count": 129,
     "metadata": {},
     "output_type": "execute_result"
    }
   ],
   "source": [
    "h"
   ]
  },
  {
   "cell_type": "code",
   "execution_count": null,
   "id": "554798d6",
   "metadata": {},
   "outputs": [],
   "source": [
    "# Left Off:\n",
    "# Add ISA_LEAF and NUM_LEAVES\n",
    "# NUM_LEAVES can be used to determine if we can build a classifier for the synset"
   ]
  },
  {
   "cell_type": "code",
   "execution_count": null,
   "id": "bad6a0e4",
   "metadata": {},
   "outputs": [],
   "source": []
  },
  {
   "cell_type": "code",
   "execution_count": null,
   "id": "ed5b9ca3",
   "metadata": {},
   "outputs": [],
   "source": []
  },
  {
   "cell_type": "code",
   "execution_count": 8,
   "id": "b9f4b501",
   "metadata": {},
   "outputs": [],
   "source": [
    "from nltk.tree import Tree"
   ]
  },
  {
   "cell_type": "code",
   "execution_count": 9,
   "id": "2c24042c",
   "metadata": {},
   "outputs": [],
   "source": [
    "class Node(str):\n",
    "    def __new__(cls, value, *args, **kwargs):\n",
    "        # explicitly only pass value to the str constructor\n",
    "        return super(Node, cls).__new__(cls, value)\n",
    "\n",
    "    def __init__(self, value, data):\n",
    "        # ... and don't even call the str initializer \n",
    "        self.data = data"
   ]
  },
  {
   "cell_type": "code",
   "execution_count": 10,
   "id": "be2325b4",
   "metadata": {},
   "outputs": [],
   "source": [
    "a = Node('test', 123)"
   ]
  },
  {
   "cell_type": "code",
   "execution_count": 11,
   "id": "61489c05",
   "metadata": {},
   "outputs": [],
   "source": [
    "t1 = Tree(a, ['2', '3', Tree('4', ['5', '6'])])\n",
    "t2 = Tree('5', ['2', '3'])"
   ]
  },
  {
   "cell_type": "code",
   "execution_count": 12,
   "id": "a0393d00",
   "metadata": {},
   "outputs": [
    {
     "data": {
      "text/plain": [
       "'[1, 2]'"
      ]
     },
     "execution_count": 12,
     "metadata": {},
     "output_type": "execute_result"
    }
   ],
   "source": [
    "str([1, 2])"
   ]
  },
  {
   "cell_type": "code",
   "execution_count": 13,
   "id": "f6b2aa55",
   "metadata": {},
   "outputs": [
    {
     "data": {
      "image/svg+xml": [
       "<svg baseProfile=\"full\" height=\"120px\" preserveAspectRatio=\"xMidYMid meet\" style=\"font-family: times, serif; font-weight:normal; font-style: normal; font-size: 16px;\" version=\"1.1\" viewBox=\"0,0,96.0,120.0\" width=\"96px\" xmlns=\"http://www.w3.org/2000/svg\" xmlns:ev=\"http://www.w3.org/2001/xml-events\" xmlns:xlink=\"http://www.w3.org/1999/xlink\"><defs /><svg width=\"100%\" x=\"0\" y=\"0em\"><defs /><text text-anchor=\"middle\" x=\"50%\" y=\"1em\">test</text></svg><svg width=\"25%\" x=\"0%\" y=\"3em\"><defs /><svg width=\"100%\" x=\"0\" y=\"0em\"><defs /><text text-anchor=\"middle\" x=\"50%\" y=\"1em\">2</text></svg></svg><line stroke=\"black\" x1=\"50%\" x2=\"12.5%\" y1=\"1.2em\" y2=\"3em\" /><svg width=\"25%\" x=\"25%\" y=\"3em\"><defs /><svg width=\"100%\" x=\"0\" y=\"0em\"><defs /><text text-anchor=\"middle\" x=\"50%\" y=\"1em\">3</text></svg></svg><line stroke=\"black\" x1=\"50%\" x2=\"37.5%\" y1=\"1.2em\" y2=\"3em\" /><svg width=\"50%\" x=\"50%\" y=\"3em\"><defs /><svg width=\"100%\" x=\"0\" y=\"0em\"><defs /><text text-anchor=\"middle\" x=\"50%\" y=\"1em\">4</text></svg><svg width=\"50%\" x=\"0%\" y=\"3em\"><defs /><svg width=\"100%\" x=\"0\" y=\"0em\"><defs /><text text-anchor=\"middle\" x=\"50%\" y=\"1em\">5</text></svg></svg><line stroke=\"black\" x1=\"50%\" x2=\"25%\" y1=\"1.2em\" y2=\"3em\" /><svg width=\"50%\" x=\"50%\" y=\"3em\"><defs /><svg width=\"100%\" x=\"0\" y=\"0em\"><defs /><text text-anchor=\"middle\" x=\"50%\" y=\"1em\">6</text></svg></svg><line stroke=\"black\" x1=\"50%\" x2=\"75%\" y1=\"1.2em\" y2=\"3em\" /></svg><line stroke=\"black\" x1=\"50%\" x2=\"75%\" y1=\"1.2em\" y2=\"3em\" /></svg>"
      ],
      "text/plain": [
       "Tree('test', ['2', '3', Tree('4', ['5', '6'])])"
      ]
     },
     "execution_count": 13,
     "metadata": {},
     "output_type": "execute_result"
    }
   ],
   "source": [
    "t1"
   ]
  },
  {
   "cell_type": "raw",
   "id": "ff9f5f8f",
   "metadata": {},
   "source": [
    "t.draw()\n",
    "t.pretty_print()"
   ]
  },
  {
   "cell_type": "code",
   "execution_count": 14,
   "id": "23f3eaa2",
   "metadata": {},
   "outputs": [],
   "source": [
    "#nltk.draw.tree.draw_trees([t1, t2])"
   ]
  },
  {
   "cell_type": "code",
   "execution_count": 15,
   "id": "c13e93cd",
   "metadata": {},
   "outputs": [
    {
     "data": {
      "text/plain": [
       "['2', '3', Tree('4', ['5', '6'])]"
      ]
     },
     "execution_count": 15,
     "metadata": {},
     "output_type": "execute_result"
    }
   ],
   "source": [
    "list(t1)"
   ]
  },
  {
   "cell_type": "code",
   "execution_count": null,
   "id": "22e23d5d",
   "metadata": {},
   "outputs": [],
   "source": []
  },
  {
   "cell_type": "code",
   "execution_count": 16,
   "id": "991f9bb4",
   "metadata": {},
   "outputs": [
    {
     "name": "stdout",
     "output_type": "stream",
     "text": [
      "Help on Tree in module nltk.tree.tree object:\n",
      "\n",
      "class Tree(builtins.list)\n",
      " |  Tree(node, children=None)\n",
      " |  \n",
      " |  A Tree represents a hierarchical grouping of leaves and subtrees.\n",
      " |  For example, each constituent in a syntax tree is represented by a single Tree.\n",
      " |  \n",
      " |  A tree's children are encoded as a list of leaves and subtrees,\n",
      " |  where a leaf is a basic (non-tree) value; and a subtree is a\n",
      " |  nested Tree.\n",
      " |  \n",
      " |      >>> from nltk.tree import Tree\n",
      " |      >>> print(Tree(1, [2, Tree(3, [4]), 5]))\n",
      " |      (1 2 (3 4) 5)\n",
      " |      >>> vp = Tree('VP', [Tree('V', ['saw']),\n",
      " |      ...                  Tree('NP', ['him'])])\n",
      " |      >>> s = Tree('S', [Tree('NP', ['I']), vp])\n",
      " |      >>> print(s)\n",
      " |      (S (NP I) (VP (V saw) (NP him)))\n",
      " |      >>> print(s[1])\n",
      " |      (VP (V saw) (NP him))\n",
      " |      >>> print(s[1,1])\n",
      " |      (NP him)\n",
      " |      >>> t = Tree.fromstring(\"(S (NP I) (VP (V saw) (NP him)))\")\n",
      " |      >>> s == t\n",
      " |      True\n",
      " |      >>> t[1][1].set_label('X')\n",
      " |      >>> t[1][1].label()\n",
      " |      'X'\n",
      " |      >>> print(t)\n",
      " |      (S (NP I) (VP (V saw) (X him)))\n",
      " |      >>> t[0], t[1,1] = t[1,1], t[0]\n",
      " |      >>> print(t)\n",
      " |      (S (X him) (VP (V saw) (NP I)))\n",
      " |  \n",
      " |  The length of a tree is the number of children it has.\n",
      " |  \n",
      " |      >>> len(t)\n",
      " |      2\n",
      " |  \n",
      " |  The set_label() and label() methods allow individual constituents\n",
      " |  to be labeled.  For example, syntax trees use this label to specify\n",
      " |  phrase tags, such as \"NP\" and \"VP\".\n",
      " |  \n",
      " |  Several Tree methods use \"tree positions\" to specify\n",
      " |  children or descendants of a tree.  Tree positions are defined as\n",
      " |  follows:\n",
      " |  \n",
      " |    - The tree position *i* specifies a Tree's *i*\\ th child.\n",
      " |    - The tree position ``()`` specifies the Tree itself.\n",
      " |    - If *p* is the tree position of descendant *d*, then\n",
      " |      *p+i* specifies the *i*\\ th child of *d*.\n",
      " |  \n",
      " |  I.e., every tree position is either a single index *i*,\n",
      " |  specifying ``tree[i]``; or a sequence *i1, i2, ..., iN*,\n",
      " |  specifying ``tree[i1][i2]...[iN]``.\n",
      " |  \n",
      " |  Construct a new tree.  This constructor can be called in one\n",
      " |  of two ways:\n",
      " |  \n",
      " |  - ``Tree(label, children)`` constructs a new tree with the\n",
      " |      specified label and list of children.\n",
      " |  \n",
      " |  - ``Tree.fromstring(s)`` constructs a new tree by parsing the string ``s``.\n",
      " |  \n",
      " |  Method resolution order:\n",
      " |      Tree\n",
      " |      builtins.list\n",
      " |      builtins.object\n",
      " |  \n",
      " |  Methods defined here:\n",
      " |  \n",
      " |  __add__(self, v)\n",
      " |      Return self+value.\n",
      " |  \n",
      " |  __copy__(self)\n",
      " |  \n",
      " |  __deepcopy__(self, memo)\n",
      " |  \n",
      " |  __delitem__(self, index)\n",
      " |      Delete self[key].\n",
      " |  \n",
      " |  __eq__(self, other)\n",
      " |      Return self==value.\n",
      " |  \n",
      " |  __ge__ lambda self, other\n",
      " |  \n",
      " |  __getitem__(self, index)\n",
      " |      x.__getitem__(y) <==> x[y]\n",
      " |  \n",
      " |  __gt__ lambda self, other\n",
      " |  \n",
      " |  __init__(self, node, children=None)\n",
      " |      Initialize self.  See help(type(self)) for accurate signature.\n",
      " |  \n",
      " |  __le__ lambda self, other\n",
      " |  \n",
      " |  __lt__(self, other)\n",
      " |      Return self<value.\n",
      " |  \n",
      " |  __mul__(self, v)\n",
      " |      Return self*value.\n",
      " |  \n",
      " |  __ne__ lambda self, other\n",
      " |      # @total_ordering doesn't work here, since the class inherits from a builtin class\n",
      " |  \n",
      " |  __radd__(self, v)\n",
      " |  \n",
      " |  __repr__(self)\n",
      " |      Return repr(self).\n",
      " |  \n",
      " |  __rmul__(self, v)\n",
      " |      Return value*self.\n",
      " |  \n",
      " |  __setitem__(self, index, value)\n",
      " |      Set self[key] to value.\n",
      " |  \n",
      " |  __str__(self)\n",
      " |      Return str(self).\n",
      " |  \n",
      " |  chomsky_normal_form(self, factor='right', horzMarkov=None, vertMarkov=0, childChar='|', parentChar='^')\n",
      " |      This method can modify a tree in three ways:\n",
      " |      \n",
      " |        1. Convert a tree into its Chomsky Normal Form (CNF)\n",
      " |           equivalent -- Every subtree has either two non-terminals\n",
      " |           or one terminal as its children.  This process requires\n",
      " |           the creation of more\"artificial\" non-terminal nodes.\n",
      " |        2. Markov (vertical) smoothing of children in new artificial\n",
      " |           nodes\n",
      " |        3. Horizontal (parent) annotation of nodes\n",
      " |      \n",
      " |      :param factor: Right or left factoring method (default = \"right\")\n",
      " |      :type  factor: str = [left|right]\n",
      " |      :param horzMarkov: Markov order for sibling smoothing in artificial nodes (None (default) = include all siblings)\n",
      " |      :type  horzMarkov: int | None\n",
      " |      :param vertMarkov: Markov order for parent smoothing (0 (default) = no vertical annotation)\n",
      " |      :type  vertMarkov: int | None\n",
      " |      :param childChar: A string used in construction of the artificial nodes, separating the head of the\n",
      " |                        original subtree from the child nodes that have yet to be expanded (default = \"|\")\n",
      " |      :type  childChar: str\n",
      " |      :param parentChar: A string used to separate the node representation from its vertical annotation\n",
      " |      :type  parentChar: str\n",
      " |  \n",
      " |  collapse_unary(self, collapsePOS=False, collapseRoot=False, joinChar='+')\n",
      " |      Collapse subtrees with a single child (ie. unary productions)\n",
      " |      into a new non-terminal (Tree node) joined by 'joinChar'.\n",
      " |      This is useful when working with algorithms that do not allow\n",
      " |      unary productions, and completely removing the unary productions\n",
      " |      would require loss of useful information.  The Tree is modified\n",
      " |      directly (since it is passed by reference) and no value is returned.\n",
      " |      \n",
      " |      :param collapsePOS: 'False' (default) will not collapse the parent of leaf nodes (ie.\n",
      " |                          Part-of-Speech tags) since they are always unary productions\n",
      " |      :type  collapsePOS: bool\n",
      " |      :param collapseRoot: 'False' (default) will not modify the root production\n",
      " |                           if it is unary.  For the Penn WSJ treebank corpus, this corresponds\n",
      " |                           to the TOP -> productions.\n",
      " |      :type collapseRoot: bool\n",
      " |      :param joinChar: A string used to connect collapsed node values (default = \"+\")\n",
      " |      :type  joinChar: str\n",
      " |  \n",
      " |  copy(self, deep=False)\n",
      " |      Return a shallow copy of the list.\n",
      " |  \n",
      " |  draw(self)\n",
      " |      Open a new window containing a graphical diagram of this tree.\n",
      " |  \n",
      " |  flatten(self)\n",
      " |      Return a flat version of the tree, with all non-root non-terminals removed.\n",
      " |      \n",
      " |          >>> t = Tree.fromstring(\"(S (NP (D the) (N dog)) (VP (V chased) (NP (D the) (N cat))))\")\n",
      " |          >>> print(t.flatten())\n",
      " |          (S the dog chased the cat)\n",
      " |      \n",
      " |      :return: a tree consisting of this tree's root connected directly to\n",
      " |          its leaves, omitting all intervening non-terminal nodes.\n",
      " |      :rtype: Tree\n",
      " |  \n",
      " |  freeze(self, leaf_freezer=None)\n",
      " |  \n",
      " |  height(self)\n",
      " |      Return the height of the tree.\n",
      " |      \n",
      " |          >>> t = Tree.fromstring(\"(S (NP (D the) (N dog)) (VP (V chased) (NP (D the) (N cat))))\")\n",
      " |          >>> t.height()\n",
      " |          5\n",
      " |          >>> print(t[0,0])\n",
      " |          (D the)\n",
      " |          >>> t[0,0].height()\n",
      " |          2\n",
      " |      \n",
      " |      :return: The height of this tree.  The height of a tree\n",
      " |          containing no children is 1; the height of a tree\n",
      " |          containing only leaves is 2; and the height of any other\n",
      " |          tree is one plus the maximum of its children's\n",
      " |          heights.\n",
      " |      :rtype: int\n",
      " |  \n",
      " |  label(self)\n",
      " |      Return the node label of the tree.\n",
      " |      \n",
      " |          >>> t = Tree.fromstring('(S (NP (D the) (N dog)) (VP (V chased) (NP (D the) (N cat))))')\n",
      " |          >>> t.label()\n",
      " |          'S'\n",
      " |      \n",
      " |      :return: the node label (typically a string)\n",
      " |      :rtype: any\n",
      " |  \n",
      " |  leaf_treeposition(self, index)\n",
      " |      :return: The tree position of the ``index``-th leaf in this\n",
      " |          tree.  I.e., if ``tp=self.leaf_treeposition(i)``, then\n",
      " |          ``self[tp]==self.leaves()[i]``.\n",
      " |      \n",
      " |      :raise IndexError: If this tree contains fewer than ``index+1``\n",
      " |          leaves, or if ``index<0``.\n",
      " |  \n",
      " |  leaves(self)\n",
      " |      Return the leaves of the tree.\n",
      " |      \n",
      " |          >>> t = Tree.fromstring(\"(S (NP (D the) (N dog)) (VP (V chased) (NP (D the) (N cat))))\")\n",
      " |          >>> t.leaves()\n",
      " |          ['the', 'dog', 'chased', 'the', 'cat']\n",
      " |      \n",
      " |      :return: a list containing this tree's leaves.\n",
      " |          The order reflects the order of the\n",
      " |          leaves in the tree's hierarchical structure.\n",
      " |      :rtype: list\n",
      " |  \n",
      " |  pformat(self, margin=70, indent=0, nodesep='', parens='()', quotes=False)\n",
      " |      :return: A pretty-printed string representation of this tree.\n",
      " |      :rtype: str\n",
      " |      :param margin: The right margin at which to do line-wrapping.\n",
      " |      :type margin: int\n",
      " |      :param indent: The indentation level at which printing\n",
      " |          begins.  This number is used to decide how far to indent\n",
      " |          subsequent lines.\n",
      " |      :type indent: int\n",
      " |      :param nodesep: A string that is used to separate the node\n",
      " |          from the children.  E.g., the default value ``':'`` gives\n",
      " |          trees like ``(S: (NP: I) (VP: (V: saw) (NP: it)))``.\n",
      " |  \n",
      " |  pformat_latex_qtree(self)\n",
      " |      Returns a representation of the tree compatible with the\n",
      " |      LaTeX qtree package. This consists of the string ``\\Tree``\n",
      " |      followed by the tree represented in bracketed notation.\n",
      " |      \n",
      " |      For example, the following result was generated from a parse tree of\n",
      " |      the sentence ``The announcement astounded us``::\n",
      " |      \n",
      " |        \\Tree [.I'' [.N'' [.D The ] [.N' [.N announcement ] ] ]\n",
      " |            [.I' [.V'' [.V' [.V astounded ] [.N'' [.N' [.N us ] ] ] ] ] ] ]\n",
      " |      \n",
      " |      See https://www.ling.upenn.edu/advice/latex.html for the LaTeX\n",
      " |      style file for the qtree package.\n",
      " |      \n",
      " |      :return: A latex qtree representation of this tree.\n",
      " |      :rtype: str\n",
      " |  \n",
      " |  pos(self)\n",
      " |      Return a sequence of pos-tagged words extracted from the tree.\n",
      " |      \n",
      " |          >>> t = Tree.fromstring(\"(S (NP (D the) (N dog)) (VP (V chased) (NP (D the) (N cat))))\")\n",
      " |          >>> t.pos()\n",
      " |          [('the', 'D'), ('dog', 'N'), ('chased', 'V'), ('the', 'D'), ('cat', 'N')]\n",
      " |      \n",
      " |      :return: a list of tuples containing leaves and pre-terminals (part-of-speech tags).\n",
      " |          The order reflects the order of the leaves in the tree's hierarchical structure.\n",
      " |      :rtype: list(tuple)\n",
      " |  \n",
      " |  pprint(self, **kwargs)\n",
      " |      Print a string representation of this Tree to 'stream'\n",
      " |  \n",
      " |  pretty_print(self, sentence=None, highlight=(), stream=None, **kwargs)\n",
      " |      Pretty-print this tree as ASCII or Unicode art.\n",
      " |      For explanation of the arguments, see the documentation for\n",
      " |      `nltk.tree.prettyprinter.TreePrettyPrinter`.\n",
      " |  \n",
      " |  productions(self)\n",
      " |      Generate the productions that correspond to the non-terminal nodes of the tree.\n",
      " |      For each subtree of the form (P: C1 C2 ... Cn) this produces a production of the\n",
      " |      form P -> C1 C2 ... Cn.\n",
      " |      \n",
      " |          >>> t = Tree.fromstring(\"(S (NP (D the) (N dog)) (VP (V chased) (NP (D the) (N cat))))\")\n",
      " |          >>> t.productions() # doctest: +NORMALIZE_WHITESPACE\n",
      " |          [S -> NP VP, NP -> D N, D -> 'the', N -> 'dog', VP -> V NP, V -> 'chased',\n",
      " |          NP -> D N, D -> 'the', N -> 'cat']\n",
      " |      \n",
      " |      :rtype: list(Production)\n",
      " |  \n",
      " |  set_label(self, label)\n",
      " |      Set the node label of the tree.\n",
      " |      \n",
      " |          >>> t = Tree.fromstring(\"(S (NP (D the) (N dog)) (VP (V chased) (NP (D the) (N cat))))\")\n",
      " |          >>> t.set_label(\"T\")\n",
      " |          >>> print(t)\n",
      " |          (T (NP (D the) (N dog)) (VP (V chased) (NP (D the) (N cat))))\n",
      " |      \n",
      " |      :param label: the node label (typically a string)\n",
      " |      :type label: any\n",
      " |  \n",
      " |  subtrees(self, filter=None)\n",
      " |      Generate all the subtrees of this tree, optionally restricted\n",
      " |      to trees matching the filter function.\n",
      " |      \n",
      " |          >>> t = Tree.fromstring(\"(S (NP (D the) (N dog)) (VP (V chased) (NP (D the) (N cat))))\")\n",
      " |          >>> for s in t.subtrees(lambda t: t.height() == 2):\n",
      " |          ...     print(s)\n",
      " |          (D the)\n",
      " |          (N dog)\n",
      " |          (V chased)\n",
      " |          (D the)\n",
      " |          (N cat)\n",
      " |      \n",
      " |      :type filter: function\n",
      " |      :param filter: the function to filter all local trees\n",
      " |  \n",
      " |  treeposition_spanning_leaves(self, start, end)\n",
      " |      :return: The tree position of the lowest descendant of this\n",
      " |          tree that dominates ``self.leaves()[start:end]``.\n",
      " |      :raise ValueError: if ``end <= start``\n",
      " |  \n",
      " |  treepositions(self, order='preorder')\n",
      " |          >>> t = Tree.fromstring(\"(S (NP (D the) (N dog)) (VP (V chased) (NP (D the) (N cat))))\")\n",
      " |          >>> t.treepositions() # doctest: +ELLIPSIS\n",
      " |          [(), (0,), (0, 0), (0, 0, 0), (0, 1), (0, 1, 0), (1,), (1, 0), (1, 0, 0), ...]\n",
      " |          >>> for pos in t.treepositions('leaves'):\n",
      " |          ...     t[pos] = t[pos][::-1].upper()\n",
      " |          >>> print(t)\n",
      " |          (S (NP (D EHT) (N GOD)) (VP (V DESAHC) (NP (D EHT) (N TAC))))\n",
      " |      \n",
      " |      :param order: One of: ``preorder``, ``postorder``, ``bothorder``,\n",
      " |          ``leaves``.\n",
      " |  \n",
      " |  un_chomsky_normal_form(self, expandUnary=True, childChar='|', parentChar='^', unaryChar='+')\n",
      " |      This method modifies the tree in three ways:\n",
      " |      \n",
      " |        1. Transforms a tree in Chomsky Normal Form back to its\n",
      " |           original structure (branching greater than two)\n",
      " |        2. Removes any parent annotation (if it exists)\n",
      " |        3. (optional) expands unary subtrees (if previously\n",
      " |           collapsed with collapseUnary(...) )\n",
      " |      \n",
      " |      :param expandUnary: Flag to expand unary or not (default = True)\n",
      " |      :type  expandUnary: bool\n",
      " |      :param childChar: A string separating the head node from its children in an artificial node (default = \"|\")\n",
      " |      :type  childChar: str\n",
      " |      :param parentChar: A string separating the node label from its parent annotation (default = \"^\")\n",
      " |      :type  parentChar: str\n",
      " |      :param unaryChar: A string joining two non-terminals in a unary production (default = \"+\")\n",
      " |      :type  unaryChar: str\n",
      " |  \n",
      " |  ----------------------------------------------------------------------\n",
      " |  Class methods defined here:\n",
      " |  \n",
      " |  convert(tree) from builtins.type\n",
      " |      Convert a tree between different subtypes of Tree.  ``cls`` determines\n",
      " |      which class will be used to encode the new tree.\n",
      " |      \n",
      " |      :type tree: Tree\n",
      " |      :param tree: The tree that should be converted.\n",
      " |      :return: The new Tree.\n",
      " |  \n",
      " |  fromlist(l) from builtins.type\n",
      " |      :type l: list\n",
      " |      :param l: a tree represented as nested lists\n",
      " |      \n",
      " |      :return: A tree corresponding to the list representation ``l``.\n",
      " |      :rtype: Tree\n",
      " |      \n",
      " |      Convert nested lists to a NLTK Tree\n",
      " |  \n",
      " |  fromstring(s, brackets='()', read_node=None, read_leaf=None, node_pattern=None, leaf_pattern=None, remove_empty_top_bracketing=False) from builtins.type\n",
      " |      Read a bracketed tree string and return the resulting tree.\n",
      " |      Trees are represented as nested brackettings, such as::\n",
      " |      \n",
      " |        (S (NP (NNP John)) (VP (V runs)))\n",
      " |      \n",
      " |      :type s: str\n",
      " |      :param s: The string to read\n",
      " |      \n",
      " |      :type brackets: str (length=2)\n",
      " |      :param brackets: The bracket characters used to mark the\n",
      " |          beginning and end of trees and subtrees.\n",
      " |      \n",
      " |      :type read_node: function\n",
      " |      :type read_leaf: function\n",
      " |      :param read_node, read_leaf: If specified, these functions\n",
      " |          are applied to the substrings of ``s`` corresponding to\n",
      " |          nodes and leaves (respectively) to obtain the values for\n",
      " |          those nodes and leaves.  They should have the following\n",
      " |          signature:\n",
      " |      \n",
      " |             read_node(str) -> value\n",
      " |      \n",
      " |          For example, these functions could be used to process nodes\n",
      " |          and leaves whose values should be some type other than\n",
      " |          string (such as ``FeatStruct``).\n",
      " |          Note that by default, node strings and leaf strings are\n",
      " |          delimited by whitespace and brackets; to override this\n",
      " |          default, use the ``node_pattern`` and ``leaf_pattern``\n",
      " |          arguments.\n",
      " |      \n",
      " |      :type node_pattern: str\n",
      " |      :type leaf_pattern: str\n",
      " |      :param node_pattern, leaf_pattern: Regular expression patterns\n",
      " |          used to find node and leaf substrings in ``s``.  By\n",
      " |          default, both nodes patterns are defined to match any\n",
      " |          sequence of non-whitespace non-bracket characters.\n",
      " |      \n",
      " |      :type remove_empty_top_bracketing: bool\n",
      " |      :param remove_empty_top_bracketing: If the resulting tree has\n",
      " |          an empty node label, and is length one, then return its\n",
      " |          single child instead.  This is useful for treebank trees,\n",
      " |          which sometimes contain an extra level of bracketing.\n",
      " |      \n",
      " |      :return: A tree corresponding to the string representation ``s``.\n",
      " |          If this class method is called using a subclass of Tree,\n",
      " |          then it will return a tree of that type.\n",
      " |      :rtype: Tree\n",
      " |  \n",
      " |  ----------------------------------------------------------------------\n",
      " |  Data descriptors defined here:\n",
      " |  \n",
      " |  __dict__\n",
      " |      dictionary for instance variables (if defined)\n",
      " |  \n",
      " |  __weakref__\n",
      " |      list of weak references to the object (if defined)\n",
      " |  \n",
      " |  node\n",
      " |      Outdated method to access the node value; use the label() method instead.\n",
      " |      \n",
      " |      @deprecated: Use label() instead\n",
      " |  \n",
      " |  ----------------------------------------------------------------------\n",
      " |  Data and other attributes defined here:\n",
      " |  \n",
      " |  __hash__ = None\n",
      " |  \n",
      " |  ----------------------------------------------------------------------\n",
      " |  Methods inherited from builtins.list:\n",
      " |  \n",
      " |  __contains__(self, key, /)\n",
      " |      Return key in self.\n",
      " |  \n",
      " |  __getattribute__(self, name, /)\n",
      " |      Return getattr(self, name).\n",
      " |  \n",
      " |  __iadd__(self, value, /)\n",
      " |      Implement self+=value.\n",
      " |  \n",
      " |  __imul__(self, value, /)\n",
      " |      Implement self*=value.\n",
      " |  \n",
      " |  __iter__(self, /)\n",
      " |      Implement iter(self).\n",
      " |  \n",
      " |  __len__(self, /)\n",
      " |      Return len(self).\n",
      " |  \n",
      " |  __reversed__(self, /)\n",
      " |      Return a reverse iterator over the list.\n",
      " |  \n",
      " |  __sizeof__(self, /)\n",
      " |      Return the size of the list in memory, in bytes.\n",
      " |  \n",
      " |  append(self, object, /)\n",
      " |      Append object to the end of the list.\n",
      " |  \n",
      " |  clear(self, /)\n",
      " |      Remove all items from list.\n",
      " |  \n",
      " |  count(self, value, /)\n",
      " |      Return number of occurrences of value.\n",
      " |  \n",
      " |  extend(self, iterable, /)\n",
      " |      Extend list by appending elements from the iterable.\n",
      " |  \n",
      " |  index(self, value, start=0, stop=9223372036854775807, /)\n",
      " |      Return first index of value.\n",
      " |      \n",
      " |      Raises ValueError if the value is not present.\n",
      " |  \n",
      " |  insert(self, index, object, /)\n",
      " |      Insert object before index.\n",
      " |  \n",
      " |  pop(self, index=-1, /)\n",
      " |      Remove and return item at index (default last).\n",
      " |      \n",
      " |      Raises IndexError if list is empty or index is out of range.\n",
      " |  \n",
      " |  remove(self, value, /)\n",
      " |      Remove first occurrence of value.\n",
      " |      \n",
      " |      Raises ValueError if the value is not present.\n",
      " |  \n",
      " |  reverse(self, /)\n",
      " |      Reverse *IN PLACE*.\n",
      " |  \n",
      " |  sort(self, /, *, key=None, reverse=False)\n",
      " |      Sort the list in ascending order and return None.\n",
      " |      \n",
      " |      The sort is in-place (i.e. the list itself is modified) and stable (i.e. the\n",
      " |      order of two equal elements is maintained).\n",
      " |      \n",
      " |      If a key function is given, apply it once to each list item and sort them,\n",
      " |      ascending or descending, according to their function values.\n",
      " |      \n",
      " |      The reverse flag can be set to sort in descending order.\n",
      " |  \n",
      " |  ----------------------------------------------------------------------\n",
      " |  Class methods inherited from builtins.list:\n",
      " |  \n",
      " |  __class_getitem__(...) from builtins.type\n",
      " |      See PEP 585\n",
      " |  \n",
      " |  ----------------------------------------------------------------------\n",
      " |  Static methods inherited from builtins.list:\n",
      " |  \n",
      " |  __new__(*args, **kwargs) from builtins.type\n",
      " |      Create and return a new object.  See help(type) for accurate signature.\n",
      "\n"
     ]
    }
   ],
   "source": [
    "help(t1)"
   ]
  },
  {
   "cell_type": "code",
   "execution_count": 17,
   "id": "328014c1",
   "metadata": {},
   "outputs": [
    {
     "data": {
      "text/plain": [
       "'(test 2 3 (4 5 6))'"
      ]
     },
     "execution_count": 17,
     "metadata": {},
     "output_type": "execute_result"
    }
   ],
   "source": [
    "t1.pformat()"
   ]
  },
  {
   "cell_type": "code",
   "execution_count": null,
   "id": "8b1294e2",
   "metadata": {},
   "outputs": [],
   "source": []
  }
 ],
 "metadata": {
  "kernelspec": {
   "display_name": "Python 3",
   "language": "python",
   "name": "python3"
  },
  "language_info": {
   "codemirror_mode": {
    "name": "ipython",
    "version": 3
   },
   "file_extension": ".py",
   "mimetype": "text/x-python",
   "name": "python",
   "nbconvert_exporter": "python",
   "pygments_lexer": "ipython3",
   "version": "3.9.16"
  }
 },
 "nbformat": 4,
 "nbformat_minor": 5
}
