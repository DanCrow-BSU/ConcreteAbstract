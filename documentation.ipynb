{
 "cells": [
  {
   "cell_type": "markdown",
   "id": "df6fcfcc",
   "metadata": {},
   "source": [
    "# Table of Contents\n",
    "* [Conventions](#Conventions)\n",
    "* [Goal](#Goal)\n",
    "* [Datasets](#Datasets)\n",
    "* [Hyperparameters](#Hyperparameters)\n",
    "* [Parts and Processes](#Parts-and-Processes)\n",
    "  * [Build initial word list](#Build-initial-word-list)\n",
    "  * [Abstraction Tree](#Abstraction-Tree)\n",
    "    * [Build initial abstraction tree](#Build-initial-abstraction-tree)\n",
    "    * [Grow abstraction tree](#Grow-abstraction-tree)\n",
    "    * [DIST2LEAF](#DIST2LEAF)\n",
    "    * [NUM_LEAVES](#NUM_LEAVES)\n",
    "  * [Display Tree](#Display-Tree)\n",
    "  * [Get Examples](#Get-Examples)\n",
    "    * [Find Positive Examples](#Find-Positive-Examples)\n",
    "    * [Find Negative Examples](#Find-Negative-Examples)\n",
    "  * [Train/Test Datasets](#Train/Test-Datasets)\n",
    "  * [Training](#Training)\n",
    "  * [Evaluate (Negative Examples)](#Evaluate-%28Negative-Examples%29)\n",
    "  * [Evaluate (vs other classifiers (distractors))](#Evaluate-%28vs-other-classifiers-%28distractors%29%29)\n",
    "* [TODO](#TODO)"
   ]
  },
  {
   "cell_type": "markdown",
   "id": "785b5313",
   "metadata": {},
   "source": [
    "# Conventions\n",
    "Some conventions used in this document.<br>\n",
    "<br>\n",
    "**bold** - A **bold** word represents an important concept or idea that may not be commonly known.<br>\n",
    "**code block** - A word inside a <code>code block</code> is a variable name.  These code blocks may also contain code within the program.<br>\n",
    "**(PFI)** - Possible Future Improvement - These are notes on ways we might improve upon some of the code/processes/ideas in the project.<br>\n",
    "<br>\n",
    "Most sections of this document correspond to some part of the code.  Often a section will begin with a code block containing a <code style=\"color:lightblue\"># Comment</code> or <code style=\"color:blue\">function()</code>.  These correspond to actual comments or functions in the code."
   ]
  },
  {
   "cell_type": "markdown",
   "id": "0562e95b",
   "metadata": {},
   "source": [
    "# Goal\n",
    "Create a set of abstract word embeddings from concrete word embeddings."
   ]
  },
  {
   "cell_type": "markdown",
   "id": "11e78aaa",
   "metadata": {},
   "source": [
    "# Datasets\n",
    "**wac** - A set of word embeddings generate from images.<br>\n",
    "**WordNet** - A network of words/concepts showing hypernym/hyponym relationships.<br>\n",
    "**Concreteness Ratings** - A list of words along with their concreteness ratings.<br>"
   ]
  },
  {
   "cell_type": "markdown",
   "id": "4a911ae9",
   "metadata": {},
   "source": [
    "# Hyperparameters\n",
    "`concreteness_threshold` - Words with a **Concreteness Rating** below this threshold will not be considered a concrete word.<br>\n",
    "`pos_count` - Number of positive examples we want for each classifier.<br>\n",
    "`neg_count` - Number of negative examples we want for each classifier.<br>\n",
    "`test_pct` - Percent of text examples during the train/test split."
   ]
  },
  {
   "cell_type": "markdown",
   "id": "d12020c0",
   "metadata": {},
   "source": [
    "# Parts and Processes"
   ]
  },
  {
   "cell_type": "markdown",
   "id": "ce277729",
   "metadata": {},
   "source": [
    "## Build initial word list\n",
    "We start with a list of words that are common among all three datasets.<br>\n",
    "Using **Concreteness Ratings** we then extract words at or above the <code>concreteness_threshold</code>.<br>\n",
    "Using **wac** we grab the embedding for each word.<br>\n",
    "Using **WordNet** we convert these words into concepts (aka **Synsets**).<br>\n",
    "All of this is put into a pandas DataFrame called `abstraction_tree`.<br>"
   ]
  },
  {
   "cell_type": "markdown",
   "id": "7a466a73",
   "metadata": {},
   "source": [
    "### Note: Words vs Concepts (Synsets)\n",
    "Every word can represent more than one concept.  Every concept can be represented by multiple words. For example, \"block\" and \"cube\" represent one concept, while \"block\" and \"obstruct\" represent a different concept.  We use the word \"block\" to represent two different concepts.  This can make talking about concepts difficult.  To make things easier, it would be nice if we could have a single word (or symbol) that represented a single concept.  This is where **Synsets** come in.\n",
    "\n",
    "A **Synset** (\"Synonym set\") is a symbol that represents a single concept in a one to one relationship.\n",
    "\n",
    "Because **WordNet** deals with concepts it uses these **Synsets** instead of words.\n",
    "\n",
    "**wac** contains a list of words (not concepts), so we must somehow match a word to one of its concepts.  To do this, we take the first Synset associated with a word in **WordNet**, and use that in our initial list of concrete concepts.  Because we only take the first concept, most other concepts are not being considered.  (PFI) It may be beneficial to find a way to use these other concepts as well."
   ]
  },
  {
   "cell_type": "markdown",
   "id": "99069d38",
   "metadata": {},
   "source": [
    "## Abstraction Tree\n",
    "Generally speaking the synsets in WordNet are organized into hypernym/hyponym relationships.  In general, a hypernym will be a more abstract concept than a hyponym.  And in an ideal world, every hyponym in WordNet will have a single hypernym that is more abstract.  And every hypernym will have a set of hyponyms that are more concrete.  In an ideal world, every hyponym will be in the set of its hypernym's hyponyms.  In an ideal world, there would be no loops in this structure.  But this is not the ideal world.\n",
    "\n",
    "This is where the idea of an **abstraction tree** comes in.  Our abstraction tree will clean up WordNet and form it into a sort of tree.  This tree will have concrete synsets as leaf nodes with branches being more abstract concepts based on the leaf nodes.\n",
    "\n",
    "Using this abstraction tree we can take an abstract concept and find a set of concrete concepts that are used to build it.  We can then take the embeddings of these concrete concepts to train a classifier and create an embedding for the more abstract concept."
   ]
  },
  {
   "cell_type": "markdown",
   "id": "ac7f75f6",
   "metadata": {},
   "source": [
    "### Build initial abstraction tree\n",
    "<code style=\"color:blue\">init_abstraction_tree(min_rating=8)</code><br>"
   ]
  },
  {
   "cell_type": "markdown",
   "id": "113f4ff8",
   "metadata": {},
   "source": [
    "<code style=\"color:lightblue\"># Get True Leaf Synsets</code><br>\n",
    "<code style=\"color:lightblue\"># Remove leaves that are ancestors of other leaves</code><br>\n",
    "Some of the concepts in our initial list (`leaf_synsets`) will have hypernyms that are also in the list.  We want to get rid of these hypernym concepts.  Even though they are considered \"concrete\" and have embeddings, we will treat them as more abstract, and build our own embeddings for them.\n",
    "\n",
    "(PFI) Is there a way to incorporate these into our system?"
   ]
  },
  {
   "cell_type": "markdown",
   "id": "8f08bd8a",
   "metadata": {},
   "source": [
    "<code style=\"color:lightblue\"># Remove leaves that have the same Synset</code><br>\n",
    "To make things easier, we make sure every leaf points to one and only one synset.  I tried to leave these in, but it increased the complexity of code further down the line, and I don't see a benefit to them.\n",
    "\n",
    "(PFI) Would there be a benefit to leaving these in?"
   ]
  },
  {
   "cell_type": "markdown",
   "id": "75c870f4",
   "metadata": {},
   "source": [
    "### Grow abstraction tree\n",
    "<code>grow_abstraction_tree(abstraction_tree)</code>\n",
    "\n",
    "Starting with the initial list of leaf nodes, we will build a list of more abstract concepts.\n",
    "\n",
    "**Strategy**<br>\n",
    "* Loop through the current list of synsets (`synset_list`).<br>\n",
    " * Find a hypernym for each.\n",
    " * If the hypernym is not in `synset_list`, add it to the `abstraction_tree` and `synset_list`.\n",
    " * Set the appropriate hypernyms and hyponyms\n",
    "</code>"
   ]
  },
  {
   "cell_type": "markdown",
   "id": "025e7b08",
   "metadata": {},
   "source": [
    "Note: We are adding to `synset_list` as we are looping through it.  This is generally frowned upon but in this case it makes for slightly cleaner code."
   ]
  },
  {
   "cell_type": "markdown",
   "id": "61675409",
   "metadata": {},
   "source": [
    "### DIST2LEAF\n",
    "<code style=\"color:lightblue\"># Set DIST2LEAF</code><br>\n",
    "This tracks the distance to the *furthest* leaf.  This indicates a sort of abstraction level, and is used to find negative examples."
   ]
  },
  {
   "cell_type": "code",
   "execution_count": 1,
   "id": "c35d2007",
   "metadata": {},
   "outputs": [
    {
     "data": {
      "image/svg+xml": [
       "<svg baseProfile=\"full\" height=\"168px\" preserveAspectRatio=\"xMidYMid meet\" style=\"font-family: times, serif; font-weight:normal; font-style: normal; font-size: 16px;\" version=\"1.1\" viewBox=\"0,0,120.0,168.0\" width=\"120px\" xmlns=\"http://www.w3.org/2000/svg\" xmlns:ev=\"http://www.w3.org/2001/xml-events\" xmlns:xlink=\"http://www.w3.org/1999/xlink\"><defs /><svg width=\"100%\" x=\"0\" y=\"0em\"><defs /><text text-anchor=\"middle\" x=\"50%\" y=\"1em\">3</text></svg><svg width=\"20%\" x=\"0%\" y=\"3em\"><defs /><svg width=\"100%\" x=\"0\" y=\"0em\"><defs /><text text-anchor=\"middle\" x=\"50%\" y=\"1em\">1</text></svg><svg width=\"100%\" x=\"0%\" y=\"3em\"><defs /><svg width=\"100%\" x=\"0\" y=\"0em\"><defs /><text text-anchor=\"middle\" x=\"50%\" y=\"1em\">0</text></svg></svg><line stroke=\"black\" x1=\"50%\" x2=\"50%\" y1=\"1.2em\" y2=\"3em\" /></svg><line stroke=\"black\" x1=\"50%\" x2=\"10%\" y1=\"1.2em\" y2=\"3em\" /><svg width=\"80%\" x=\"20%\" y=\"3em\"><defs /><svg width=\"100%\" x=\"0\" y=\"0em\"><defs /><text text-anchor=\"middle\" x=\"50%\" y=\"1em\">2</text></svg><svg width=\"25%\" x=\"0%\" y=\"3em\"><defs /><svg width=\"100%\" x=\"0\" y=\"0em\"><defs /><text text-anchor=\"middle\" x=\"50%\" y=\"1em\">0</text></svg></svg><line stroke=\"black\" x1=\"50%\" x2=\"12.5%\" y1=\"1.2em\" y2=\"3em\" /><svg width=\"25%\" x=\"25%\" y=\"3em\"><defs /><svg width=\"100%\" x=\"0\" y=\"0em\"><defs /><text text-anchor=\"middle\" x=\"50%\" y=\"1em\">0</text></svg></svg><line stroke=\"black\" x1=\"50%\" x2=\"37.5%\" y1=\"1.2em\" y2=\"3em\" /><svg width=\"50%\" x=\"50%\" y=\"3em\"><defs /><svg width=\"100%\" x=\"0\" y=\"0em\"><defs /><text text-anchor=\"middle\" x=\"50%\" y=\"1em\">1</text></svg><svg width=\"50%\" x=\"0%\" y=\"3em\"><defs /><svg width=\"100%\" x=\"0\" y=\"0em\"><defs /><text text-anchor=\"middle\" x=\"50%\" y=\"1em\">0</text></svg></svg><line stroke=\"black\" x1=\"50%\" x2=\"25%\" y1=\"1.2em\" y2=\"3em\" /><svg width=\"50%\" x=\"50%\" y=\"3em\"><defs /><svg width=\"100%\" x=\"0\" y=\"0em\"><defs /><text text-anchor=\"middle\" x=\"50%\" y=\"1em\">0</text></svg></svg><line stroke=\"black\" x1=\"50%\" x2=\"75%\" y1=\"1.2em\" y2=\"3em\" /></svg><line stroke=\"black\" x1=\"50%\" x2=\"75%\" y1=\"1.2em\" y2=\"3em\" /></svg><line stroke=\"black\" x1=\"50%\" x2=\"60%\" y1=\"1.2em\" y2=\"3em\" /></svg>"
      ],
      "text/plain": [
       "Tree('3', [Tree('1', ['0']), Tree('2', ['0', '0', Tree('1', ['0', '0'])])])"
      ]
     },
     "execution_count": 1,
     "metadata": {},
     "output_type": "execute_result"
    }
   ],
   "source": [
    "from nltk.tree import Tree\n",
    "Tree.fromstring('(3 (1 0) (2 0 0 (1 0 0)))')"
   ]
  },
  {
   "cell_type": "markdown",
   "id": "f268b14e",
   "metadata": {},
   "source": [
    "<code style=\"color:blue\">update_dist2leaf(synset, dist)</code><br>\n",
    "During grow_abstraction_tree(), when a hyponym is attached to a hypernym, we may need to update dist2leaf for the hypernyms up the chain."
   ]
  },
  {
   "cell_type": "code",
   "execution_count": 2,
   "id": "04241d7c",
   "metadata": {},
   "outputs": [
    {
     "data": {
      "image/svg+xml": [
       "<svg baseProfile=\"full\" height=\"120px\" preserveAspectRatio=\"xMidYMid meet\" style=\"font-family: times, serif; font-weight:normal; font-style: normal; font-size: 16px;\" version=\"1.1\" viewBox=\"0,0,80.0,120.0\" width=\"80px\" xmlns=\"http://www.w3.org/2000/svg\" xmlns:ev=\"http://www.w3.org/2001/xml-events\" xmlns:xlink=\"http://www.w3.org/1999/xlink\"><defs /><svg width=\"100%\" x=\"0\" y=\"0em\"><defs /><text text-anchor=\"middle\" x=\"50%\" y=\"1em\">2</text></svg><svg width=\"30%\" x=\"0%\" y=\"3em\"><defs /><svg width=\"100%\" x=\"0\" y=\"0em\"><defs /><text text-anchor=\"middle\" x=\"50%\" y=\"1em\">1</text></svg><svg width=\"100%\" x=\"0%\" y=\"3em\"><defs /><svg width=\"100%\" x=\"0\" y=\"0em\"><defs /><text text-anchor=\"middle\" x=\"50%\" y=\"1em\">0</text></svg></svg><line stroke=\"black\" x1=\"50%\" x2=\"50%\" y1=\"1.2em\" y2=\"3em\" /></svg><line stroke=\"black\" x1=\"50%\" x2=\"15%\" y1=\"1.2em\" y2=\"3em\" /><svg width=\"70%\" x=\"30%\" y=\"3em\"><defs /><svg width=\"100%\" x=\"0\" y=\"0em\"><defs /><text text-anchor=\"middle\" x=\"50%\" y=\"1em\">1</text></svg><svg width=\"42.8571%\" x=\"0%\" y=\"3em\"><defs /><svg width=\"100%\" x=\"0\" y=\"0em\"><defs /><text text-anchor=\"middle\" x=\"50%\" y=\"1em\">0</text></svg></svg><line stroke=\"black\" x1=\"50%\" x2=\"21.4286%\" y1=\"1.2em\" y2=\"3em\" /><svg width=\"57.1429%\" x=\"42.8571%\" y=\"3em\"><defs /><svg width=\"100%\" x=\"0\" y=\"0em\"><defs /><text text-anchor=\"middle\" x=\"50%\" y=\"1em\">0+</text></svg></svg><line stroke=\"black\" x1=\"50%\" x2=\"71.4286%\" y1=\"1.2em\" y2=\"3em\" /></svg><line stroke=\"black\" x1=\"50%\" x2=\"65%\" y1=\"1.2em\" y2=\"3em\" /></svg>"
      ],
      "text/plain": [
       "Tree('2', [Tree('1', ['0']), Tree('1', ['0', '0+'])])"
      ]
     },
     "metadata": {},
     "output_type": "display_data"
    },
    {
     "data": {
      "image/svg+xml": [
       "<svg baseProfile=\"full\" height=\"72px\" preserveAspectRatio=\"xMidYMid meet\" style=\"font-family: times, serif; font-weight:normal; font-style: normal; font-size: 16px;\" version=\"1.1\" viewBox=\"0,0,48.0,72.0\" width=\"48px\" xmlns=\"http://www.w3.org/2000/svg\" xmlns:ev=\"http://www.w3.org/2001/xml-events\" xmlns:xlink=\"http://www.w3.org/1999/xlink\"><defs /><svg width=\"100%\" x=\"0\" y=\"0em\"><defs /><text text-anchor=\"middle\" x=\"50%\" y=\"1em\">1</text></svg><svg width=\"50%\" x=\"0%\" y=\"3em\"><defs /><svg width=\"100%\" x=\"0\" y=\"0em\"><defs /><text text-anchor=\"middle\" x=\"50%\" y=\"1em\">0</text></svg></svg><line stroke=\"black\" x1=\"50%\" x2=\"25%\" y1=\"1.2em\" y2=\"3em\" /><svg width=\"50%\" x=\"50%\" y=\"3em\"><defs /><svg width=\"100%\" x=\"0\" y=\"0em\"><defs /><text text-anchor=\"middle\" x=\"50%\" y=\"1em\">0</text></svg></svg><line stroke=\"black\" x1=\"50%\" x2=\"75%\" y1=\"1.2em\" y2=\"3em\" /></svg>"
      ],
      "text/plain": [
       "Tree('1', ['0', '0'])"
      ]
     },
     "metadata": {},
     "output_type": "display_data"
    },
    {
     "data": {
      "image/svg+xml": [
       "<svg baseProfile=\"full\" height=\"168px\" preserveAspectRatio=\"xMidYMid meet\" style=\"font-family: times, serif; font-weight:normal; font-style: normal; font-size: 16px;\" version=\"1.1\" viewBox=\"0,0,120.0,168.0\" width=\"120px\" xmlns=\"http://www.w3.org/2000/svg\" xmlns:ev=\"http://www.w3.org/2001/xml-events\" xmlns:xlink=\"http://www.w3.org/1999/xlink\"><defs /><svg width=\"100%\" x=\"0\" y=\"0em\"><defs /><text text-anchor=\"middle\" x=\"50%\" y=\"1em\">3*</text></svg><svg width=\"20%\" x=\"0%\" y=\"3em\"><defs /><svg width=\"100%\" x=\"0\" y=\"0em\"><defs /><text text-anchor=\"middle\" x=\"50%\" y=\"1em\">1</text></svg><svg width=\"100%\" x=\"0%\" y=\"3em\"><defs /><svg width=\"100%\" x=\"0\" y=\"0em\"><defs /><text text-anchor=\"middle\" x=\"50%\" y=\"1em\">0</text></svg></svg><line stroke=\"black\" x1=\"50%\" x2=\"50%\" y1=\"1.2em\" y2=\"3em\" /></svg><line stroke=\"black\" x1=\"50%\" x2=\"10%\" y1=\"1.2em\" y2=\"3em\" /><svg width=\"80%\" x=\"20%\" y=\"3em\"><defs /><svg width=\"100%\" x=\"0\" y=\"0em\"><defs /><text text-anchor=\"middle\" x=\"50%\" y=\"1em\">2*</text></svg><svg width=\"25%\" x=\"0%\" y=\"3em\"><defs /><svg width=\"100%\" x=\"0\" y=\"0em\"><defs /><text text-anchor=\"middle\" x=\"50%\" y=\"1em\">0</text></svg></svg><line stroke=\"black\" x1=\"50%\" x2=\"12.5%\" y1=\"1.2em\" y2=\"3em\" /><svg width=\"25%\" x=\"25%\" y=\"3em\"><defs /><svg width=\"100%\" x=\"0\" y=\"0em\"><defs /><text text-anchor=\"middle\" x=\"50%\" y=\"1em\">0</text></svg></svg><line stroke=\"black\" x1=\"50%\" x2=\"37.5%\" y1=\"1.2em\" y2=\"3em\" /><svg width=\"50%\" x=\"50%\" y=\"3em\"><defs /><svg width=\"100%\" x=\"0\" y=\"0em\"><defs /><text text-anchor=\"middle\" x=\"50%\" y=\"1em\">1</text></svg><svg width=\"50%\" x=\"0%\" y=\"3em\"><defs /><svg width=\"100%\" x=\"0\" y=\"0em\"><defs /><text text-anchor=\"middle\" x=\"50%\" y=\"1em\">0</text></svg></svg><line stroke=\"black\" x1=\"50%\" x2=\"25%\" y1=\"1.2em\" y2=\"3em\" /><svg width=\"50%\" x=\"50%\" y=\"3em\"><defs /><svg width=\"100%\" x=\"0\" y=\"0em\"><defs /><text text-anchor=\"middle\" x=\"50%\" y=\"1em\">0</text></svg></svg><line stroke=\"black\" x1=\"50%\" x2=\"75%\" y1=\"1.2em\" y2=\"3em\" /></svg><line stroke=\"black\" x1=\"50%\" x2=\"75%\" y1=\"1.2em\" y2=\"3em\" /></svg><line stroke=\"black\" x1=\"50%\" x2=\"60%\" y1=\"1.2em\" y2=\"3em\" /></svg>"
      ],
      "text/plain": [
       "Tree('3*', [Tree('1', ['0']), Tree('2*', ['0', '0', Tree('1', ['0', '0'])])])"
      ]
     },
     "metadata": {},
     "output_type": "display_data"
    }
   ],
   "source": [
    "orig = Tree.fromstring('(2 (1 0) (1 0 0+))')\n",
    "new = Tree.fromstring('(1 0 0)')\n",
    "result = Tree.fromstring('(3* (1 0) (2* 0 0 (1 0 0)))')\n",
    "display(orig, new, result)"
   ]
  },
  {
   "cell_type": "markdown",
   "id": "bd35c1f2",
   "metadata": {},
   "source": [
    "### NUM_LEAVES\n",
    "<code style=\"color:lightblue\"># Set NUM_LEAVES</code><br>\n",
    "Each node will keep track of the number of leaves under it.  This will be used to determine if the node is a leaf, or if it can have a classifier (thus an embedding)."
   ]
  },
  {
   "cell_type": "code",
   "execution_count": 3,
   "id": "68b79b00",
   "metadata": {},
   "outputs": [
    {
     "data": {
      "image/svg+xml": [
       "<svg baseProfile=\"full\" height=\"168px\" preserveAspectRatio=\"xMidYMid meet\" style=\"font-family: times, serif; font-weight:normal; font-style: normal; font-size: 16px;\" version=\"1.1\" viewBox=\"0,0,192.0,168.0\" width=\"192px\" xmlns=\"http://www.w3.org/2000/svg\" xmlns:ev=\"http://www.w3.org/2001/xml-events\" xmlns:xlink=\"http://www.w3.org/1999/xlink\"><defs /><svg width=\"100%\" x=\"0\" y=\"0em\"><defs /><text text-anchor=\"middle\" x=\"50%\" y=\"1em\">6+</text></svg><svg width=\"16.6667%\" x=\"0%\" y=\"3em\"><defs /><svg width=\"100%\" x=\"0\" y=\"0em\"><defs /><text text-anchor=\"middle\" x=\"50%\" y=\"1em\">1</text></svg><svg width=\"100%\" x=\"0%\" y=\"3em\"><defs /><svg width=\"100%\" x=\"0\" y=\"0em\"><defs /><text text-anchor=\"middle\" x=\"50%\" y=\"1em\">1*</text></svg></svg><line stroke=\"black\" x1=\"50%\" x2=\"50%\" y1=\"1.2em\" y2=\"3em\" /></svg><line stroke=\"black\" x1=\"50%\" x2=\"8.33333%\" y1=\"1.2em\" y2=\"3em\" /><svg width=\"66.6667%\" x=\"16.6667%\" y=\"3em\"><defs /><svg width=\"100%\" x=\"0\" y=\"0em\"><defs /><text text-anchor=\"middle\" x=\"50%\" y=\"1em\">4+</text></svg><svg width=\"25%\" x=\"0%\" y=\"3em\"><defs /><svg width=\"100%\" x=\"0\" y=\"0em\"><defs /><text text-anchor=\"middle\" x=\"50%\" y=\"1em\">1*</text></svg></svg><line stroke=\"black\" x1=\"50%\" x2=\"12.5%\" y1=\"1.2em\" y2=\"3em\" /><svg width=\"25%\" x=\"25%\" y=\"3em\"><defs /><svg width=\"100%\" x=\"0\" y=\"0em\"><defs /><text text-anchor=\"middle\" x=\"50%\" y=\"1em\">1*</text></svg></svg><line stroke=\"black\" x1=\"50%\" x2=\"37.5%\" y1=\"1.2em\" y2=\"3em\" /><svg width=\"50%\" x=\"50%\" y=\"3em\"><defs /><svg width=\"100%\" x=\"0\" y=\"0em\"><defs /><text text-anchor=\"middle\" x=\"50%\" y=\"1em\">2</text></svg><svg width=\"50%\" x=\"0%\" y=\"3em\"><defs /><svg width=\"100%\" x=\"0\" y=\"0em\"><defs /><text text-anchor=\"middle\" x=\"50%\" y=\"1em\">1*</text></svg></svg><line stroke=\"black\" x1=\"50%\" x2=\"25%\" y1=\"1.2em\" y2=\"3em\" /><svg width=\"50%\" x=\"50%\" y=\"3em\"><defs /><svg width=\"100%\" x=\"0\" y=\"0em\"><defs /><text text-anchor=\"middle\" x=\"50%\" y=\"1em\">1*</text></svg></svg><line stroke=\"black\" x1=\"50%\" x2=\"75%\" y1=\"1.2em\" y2=\"3em\" /></svg><line stroke=\"black\" x1=\"50%\" x2=\"75%\" y1=\"1.2em\" y2=\"3em\" /></svg><line stroke=\"black\" x1=\"50%\" x2=\"50%\" y1=\"1.2em\" y2=\"3em\" /><svg width=\"16.6667%\" x=\"83.3333%\" y=\"3em\"><defs /><svg width=\"100%\" x=\"0\" y=\"0em\"><defs /><text text-anchor=\"middle\" x=\"50%\" y=\"1em\">1*</text></svg></svg><line stroke=\"black\" x1=\"50%\" x2=\"91.6667%\" y1=\"1.2em\" y2=\"3em\" /></svg>"
      ],
      "text/plain": [
       "Tree('6+', [Tree('1', ['1*']), Tree('4+', ['1*', '1*', Tree('2', ['1*', '1*'])]), '1*'])"
      ]
     },
     "execution_count": 3,
     "metadata": {},
     "output_type": "execute_result"
    }
   ],
   "source": [
    "Tree.fromstring('(6+ (1 1*) (4+ 1* 1* (2 1* 1*)) 1*)')"
   ]
  },
  {
   "cell_type": "markdown",
   "id": "580679fc",
   "metadata": {},
   "source": [
    "In the above example, using `pos_count=3`:<br>\n",
    "(**+**) - Indicates a node that will eventually have a classifier and embedding.<br>\n",
    "(**\\***) - Indicates a leaf node and will already contain an embedding, but no classifier.<br>\n",
    "All other nodes have too few leaves to contain a classifier and are not leaf nodes, so they will not have an embedding.<br>"
   ]
  },
  {
   "cell_type": "markdown",
   "id": "2f6a9dd3",
   "metadata": {},
   "source": [
    "## Display Tree\n",
    "<code style=\"color:blue\">build_display_tree(df, root_synset, char_limit=20, call_limit=500)</code><br>\n",
    "<code style=\"color:blue\">build_display_tree_safe(df, root_synset, char_limit=20)</code><br>\n",
    "\n",
    "Builds a display tree starting at the `root_synset`.\n",
    "\n",
    "The number of calls that can be made to <code style=\"color:blue\">build_display_tree_safe(df, root_synset, char_limit=20)</code> is limited by `display_tree_call_limit`.  This will keep the tree from growing too large.\n",
    "\n",
    "Building a tree with `concreteness_threshold = 9` will show a nice example."
   ]
  },
  {
   "cell_type": "markdown",
   "id": "00ff798c",
   "metadata": {},
   "source": [
    "## Get Examples"
   ]
  },
  {
   "cell_type": "markdown",
   "id": "eae284de",
   "metadata": {},
   "source": [
    "Now that we have an `abstraction_tree` we can use it to get a list of hyponym examples for each hypernym."
   ]
  },
  {
   "cell_type": "markdown",
   "id": "9055a399",
   "metadata": {},
   "source": [
    "### Find Positive Examples\n",
    "<code style=\"color:blue\">find_positive_examples(synset, depth=100)</code><br>\n",
    "Start by looking at the direct hyponyms for the synset.<br>\n",
    "Then, if there aren't enough nodes with embeddings (or capable of having an embedding), \"expand\" each node in the list by looking at the hyponyms under it.<br>\n",
    "Repeat these steps until we have a complete list of embedding capable nodes.<br>\n",
    "<br>\n",
    "Note: We know that a node is capable of having an embedding (and a set of examples) if `NUM_LEAVES` for the node is >= `pos_count`<br>\n",
    "<br>\n",
    "The following shows the first step of this process with `pos_count=3`.  'a' is the hypernym we are trying to find examples for, and nodes marked with (\\*) are examples currently in the list."
   ]
  },
  {
   "cell_type": "code",
   "execution_count": 4,
   "id": "c184b5ff",
   "metadata": {},
   "outputs": [
    {
     "data": {
      "image/svg+xml": [
       "<svg baseProfile=\"full\" height=\"168px\" preserveAspectRatio=\"xMidYMid meet\" style=\"font-family: times, serif; font-weight:normal; font-style: normal; font-size: 16px;\" version=\"1.1\" viewBox=\"0,0,160.0,168.0\" width=\"160px\" xmlns=\"http://www.w3.org/2000/svg\" xmlns:ev=\"http://www.w3.org/2001/xml-events\" xmlns:xlink=\"http://www.w3.org/1999/xlink\"><defs /><svg width=\"100%\" x=\"0\" y=\"0em\"><defs /><text text-anchor=\"middle\" x=\"50%\" y=\"1em\">a</text></svg><svg width=\"20%\" x=\"0%\" y=\"3em\"><defs /><svg width=\"100%\" x=\"0\" y=\"0em\"><defs /><text text-anchor=\"middle\" x=\"50%\" y=\"1em\">b*</text></svg><svg width=\"100%\" x=\"0%\" y=\"3em\"><defs /><svg width=\"100%\" x=\"0\" y=\"0em\"><defs /><text text-anchor=\"middle\" x=\"50%\" y=\"1em\">c</text></svg></svg><line stroke=\"black\" x1=\"50%\" x2=\"50%\" y1=\"1.2em\" y2=\"3em\" /></svg><line stroke=\"black\" x1=\"50%\" x2=\"10%\" y1=\"1.2em\" y2=\"3em\" /><svg width=\"60%\" x=\"20%\" y=\"3em\"><defs /><svg width=\"100%\" x=\"0\" y=\"0em\"><defs /><text text-anchor=\"middle\" x=\"50%\" y=\"1em\">d*</text></svg><svg width=\"25%\" x=\"0%\" y=\"3em\"><defs /><svg width=\"100%\" x=\"0\" y=\"0em\"><defs /><text text-anchor=\"middle\" x=\"50%\" y=\"1em\">e</text></svg></svg><line stroke=\"black\" x1=\"50%\" x2=\"12.5%\" y1=\"1.2em\" y2=\"3em\" /><svg width=\"25%\" x=\"25%\" y=\"3em\"><defs /><svg width=\"100%\" x=\"0\" y=\"0em\"><defs /><text text-anchor=\"middle\" x=\"50%\" y=\"1em\">f</text></svg></svg><line stroke=\"black\" x1=\"50%\" x2=\"37.5%\" y1=\"1.2em\" y2=\"3em\" /><svg width=\"50%\" x=\"50%\" y=\"3em\"><defs /><svg width=\"100%\" x=\"0\" y=\"0em\"><defs /><text text-anchor=\"middle\" x=\"50%\" y=\"1em\">g</text></svg><svg width=\"50%\" x=\"0%\" y=\"3em\"><defs /><svg width=\"100%\" x=\"0\" y=\"0em\"><defs /><text text-anchor=\"middle\" x=\"50%\" y=\"1em\">h</text></svg></svg><line stroke=\"black\" x1=\"50%\" x2=\"25%\" y1=\"1.2em\" y2=\"3em\" /><svg width=\"50%\" x=\"50%\" y=\"3em\"><defs /><svg width=\"100%\" x=\"0\" y=\"0em\"><defs /><text text-anchor=\"middle\" x=\"50%\" y=\"1em\">i</text></svg></svg><line stroke=\"black\" x1=\"50%\" x2=\"75%\" y1=\"1.2em\" y2=\"3em\" /></svg><line stroke=\"black\" x1=\"50%\" x2=\"75%\" y1=\"1.2em\" y2=\"3em\" /></svg><line stroke=\"black\" x1=\"50%\" x2=\"50%\" y1=\"1.2em\" y2=\"3em\" /><svg width=\"20%\" x=\"80%\" y=\"3em\"><defs /><svg width=\"100%\" x=\"0\" y=\"0em\"><defs /><text text-anchor=\"middle\" x=\"50%\" y=\"1em\">j*</text></svg></svg><line stroke=\"black\" x1=\"50%\" x2=\"90%\" y1=\"1.2em\" y2=\"3em\" /></svg>"
      ],
      "text/plain": [
       "Tree('a', [Tree('b*', ['c']), Tree('d*', ['e', 'f', Tree('g', ['h', 'i'])]), Tree('j*', [])])"
      ]
     },
     "execution_count": 4,
     "metadata": {},
     "output_type": "execute_result"
    }
   ],
   "source": [
    "Tree.fromstring('(a (b* c) (d* e f (g h i)) (j*))')"
   ]
  },
  {
   "cell_type": "markdown",
   "id": "9ad20502",
   "metadata": {},
   "source": [
    "Here we see we have three examples, but 'b' isn't capable of having an embedding, so we'll need to expand."
   ]
  },
  {
   "cell_type": "code",
   "execution_count": 5,
   "id": "80c1f01f",
   "metadata": {},
   "outputs": [
    {
     "data": {
      "image/svg+xml": [
       "<svg baseProfile=\"full\" height=\"168px\" preserveAspectRatio=\"xMidYMid meet\" style=\"font-family: times, serif; font-weight:normal; font-style: normal; font-size: 16px;\" version=\"1.1\" viewBox=\"0,0,176.0,168.0\" width=\"176px\" xmlns=\"http://www.w3.org/2000/svg\" xmlns:ev=\"http://www.w3.org/2001/xml-events\" xmlns:xlink=\"http://www.w3.org/1999/xlink\"><defs /><svg width=\"100%\" x=\"0\" y=\"0em\"><defs /><text text-anchor=\"middle\" x=\"50%\" y=\"1em\">a</text></svg><svg width=\"18.1818%\" x=\"0%\" y=\"3em\"><defs /><svg width=\"100%\" x=\"0\" y=\"0em\"><defs /><text text-anchor=\"middle\" x=\"50%\" y=\"1em\">b</text></svg><svg width=\"100%\" x=\"0%\" y=\"3em\"><defs /><svg width=\"100%\" x=\"0\" y=\"0em\"><defs /><text text-anchor=\"middle\" x=\"50%\" y=\"1em\">c*</text></svg></svg><line stroke=\"black\" x1=\"50%\" x2=\"50%\" y1=\"1.2em\" y2=\"3em\" /></svg><line stroke=\"black\" x1=\"50%\" x2=\"9.09091%\" y1=\"1.2em\" y2=\"3em\" /><svg width=\"63.6364%\" x=\"18.1818%\" y=\"3em\"><defs /><svg width=\"100%\" x=\"0\" y=\"0em\"><defs /><text text-anchor=\"middle\" x=\"50%\" y=\"1em\">d</text></svg><svg width=\"28.5714%\" x=\"0%\" y=\"3em\"><defs /><svg width=\"100%\" x=\"0\" y=\"0em\"><defs /><text text-anchor=\"middle\" x=\"50%\" y=\"1em\">e*</text></svg></svg><line stroke=\"black\" x1=\"50%\" x2=\"14.2857%\" y1=\"1.2em\" y2=\"3em\" /><svg width=\"28.5714%\" x=\"28.5714%\" y=\"3em\"><defs /><svg width=\"100%\" x=\"0\" y=\"0em\"><defs /><text text-anchor=\"middle\" x=\"50%\" y=\"1em\">f*</text></svg></svg><line stroke=\"black\" x1=\"50%\" x2=\"42.8571%\" y1=\"1.2em\" y2=\"3em\" /><svg width=\"42.8571%\" x=\"57.1429%\" y=\"3em\"><defs /><svg width=\"100%\" x=\"0\" y=\"0em\"><defs /><text text-anchor=\"middle\" x=\"50%\" y=\"1em\">g*</text></svg><svg width=\"50%\" x=\"0%\" y=\"3em\"><defs /><svg width=\"100%\" x=\"0\" y=\"0em\"><defs /><text text-anchor=\"middle\" x=\"50%\" y=\"1em\">h</text></svg></svg><line stroke=\"black\" x1=\"50%\" x2=\"25%\" y1=\"1.2em\" y2=\"3em\" /><svg width=\"50%\" x=\"50%\" y=\"3em\"><defs /><svg width=\"100%\" x=\"0\" y=\"0em\"><defs /><text text-anchor=\"middle\" x=\"50%\" y=\"1em\">i</text></svg></svg><line stroke=\"black\" x1=\"50%\" x2=\"75%\" y1=\"1.2em\" y2=\"3em\" /></svg><line stroke=\"black\" x1=\"50%\" x2=\"78.5714%\" y1=\"1.2em\" y2=\"3em\" /></svg><line stroke=\"black\" x1=\"50%\" x2=\"50%\" y1=\"1.2em\" y2=\"3em\" /><svg width=\"18.1818%\" x=\"81.8182%\" y=\"3em\"><defs /><svg width=\"100%\" x=\"0\" y=\"0em\"><defs /><text text-anchor=\"middle\" x=\"50%\" y=\"1em\">j*</text></svg></svg><line stroke=\"black\" x1=\"50%\" x2=\"90.9091%\" y1=\"1.2em\" y2=\"3em\" /></svg>"
      ],
      "text/plain": [
       "Tree('a', [Tree('b', ['c*']), Tree('d', ['e*', 'f*', Tree('g*', ['h', 'i'])]), Tree('j*', [])])"
      ]
     },
     "execution_count": 5,
     "metadata": {},
     "output_type": "execute_result"
    }
   ],
   "source": [
    "Tree.fromstring('(a (b c*) (d e* f* (g* h i)) (j*))')"
   ]
  },
  {
   "cell_type": "markdown",
   "id": "e87462de",
   "metadata": {},
   "source": [
    "Here, 'j' wasn't able to expand, so we stay there.  'b' was able to expand to 'c'. And 'd' expended to 'e', 'f', and 'g'.  This is 5 nodes, but we notice 'g' isn't capable of having an embedding, so the final results is 4 nodes ('c', 'e', 'f', and 'j').<br>\n",
    "<br>\n",
    "Note, this is more than `pos_count`.  When we are looking for positive examples, we will sometimes get more than we are looking for (but never less)."
   ]
  },
  {
   "cell_type": "markdown",
   "id": "485da521",
   "metadata": {},
   "source": [
    "### Find Negative Examples\n",
    "<code style=\"color:blue\">find_negative_examples(synset, pos_examples)</code><br>\n",
    "This one is a little different than finding positive examples.<br>\n",
    "<br>\n",
    "We start by getting a list of all the possible synsets.<br>\n",
    "Then we remove any synset that isn't capable of having an embedding.<br>\n",
    "Then we remove any synset that is more abstract (has a larger `DIST2LEAF`) than the one we're looking at.<br>\n",
    " - Note: This is important for the training step.  We can't use a synset that doesn't have an embedding yet.\n",
    " - (PFI) Should we consider other ways to define abstractness?<br>\n",
    " - (PFI) Should we even be removing more abstract examples?<br>\n",
    " \n",
    "Then we remove the positive example from the list.<br>\n",
    " - (PFI) Should we remove *every* hyponym under the synset, or just the ones used in the positive example?<br>\n",
    "\n",
    "We now have a set of examples we can randomly pull from.\n"
   ]
  },
  {
   "cell_type": "markdown",
   "id": "9160a9e8",
   "metadata": {},
   "source": [
    "## Train/Test Datasets\n",
    "<code style=\"color:lightblue\"># Build Train/Test datasets</code><br>\n",
    "<code style=\"color:blue\">fill_out_train_test()</code><br>\n",
    "Here we take the list of positive and negative examples we found earlier and construct train and test sets.  We are storing these sets in `abstraction_tree` for ease of use.<br>\n",
    "<br>\n",
    "Note: The `y` values are 1's or 0's, however, the `X` values are synsets, not the actual embeddings.  We don't have embeddings for the abstract synsets yet.  We will get these during training."
   ]
  },
  {
   "cell_type": "markdown",
   "id": "9e8dd365",
   "metadata": {},
   "source": [
    "## Training\n",
    "<code style=\"color:lightblue\"># Train</code><br>\n",
    "<code style=\"color:blue\">build_classifiers()</code><br>\n",
    "We need to build classifiers for each of our abstract synsets.  Once the classifier is built, we will grab the coefficients to use as the embedding for the synset.<br>\n",
    "<br>\n",
    "Problem: Some hypernyms have examples that are not leaf synsets.  These non-leaf synsets will not start out with an embedding.  So how do we make sure they have an embedding before their hypernyms?<br>\n",
    "<br>\n",
    "Solution: We start with our least abstract synset and work our way up.  This will guarantee all examples will have an embedding by the time we need to use them in a classifier."
   ]
  },
  {
   "cell_type": "markdown",
   "id": "c2313a0d",
   "metadata": {},
   "source": [
    "## Evaluate (Negative Examples)\n",
    "There are a few ways to evaluate our new classifiers.<br>\n",
    "The first is by evaluating each classifier individually using its `X_TEST` and `Y_TEST` sets.<br>\n",
    "<br>\n",
    "<code style=\"color:lightblue\"># Random Baseline (For a single classifier)</code><br>\n",
    "Because each hypernym has a different number of positive and negative sets, we'll have to go through and count each to determine what the random baseline is.<br>\n",
    "At the time of this writing it's 0.35.<br>\n",
    "In general this will be close to the ration `pos_count / (neg_count + pos_count)`<br>\n",
    "<br>\n",
    "<code style=\"color:lightblue\"># Most Common Baseline (For a single classifier)</code><br>\n",
    "Because of the nature of binary classifiers, the most common baseline will just be 1-random_baseline.<br>\n",
    "TODO: verify this<br>\n",
    "At the time of this writing it's 0.65.<br>\n",
    "<br>\n",
    "<code style=\"color:lightblue\"># Evaluate (vs negative examples)</code><br>\n",
    "Run through all classifiers to test them and get a final accuracy score.<br>\n",
    "At the time of this writing it's 0.76666...<br>\n",
    "This is beating the baseline so that's good."
   ]
  },
  {
   "cell_type": "markdown",
   "id": "d85cb444",
   "metadata": {},
   "source": [
    "## Evaluate (vs other classifiers (distractors))\n",
    "<code style=\"color:lightblue\"># Evaluate (vs other classifiers)</code><br>\n",
    "This evaluation method will pit a classifier against a number of distractor classifiers.  The classifier that assigns the highest score is the winner.  Idealy we'll want the \"gold\" classifier to win (`gold_ss`).<br>\n",
    "<br>\n",
    "<code style=\"color:blue\">test_classifier_single(x_ss, gold_ss, num_distractors=5)</code><br>\n",
    "This will run a single test.  Given one positive example (`x_ss`) and a gold classifier (`gold_ss`) will the gold classifier be able to beat a number of distractors?<br>\n",
    "<br>\n",
    "Note: The \\_ss part of `x_ss` and `gold_ss` indicates that these are synsets.  This function will look in `abstraction_tree` to find the appropriate embedding and classifier.<br>\n",
    "<br>\n",
    "Note: Some distractor classifiers might have `x_ss` as a positive example.  Some have even been trained on `x_ss`.  For this reason we'll need to disqualify these distractors.<br>\n",
    "<br>\n",
    "Note: We return `score` (1 or 0) along with the number of possible options (number of distractors + 1).  This will be used later to get a final score and calculate a baseline.<br>\n",
    "<br>\n",
    "(PFI) Is there a better way to do any of this?<br>\n",
    "<br>\n",
    "<code style=\"color:blue\">test_classifier_full(gold_ss, num_distractors=5)</code><br>\n",
    "This function will run through all positive `X_TEST` examples of a synset and evaluate its classifier vs some distractors using `test_classifier_single()`<br>\n",
    "<br>\n",
    "<code style=\"color:lightblue\"># Evaluate (vs other classifiers)</code><br>\n",
    "This is code that will run through all calssifiers and test them to get some final grand score.<br>\n",
    "At the time of this writing, this is still a work in progress.<br>\n",
    "TODO: Make this into a function."
   ]
  },
  {
   "cell_type": "markdown",
   "id": "fa503bd1",
   "metadata": {},
   "source": [
    "# TODO\n",
    "* Put all of this into a nice neat little class to help with testing hyperparameters.\n",
    "* Run through more tests.\n",
    "* Find a good way to display test results.\n",
    "* Convert the synsets into words with their embeddings?\n",
    " * Test these new word embeddings?"
   ]
  },
  {
   "cell_type": "code",
   "execution_count": null,
   "id": "af94fcb7",
   "metadata": {},
   "outputs": [],
   "source": []
  }
 ],
 "metadata": {
  "kernelspec": {
   "display_name": "Python 3 (ipykernel)",
   "language": "python",
   "name": "python3"
  },
  "language_info": {
   "codemirror_mode": {
    "name": "ipython",
    "version": 3
   },
   "file_extension": ".py",
   "mimetype": "text/x-python",
   "name": "python",
   "nbconvert_exporter": "python",
   "pygments_lexer": "ipython3",
   "version": "3.11.2"
  }
 },
 "nbformat": 4,
 "nbformat_minor": 5
}
