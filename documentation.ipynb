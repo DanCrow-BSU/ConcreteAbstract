{
 "cells": [
  {
   "cell_type": "raw",
   "id": "9d587963",
   "metadata": {},
   "source": [
    "We start with three datasets:\n",
    "[wac2vec]\n",
    "[WordNet]\n",
    "[Concretness Ratings]\n"
   ]
  }
 ],
 "metadata": {
  "kernelspec": {
   "display_name": "Python 3",
   "language": "python",
   "name": "python3"
  },
  "language_info": {
   "codemirror_mode": {
    "name": "ipython",
    "version": 3
   },
   "file_extension": ".py",
   "mimetype": "text/x-python",
   "name": "python",
   "nbconvert_exporter": "python",
   "pygments_lexer": "ipython3",
   "version": "3.9.16"
  }
 },
 "nbformat": 4,
 "nbformat_minor": 5
}
