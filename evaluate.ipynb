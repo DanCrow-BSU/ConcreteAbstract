{
 "cells": [
  {
   "cell_type": "code",
   "execution_count": 1,
   "id": "40026bc3",
   "metadata": {},
   "outputs": [],
   "source": [
    "from nltk.corpus import wordnet as wn\n",
    "import os\n",
    "import pickle\n",
    "import matplotlib.pyplot as plt\n",
    "import numpy as np\n",
    "from concreteabstract import ConcreteAbstract\n",
    "from collections import Counter"
   ]
  },
  {
   "cell_type": "code",
   "execution_count": 2,
   "id": "d8be6468",
   "metadata": {},
   "outputs": [],
   "source": [
    "# Hyperparameters\n",
    "\n",
    "concreteness_threshold = 4\n",
    "\n",
    "# Number of positive examples we want for each classifier\n",
    "pos_count = 5\n",
    "neg_count = 10\n",
    "\n",
    "test_pct = 0.3\n",
    "\n",
    "embedding_file = 'ddata/clip.bertvocab.embeddings.513.txt'\n",
    "embedding_pickle = 'ddata/clip.bertvocab.embeddings.513.pkl'\n",
    "concreteness_file = 'ddata/AC_ratings_google3m_koeper_SiW.csv'\n",
    "concreteness_pickle = 'ddata/AC_ratings_google3m_koeper_SiW.pkl'"
   ]
  },
  {
   "cell_type": "code",
   "execution_count": 3,
   "id": "d2b2b682",
   "metadata": {},
   "outputs": [
    {
     "data": {
      "text/plain": [
       "30522"
      ]
     },
     "execution_count": 3,
     "metadata": {},
     "output_type": "execute_result"
    }
   ],
   "source": [
    "# wac2vec\n",
    "\n",
    "if os.path.isfile(embedding_pickle):\n",
    "    wac2vec = pickle.load(open(embedding_pickle, 'rb'))\n",
    "else:\n",
    "    with open(embedding_file) as f:\n",
    "        f = f.readlines()\n",
    "        f = [line.split() for line in f]\n",
    "        wac2vec = {line[0]:np.array(line[1:], dtype=np.float64) for line in f}\n",
    "        pickle.dump(wac2vec, open(embedding_pickle, \"wb\" ))\n",
    "\n",
    "len(wac2vec)"
   ]
  },
  {
   "cell_type": "code",
   "execution_count": 4,
   "id": "88e7796f",
   "metadata": {},
   "outputs": [
    {
     "data": {
      "text/plain": [
       "2168990"
      ]
     },
     "execution_count": 4,
     "metadata": {},
     "output_type": "execute_result"
    }
   ],
   "source": [
    "# concr_scores\n",
    "\n",
    "if os.path.isfile(concreteness_pickle):\n",
    "    concr_scores = pickle.load(open(concreteness_pickle, 'rb'))\n",
    "else:\n",
    "    concr_scores = pd.read_csv(concreteness_file, delimiter='\\t')\n",
    "    concr_scores = concr_scores.dropna()\n",
    "    concr_scores.WORD = concr_scores.WORD.apply(lambda x: x.replace(\"_\", \" \"))\n",
    "    concr_scores.index = concr_scores.WORD\n",
    "    pickle.dump(concr_scores, open(concreteness_pickle, \"wb\" ))\n",
    "\n",
    "len(concr_scores)"
   ]
  },
  {
   "cell_type": "code",
   "execution_count": 5,
   "id": "2be99dd9",
   "metadata": {},
   "outputs": [
    {
     "name": "stdout",
     "output_type": "stream",
     "text": [
      "Initiate Abstraction Tree\n"
     ]
    },
    {
     "data": {
      "application/vnd.jupyter.widget-view+json": {
       "model_id": "23146c67ccfc47ba882052cddc8df945",
       "version_major": 2,
       "version_minor": 0
      },
      "text/plain": [
       "  0%|          | 0/14510 [00:00<?, ?it/s]"
      ]
     },
     "metadata": {},
     "output_type": "display_data"
    },
    {
     "name": "stdout",
     "output_type": "stream",
     "text": [
      "Grow Abstraction Tree\n"
     ]
    },
    {
     "data": {
      "application/vnd.jupyter.widget-view+json": {
       "model_id": "a43e928e52f249ee99e65211accb42ac",
       "version_major": 2,
       "version_minor": 0
      },
      "text/plain": [
       "  0%|          | 0/4861 [00:00<?, ?it/s]"
      ]
     },
     "metadata": {},
     "output_type": "display_data"
    },
    {
     "name": "stdout",
     "output_type": "stream",
     "text": [
      "Add Positive and Negative examples\n"
     ]
    },
    {
     "data": {
      "application/vnd.jupyter.widget-view+json": {
       "model_id": "5e45cde002a6477e8946728d511ea5de",
       "version_major": 2,
       "version_minor": 0
      },
      "text/plain": [
       "  0%|          | 0/583 [00:00<?, ?it/s]"
      ]
     },
     "metadata": {},
     "output_type": "display_data"
    },
    {
     "name": "stdout",
     "output_type": "stream",
     "text": [
      "Fill out Train and Test sets\n"
     ]
    },
    {
     "data": {
      "application/vnd.jupyter.widget-view+json": {
       "model_id": "131dd663bc8e45cab70bf192f5aef323",
       "version_major": 2,
       "version_minor": 0
      },
      "text/plain": [
       "  0%|          | 0/583 [00:00<?, ?it/s]"
      ]
     },
     "metadata": {},
     "output_type": "display_data"
    },
    {
     "name": "stdout",
     "output_type": "stream",
     "text": [
      "Build Classifiers\n"
     ]
    },
    {
     "data": {
      "application/vnd.jupyter.widget-view+json": {
       "model_id": "583770f3932144dfb14434679f74a648",
       "version_major": 2,
       "version_minor": 0
      },
      "text/plain": [
       "  0%|          | 0/583 [00:00<?, ?it/s]"
      ]
     },
     "metadata": {},
     "output_type": "display_data"
    },
    {
     "name": "stdout",
     "output_type": "stream",
     "text": [
      "Done\n"
     ]
    },
    {
     "data": {
      "application/vnd.jupyter.widget-view+json": {
       "model_id": "7fb3b4e19250411f8ae38a6ca03b2f53",
       "version_major": 2,
       "version_minor": 0
      },
      "text/plain": [
       "  0%|          | 0/583 [00:00<?, ?it/s]"
      ]
     },
     "metadata": {},
     "output_type": "display_data"
    },
    {
     "name": "stdout",
     "output_type": "stream",
     "text": [
      "score:     0.3002724795640327\n",
      "baseline:  0.0919569030318216\n"
     ]
    }
   ],
   "source": [
    "ca = ConcreteAbstract(wac2vec, concr_scores, wn, pos_count=pos_count, neg_count=neg_count)\n",
    "ca.build_all(min_rating=concreteness_threshold, test_pct=test_pct, verbose=True)\n",
    "score, rand_baseline = ca.evaluate_vs_distractors(10)\n",
    "print(\"score:    \", score)\n",
    "print(\"baseline: \", rand_baseline)"
   ]
  },
  {
   "cell_type": "code",
   "execution_count": 6,
   "id": "9d616053",
   "metadata": {},
   "outputs": [],
   "source": [
    "ca.set_verbose(False)"
   ]
  },
  {
   "cell_type": "markdown",
   "id": "8154a04a",
   "metadata": {},
   "source": [
    "#### Evaluate (vs negative examples) "
   ]
  },
  {
   "cell_type": "code",
   "execution_count": 7,
   "id": "e556b0f7",
   "metadata": {},
   "outputs": [
    {
     "data": {
      "text/plain": [
       "0.5172566764262265"
      ]
     },
     "execution_count": 7,
     "metadata": {},
     "output_type": "execute_result"
    }
   ],
   "source": [
    "ca.comp_most_common_baseline()"
   ]
  },
  {
   "cell_type": "code",
   "execution_count": 8,
   "id": "f72281ab",
   "metadata": {},
   "outputs": [
    {
     "data": {
      "text/plain": [
       "0.6612814895947426"
      ]
     },
     "execution_count": 8,
     "metadata": {},
     "output_type": "execute_result"
    }
   ],
   "source": [
    "ca.evaluate_vs_negative_examples()"
   ]
  },
  {
   "cell_type": "markdown",
   "id": "fdee1915",
   "metadata": {},
   "source": [
    "#### Evaluate (vs other classifiers) (i.e. Distractors)"
   ]
  },
  {
   "cell_type": "code",
   "execution_count": 9,
   "id": "f80d000c",
   "metadata": {},
   "outputs": [],
   "source": [
    "X = range(2, 20)"
   ]
  },
  {
   "cell_type": "code",
   "execution_count": 10,
   "id": "6f014eac",
   "metadata": {},
   "outputs": [],
   "source": [
    "scores_baselines = [ca.evaluate_vs_distractors(x) for x in X]"
   ]
  },
  {
   "cell_type": "code",
   "execution_count": 11,
   "id": "a8f0bd60",
   "metadata": {},
   "outputs": [],
   "source": [
    "scores, baselines = zip(*scores_baselines)"
   ]
  },
  {
   "cell_type": "code",
   "execution_count": 12,
   "id": "ec4de15a",
   "metadata": {},
   "outputs": [
    {
     "data": {
      "image/png": "[encoded data removed]",
      "text/plain": [
       "<Figure size 720x576 with 1 Axes>"
      ]
     },
     "metadata": {
      "needs_background": "light"
     },
     "output_type": "display_data"
    }
   ],
   "source": [
    "SMALL_SIZE = 8\n",
    "MEDIUM_SIZE = 15\n",
    "BIGGER_SIZE = 20\n",
    "\n",
    "plt.rc('font', size=MEDIUM_SIZE)          # controls default text sizes\n",
    "plt.rc('axes', titlesize=MEDIUM_SIZE)     # fontsize of the axes title\n",
    "plt.rc('axes', labelsize=MEDIUM_SIZE)    # fontsize of the x and y labels\n",
    "plt.rc('xtick', labelsize=MEDIUM_SIZE)    # fontsize of the tick labels\n",
    "plt.rc('ytick', labelsize=MEDIUM_SIZE)    # fontsize of the tick labels\n",
    "plt.rc('legend', fontsize=MEDIUM_SIZE)    # legend fontsize\n",
    "plt.rc('figure', titlesize=MEDIUM_SIZE)  # fontsize of the figure title\n",
    "\n",
    "plt.figure(figsize=(10,8))\n",
    "plt.plot(X, scores, label=\"accuracy\")\n",
    "plt.plot(X, baselines, '-.', label=\"baseline\")\n",
    "plt.title('classifier v.s. distractors')\n",
    "plt.ylabel('accuracy')\n",
    "plt.xlabel('number of distractors')\n",
    "plt.legend(loc=\"upper right\")\n",
    "plt.show()"
   ]
  },
  {
   "cell_type": "code",
   "execution_count": 13,
   "id": "55234356",
   "metadata": {},
   "outputs": [
    {
     "data": {
      "text/plain": [
       "0.22343324250681199"
      ]
     },
     "execution_count": 13,
     "metadata": {},
     "output_type": "execute_result"
    }
   ],
   "source": [
    "scores[-1]"
   ]
  },
  {
   "cell_type": "code",
   "execution_count": 14,
   "id": "bb8f53e6",
   "metadata": {},
   "outputs": [
    {
     "data": {
      "text/plain": [
       "0.05087048125970282"
      ]
     },
     "execution_count": 14,
     "metadata": {},
     "output_type": "execute_result"
    }
   ],
   "source": [
    "baselines[-1]"
   ]
  },
  {
   "cell_type": "code",
   "execution_count": 15,
   "id": "ba0fb1cb",
   "metadata": {},
   "outputs": [],
   "source": [
    "# High vs Low abstractness"
   ]
  },
  {
   "cell_type": "code",
   "execution_count": 16,
   "id": "744229a8",
   "metadata": {},
   "outputs": [
    {
     "data": {
      "text/plain": [
       "372"
      ]
     },
     "execution_count": 16,
     "metadata": {},
     "output_type": "execute_result"
    }
   ],
   "source": [
    "# Number of Classifiers (Low)\n",
    "len(ca._get_all_classifiers(min_leaf_dist=0, max_leaf_dist=4))"
   ]
  },
  {
   "cell_type": "code",
   "execution_count": 17,
   "id": "ed93fba6",
   "metadata": {},
   "outputs": [],
   "source": [
    "scores_baselines_low = [ca.evaluate_vs_distractors(x, min_leaf_dist=0, max_leaf_dist=4) for x in X]"
   ]
  },
  {
   "cell_type": "code",
   "execution_count": 18,
   "id": "770bcfe3",
   "metadata": {},
   "outputs": [],
   "source": [
    "scores_low, baselines_low = zip(*scores_baselines_low)"
   ]
  },
  {
   "cell_type": "code",
   "execution_count": 19,
   "id": "992500fe",
   "metadata": {},
   "outputs": [
    {
     "data": {
      "text/plain": [
       "211"
      ]
     },
     "execution_count": 19,
     "metadata": {},
     "output_type": "execute_result"
    }
   ],
   "source": [
    "# Number of Classifiers (High)\n",
    "len(ca._get_all_classifiers(min_leaf_dist=5, max_leaf_dist=50))"
   ]
  },
  {
   "cell_type": "code",
   "execution_count": 20,
   "id": "088c604e",
   "metadata": {},
   "outputs": [],
   "source": [
    "scores_baselines_high = [ca.evaluate_vs_distractors(x, min_leaf_dist=5, max_leaf_dist=50) for x in X]"
   ]
  },
  {
   "cell_type": "code",
   "execution_count": 21,
   "id": "9a8baf49",
   "metadata": {},
   "outputs": [],
   "source": [
    "scores_high, baselines_high = zip(*scores_baselines_high)"
   ]
  },
  {
   "cell_type": "code",
   "execution_count": 22,
   "id": "c4004178",
   "metadata": {},
   "outputs": [
    {
     "data": {
      "image/png": "[encoded data removed]",
      "text/plain": [
       "<Figure size 720x576 with 1 Axes>"
      ]
     },
     "metadata": {
      "needs_background": "light"
     },
     "output_type": "display_data"
    }
   ],
   "source": [
    "SMALL_SIZE = 8\n",
    "MEDIUM_SIZE = 15\n",
    "BIGGER_SIZE = 20\n",
    "\n",
    "plt.rc('font', size=MEDIUM_SIZE)          # controls default text sizes\n",
    "plt.rc('axes', titlesize=MEDIUM_SIZE)     # fontsize of the axes title\n",
    "plt.rc('axes', labelsize=MEDIUM_SIZE)    # fontsize of the x and y labels\n",
    "plt.rc('xtick', labelsize=MEDIUM_SIZE)    # fontsize of the tick labels\n",
    "plt.rc('ytick', labelsize=MEDIUM_SIZE)    # fontsize of the tick labels\n",
    "plt.rc('legend', fontsize=MEDIUM_SIZE)    # legend fontsize\n",
    "plt.rc('figure', titlesize=MEDIUM_SIZE)  # fontsize of the figure title\n",
    "\n",
    "plt.figure(figsize=(10,8))\n",
    "\n",
    "plt.plot(X, scores_high, label=\"high (5+)\")\n",
    "plt.plot(X, scores_low, label=\"low (4-)\")\n",
    "plt.plot(X, baselines_low, '-.', label=\"baseline low\")\n",
    "plt.plot(X, baselines_high, '-.', label=\"baseline high\")\n",
    "plt.title('high v.s. low abstractness (leaf distance)')\n",
    "plt.ylabel('accuracy')\n",
    "plt.xlabel('number of distractors')\n",
    "plt.legend(loc=\"upper right\")\n",
    "plt.show()\n",
    "plt.show()"
   ]
  },
  {
   "cell_type": "code",
   "execution_count": null,
   "id": "1b7db0d4",
   "metadata": {},
   "outputs": [],
   "source": []
  },
  {
   "cell_type": "code",
   "execution_count": 23,
   "id": "1ff879ae",
   "metadata": {},
   "outputs": [
    {
     "data": {
      "image/svg+xml": [
       "<svg baseProfile=\"full\" height=\"216px\" preserveAspectRatio=\"xMidYMid meet\" style=\"font-family: times, serif; font-weight:normal; font-style: normal; font-size: 16px;\" version=\"1.1\" viewBox=\"0,0,984.0,216.0\" width=\"984px\" xmlns=\"http://www.w3.org/2000/svg\" xmlns:ev=\"http://www.w3.org/2001/xml-events\" xmlns:xlink=\"http://www.w3.org/1999/xlink\"><defs /><svg width=\"100%\" x=\"0\" y=\"0em\"><defs /><text text-anchor=\"middle\" x=\"50%\" y=\"1em\">color</text></svg><svg width=\"9.7561%\" x=\"0%\" y=\"3em\"><defs /><svg width=\"100%\" x=\"0\" y=\"0em\"><defs /><text text-anchor=\"middle\" x=\"50%\" y=\"1em\">complexion</text></svg></svg><line stroke=\"black\" x1=\"50%\" x2=\"4.87805%\" y1=\"1.2em\" y2=\"3em\" /><svg width=\"75.6098%\" x=\"9.7561%\" y=\"3em\"><defs /><svg width=\"100%\" x=\"0\" y=\"0em\"><defs /><text text-anchor=\"middle\" x=\"50%\" y=\"1em\">chromatic_color</text></svg><svg width=\"7.52688%\" x=\"0%\" y=\"3em\"><defs /><svg width=\"100%\" x=\"0\" y=\"0em\"><defs /><text text-anchor=\"middle\" x=\"50%\" y=\"1em\">green</text></svg></svg><line stroke=\"black\" x1=\"50%\" x2=\"3.76344%\" y1=\"1.2em\" y2=\"3em\" /><svg width=\"8.60215%\" x=\"7.52688%\" y=\"3em\"><defs /><svg width=\"100%\" x=\"0\" y=\"0em\"><defs /><text text-anchor=\"middle\" x=\"50%\" y=\"1em\">purple</text></svg></svg><line stroke=\"black\" x1=\"50%\" x2=\"11.828%\" y1=\"1.2em\" y2=\"3em\" /><svg width=\"30.1075%\" x=\"16.129%\" y=\"3em\"><defs /><svg width=\"100%\" x=\"0\" y=\"0em\"><defs /><text text-anchor=\"middle\" x=\"50%\" y=\"1em\">red</text></svg><svg width=\"35.7143%\" x=\"0%\" y=\"3em\"><defs /><svg width=\"100%\" x=\"0\" y=\"0em\"><defs /><text text-anchor=\"middle\" x=\"50%\" y=\"1em\">cardinal</text></svg></svg><line stroke=\"black\" x1=\"50%\" x2=\"17.8571%\" y1=\"1.2em\" y2=\"3em\" /><svg width=\"32.1429%\" x=\"35.7143%\" y=\"3em\"><defs /><svg width=\"100%\" x=\"0\" y=\"0em\"><defs /><text text-anchor=\"middle\" x=\"50%\" y=\"1em\">scarlet</text></svg></svg><line stroke=\"black\" x1=\"50%\" x2=\"51.7857%\" y1=\"1.2em\" y2=\"3em\" /><svg width=\"32.1429%\" x=\"67.8571%\" y=\"3em\"><defs /><svg width=\"100%\" x=\"0\" y=\"0em\"><defs /><text text-anchor=\"middle\" x=\"50%\" y=\"1em\">crimson</text></svg></svg><line stroke=\"black\" x1=\"50%\" x2=\"83.9286%\" y1=\"1.2em\" y2=\"3em\" /></svg><line stroke=\"black\" x1=\"50%\" x2=\"31.1828%\" y1=\"1.2em\" y2=\"3em\" /><svg width=\"23.6559%\" x=\"46.2366%\" y=\"3em\"><defs /><svg width=\"100%\" x=\"0\" y=\"0em\"><defs /><text text-anchor=\"middle\" x=\"50%\" y=\"1em\">blue</text></svg><svg width=\"68.1818%\" x=\"0%\" y=\"3em\"><defs /><svg width=\"100%\" x=\"0\" y=\"0em\"><defs /><text text-anchor=\"middle\" x=\"50%\" y=\"1em\">greenish_blue</text></svg></svg><line stroke=\"black\" x1=\"50%\" x2=\"34.0909%\" y1=\"1.2em\" y2=\"3em\" /><svg width=\"31.8182%\" x=\"68.1818%\" y=\"3em\"><defs /><svg width=\"100%\" x=\"0\" y=\"0em\"><defs /><text text-anchor=\"middle\" x=\"50%\" y=\"1em\">azure</text></svg></svg><line stroke=\"black\" x1=\"50%\" x2=\"84.0909%\" y1=\"1.2em\" y2=\"3em\" /></svg><line stroke=\"black\" x1=\"50%\" x2=\"58.0645%\" y1=\"1.2em\" y2=\"3em\" /><svg width=\"7.52688%\" x=\"69.8925%\" y=\"3em\"><defs /><svg width=\"100%\" x=\"0\" y=\"0em\"><defs /><text text-anchor=\"middle\" x=\"50%\" y=\"1em\">pink</text></svg><svg width=\"100%\" x=\"0%\" y=\"3em\"><defs /><svg width=\"100%\" x=\"0\" y=\"0em\"><defs /><text text-anchor=\"middle\" x=\"50%\" y=\"1em\">coral</text></svg></svg><line stroke=\"black\" x1=\"50%\" x2=\"50%\" y1=\"1.2em\" y2=\"3em\" /></svg><line stroke=\"black\" x1=\"50%\" x2=\"73.6559%\" y1=\"1.2em\" y2=\"3em\" /><svg width=\"8.60215%\" x=\"77.4194%\" y=\"3em\"><defs /><svg width=\"100%\" x=\"0\" y=\"0em\"><defs /><text text-anchor=\"middle\" x=\"50%\" y=\"1em\">yellow</text></svg><svg width=\"100%\" x=\"0%\" y=\"3em\"><defs /><svg width=\"100%\" x=\"0\" y=\"0em\"><defs /><text text-anchor=\"middle\" x=\"50%\" y=\"1em\">amber</text></svg></svg><line stroke=\"black\" x1=\"50%\" x2=\"50%\" y1=\"1.2em\" y2=\"3em\" /></svg><line stroke=\"black\" x1=\"50%\" x2=\"81.7204%\" y1=\"1.2em\" y2=\"3em\" /><svg width=\"13.9785%\" x=\"86.0215%\" y=\"3em\"><defs /><svg width=\"100%\" x=\"0\" y=\"0em\"><defs /><text text-anchor=\"middle\" x=\"50%\" y=\"1em\">brown</text></svg><svg width=\"100%\" x=\"0%\" y=\"3em\"><defs /><svg width=\"100%\" x=\"0\" y=\"0em\"><defs /><text text-anchor=\"middle\" x=\"50%\" y=\"1em\">light_brown</text></svg><svg width=\"100%\" x=\"0%\" y=\"3em\"><defs /><svg width=\"100%\" x=\"0\" y=\"0em\"><defs /><text text-anchor=\"middle\" x=\"50%\" y=\"1em\">beige</text></svg></svg><line stroke=\"black\" x1=\"50%\" x2=\"50%\" y1=\"1.2em\" y2=\"3em\" /></svg><line stroke=\"black\" x1=\"50%\" x2=\"50%\" y1=\"1.2em\" y2=\"3em\" /></svg><line stroke=\"black\" x1=\"50%\" x2=\"93.0108%\" y1=\"1.2em\" y2=\"3em\" /></svg><line stroke=\"black\" x1=\"50%\" x2=\"47.561%\" y1=\"1.2em\" y2=\"3em\" /><svg width=\"14.6341%\" x=\"85.3659%\" y=\"3em\"><defs /><svg width=\"100%\" x=\"0\" y=\"0em\"><defs /><text text-anchor=\"middle\" x=\"50%\" y=\"1em\">achromatic_color</text></svg><svg width=\"33.3333%\" x=\"0%\" y=\"3em\"><defs /><svg width=\"100%\" x=\"0\" y=\"0em\"><defs /><text text-anchor=\"middle\" x=\"50%\" y=\"1em\">gray</text></svg></svg><line stroke=\"black\" x1=\"50%\" x2=\"16.6667%\" y1=\"1.2em\" y2=\"3em\" /><svg width=\"66.6667%\" x=\"33.3333%\" y=\"3em\"><defs /><svg width=\"100%\" x=\"0\" y=\"0em\"><defs /><text text-anchor=\"middle\" x=\"50%\" y=\"1em\">black</text></svg><svg width=\"100%\" x=\"0%\" y=\"3em\"><defs /><svg width=\"100%\" x=\"0\" y=\"0em\"><defs /><text text-anchor=\"middle\" x=\"50%\" y=\"1em\">coal_black</text></svg></svg><line stroke=\"black\" x1=\"50%\" x2=\"50%\" y1=\"1.2em\" y2=\"3em\" /></svg><line stroke=\"black\" x1=\"50%\" x2=\"66.6667%\" y1=\"1.2em\" y2=\"3em\" /></svg><line stroke=\"black\" x1=\"50%\" x2=\"92.6829%\" y1=\"1.2em\" y2=\"3em\" /></svg>"
      ],
      "text/plain": [
       "Tree('color', ['complexion', Tree('chromatic_color', ['green', 'purple', Tree('red', ['cardinal', 'scarlet', 'crimson']), Tree('blue', ['greenish_blue', 'azure']), Tree('pink', ['coral']), Tree('yellow', ['amber']), Tree('brown', [Tree('light_brown', ['beige'])])]), Tree('achromatic_color', ['gray', Tree('black', ['coal_black'])])])"
      ]
     },
     "execution_count": 23,
     "metadata": {},
     "output_type": "execute_result"
    }
   ],
   "source": [
    "ca.build_display_tree(wn.synset('color.n.01'), char_limit=90)"
   ]
  },
  {
   "cell_type": "code",
   "execution_count": 24,
   "id": "060e81e2",
   "metadata": {},
   "outputs": [
    {
     "data": {
      "image/svg+xml": [
       "<svg baseProfile=\"full\" height=\"216px\" preserveAspectRatio=\"xMidYMid meet\" style=\"font-family: times, serif; font-weight:normal; font-style: normal; font-size: 16px;\" version=\"1.1\" viewBox=\"0,0,912.0,216.0\" width=\"912px\" xmlns=\"http://www.w3.org/2000/svg\" xmlns:ev=\"http://www.w3.org/2001/xml-events\" xmlns:xlink=\"http://www.w3.org/1999/xlink\"><defs /><svg width=\"100%\" x=\"0\" y=\"0em\"><defs /><text text-anchor=\"middle\" x=\"50%\" y=\"1em\">book</text></svg><svg width=\"7.89474%\" x=\"0%\" y=\"3em\"><defs /><svg width=\"100%\" x=\"0\" y=\"0em\"><defs /><text text-anchor=\"middle\" x=\"50%\" y=\"1em\">catalog</text></svg></svg><line stroke=\"black\" x1=\"50%\" x2=\"3.94737%\" y1=\"1.2em\" y2=\"3em\" /><svg width=\"7.89474%\" x=\"7.89474%\" y=\"3em\"><defs /><svg width=\"100%\" x=\"0\" y=\"0em\"><defs /><text text-anchor=\"middle\" x=\"50%\" y=\"1em\">booklet</text></svg></svg><line stroke=\"black\" x1=\"50%\" x2=\"11.8421%\" y1=\"1.2em\" y2=\"3em\" /><svg width=\"8.77193%\" x=\"15.7895%\" y=\"3em\"><defs /><svg width=\"100%\" x=\"0\" y=\"0em\"><defs /><text text-anchor=\"middle\" x=\"50%\" y=\"1em\">yearbook</text></svg></svg><line stroke=\"black\" x1=\"50%\" x2=\"20.1754%\" y1=\"1.2em\" y2=\"3em\" /><svg width=\"8.77193%\" x=\"24.5614%\" y=\"3em\"><defs /><svg width=\"100%\" x=\"0\" y=\"0em\"><defs /><text text-anchor=\"middle\" x=\"50%\" y=\"1em\">textbook</text></svg></svg><line stroke=\"black\" x1=\"50%\" x2=\"28.9474%\" y1=\"1.2em\" y2=\"3em\" /><svg width=\"5.26316%\" x=\"33.3333%\" y=\"3em\"><defs /><svg width=\"100%\" x=\"0\" y=\"0em\"><defs /><text text-anchor=\"middle\" x=\"50%\" y=\"1em\">tome</text></svg></svg><line stroke=\"black\" x1=\"50%\" x2=\"35.9649%\" y1=\"1.2em\" y2=\"3em\" /><svg width=\"11.4035%\" x=\"38.5965%\" y=\"3em\"><defs /><svg width=\"100%\" x=\"0\" y=\"0em\"><defs /><text text-anchor=\"middle\" x=\"50%\" y=\"1em\">trade_book</text></svg><svg width=\"100%\" x=\"0%\" y=\"3em\"><defs /><svg width=\"100%\" x=\"0\" y=\"0em\"><defs /><text text-anchor=\"middle\" x=\"50%\" y=\"1em\">best_seller</text></svg></svg><line stroke=\"black\" x1=\"50%\" x2=\"50%\" y1=\"1.2em\" y2=\"3em\" /></svg><line stroke=\"black\" x1=\"50%\" x2=\"44.2982%\" y1=\"1.2em\" y2=\"3em\" /><svg width=\"50%\" x=\"50%\" y=\"3em\"><defs /><svg width=\"100%\" x=\"0\" y=\"0em\"><defs /><text text-anchor=\"middle\" x=\"50%\" y=\"1em\">reference_book</text></svg><svg width=\"19.2982%\" x=\"0%\" y=\"3em\"><defs /><svg width=\"100%\" x=\"0\" y=\"0em\"><defs /><text text-anchor=\"middle\" x=\"50%\" y=\"1em\">directory</text></svg></svg><line stroke=\"black\" x1=\"50%\" x2=\"9.64912%\" y1=\"1.2em\" y2=\"3em\" /><svg width=\"24.5614%\" x=\"19.2982%\" y=\"3em\"><defs /><svg width=\"100%\" x=\"0\" y=\"0em\"><defs /><text text-anchor=\"middle\" x=\"50%\" y=\"1em\">encyclopedia</text></svg></svg><line stroke=\"black\" x1=\"50%\" x2=\"31.5789%\" y1=\"1.2em\" y2=\"3em\" /><svg width=\"21.0526%\" x=\"43.8596%\" y=\"3em\"><defs /><svg width=\"100%\" x=\"0\" y=\"0em\"><defs /><text text-anchor=\"middle\" x=\"50%\" y=\"1em\">wordbook</text></svg><svg width=\"100%\" x=\"0%\" y=\"3em\"><defs /><svg width=\"100%\" x=\"0\" y=\"0em\"><defs /><text text-anchor=\"middle\" x=\"50%\" y=\"1em\">dictionary</text></svg></svg><line stroke=\"black\" x1=\"50%\" x2=\"50%\" y1=\"1.2em\" y2=\"3em\" /></svg><line stroke=\"black\" x1=\"50%\" x2=\"54.386%\" y1=\"1.2em\" y2=\"3em\" /><svg width=\"35.0877%\" x=\"64.9123%\" y=\"3em\"><defs /><svg width=\"100%\" x=\"0\" y=\"0em\"><defs /><text text-anchor=\"middle\" x=\"50%\" y=\"1em\">handbook</text></svg><svg width=\"100%\" x=\"0%\" y=\"3em\"><defs /><svg width=\"100%\" x=\"0\" y=\"0em\"><defs /><text text-anchor=\"middle\" x=\"50%\" y=\"1em\">manual</text></svg><svg width=\"100%\" x=\"0%\" y=\"3em\"><defs /><svg width=\"100%\" x=\"0\" y=\"0em\"><defs /><text text-anchor=\"middle\" x=\"50%\" y=\"1em\">instruction_manual</text></svg></svg><line stroke=\"black\" x1=\"50%\" x2=\"50%\" y1=\"1.2em\" y2=\"3em\" /></svg><line stroke=\"black\" x1=\"50%\" x2=\"50%\" y1=\"1.2em\" y2=\"3em\" /></svg><line stroke=\"black\" x1=\"50%\" x2=\"82.4561%\" y1=\"1.2em\" y2=\"3em\" /></svg><line stroke=\"black\" x1=\"50%\" x2=\"75%\" y1=\"1.2em\" y2=\"3em\" /></svg>"
      ],
      "text/plain": [
       "Tree('book', ['catalog', 'booklet', 'yearbook', 'textbook', 'tome', Tree('trade_book', ['best_seller']), Tree('reference_book', ['directory', 'encyclopedia', Tree('wordbook', ['dictionary']), Tree('handbook', [Tree('manual', ['instruction_manual'])])])])"
      ]
     },
     "execution_count": 24,
     "metadata": {},
     "output_type": "execute_result"
    }
   ],
   "source": [
    "ca.build_display_tree(wn.synset('book.n.01'), char_limit=100)"
   ]
  },
  {
   "cell_type": "code",
   "execution_count": 25,
   "id": "53253237",
   "metadata": {},
   "outputs": [
    {
     "data": {
      "image/svg+xml": [
       "<svg baseProfile=\"full\" height=\"216px\" preserveAspectRatio=\"xMidYMid meet\" style=\"font-family: times, serif; font-weight:normal; font-style: normal; font-size: 16px;\" version=\"1.1\" viewBox=\"0,0,792.0,216.0\" width=\"792px\" xmlns=\"http://www.w3.org/2000/svg\" xmlns:ev=\"http://www.w3.org/2001/xml-events\" xmlns:xlink=\"http://www.w3.org/1999/xlink\"><defs /><svg width=\"100%\" x=\"0\" y=\"0em\"><defs /><text text-anchor=\"middle\" x=\"50%\" y=\"1em\">fruit</text></svg><svg width=\"7.07071%\" x=\"0%\" y=\"3em\"><defs /><svg width=\"100%\" x=\"0\" y=\"0em\"><defs /><text text-anchor=\"middle\" x=\"50%\" y=\"1em\">olive</text></svg></svg><line stroke=\"black\" x1=\"50%\" x2=\"3.53535%\" y1=\"1.2em\" y2=\"3em\" /><svg width=\"8.08081%\" x=\"7.07071%\" y=\"3em\"><defs /><svg width=\"100%\" x=\"0\" y=\"0em\"><defs /><text text-anchor=\"middle\" x=\"50%\" y=\"1em\">pod</text></svg><svg width=\"100%\" x=\"0%\" y=\"3em\"><defs /><svg width=\"100%\" x=\"0\" y=\"0em\"><defs /><text text-anchor=\"middle\" x=\"50%\" y=\"1em\">peanut</text></svg></svg><line stroke=\"black\" x1=\"50%\" x2=\"50%\" y1=\"1.2em\" y2=\"3em\" /></svg><line stroke=\"black\" x1=\"50%\" x2=\"11.1111%\" y1=\"1.2em\" y2=\"3em\" /><svg width=\"59.596%\" x=\"15.1515%\" y=\"3em\"><defs /><svg width=\"100%\" x=\"0\" y=\"0em\"><defs /><text text-anchor=\"middle\" x=\"50%\" y=\"1em\">edible_fruit</text></svg><svg width=\"10.1695%\" x=\"0%\" y=\"3em\"><defs /><svg width=\"100%\" x=\"0\" y=\"0em\"><defs /><text text-anchor=\"middle\" x=\"50%\" y=\"1em\">pear</text></svg></svg><line stroke=\"black\" x1=\"50%\" x2=\"5.08475%\" y1=\"1.2em\" y2=\"3em\" /><svg width=\"11.8644%\" x=\"10.1695%\" y=\"3em\"><defs /><svg width=\"100%\" x=\"0\" y=\"0em\"><defs /><text text-anchor=\"middle\" x=\"50%\" y=\"1em\">grape</text></svg></svg><line stroke=\"black\" x1=\"50%\" x2=\"16.1017%\" y1=\"1.2em\" y2=\"3em\" /><svg width=\"11.8644%\" x=\"22.0339%\" y=\"3em\"><defs /><svg width=\"100%\" x=\"0\" y=\"0em\"><defs /><text text-anchor=\"middle\" x=\"50%\" y=\"1em\">apple</text></svg></svg><line stroke=\"black\" x1=\"50%\" x2=\"27.9661%\" y1=\"1.2em\" y2=\"3em\" /><svg width=\"25.4237%\" x=\"33.8983%\" y=\"3em\"><defs /><svg width=\"100%\" x=\"0\" y=\"0em\"><defs /><text text-anchor=\"middle\" x=\"50%\" y=\"1em\">citrus</text></svg><svg width=\"46.6667%\" x=\"0%\" y=\"3em\"><defs /><svg width=\"100%\" x=\"0\" y=\"0em\"><defs /><text text-anchor=\"middle\" x=\"50%\" y=\"1em\">lemon</text></svg></svg><line stroke=\"black\" x1=\"50%\" x2=\"23.3333%\" y1=\"1.2em\" y2=\"3em\" /><svg width=\"53.3333%\" x=\"46.6667%\" y=\"3em\"><defs /><svg width=\"100%\" x=\"0\" y=\"0em\"><defs /><text text-anchor=\"middle\" x=\"50%\" y=\"1em\">orange</text></svg></svg><line stroke=\"black\" x1=\"50%\" x2=\"73.3333%\" y1=\"1.2em\" y2=\"3em\" /></svg><line stroke=\"black\" x1=\"50%\" x2=\"46.6102%\" y1=\"1.2em\" y2=\"3em\" /><svg width=\"40.678%\" x=\"59.322%\" y=\"3em\"><defs /><svg width=\"100%\" x=\"0\" y=\"0em\"><defs /><text text-anchor=\"middle\" x=\"50%\" y=\"1em\">berry</text></svg><svg width=\"50%\" x=\"0%\" y=\"3em\"><defs /><svg width=\"100%\" x=\"0\" y=\"0em\"><defs /><text text-anchor=\"middle\" x=\"50%\" y=\"1em\">blackberry</text></svg></svg><line stroke=\"black\" x1=\"50%\" x2=\"25%\" y1=\"1.2em\" y2=\"3em\" /><svg width=\"50%\" x=\"50%\" y=\"3em\"><defs /><svg width=\"100%\" x=\"0\" y=\"0em\"><defs /><text text-anchor=\"middle\" x=\"50%\" y=\"1em\">strawberry</text></svg></svg><line stroke=\"black\" x1=\"50%\" x2=\"75%\" y1=\"1.2em\" y2=\"3em\" /></svg><line stroke=\"black\" x1=\"50%\" x2=\"79.661%\" y1=\"1.2em\" y2=\"3em\" /></svg><line stroke=\"black\" x1=\"50%\" x2=\"44.9495%\" y1=\"1.2em\" y2=\"3em\" /><svg width=\"25.2525%\" x=\"74.7475%\" y=\"3em\"><defs /><svg width=\"100%\" x=\"0\" y=\"0em\"><defs /><text text-anchor=\"middle\" x=\"50%\" y=\"1em\">seed</text></svg><svg width=\"28%\" x=\"0%\" y=\"3em\"><defs /><svg width=\"100%\" x=\"0\" y=\"0em\"><defs /><text text-anchor=\"middle\" x=\"50%\" y=\"1em\">grain</text></svg><svg width=\"100%\" x=\"0%\" y=\"3em\"><defs /><svg width=\"100%\" x=\"0\" y=\"0em\"><defs /><text text-anchor=\"middle\" x=\"50%\" y=\"1em\">rye</text></svg></svg><line stroke=\"black\" x1=\"50%\" x2=\"50%\" y1=\"1.2em\" y2=\"3em\" /></svg><line stroke=\"black\" x1=\"50%\" x2=\"14%\" y1=\"1.2em\" y2=\"3em\" /><svg width=\"24%\" x=\"28%\" y=\"3em\"><defs /><svg width=\"100%\" x=\"0\" y=\"0em\"><defs /><text text-anchor=\"middle\" x=\"50%\" y=\"1em\">bean</text></svg><svg width=\"100%\" x=\"0%\" y=\"3em\"><defs /><svg width=\"100%\" x=\"0\" y=\"0em\"><defs /><text text-anchor=\"middle\" x=\"50%\" y=\"1em\">soy</text></svg></svg><line stroke=\"black\" x1=\"50%\" x2=\"50%\" y1=\"1.2em\" y2=\"3em\" /></svg><line stroke=\"black\" x1=\"50%\" x2=\"40%\" y1=\"1.2em\" y2=\"3em\" /><svg width=\"48%\" x=\"52%\" y=\"3em\"><defs /><svg width=\"100%\" x=\"0\" y=\"0em\"><defs /><text text-anchor=\"middle\" x=\"50%\" y=\"1em\">nut</text></svg><svg width=\"100%\" x=\"0%\" y=\"3em\"><defs /><svg width=\"100%\" x=\"0\" y=\"0em\"><defs /><text text-anchor=\"middle\" x=\"50%\" y=\"1em\">edible_nut</text></svg><svg width=\"100%\" x=\"0%\" y=\"3em\"><defs /><svg width=\"100%\" x=\"0\" y=\"0em\"><defs /><text text-anchor=\"middle\" x=\"50%\" y=\"1em\">walnut</text></svg></svg><line stroke=\"black\" x1=\"50%\" x2=\"50%\" y1=\"1.2em\" y2=\"3em\" /></svg><line stroke=\"black\" x1=\"50%\" x2=\"50%\" y1=\"1.2em\" y2=\"3em\" /></svg><line stroke=\"black\" x1=\"50%\" x2=\"76%\" y1=\"1.2em\" y2=\"3em\" /></svg><line stroke=\"black\" x1=\"50%\" x2=\"87.3737%\" y1=\"1.2em\" y2=\"3em\" /></svg>"
      ],
      "text/plain": [
       "Tree('fruit', ['olive', Tree('pod', ['peanut']), Tree('edible_fruit', ['pear', 'grape', 'apple', Tree('citrus', ['lemon', 'orange']), Tree('berry', ['blackberry', 'strawberry'])]), Tree('seed', [Tree('grain', ['rye']), Tree('bean', ['soy']), Tree('nut', [Tree('edible_nut', ['walnut'])])])])"
      ]
     },
     "execution_count": 25,
     "metadata": {},
     "output_type": "execute_result"
    }
   ],
   "source": [
    "ca.build_display_tree(wn.synset('fruit.n.01'), char_limit=100)"
   ]
  },
  {
   "cell_type": "code",
   "execution_count": null,
   "id": "17e028d6",
   "metadata": {},
   "outputs": [],
   "source": []
  },
  {
   "cell_type": "code",
   "execution_count": null,
   "id": "c2f6dc62",
   "metadata": {},
   "outputs": [],
   "source": []
  },
  {
   "cell_type": "code",
   "execution_count": 30,
   "id": "ee292b1b",
   "metadata": {},
   "outputs": [
    {
     "name": "stdout",
     "output_type": "stream",
     "text": [
      "New Embeddings Exported:  531\n",
      "File:  ddata/new_embeddings_r4_p5_n10_t0.3_c531.txt\n"
     ]
    }
   ],
   "source": [
    "ca.export_embeddings('ddata/new_embeddings')"
   ]
  },
  {
   "cell_type": "code",
   "execution_count": null,
   "id": "5b50aa93",
   "metadata": {},
   "outputs": [],
   "source": []
  }
 ],
 "metadata": {
  "kernelspec": {
   "display_name": "Python 3",
   "language": "python",
   "name": "python3"
  },
  "language_info": {
   "codemirror_mode": {
    "name": "ipython",
    "version": 3
   },
   "file_extension": ".py",
   "mimetype": "text/x-python",
   "name": "python",
   "nbconvert_exporter": "python",
   "pygments_lexer": "ipython3",
   "version": "3.9.16"
  }
 },
 "nbformat": 4,
 "nbformat_minor": 5
}
