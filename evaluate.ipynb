{
 "cells": [
  {
   "cell_type": "code",
   "execution_count": 1,
   "id": "29886a7e",
   "metadata": {},
   "outputs": [],
   "source": [
    "from nltk.corpus import wordnet as wn\n",
    "import os\n",
    "import pickle\n",
    "import matplotlib.pyplot as plt\n",
    "import numpy as np\n",
    "from concreteabstract import ConcreteAbstract\n",
    "from collections import Counter"
   ]
  },
  {
   "cell_type": "code",
   "execution_count": 2,
   "id": "9ab72872",
   "metadata": {},
   "outputs": [],
   "source": [
    "# Hyperparameters\n",
    "\n",
    "#concreteness_threshold = 2\n",
    "concreteness_threshold = 7\n",
    "\n",
    "# Number of positive examples we want for each classifier\n",
    "#pos_count = 3\n",
    "#neg_count = 9\n",
    "pos_count = 10\n",
    "neg_count = 20\n",
    "#pos_count = 15\n",
    "#neg_count = 40\n",
    "\n",
    "\n",
    "test_pct = 0.33 #0.33\n",
    "\n",
    "embedding_file = 'ddata/clip.bertvocab.embeddings.513.txt'\n",
    "embedding_pickle = 'ddata/clip.bertvocab.embeddings.513.pkl'\n",
    "concreteness_file = 'ddata/AC_ratings_google3m_koeper_SiW.csv'\n",
    "concreteness_pickle = 'ddata/AC_ratings_google3m_koeper_SiW.pkl'"
   ]
  },
  {
   "cell_type": "code",
   "execution_count": 3,
   "id": "3f86d102",
   "metadata": {},
   "outputs": [
    {
     "data": {
      "text/plain": [
       "30522"
      ]
     },
     "execution_count": 3,
     "metadata": {},
     "output_type": "execute_result"
    }
   ],
   "source": [
    "# wac2vec\n",
    "\n",
    "if os.path.isfile(embedding_pickle):\n",
    "    wac2vec = pickle.load(open(embedding_pickle, 'rb'))\n",
    "else:\n",
    "    with open(embedding_file) as f:\n",
    "        f = f.readlines()\n",
    "        f = [line.split() for line in f]\n",
    "        wac2vec = {line[0]:np.array(line[1:], dtype=np.float64) for line in f}\n",
    "        pickle.dump(wac2vec, open(embedding_pickle, \"wb\" ))\n",
    "\n",
    "len(wac2vec)"
   ]
  },
  {
   "cell_type": "code",
   "execution_count": 4,
   "id": "2d042df8",
   "metadata": {},
   "outputs": [
    {
     "data": {
      "text/plain": [
       "2168990"
      ]
     },
     "execution_count": 4,
     "metadata": {},
     "output_type": "execute_result"
    }
   ],
   "source": [
    "# concr_scores\n",
    "\n",
    "if os.path.isfile(concreteness_pickle):\n",
    "    concr_scores = pickle.load(open(concreteness_pickle, 'rb'))\n",
    "else:\n",
    "    concr_scores = pd.read_csv(concreteness_file, delimiter='\\t')\n",
    "    concr_scores = concr_scores.dropna()\n",
    "    concr_scores.WORD = concr_scores.WORD.apply(lambda x: x.replace(\"_\", \" \"))\n",
    "    concr_scores.index = concr_scores.WORD\n",
    "    pickle.dump(concr_scores, open(concreteness_pickle, \"wb\" ))\n",
    "\n",
    "len(concr_scores)"
   ]
  },
  {
   "cell_type": "code",
   "execution_count": 5,
   "id": "8c2f8e1a",
   "metadata": {},
   "outputs": [
    {
     "name": "stdout",
     "output_type": "stream",
     "text": [
      "Initiate Abstraction Tree\n"
     ]
    },
    {
     "data": {
      "application/vnd.jupyter.widget-view+json": {
       "model_id": "39080ac3f23f4750b53c55781866e88e",
       "version_major": 2,
       "version_minor": 0
      },
      "text/plain": [
       "  0%|          | 0/14510 [00:00<?, ?it/s]"
      ]
     },
     "metadata": {},
     "output_type": "display_data"
    },
    {
     "name": "stdout",
     "output_type": "stream",
     "text": [
      "Grow Abstraction Tree\n"
     ]
    },
    {
     "data": {
      "application/vnd.jupyter.widget-view+json": {
       "model_id": "4c26847bf63d4a1398b397ef79e1b798",
       "version_major": 2,
       "version_minor": 0
      },
      "text/plain": [
       "  0%|          | 0/4861 [00:00<?, ?it/s]"
      ]
     },
     "metadata": {},
     "output_type": "display_data"
    },
    {
     "name": "stdout",
     "output_type": "stream",
     "text": [
      "Add Positive and Negative examples\n"
     ]
    },
    {
     "data": {
      "application/vnd.jupyter.widget-view+json": {
       "model_id": "384181569f3541229ebd4f0782847b18",
       "version_major": 2,
       "version_minor": 0
      },
      "text/plain": [
       "  0%|          | 0/583 [00:00<?, ?it/s]"
      ]
     },
     "metadata": {},
     "output_type": "display_data"
    },
    {
     "name": "stdout",
     "output_type": "stream",
     "text": [
      "Fill out Train and Test sets\n"
     ]
    },
    {
     "data": {
      "application/vnd.jupyter.widget-view+json": {
       "model_id": "da66975293a142209a3a3aa2b14f0990",
       "version_major": 2,
       "version_minor": 0
      },
      "text/plain": [
       "  0%|          | 0/583 [00:00<?, ?it/s]"
      ]
     },
     "metadata": {},
     "output_type": "display_data"
    },
    {
     "name": "stdout",
     "output_type": "stream",
     "text": [
      "Build Classifiers\n"
     ]
    },
    {
     "data": {
      "application/vnd.jupyter.widget-view+json": {
       "model_id": "db43e49aadcf421d8aa594d3b1313165",
       "version_major": 2,
       "version_minor": 0
      },
      "text/plain": [
       "  0%|          | 0/583 [00:00<?, ?it/s]"
      ]
     },
     "metadata": {},
     "output_type": "display_data"
    },
    {
     "name": "stdout",
     "output_type": "stream",
     "text": [
      "Done\n"
     ]
    },
    {
     "data": {
      "application/vnd.jupyter.widget-view+json": {
       "model_id": "e26912f259384e1b8d1bfc1a0de3a6da",
       "version_major": 2,
       "version_minor": 0
      },
      "text/plain": [
       "  0%|          | 0/583 [00:00<?, ?it/s]"
      ]
     },
     "metadata": {},
     "output_type": "display_data"
    },
    {
     "name": "stdout",
     "output_type": "stream",
     "text": [
      "score:     0.30463215258855586\n",
      "baseline:  0.09171331467413035\n"
     ]
    }
   ],
   "source": [
    "ca = ConcreteAbstract(wac2vec, concr_scores, wn, pos_count=5, neg_count=10)\n",
    "ca.build_all(min_rating=4, test_pct=0.3, verbose=True)\n",
    "score, rand_baseline = ca.evaluate_vs_distractors(10)\n",
    "print(\"score:    \", score)\n",
    "print(\"baseline: \", rand_baseline)"
   ]
  },
  {
   "cell_type": "code",
   "execution_count": 6,
   "id": "e3ec5f7e",
   "metadata": {},
   "outputs": [],
   "source": [
    "ca.set_verbose(False)"
   ]
  },
  {
   "cell_type": "code",
   "execution_count": 7,
   "id": "aa436139",
   "metadata": {},
   "outputs": [],
   "source": [
    "X = range(2, 20)"
   ]
  },
  {
   "cell_type": "code",
   "execution_count": 8,
   "id": "0fe108ab",
   "metadata": {},
   "outputs": [],
   "source": [
    "scores_baselines = [ca.evaluate_vs_distractors(x) for x in X]"
   ]
  },
  {
   "cell_type": "code",
   "execution_count": 9,
   "id": "543adb8a",
   "metadata": {},
   "outputs": [],
   "source": [
    "scores, baselines = zip(*scores_baselines)"
   ]
  },
  {
   "cell_type": "code",
   "execution_count": 10,
   "id": "f069880e",
   "metadata": {},
   "outputs": [
    {
     "data": {
      "image/png": "[encoded data removed]",
      "text/plain": [
       "<Figure size 720x576 with 1 Axes>"
      ]
     },
     "metadata": {
      "needs_background": "light"
     },
     "output_type": "display_data"
    }
   ],
   "source": [
    "SMALL_SIZE = 8\n",
    "MEDIUM_SIZE = 15\n",
    "BIGGER_SIZE = 20\n",
    "\n",
    "plt.rc('font', size=MEDIUM_SIZE)          # controls default text sizes\n",
    "plt.rc('axes', titlesize=MEDIUM_SIZE)     # fontsize of the axes title\n",
    "plt.rc('axes', labelsize=MEDIUM_SIZE)    # fontsize of the x and y labels\n",
    "plt.rc('xtick', labelsize=MEDIUM_SIZE)    # fontsize of the tick labels\n",
    "plt.rc('ytick', labelsize=MEDIUM_SIZE)    # fontsize of the tick labels\n",
    "plt.rc('legend', fontsize=MEDIUM_SIZE)    # legend fontsize\n",
    "plt.rc('figure', titlesize=MEDIUM_SIZE)  # fontsize of the figure title\n",
    "\n",
    "plt.figure(figsize=(10,8))\n",
    "plt.plot(X, scores, label=\"accuracy\")\n",
    "plt.plot(X, baselines, '-.', label=\"baseline\")\n",
    "plt.title('classifier v.s. distractors')\n",
    "plt.ylabel('accuracy')\n",
    "plt.xlabel('number of distractors')\n",
    "plt.legend(loc=\"upper right\")\n",
    "plt.show()"
   ]
  },
  {
   "cell_type": "code",
   "execution_count": 11,
   "id": "cfb9da51",
   "metadata": {},
   "outputs": [
    {
     "data": {
      "text/plain": [
       "0.21907356948228882"
      ]
     },
     "execution_count": 11,
     "metadata": {},
     "output_type": "execute_result"
    }
   ],
   "source": [
    "scores[-1]"
   ]
  },
  {
   "cell_type": "code",
   "execution_count": 12,
   "id": "d8fb8170",
   "metadata": {},
   "outputs": [
    {
     "data": {
      "text/plain": [
       "0.05087330191294705"
      ]
     },
     "execution_count": 12,
     "metadata": {},
     "output_type": "execute_result"
    }
   ],
   "source": [
    "baselines[-1]"
   ]
  },
  {
   "cell_type": "code",
   "execution_count": 13,
   "id": "ee235f33",
   "metadata": {},
   "outputs": [],
   "source": [
    "# High vs Low abstractness"
   ]
  },
  {
   "cell_type": "code",
   "execution_count": 14,
   "id": "a413d0bd",
   "metadata": {},
   "outputs": [
    {
     "data": {
      "text/plain": [
       "372"
      ]
     },
     "execution_count": 14,
     "metadata": {},
     "output_type": "execute_result"
    }
   ],
   "source": [
    "# Number of Classifiers (Low)\n",
    "len(ca._get_all_classifiers(min_leaf_dist=0, max_leaf_dist=4))"
   ]
  },
  {
   "cell_type": "code",
   "execution_count": 15,
   "id": "619f678d",
   "metadata": {},
   "outputs": [],
   "source": [
    "scores_baselines_low = [ca.evaluate_vs_distractors(x, min_leaf_dist=0, max_leaf_dist=4) for x in X]"
   ]
  },
  {
   "cell_type": "code",
   "execution_count": 16,
   "id": "479b01da",
   "metadata": {},
   "outputs": [],
   "source": [
    "scores_low, baselines_low = zip(*scores_baselines_low)"
   ]
  },
  {
   "cell_type": "code",
   "execution_count": 17,
   "id": "202a0a05",
   "metadata": {},
   "outputs": [
    {
     "data": {
      "text/plain": [
       "211"
      ]
     },
     "execution_count": 17,
     "metadata": {},
     "output_type": "execute_result"
    }
   ],
   "source": [
    "# Number of Classifiers (High)\n",
    "len(ca._get_all_classifiers(min_leaf_dist=5, max_leaf_dist=50))"
   ]
  },
  {
   "cell_type": "code",
   "execution_count": 18,
   "id": "8bd36273",
   "metadata": {},
   "outputs": [],
   "source": [
    "scores_baselines_high = [ca.evaluate_vs_distractors(x, min_leaf_dist=5, max_leaf_dist=50) for x in X]"
   ]
  },
  {
   "cell_type": "code",
   "execution_count": 19,
   "id": "871d30cd",
   "metadata": {},
   "outputs": [],
   "source": [
    "scores_high, baselines_high = zip(*scores_baselines_high)"
   ]
  },
  {
   "cell_type": "code",
   "execution_count": 20,
   "id": "d4c1513c",
   "metadata": {},
   "outputs": [
    {
     "data": {
      "image/png": "[encoded data removed]",
      "text/plain": [
       "<Figure size 720x576 with 1 Axes>"
      ]
     },
     "metadata": {
      "needs_background": "light"
     },
     "output_type": "display_data"
    }
   ],
   "source": [
    "SMALL_SIZE = 8\n",
    "MEDIUM_SIZE = 15\n",
    "BIGGER_SIZE = 20\n",
    "\n",
    "plt.rc('font', size=MEDIUM_SIZE)          # controls default text sizes\n",
    "plt.rc('axes', titlesize=MEDIUM_SIZE)     # fontsize of the axes title\n",
    "plt.rc('axes', labelsize=MEDIUM_SIZE)    # fontsize of the x and y labels\n",
    "plt.rc('xtick', labelsize=MEDIUM_SIZE)    # fontsize of the tick labels\n",
    "plt.rc('ytick', labelsize=MEDIUM_SIZE)    # fontsize of the tick labels\n",
    "plt.rc('legend', fontsize=MEDIUM_SIZE)    # legend fontsize\n",
    "plt.rc('figure', titlesize=MEDIUM_SIZE)  # fontsize of the figure title\n",
    "\n",
    "plt.figure(figsize=(10,8))\n",
    "\n",
    "plt.plot(X, scores_high, label=\"high (5+)\")\n",
    "plt.plot(X, scores_low, label=\"low (4-)\")\n",
    "plt.plot(X, baselines_low, '-.', label=\"baseline low\")\n",
    "plt.plot(X, baselines_high, '-.', label=\"baseline high\")\n",
    "plt.title('high v.s. low abstractness (leaf distance)')\n",
    "plt.ylabel('accuracy')\n",
    "plt.xlabel('number of distractors')\n",
    "plt.legend(loc=\"upper right\")\n",
    "plt.show()\n",
    "plt.show()"
   ]
  },
  {
   "cell_type": "code",
   "execution_count": null,
   "id": "eff77cf6",
   "metadata": {},
   "outputs": [],
   "source": []
  },
  {
   "cell_type": "code",
   "execution_count": 21,
   "id": "20ec33e4",
   "metadata": {},
   "outputs": [
    {
     "data": {
      "image/svg+xml": [
       "<svg baseProfile=\"full\" height=\"216px\" preserveAspectRatio=\"xMidYMid meet\" style=\"font-family: times, serif; font-weight:normal; font-style: normal; font-size: 16px;\" version=\"1.1\" viewBox=\"0,0,984.0,216.0\" width=\"984px\" xmlns=\"http://www.w3.org/2000/svg\" xmlns:ev=\"http://www.w3.org/2001/xml-events\" xmlns:xlink=\"http://www.w3.org/1999/xlink\"><defs /><svg width=\"100%\" x=\"0\" y=\"0em\"><defs /><text text-anchor=\"middle\" x=\"50%\" y=\"1em\">color</text></svg><svg width=\"9.7561%\" x=\"0%\" y=\"3em\"><defs /><svg width=\"100%\" x=\"0\" y=\"0em\"><defs /><text text-anchor=\"middle\" x=\"50%\" y=\"1em\">complexion</text></svg></svg><line stroke=\"black\" x1=\"50%\" x2=\"4.87805%\" y1=\"1.2em\" y2=\"3em\" /><svg width=\"75.6098%\" x=\"9.7561%\" y=\"3em\"><defs /><svg width=\"100%\" x=\"0\" y=\"0em\"><defs /><text text-anchor=\"middle\" x=\"50%\" y=\"1em\">chromatic_color</text></svg><svg width=\"8.60215%\" x=\"0%\" y=\"3em\"><defs /><svg width=\"100%\" x=\"0\" y=\"0em\"><defs /><text text-anchor=\"middle\" x=\"50%\" y=\"1em\">purple</text></svg></svg><line stroke=\"black\" x1=\"50%\" x2=\"4.30108%\" y1=\"1.2em\" y2=\"3em\" /><svg width=\"7.52688%\" x=\"8.60215%\" y=\"3em\"><defs /><svg width=\"100%\" x=\"0\" y=\"0em\"><defs /><text text-anchor=\"middle\" x=\"50%\" y=\"1em\">green</text></svg></svg><line stroke=\"black\" x1=\"50%\" x2=\"12.3656%\" y1=\"1.2em\" y2=\"3em\" /><svg width=\"30.1075%\" x=\"16.129%\" y=\"3em\"><defs /><svg width=\"100%\" x=\"0\" y=\"0em\"><defs /><text text-anchor=\"middle\" x=\"50%\" y=\"1em\">red</text></svg><svg width=\"32.1429%\" x=\"0%\" y=\"3em\"><defs /><svg width=\"100%\" x=\"0\" y=\"0em\"><defs /><text text-anchor=\"middle\" x=\"50%\" y=\"1em\">scarlet</text></svg></svg><line stroke=\"black\" x1=\"50%\" x2=\"16.0714%\" y1=\"1.2em\" y2=\"3em\" /><svg width=\"32.1429%\" x=\"32.1429%\" y=\"3em\"><defs /><svg width=\"100%\" x=\"0\" y=\"0em\"><defs /><text text-anchor=\"middle\" x=\"50%\" y=\"1em\">crimson</text></svg></svg><line stroke=\"black\" x1=\"50%\" x2=\"48.2143%\" y1=\"1.2em\" y2=\"3em\" /><svg width=\"35.7143%\" x=\"64.2857%\" y=\"3em\"><defs /><svg width=\"100%\" x=\"0\" y=\"0em\"><defs /><text text-anchor=\"middle\" x=\"50%\" y=\"1em\">cardinal</text></svg></svg><line stroke=\"black\" x1=\"50%\" x2=\"82.1429%\" y1=\"1.2em\" y2=\"3em\" /></svg><line stroke=\"black\" x1=\"50%\" x2=\"31.1828%\" y1=\"1.2em\" y2=\"3em\" /><svg width=\"8.60215%\" x=\"46.2366%\" y=\"3em\"><defs /><svg width=\"100%\" x=\"0\" y=\"0em\"><defs /><text text-anchor=\"middle\" x=\"50%\" y=\"1em\">yellow</text></svg><svg width=\"100%\" x=\"0%\" y=\"3em\"><defs /><svg width=\"100%\" x=\"0\" y=\"0em\"><defs /><text text-anchor=\"middle\" x=\"50%\" y=\"1em\">amber</text></svg></svg><line stroke=\"black\" x1=\"50%\" x2=\"50%\" y1=\"1.2em\" y2=\"3em\" /></svg><line stroke=\"black\" x1=\"50%\" x2=\"50.5376%\" y1=\"1.2em\" y2=\"3em\" /><svg width=\"23.6559%\" x=\"54.8387%\" y=\"3em\"><defs /><svg width=\"100%\" x=\"0\" y=\"0em\"><defs /><text text-anchor=\"middle\" x=\"50%\" y=\"1em\">blue</text></svg><svg width=\"68.1818%\" x=\"0%\" y=\"3em\"><defs /><svg width=\"100%\" x=\"0\" y=\"0em\"><defs /><text text-anchor=\"middle\" x=\"50%\" y=\"1em\">greenish_blue</text></svg></svg><line stroke=\"black\" x1=\"50%\" x2=\"34.0909%\" y1=\"1.2em\" y2=\"3em\" /><svg width=\"31.8182%\" x=\"68.1818%\" y=\"3em\"><defs /><svg width=\"100%\" x=\"0\" y=\"0em\"><defs /><text text-anchor=\"middle\" x=\"50%\" y=\"1em\">azure</text></svg></svg><line stroke=\"black\" x1=\"50%\" x2=\"84.0909%\" y1=\"1.2em\" y2=\"3em\" /></svg><line stroke=\"black\" x1=\"50%\" x2=\"66.6667%\" y1=\"1.2em\" y2=\"3em\" /><svg width=\"7.52688%\" x=\"78.4946%\" y=\"3em\"><defs /><svg width=\"100%\" x=\"0\" y=\"0em\"><defs /><text text-anchor=\"middle\" x=\"50%\" y=\"1em\">pink</text></svg><svg width=\"100%\" x=\"0%\" y=\"3em\"><defs /><svg width=\"100%\" x=\"0\" y=\"0em\"><defs /><text text-anchor=\"middle\" x=\"50%\" y=\"1em\">coral</text></svg></svg><line stroke=\"black\" x1=\"50%\" x2=\"50%\" y1=\"1.2em\" y2=\"3em\" /></svg><line stroke=\"black\" x1=\"50%\" x2=\"82.2581%\" y1=\"1.2em\" y2=\"3em\" /><svg width=\"13.9785%\" x=\"86.0215%\" y=\"3em\"><defs /><svg width=\"100%\" x=\"0\" y=\"0em\"><defs /><text text-anchor=\"middle\" x=\"50%\" y=\"1em\">brown</text></svg><svg width=\"100%\" x=\"0%\" y=\"3em\"><defs /><svg width=\"100%\" x=\"0\" y=\"0em\"><defs /><text text-anchor=\"middle\" x=\"50%\" y=\"1em\">light_brown</text></svg><svg width=\"100%\" x=\"0%\" y=\"3em\"><defs /><svg width=\"100%\" x=\"0\" y=\"0em\"><defs /><text text-anchor=\"middle\" x=\"50%\" y=\"1em\">beige</text></svg></svg><line stroke=\"black\" x1=\"50%\" x2=\"50%\" y1=\"1.2em\" y2=\"3em\" /></svg><line stroke=\"black\" x1=\"50%\" x2=\"50%\" y1=\"1.2em\" y2=\"3em\" /></svg><line stroke=\"black\" x1=\"50%\" x2=\"93.0108%\" y1=\"1.2em\" y2=\"3em\" /></svg><line stroke=\"black\" x1=\"50%\" x2=\"47.561%\" y1=\"1.2em\" y2=\"3em\" /><svg width=\"14.6341%\" x=\"85.3659%\" y=\"3em\"><defs /><svg width=\"100%\" x=\"0\" y=\"0em\"><defs /><text text-anchor=\"middle\" x=\"50%\" y=\"1em\">achromatic_color</text></svg><svg width=\"33.3333%\" x=\"0%\" y=\"3em\"><defs /><svg width=\"100%\" x=\"0\" y=\"0em\"><defs /><text text-anchor=\"middle\" x=\"50%\" y=\"1em\">gray</text></svg></svg><line stroke=\"black\" x1=\"50%\" x2=\"16.6667%\" y1=\"1.2em\" y2=\"3em\" /><svg width=\"66.6667%\" x=\"33.3333%\" y=\"3em\"><defs /><svg width=\"100%\" x=\"0\" y=\"0em\"><defs /><text text-anchor=\"middle\" x=\"50%\" y=\"1em\">black</text></svg><svg width=\"100%\" x=\"0%\" y=\"3em\"><defs /><svg width=\"100%\" x=\"0\" y=\"0em\"><defs /><text text-anchor=\"middle\" x=\"50%\" y=\"1em\">coal_black</text></svg></svg><line stroke=\"black\" x1=\"50%\" x2=\"50%\" y1=\"1.2em\" y2=\"3em\" /></svg><line stroke=\"black\" x1=\"50%\" x2=\"66.6667%\" y1=\"1.2em\" y2=\"3em\" /></svg><line stroke=\"black\" x1=\"50%\" x2=\"92.6829%\" y1=\"1.2em\" y2=\"3em\" /></svg>"
      ],
      "text/plain": [
       "Tree('color', ['complexion', Tree('chromatic_color', ['purple', 'green', Tree('red', ['scarlet', 'crimson', 'cardinal']), Tree('yellow', ['amber']), Tree('blue', ['greenish_blue', 'azure']), Tree('pink', ['coral']), Tree('brown', [Tree('light_brown', ['beige'])])]), Tree('achromatic_color', ['gray', Tree('black', ['coal_black'])])])"
      ]
     },
     "execution_count": 21,
     "metadata": {},
     "output_type": "execute_result"
    }
   ],
   "source": [
    "ca.build_display_tree(wn.synset('color.n.01'), char_limit=90)"
   ]
  },
  {
   "cell_type": "code",
   "execution_count": 22,
   "id": "92f25f82",
   "metadata": {},
   "outputs": [
    {
     "data": {
      "image/svg+xml": [
       "<svg baseProfile=\"full\" height=\"216px\" preserveAspectRatio=\"xMidYMid meet\" style=\"font-family: times, serif; font-weight:normal; font-style: normal; font-size: 16px;\" version=\"1.1\" viewBox=\"0,0,912.0,216.0\" width=\"912px\" xmlns=\"http://www.w3.org/2000/svg\" xmlns:ev=\"http://www.w3.org/2001/xml-events\" xmlns:xlink=\"http://www.w3.org/1999/xlink\"><defs /><svg width=\"100%\" x=\"0\" y=\"0em\"><defs /><text text-anchor=\"middle\" x=\"50%\" y=\"1em\">book</text></svg><svg width=\"7.89474%\" x=\"0%\" y=\"3em\"><defs /><svg width=\"100%\" x=\"0\" y=\"0em\"><defs /><text text-anchor=\"middle\" x=\"50%\" y=\"1em\">booklet</text></svg></svg><line stroke=\"black\" x1=\"50%\" x2=\"3.94737%\" y1=\"1.2em\" y2=\"3em\" /><svg width=\"7.89474%\" x=\"7.89474%\" y=\"3em\"><defs /><svg width=\"100%\" x=\"0\" y=\"0em\"><defs /><text text-anchor=\"middle\" x=\"50%\" y=\"1em\">catalog</text></svg></svg><line stroke=\"black\" x1=\"50%\" x2=\"11.8421%\" y1=\"1.2em\" y2=\"3em\" /><svg width=\"8.77193%\" x=\"15.7895%\" y=\"3em\"><defs /><svg width=\"100%\" x=\"0\" y=\"0em\"><defs /><text text-anchor=\"middle\" x=\"50%\" y=\"1em\">yearbook</text></svg></svg><line stroke=\"black\" x1=\"50%\" x2=\"20.1754%\" y1=\"1.2em\" y2=\"3em\" /><svg width=\"8.77193%\" x=\"24.5614%\" y=\"3em\"><defs /><svg width=\"100%\" x=\"0\" y=\"0em\"><defs /><text text-anchor=\"middle\" x=\"50%\" y=\"1em\">textbook</text></svg></svg><line stroke=\"black\" x1=\"50%\" x2=\"28.9474%\" y1=\"1.2em\" y2=\"3em\" /><svg width=\"5.26316%\" x=\"33.3333%\" y=\"3em\"><defs /><svg width=\"100%\" x=\"0\" y=\"0em\"><defs /><text text-anchor=\"middle\" x=\"50%\" y=\"1em\">tome</text></svg></svg><line stroke=\"black\" x1=\"50%\" x2=\"35.9649%\" y1=\"1.2em\" y2=\"3em\" /><svg width=\"11.4035%\" x=\"38.5965%\" y=\"3em\"><defs /><svg width=\"100%\" x=\"0\" y=\"0em\"><defs /><text text-anchor=\"middle\" x=\"50%\" y=\"1em\">trade_book</text></svg><svg width=\"100%\" x=\"0%\" y=\"3em\"><defs /><svg width=\"100%\" x=\"0\" y=\"0em\"><defs /><text text-anchor=\"middle\" x=\"50%\" y=\"1em\">best_seller</text></svg></svg><line stroke=\"black\" x1=\"50%\" x2=\"50%\" y1=\"1.2em\" y2=\"3em\" /></svg><line stroke=\"black\" x1=\"50%\" x2=\"44.2982%\" y1=\"1.2em\" y2=\"3em\" /><svg width=\"50%\" x=\"50%\" y=\"3em\"><defs /><svg width=\"100%\" x=\"0\" y=\"0em\"><defs /><text text-anchor=\"middle\" x=\"50%\" y=\"1em\">reference_book</text></svg><svg width=\"19.2982%\" x=\"0%\" y=\"3em\"><defs /><svg width=\"100%\" x=\"0\" y=\"0em\"><defs /><text text-anchor=\"middle\" x=\"50%\" y=\"1em\">directory</text></svg></svg><line stroke=\"black\" x1=\"50%\" x2=\"9.64912%\" y1=\"1.2em\" y2=\"3em\" /><svg width=\"24.5614%\" x=\"19.2982%\" y=\"3em\"><defs /><svg width=\"100%\" x=\"0\" y=\"0em\"><defs /><text text-anchor=\"middle\" x=\"50%\" y=\"1em\">encyclopedia</text></svg></svg><line stroke=\"black\" x1=\"50%\" x2=\"31.5789%\" y1=\"1.2em\" y2=\"3em\" /><svg width=\"21.0526%\" x=\"43.8596%\" y=\"3em\"><defs /><svg width=\"100%\" x=\"0\" y=\"0em\"><defs /><text text-anchor=\"middle\" x=\"50%\" y=\"1em\">wordbook</text></svg><svg width=\"100%\" x=\"0%\" y=\"3em\"><defs /><svg width=\"100%\" x=\"0\" y=\"0em\"><defs /><text text-anchor=\"middle\" x=\"50%\" y=\"1em\">dictionary</text></svg></svg><line stroke=\"black\" x1=\"50%\" x2=\"50%\" y1=\"1.2em\" y2=\"3em\" /></svg><line stroke=\"black\" x1=\"50%\" x2=\"54.386%\" y1=\"1.2em\" y2=\"3em\" /><svg width=\"35.0877%\" x=\"64.9123%\" y=\"3em\"><defs /><svg width=\"100%\" x=\"0\" y=\"0em\"><defs /><text text-anchor=\"middle\" x=\"50%\" y=\"1em\">handbook</text></svg><svg width=\"100%\" x=\"0%\" y=\"3em\"><defs /><svg width=\"100%\" x=\"0\" y=\"0em\"><defs /><text text-anchor=\"middle\" x=\"50%\" y=\"1em\">manual</text></svg><svg width=\"100%\" x=\"0%\" y=\"3em\"><defs /><svg width=\"100%\" x=\"0\" y=\"0em\"><defs /><text text-anchor=\"middle\" x=\"50%\" y=\"1em\">instruction_manual</text></svg></svg><line stroke=\"black\" x1=\"50%\" x2=\"50%\" y1=\"1.2em\" y2=\"3em\" /></svg><line stroke=\"black\" x1=\"50%\" x2=\"50%\" y1=\"1.2em\" y2=\"3em\" /></svg><line stroke=\"black\" x1=\"50%\" x2=\"82.4561%\" y1=\"1.2em\" y2=\"3em\" /></svg><line stroke=\"black\" x1=\"50%\" x2=\"75%\" y1=\"1.2em\" y2=\"3em\" /></svg>"
      ],
      "text/plain": [
       "Tree('book', ['booklet', 'catalog', 'yearbook', 'textbook', 'tome', Tree('trade_book', ['best_seller']), Tree('reference_book', ['directory', 'encyclopedia', Tree('wordbook', ['dictionary']), Tree('handbook', [Tree('manual', ['instruction_manual'])])])])"
      ]
     },
     "execution_count": 22,
     "metadata": {},
     "output_type": "execute_result"
    }
   ],
   "source": [
    "ca.build_display_tree(wn.synset('book.n.01'), char_limit=100)"
   ]
  },
  {
   "cell_type": "code",
   "execution_count": 23,
   "id": "4f0bdfc9",
   "metadata": {},
   "outputs": [
    {
     "data": {
      "image/svg+xml": [
       "<svg baseProfile=\"full\" height=\"216px\" preserveAspectRatio=\"xMidYMid meet\" style=\"font-family: times, serif; font-weight:normal; font-style: normal; font-size: 16px;\" version=\"1.1\" viewBox=\"0,0,792.0,216.0\" width=\"792px\" xmlns=\"http://www.w3.org/2000/svg\" xmlns:ev=\"http://www.w3.org/2001/xml-events\" xmlns:xlink=\"http://www.w3.org/1999/xlink\"><defs /><svg width=\"100%\" x=\"0\" y=\"0em\"><defs /><text text-anchor=\"middle\" x=\"50%\" y=\"1em\">fruit</text></svg><svg width=\"7.07071%\" x=\"0%\" y=\"3em\"><defs /><svg width=\"100%\" x=\"0\" y=\"0em\"><defs /><text text-anchor=\"middle\" x=\"50%\" y=\"1em\">olive</text></svg></svg><line stroke=\"black\" x1=\"50%\" x2=\"3.53535%\" y1=\"1.2em\" y2=\"3em\" /><svg width=\"59.596%\" x=\"7.07071%\" y=\"3em\"><defs /><svg width=\"100%\" x=\"0\" y=\"0em\"><defs /><text text-anchor=\"middle\" x=\"50%\" y=\"1em\">edible_fruit</text></svg><svg width=\"11.8644%\" x=\"0%\" y=\"3em\"><defs /><svg width=\"100%\" x=\"0\" y=\"0em\"><defs /><text text-anchor=\"middle\" x=\"50%\" y=\"1em\">apple</text></svg></svg><line stroke=\"black\" x1=\"50%\" x2=\"5.9322%\" y1=\"1.2em\" y2=\"3em\" /><svg width=\"10.1695%\" x=\"11.8644%\" y=\"3em\"><defs /><svg width=\"100%\" x=\"0\" y=\"0em\"><defs /><text text-anchor=\"middle\" x=\"50%\" y=\"1em\">pear</text></svg></svg><line stroke=\"black\" x1=\"50%\" x2=\"16.9492%\" y1=\"1.2em\" y2=\"3em\" /><svg width=\"11.8644%\" x=\"22.0339%\" y=\"3em\"><defs /><svg width=\"100%\" x=\"0\" y=\"0em\"><defs /><text text-anchor=\"middle\" x=\"50%\" y=\"1em\">grape</text></svg></svg><line stroke=\"black\" x1=\"50%\" x2=\"27.9661%\" y1=\"1.2em\" y2=\"3em\" /><svg width=\"40.678%\" x=\"33.8983%\" y=\"3em\"><defs /><svg width=\"100%\" x=\"0\" y=\"0em\"><defs /><text text-anchor=\"middle\" x=\"50%\" y=\"1em\">berry</text></svg><svg width=\"50%\" x=\"0%\" y=\"3em\"><defs /><svg width=\"100%\" x=\"0\" y=\"0em\"><defs /><text text-anchor=\"middle\" x=\"50%\" y=\"1em\">blackberry</text></svg></svg><line stroke=\"black\" x1=\"50%\" x2=\"25%\" y1=\"1.2em\" y2=\"3em\" /><svg width=\"50%\" x=\"50%\" y=\"3em\"><defs /><svg width=\"100%\" x=\"0\" y=\"0em\"><defs /><text text-anchor=\"middle\" x=\"50%\" y=\"1em\">strawberry</text></svg></svg><line stroke=\"black\" x1=\"50%\" x2=\"75%\" y1=\"1.2em\" y2=\"3em\" /></svg><line stroke=\"black\" x1=\"50%\" x2=\"54.2373%\" y1=\"1.2em\" y2=\"3em\" /><svg width=\"25.4237%\" x=\"74.5763%\" y=\"3em\"><defs /><svg width=\"100%\" x=\"0\" y=\"0em\"><defs /><text text-anchor=\"middle\" x=\"50%\" y=\"1em\">citrus</text></svg><svg width=\"46.6667%\" x=\"0%\" y=\"3em\"><defs /><svg width=\"100%\" x=\"0\" y=\"0em\"><defs /><text text-anchor=\"middle\" x=\"50%\" y=\"1em\">lemon</text></svg></svg><line stroke=\"black\" x1=\"50%\" x2=\"23.3333%\" y1=\"1.2em\" y2=\"3em\" /><svg width=\"53.3333%\" x=\"46.6667%\" y=\"3em\"><defs /><svg width=\"100%\" x=\"0\" y=\"0em\"><defs /><text text-anchor=\"middle\" x=\"50%\" y=\"1em\">orange</text></svg></svg><line stroke=\"black\" x1=\"50%\" x2=\"73.3333%\" y1=\"1.2em\" y2=\"3em\" /></svg><line stroke=\"black\" x1=\"50%\" x2=\"87.2881%\" y1=\"1.2em\" y2=\"3em\" /></svg><line stroke=\"black\" x1=\"50%\" x2=\"36.8687%\" y1=\"1.2em\" y2=\"3em\" /><svg width=\"8.08081%\" x=\"66.6667%\" y=\"3em\"><defs /><svg width=\"100%\" x=\"0\" y=\"0em\"><defs /><text text-anchor=\"middle\" x=\"50%\" y=\"1em\">pod</text></svg><svg width=\"100%\" x=\"0%\" y=\"3em\"><defs /><svg width=\"100%\" x=\"0\" y=\"0em\"><defs /><text text-anchor=\"middle\" x=\"50%\" y=\"1em\">peanut</text></svg></svg><line stroke=\"black\" x1=\"50%\" x2=\"50%\" y1=\"1.2em\" y2=\"3em\" /></svg><line stroke=\"black\" x1=\"50%\" x2=\"70.7071%\" y1=\"1.2em\" y2=\"3em\" /><svg width=\"25.2525%\" x=\"74.7475%\" y=\"3em\"><defs /><svg width=\"100%\" x=\"0\" y=\"0em\"><defs /><text text-anchor=\"middle\" x=\"50%\" y=\"1em\">seed</text></svg><svg width=\"28%\" x=\"0%\" y=\"3em\"><defs /><svg width=\"100%\" x=\"0\" y=\"0em\"><defs /><text text-anchor=\"middle\" x=\"50%\" y=\"1em\">grain</text></svg><svg width=\"100%\" x=\"0%\" y=\"3em\"><defs /><svg width=\"100%\" x=\"0\" y=\"0em\"><defs /><text text-anchor=\"middle\" x=\"50%\" y=\"1em\">rye</text></svg></svg><line stroke=\"black\" x1=\"50%\" x2=\"50%\" y1=\"1.2em\" y2=\"3em\" /></svg><line stroke=\"black\" x1=\"50%\" x2=\"14%\" y1=\"1.2em\" y2=\"3em\" /><svg width=\"24%\" x=\"28%\" y=\"3em\"><defs /><svg width=\"100%\" x=\"0\" y=\"0em\"><defs /><text text-anchor=\"middle\" x=\"50%\" y=\"1em\">bean</text></svg><svg width=\"100%\" x=\"0%\" y=\"3em\"><defs /><svg width=\"100%\" x=\"0\" y=\"0em\"><defs /><text text-anchor=\"middle\" x=\"50%\" y=\"1em\">soy</text></svg></svg><line stroke=\"black\" x1=\"50%\" x2=\"50%\" y1=\"1.2em\" y2=\"3em\" /></svg><line stroke=\"black\" x1=\"50%\" x2=\"40%\" y1=\"1.2em\" y2=\"3em\" /><svg width=\"48%\" x=\"52%\" y=\"3em\"><defs /><svg width=\"100%\" x=\"0\" y=\"0em\"><defs /><text text-anchor=\"middle\" x=\"50%\" y=\"1em\">nut</text></svg><svg width=\"100%\" x=\"0%\" y=\"3em\"><defs /><svg width=\"100%\" x=\"0\" y=\"0em\"><defs /><text text-anchor=\"middle\" x=\"50%\" y=\"1em\">edible_nut</text></svg><svg width=\"100%\" x=\"0%\" y=\"3em\"><defs /><svg width=\"100%\" x=\"0\" y=\"0em\"><defs /><text text-anchor=\"middle\" x=\"50%\" y=\"1em\">walnut</text></svg></svg><line stroke=\"black\" x1=\"50%\" x2=\"50%\" y1=\"1.2em\" y2=\"3em\" /></svg><line stroke=\"black\" x1=\"50%\" x2=\"50%\" y1=\"1.2em\" y2=\"3em\" /></svg><line stroke=\"black\" x1=\"50%\" x2=\"76%\" y1=\"1.2em\" y2=\"3em\" /></svg><line stroke=\"black\" x1=\"50%\" x2=\"87.3737%\" y1=\"1.2em\" y2=\"3em\" /></svg>"
      ],
      "text/plain": [
       "Tree('fruit', ['olive', Tree('edible_fruit', ['apple', 'pear', 'grape', Tree('berry', ['blackberry', 'strawberry']), Tree('citrus', ['lemon', 'orange'])]), Tree('pod', ['peanut']), Tree('seed', [Tree('grain', ['rye']), Tree('bean', ['soy']), Tree('nut', [Tree('edible_nut', ['walnut'])])])])"
      ]
     },
     "execution_count": 23,
     "metadata": {},
     "output_type": "execute_result"
    }
   ],
   "source": [
    "ca.build_display_tree(wn.synset('fruit.n.01'), char_limit=100)"
   ]
  },
  {
   "cell_type": "code",
   "execution_count": null,
   "id": "f65a439a",
   "metadata": {},
   "outputs": [],
   "source": []
  }
 ],
 "metadata": {
  "kernelspec": {
   "display_name": "Python 3",
   "language": "python",
   "name": "python3"
  },
  "language_info": {
   "codemirror_mode": {
    "name": "ipython",
    "version": 3
   },
   "file_extension": ".py",
   "mimetype": "text/x-python",
   "name": "python",
   "nbconvert_exporter": "python",
   "pygments_lexer": "ipython3",
   "version": "3.9.16"
  }
 },
 "nbformat": 4,
 "nbformat_minor": 5
}
