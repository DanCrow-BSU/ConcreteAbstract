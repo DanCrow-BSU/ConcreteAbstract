{
 "cells": [
  {
   "cell_type": "code",
   "execution_count": 1,
   "id": "e813ac82",
   "metadata": {},
   "outputs": [],
   "source": [
    "from nltk.corpus import wordnet as wn\n",
    "import nltk"
   ]
  },
  {
   "cell_type": "code",
   "execution_count": 4,
   "id": "574754ce",
   "metadata": {},
   "outputs": [
    {
     "data": {
      "text/plain": [
       "[Synset('physical_entity.n.01')]"
      ]
     },
     "execution_count": 4,
     "metadata": {},
     "output_type": "execute_result"
    }
   ],
   "source": [
    "wn.synset('matter.n.03').hypernyms()"
   ]
  },
  {
   "cell_type": "code",
   "execution_count": 5,
   "id": "04b55d4b",
   "metadata": {},
   "outputs": [
    {
     "data": {
      "text/plain": [
       "[Synset('entity.n.01')]"
      ]
     },
     "execution_count": 5,
     "metadata": {},
     "output_type": "execute_result"
    }
   ],
   "source": [
    "wn.synset('physical_entity.n.01').hypernyms()"
   ]
  },
  {
   "cell_type": "code",
   "execution_count": 6,
   "id": "bffb677a",
   "metadata": {},
   "outputs": [
    {
     "data": {
      "text/plain": [
       "[]"
      ]
     },
     "execution_count": 6,
     "metadata": {},
     "output_type": "execute_result"
    }
   ],
   "source": [
    "wn.synset('entity.n.01').hypernyms()"
   ]
  },
  {
   "cell_type": "code",
   "execution_count": 9,
   "id": "33751efe",
   "metadata": {},
   "outputs": [
    {
     "data": {
      "text/plain": [
       "[Synset('food.n.01'), Synset('liquid.n.01')]"
      ]
     },
     "execution_count": 9,
     "metadata": {},
     "output_type": "execute_result"
    }
   ],
   "source": [
    "wn.synset('cocoa.n.01').hypernyms()[0].hypernyms()"
   ]
  },
  {
   "cell_type": "code",
   "execution_count": 11,
   "id": "eb7adaa4",
   "metadata": {},
   "outputs": [
    {
     "data": {
      "text/plain": [
       "[Synset('matter.n.03')]"
      ]
     },
     "execution_count": 11,
     "metadata": {},
     "output_type": "execute_result"
    }
   ],
   "source": [
    "wn.synset('substance.n.07').hypernyms()"
   ]
  },
  {
   "cell_type": "code",
   "execution_count": 14,
   "id": "4010049e",
   "metadata": {},
   "outputs": [
    {
     "data": {
      "text/plain": [
       "[Synset('matter.n.03'), Synset('part.n.01')]"
      ]
     },
     "execution_count": 14,
     "metadata": {},
     "output_type": "execute_result"
    }
   ],
   "source": [
    "wn.synset('substance.n.01').hypernyms()"
   ]
  },
  {
   "cell_type": "code",
   "execution_count": 15,
   "id": "906a0adc",
   "metadata": {},
   "outputs": [
    {
     "data": {
      "text/plain": [
       "[Synset('physical_entity.n.01')]"
      ]
     },
     "execution_count": 15,
     "metadata": {},
     "output_type": "execute_result"
    }
   ],
   "source": [
    "wn.synset('matter.n.03').hypernyms()"
   ]
  },
  {
   "cell_type": "code",
   "execution_count": null,
   "id": "1a8fa142",
   "metadata": {},
   "outputs": [],
   "source": []
  }
 ],
 "metadata": {
  "kernelspec": {
   "display_name": "Python 3",
   "language": "python",
   "name": "python3"
  },
  "language_info": {
   "codemirror_mode": {
    "name": "ipython",
    "version": 3
   },
   "file_extension": ".py",
   "mimetype": "text/x-python",
   "name": "python",
   "nbconvert_exporter": "python",
   "pygments_lexer": "ipython3",
   "version": "3.9.16"
  }
 },
 "nbformat": 4,
 "nbformat_minor": 5
}
