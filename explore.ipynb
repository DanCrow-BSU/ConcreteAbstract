{
 "cells": [
  {
   "cell_type": "code",
   "execution_count": 1,
   "id": "15ec3bfb",
   "metadata": {},
   "outputs": [],
   "source": [
    "from nltk.corpus import wordnet as wn\n",
    "import nltk"
   ]
  },
  {
   "cell_type": "code",
   "execution_count": null,
   "id": "586c2ccc",
   "metadata": {},
   "outputs": [],
   "source": []
  },
  {
   "cell_type": "code",
   "execution_count": null,
   "id": "80a89faa",
   "metadata": {},
   "outputs": [],
   "source": []
  },
  {
   "cell_type": "code",
   "execution_count": 2,
   "id": "4c3517b7",
   "metadata": {},
   "outputs": [],
   "source": [
    "import pandas as pd\n",
    "import os\n",
    "import pickle\n",
    "import matplotlib.pyplot as plt\n",
    "from sklearn.decomposition import PCA\n",
    "import numpy as np"
   ]
  },
  {
   "cell_type": "code",
   "execution_count": 3,
   "id": "7f4699bf",
   "metadata": {},
   "outputs": [],
   "source": [
    "# Hyperparameters\n",
    "\n",
    "#concreteness_threshold = 2\n",
    "concreteness_threshold = 7\n",
    "\n",
    "# Number of positive examples we want for each classifier\n",
    "#pos_count = 3\n",
    "#neg_count = 9\n",
    "#pos_count = 10\n",
    "#neg_count = 20\n",
    "pos_count = 15\n",
    "neg_count = 40\n",
    "\n",
    "\n",
    "test_pct = 0.33 #0.33\n",
    "\n",
    "embedding_file = 'ddata/clip.bertvocab.embeddings.513.txt'\n",
    "embedding_pickle = 'ddata/clip.bertvocab.embeddings.513.pkl'\n",
    "concreteness_file = 'ddata/AC_ratings_google3m_koeper_SiW.csv'\n",
    "concreteness_pickle = 'ddata/AC_ratings_google3m_koeper_SiW.pkl'\n",
    "#concreteness_file = 'ddata/Concreteness_ratings_Brysbaert_et_al_BRM_Raiting.txt'\n",
    "#concreteness_pickle = 'ddata/Concreteness_ratings_Brysbaert_et_al_BRM_Raiting.pkl'\n"
   ]
  },
  {
   "cell_type": "code",
   "execution_count": 4,
   "id": "82bd9616",
   "metadata": {},
   "outputs": [
    {
     "data": {
      "text/plain": [
       "30522"
      ]
     },
     "execution_count": 4,
     "metadata": {},
     "output_type": "execute_result"
    }
   ],
   "source": [
    "# wac2vec\n",
    "\n",
    "if os.path.isfile(embedding_pickle):\n",
    "    wac2vec = pickle.load(open(embedding_pickle, 'rb'))\n",
    "else:\n",
    "    with open(embedding_file) as f:\n",
    "        f = f.readlines()\n",
    "        f = [line.split() for line in f]\n",
    "        wac2vec = {line[0]:np.array(line[1:], dtype=np.float64) for line in f}\n",
    "        pickle.dump(wac2vec, open(embedding_pickle, \"wb\" ))\n",
    "\n",
    "len(wac2vec)"
   ]
  },
  {
   "cell_type": "code",
   "execution_count": 5,
   "id": "9a67919a",
   "metadata": {},
   "outputs": [
    {
     "data": {
      "text/plain": [
       "2168990"
      ]
     },
     "execution_count": 5,
     "metadata": {},
     "output_type": "execute_result"
    }
   ],
   "source": [
    "# concr_scores\n",
    "\n",
    "if os.path.isfile(concreteness_pickle):\n",
    "    concr_scores = pickle.load(open(concreteness_pickle, 'rb'))\n",
    "else:\n",
    "    concr_scores = pd.read_csv(concreteness_file, delimiter='\\t')\n",
    "    concr_scores = concr_scores.dropna()\n",
    "    concr_scores.WORD = concr_scores.WORD.apply(lambda x: x.replace(\"_\", \" \"))\n",
    "    concr_scores.index = concr_scores.WORD\n",
    "    pickle.dump(concr_scores, open(concreteness_pickle, \"wb\" ))\n",
    "\n",
    "len(concr_scores)"
   ]
  },
  {
   "cell_type": "code",
   "execution_count": 6,
   "id": "14512b91",
   "metadata": {},
   "outputs": [],
   "source": [
    "X_features = []\n",
    "for word in list(wac2vec.keys())[7000:7600]:\n",
    "    X_features.append(wac2vec[word])"
   ]
  },
  {
   "cell_type": "code",
   "execution_count": null,
   "id": "0b331ee8",
   "metadata": {},
   "outputs": [],
   "source": []
  },
  {
   "cell_type": "code",
   "execution_count": null,
   "id": "d9ea26f9",
   "metadata": {},
   "outputs": [],
   "source": []
  },
  {
   "cell_type": "code",
   "execution_count": 7,
   "id": "c82b36f0",
   "metadata": {},
   "outputs": [],
   "source": [
    "# Test ConcreteAbstract Class"
   ]
  },
  {
   "cell_type": "code",
   "execution_count": 8,
   "id": "db1072a5",
   "metadata": {},
   "outputs": [],
   "source": [
    "%load_ext autoreload"
   ]
  },
  {
   "cell_type": "code",
   "execution_count": 9,
   "id": "1045eb6a",
   "metadata": {},
   "outputs": [],
   "source": [
    "%autoreload 2"
   ]
  },
  {
   "cell_type": "code",
   "execution_count": 10,
   "id": "0f00eddc",
   "metadata": {},
   "outputs": [],
   "source": [
    "from concreteabstract import ConcreteAbstract"
   ]
  },
  {
   "cell_type": "code",
   "execution_count": 11,
   "id": "4b3c8f3a",
   "metadata": {},
   "outputs": [
    {
     "data": {
      "application/vnd.jupyter.widget-view+json": {
       "model_id": "4fd6993442b848c28051bc4a158a500c",
       "version_major": 2,
       "version_minor": 0
      },
      "text/plain": [
       "  0%|          | 0/14510 [00:00<?, ?it/s]"
      ]
     },
     "metadata": {},
     "output_type": "display_data"
    },
    {
     "data": {
      "application/vnd.jupyter.widget-view+json": {
       "model_id": "f1cad513470f4c45b849d098ad56d86b",
       "version_major": 2,
       "version_minor": 0
      },
      "text/plain": [
       "  0%|          | 0/8139 [00:00<?, ?it/s]"
      ]
     },
     "metadata": {},
     "output_type": "display_data"
    }
   ],
   "source": [
    "ca = ConcreteAbstract(wac2vec, concr_scores, wn)\n",
    "ca.init_abstraction_tree(min_rating=1)\n",
    "ca.grow_abstraction_tree()"
   ]
  },
  {
   "cell_type": "code",
   "execution_count": 12,
   "id": "1057566c",
   "metadata": {},
   "outputs": [],
   "source": [
    "#ca.build_display_tree(wn.synset('entity.n.01'), char_limit=5)"
   ]
  },
  {
   "cell_type": "raw",
   "id": "33d32e38",
   "metadata": {},
   "source": [
    "pos_examples = ca.find_positive_examples(wn.synset('entity.n.01'))\n",
    "ca.find_negative_examples(wn.synset('entity.n.01'), pos_examples)"
   ]
  },
  {
   "cell_type": "code",
   "execution_count": 13,
   "id": "fdf946ba",
   "metadata": {},
   "outputs": [
    {
     "data": {
      "application/vnd.jupyter.widget-view+json": {
       "model_id": "34d7f6cea6024a25b3e0147dc7b7a903",
       "version_major": 2,
       "version_minor": 0
      },
      "text/plain": [
       "  0%|          | 0/403 [00:00<?, ?it/s]"
      ]
     },
     "metadata": {},
     "output_type": "display_data"
    }
   ],
   "source": [
    "ca.add_pos_neg_all()"
   ]
  },
  {
   "cell_type": "code",
   "execution_count": 14,
   "id": "ed24263e",
   "metadata": {},
   "outputs": [
    {
     "data": {
      "application/vnd.jupyter.widget-view+json": {
       "model_id": "7c158ba5a7c74952aba39e8efb628fb1",
       "version_major": 2,
       "version_minor": 0
      },
      "text/plain": [
       "  0%|          | 0/403 [00:00<?, ?it/s]"
      ]
     },
     "metadata": {},
     "output_type": "display_data"
    }
   ],
   "source": [
    "ca.fill_out_train_test()"
   ]
  },
  {
   "cell_type": "code",
   "execution_count": 15,
   "id": "00126c96",
   "metadata": {},
   "outputs": [
    {
     "data": {
      "application/vnd.jupyter.widget-view+json": {
       "model_id": "7ffcee7dc1ef40d0905a334fca78028b",
       "version_major": 2,
       "version_minor": 0
      },
      "text/plain": [
       "  0%|          | 0/403 [00:00<?, ?it/s]"
      ]
     },
     "metadata": {},
     "output_type": "display_data"
    }
   ],
   "source": [
    "ca.build_classifiers()"
   ]
  },
  {
   "cell_type": "code",
   "execution_count": 16,
   "id": "aca348c6",
   "metadata": {},
   "outputs": [
    {
     "data": {
      "text/plain": [
       "0.5"
      ]
     },
     "execution_count": 16,
     "metadata": {},
     "output_type": "execute_result"
    }
   ],
   "source": [
    "ca.comp_random_baseline()"
   ]
  },
  {
   "cell_type": "code",
   "execution_count": 17,
   "id": "77d3db8b",
   "metadata": {},
   "outputs": [
    {
     "data": {
      "text/plain": [
       "0.5417394811130528"
      ]
     },
     "execution_count": 17,
     "metadata": {},
     "output_type": "execute_result"
    }
   ],
   "source": [
    "ca.comp_most_common_baseline()"
   ]
  },
  {
   "cell_type": "code",
   "execution_count": 18,
   "id": "233b2e22",
   "metadata": {},
   "outputs": [
    {
     "data": {
      "text/plain": [
       "0.6788179465056083"
      ]
     },
     "execution_count": 18,
     "metadata": {},
     "output_type": "execute_result"
    }
   ],
   "source": [
    "ca.evaluate_vs_negative_examples()"
   ]
  },
  {
   "cell_type": "code",
   "execution_count": 19,
   "id": "5dce4431",
   "metadata": {},
   "outputs": [
    {
     "data": {
      "application/vnd.jupyter.widget-view+json": {
       "model_id": "9e4a346555504d269757beae80839906",
       "version_major": 2,
       "version_minor": 0
      },
      "text/plain": [
       "  0%|          | 0/403 [00:00<?, ?it/s]"
      ]
     },
     "metadata": {},
     "output_type": "display_data"
    },
    {
     "name": "stdout",
     "output_type": "stream",
     "text": [
      "score:     0.32506762849413884\n",
      "baseline:  0.09220152976388427\n"
     ]
    }
   ],
   "source": [
    "score, rand_baseline = ca.evaluate_vs_distractors(10)\n",
    "print(\"score:    \", score)\n",
    "print(\"baseline: \", rand_baseline)"
   ]
  },
  {
   "cell_type": "code",
   "execution_count": null,
   "id": "97a06a90",
   "metadata": {},
   "outputs": [],
   "source": []
  },
  {
   "cell_type": "code",
   "execution_count": null,
   "id": "aa7ace12",
   "metadata": {},
   "outputs": [],
   "source": []
  },
  {
   "cell_type": "code",
   "execution_count": 20,
   "id": "c144e78b",
   "metadata": {},
   "outputs": [],
   "source": [
    "ca = ConcreteAbstract(wac2vec, concr_scores, wn, pos_count=10, neg_count=20)"
   ]
  },
  {
   "cell_type": "code",
   "execution_count": 21,
   "id": "b6c175f1",
   "metadata": {},
   "outputs": [
    {
     "name": "stdout",
     "output_type": "stream",
     "text": [
      "Initiate Abstraction Tree\n"
     ]
    },
    {
     "data": {
      "application/vnd.jupyter.widget-view+json": {
       "model_id": "0f490c83256646b8b1588855e82656f1",
       "version_major": 2,
       "version_minor": 0
      },
      "text/plain": [
       "  0%|          | 0/14510 [00:00<?, ?it/s]"
      ]
     },
     "metadata": {},
     "output_type": "display_data"
    },
    {
     "name": "stdout",
     "output_type": "stream",
     "text": [
      "Grow Abstraction Tree\n"
     ]
    },
    {
     "data": {
      "application/vnd.jupyter.widget-view+json": {
       "model_id": "c303453261de40ba85c487f71cad3a9b",
       "version_major": 2,
       "version_minor": 0
      },
      "text/plain": [
       "  0%|          | 0/343 [00:00<?, ?it/s]"
      ]
     },
     "metadata": {},
     "output_type": "display_data"
    },
    {
     "name": "stdout",
     "output_type": "stream",
     "text": [
      "Add Positive and Negative examples\n"
     ]
    },
    {
     "data": {
      "application/vnd.jupyter.widget-view+json": {
       "model_id": "2a5e54c4212c40ae809cc858f162ef9f",
       "version_major": 2,
       "version_minor": 0
      },
      "text/plain": [
       "  0%|          | 0/37 [00:00<?, ?it/s]"
      ]
     },
     "metadata": {},
     "output_type": "display_data"
    },
    {
     "name": "stdout",
     "output_type": "stream",
     "text": [
      "Fill out Train and Test sets\n"
     ]
    },
    {
     "data": {
      "application/vnd.jupyter.widget-view+json": {
       "model_id": "f94998313eca4770bc7f6264092b3ce4",
       "version_major": 2,
       "version_minor": 0
      },
      "text/plain": [
       "  0%|          | 0/37 [00:00<?, ?it/s]"
      ]
     },
     "metadata": {},
     "output_type": "display_data"
    },
    {
     "name": "stdout",
     "output_type": "stream",
     "text": [
      "Build Classifiers\n"
     ]
    },
    {
     "data": {
      "application/vnd.jupyter.widget-view+json": {
       "model_id": "b22c241014a747658f1e6327f95a65df",
       "version_major": 2,
       "version_minor": 0
      },
      "text/plain": [
       "  0%|          | 0/37 [00:00<?, ?it/s]"
      ]
     },
     "metadata": {},
     "output_type": "display_data"
    },
    {
     "name": "stdout",
     "output_type": "stream",
     "text": [
      "Done\n"
     ]
    }
   ],
   "source": [
    "ca.build_all(min_rating=8, test_pct=0.3, verbose=True)"
   ]
  },
  {
   "cell_type": "code",
   "execution_count": 22,
   "id": "49a7f21a",
   "metadata": {},
   "outputs": [
    {
     "data": {
      "application/vnd.jupyter.widget-view+json": {
       "model_id": "57fa551769e84a2d84c025a0941c3cc8",
       "version_major": 2,
       "version_minor": 0
      },
      "text/plain": [
       "  0%|          | 0/30522 [00:00<?, ?it/s]"
      ]
     },
     "metadata": {},
     "output_type": "display_data"
    },
    {
     "name": "stdout",
     "output_type": "stream",
     "text": [
      "New Embeddings Exported:  38\n",
      "File:  ddata/new_embeddings_r8_p10_n20_t0.3_c38.txt\n"
     ]
    }
   ],
   "source": [
    "ca.export_embeddings('ddata/new_embeddings')"
   ]
  },
  {
   "cell_type": "code",
   "execution_count": null,
   "id": "4605a2d3",
   "metadata": {},
   "outputs": [],
   "source": []
  },
  {
   "cell_type": "code",
   "execution_count": null,
   "id": "6d7862b5",
   "metadata": {},
   "outputs": [],
   "source": []
  },
  {
   "cell_type": "code",
   "execution_count": 23,
   "id": "9a4fa77e",
   "metadata": {},
   "outputs": [],
   "source": [
    "# Let's find a good set of hyperparameters"
   ]
  },
  {
   "cell_type": "code",
   "execution_count": 24,
   "id": "ff24a4b4",
   "metadata": {},
   "outputs": [
    {
     "name": "stdout",
     "output_type": "stream",
     "text": [
      "Initiate Abstraction Tree\n"
     ]
    },
    {
     "data": {
      "application/vnd.jupyter.widget-view+json": {
       "model_id": "f198437dc2284dd6a8017f3296bacca7",
       "version_major": 2,
       "version_minor": 0
      },
      "text/plain": [
       "  0%|          | 0/14510 [00:00<?, ?it/s]"
      ]
     },
     "metadata": {},
     "output_type": "display_data"
    },
    {
     "name": "stdout",
     "output_type": "stream",
     "text": [
      "Grow Abstraction Tree\n"
     ]
    },
    {
     "data": {
      "application/vnd.jupyter.widget-view+json": {
       "model_id": "280ea284141c44498d3746568c75d8e9",
       "version_major": 2,
       "version_minor": 0
      },
      "text/plain": [
       "  0%|          | 0/5941 [00:00<?, ?it/s]"
      ]
     },
     "metadata": {},
     "output_type": "display_data"
    },
    {
     "name": "stdout",
     "output_type": "stream",
     "text": [
      "Add Positive and Negative examples\n"
     ]
    },
    {
     "data": {
      "application/vnd.jupyter.widget-view+json": {
       "model_id": "b01c9727a5d3449fa600493333042da7",
       "version_major": 2,
       "version_minor": 0
      },
      "text/plain": [
       "  0%|          | 0/663 [00:00<?, ?it/s]"
      ]
     },
     "metadata": {},
     "output_type": "display_data"
    },
    {
     "name": "stdout",
     "output_type": "stream",
     "text": [
      "Fill out Train and Test sets\n"
     ]
    },
    {
     "data": {
      "application/vnd.jupyter.widget-view+json": {
       "model_id": "6fca21ba1996439cae841e5eea7a44e2",
       "version_major": 2,
       "version_minor": 0
      },
      "text/plain": [
       "  0%|          | 0/663 [00:00<?, ?it/s]"
      ]
     },
     "metadata": {},
     "output_type": "display_data"
    },
    {
     "name": "stdout",
     "output_type": "stream",
     "text": [
      "Build Classifiers\n"
     ]
    },
    {
     "data": {
      "application/vnd.jupyter.widget-view+json": {
       "model_id": "a8a70c37682a4ccf9bb9a97bbad3cdc4",
       "version_major": 2,
       "version_minor": 0
      },
      "text/plain": [
       "  0%|          | 0/663 [00:00<?, ?it/s]"
      ]
     },
     "metadata": {},
     "output_type": "display_data"
    },
    {
     "name": "stdout",
     "output_type": "stream",
     "text": [
      "Done\n"
     ]
    }
   ],
   "source": [
    "ca = ConcreteAbstract(wac2vec, concr_scores, wn, pos_count=5, neg_count=20)\n",
    "ca.build_all(min_rating=3, test_pct=0.3, verbose=True)\n",
    "#score, rand_baseline = ca.evaluate_vs_distractors(10)\n",
    "#print(\"score:    \", score)\n",
    "#print(\"baseline: \", rand_baseline)"
   ]
  },
  {
   "cell_type": "code",
   "execution_count": 25,
   "id": "e68c9b48",
   "metadata": {},
   "outputs": [
    {
     "data": {
      "application/vnd.jupyter.widget-view+json": {
       "model_id": "1798658e358f41eb90bd7b70948db24a",
       "version_major": 2,
       "version_minor": 0
      },
      "text/plain": [
       "  0%|          | 0/30522 [00:00<?, ?it/s]"
      ]
     },
     "metadata": {},
     "output_type": "display_data"
    },
    {
     "name": "stdout",
     "output_type": "stream",
     "text": [
      "New Embeddings Exported:  607\n",
      "File:  ddata/new_embeddings_r3_p5_n20_t0.3_c607.txt\n"
     ]
    }
   ],
   "source": [
    "ca.export_embeddings('ddata/new_embeddings')"
   ]
  },
  {
   "cell_type": "code",
   "execution_count": null,
   "id": "996cc796",
   "metadata": {},
   "outputs": [],
   "source": []
  },
  {
   "cell_type": "code",
   "execution_count": 26,
   "id": "e46ac0f6",
   "metadata": {},
   "outputs": [
    {
     "name": "stdout",
     "output_type": "stream",
     "text": [
      "Initiate Abstraction Tree\n"
     ]
    },
    {
     "data": {
      "application/vnd.jupyter.widget-view+json": {
       "model_id": "b2d26682bb6a4feba6d44b00f910e29a",
       "version_major": 2,
       "version_minor": 0
      },
      "text/plain": [
       "  0%|          | 0/14510 [00:00<?, ?it/s]"
      ]
     },
     "metadata": {},
     "output_type": "display_data"
    },
    {
     "name": "stdout",
     "output_type": "stream",
     "text": [
      "Grow Abstraction Tree\n"
     ]
    },
    {
     "data": {
      "application/vnd.jupyter.widget-view+json": {
       "model_id": "b11a714851fb42f68dbdd58aa88b4688",
       "version_major": 2,
       "version_minor": 0
      },
      "text/plain": [
       "  0%|          | 0/4861 [00:00<?, ?it/s]"
      ]
     },
     "metadata": {},
     "output_type": "display_data"
    },
    {
     "name": "stdout",
     "output_type": "stream",
     "text": [
      "Add Positive and Negative examples\n"
     ]
    },
    {
     "data": {
      "application/vnd.jupyter.widget-view+json": {
       "model_id": "7a5ed6aaeda14fab87b0646eb2a395d9",
       "version_major": 2,
       "version_minor": 0
      },
      "text/plain": [
       "  0%|          | 0/1031 [00:00<?, ?it/s]"
      ]
     },
     "metadata": {},
     "output_type": "display_data"
    },
    {
     "name": "stdout",
     "output_type": "stream",
     "text": [
      "Fill out Train and Test sets\n"
     ]
    },
    {
     "data": {
      "application/vnd.jupyter.widget-view+json": {
       "model_id": "c99242a785e141ef91c4a59d2ee4df5c",
       "version_major": 2,
       "version_minor": 0
      },
      "text/plain": [
       "  0%|          | 0/1031 [00:00<?, ?it/s]"
      ]
     },
     "metadata": {},
     "output_type": "display_data"
    },
    {
     "name": "stdout",
     "output_type": "stream",
     "text": [
      "Build Classifiers\n"
     ]
    },
    {
     "data": {
      "application/vnd.jupyter.widget-view+json": {
       "model_id": "d40118aa49c74324b767b96000d5b517",
       "version_major": 2,
       "version_minor": 0
      },
      "text/plain": [
       "  0%|          | 0/1031 [00:00<?, ?it/s]"
      ]
     },
     "metadata": {},
     "output_type": "display_data"
    },
    {
     "name": "stdout",
     "output_type": "stream",
     "text": [
      "Done\n"
     ]
    },
    {
     "data": {
      "application/vnd.jupyter.widget-view+json": {
       "model_id": "3243c688e77a4580bf7b9fb47e5f75b2",
       "version_major": 2,
       "version_minor": 0
      },
      "text/plain": [
       "  0%|          | 0/1031 [00:00<?, ?it/s]"
      ]
     },
     "metadata": {},
     "output_type": "display_data"
    },
    {
     "name": "stdout",
     "output_type": "stream",
     "text": [
      "score:     0.38095238095238093\n",
      "baseline:  0.09136987530277205\n"
     ]
    }
   ],
   "source": [
    "ca2 = ConcreteAbstract(wac2vec, concr_scores, wn, pos_count=3, neg_count=15)\n",
    "ca2.build_all(min_rating=4, test_pct=0.3, verbose=True)\n",
    "score, rand_baseline = ca2.evaluate_vs_distractors(10)\n",
    "print(\"score:    \", score)\n",
    "print(\"baseline: \", rand_baseline)"
   ]
  },
  {
   "cell_type": "code",
   "execution_count": 27,
   "id": "7b77dcae",
   "metadata": {},
   "outputs": [
    {
     "name": "stdout",
     "output_type": "stream",
     "text": [
      "Initiate Abstraction Tree\n"
     ]
    },
    {
     "data": {
      "application/vnd.jupyter.widget-view+json": {
       "model_id": "a3df8a9d1aab40b99e56dd2fff2565e7",
       "version_major": 2,
       "version_minor": 0
      },
      "text/plain": [
       "  0%|          | 0/14510 [00:00<?, ?it/s]"
      ]
     },
     "metadata": {},
     "output_type": "display_data"
    },
    {
     "name": "stdout",
     "output_type": "stream",
     "text": [
      "Grow Abstraction Tree\n"
     ]
    },
    {
     "data": {
      "application/vnd.jupyter.widget-view+json": {
       "model_id": "ff9dd72da20f49eb82423c29604d2c3e",
       "version_major": 2,
       "version_minor": 0
      },
      "text/plain": [
       "  0%|          | 0/4861 [00:00<?, ?it/s]"
      ]
     },
     "metadata": {},
     "output_type": "display_data"
    },
    {
     "name": "stdout",
     "output_type": "stream",
     "text": [
      "Add Positive and Negative examples\n"
     ]
    },
    {
     "data": {
      "application/vnd.jupyter.widget-view+json": {
       "model_id": "fab05af3a527476b9bfe4ab94085f88b",
       "version_major": 2,
       "version_minor": 0
      },
      "text/plain": [
       "  0%|          | 0/1031 [00:00<?, ?it/s]"
      ]
     },
     "metadata": {},
     "output_type": "display_data"
    },
    {
     "name": "stdout",
     "output_type": "stream",
     "text": [
      "Fill out Train and Test sets\n"
     ]
    },
    {
     "data": {
      "application/vnd.jupyter.widget-view+json": {
       "model_id": "457594d3ca2841fa9ddf635e31569314",
       "version_major": 2,
       "version_minor": 0
      },
      "text/plain": [
       "  0%|          | 0/1031 [00:00<?, ?it/s]"
      ]
     },
     "metadata": {},
     "output_type": "display_data"
    },
    {
     "name": "stdout",
     "output_type": "stream",
     "text": [
      "Build Classifiers\n"
     ]
    },
    {
     "data": {
      "application/vnd.jupyter.widget-view+json": {
       "model_id": "bb609028f9d54cd38142211e0e287ead",
       "version_major": 2,
       "version_minor": 0
      },
      "text/plain": [
       "  0%|          | 0/1031 [00:00<?, ?it/s]"
      ]
     },
     "metadata": {},
     "output_type": "display_data"
    },
    {
     "name": "stdout",
     "output_type": "stream",
     "text": [
      "Done\n"
     ]
    }
   ],
   "source": [
    "ca3 = ConcreteAbstract(wac2vec, concr_scores, wn, pos_count=3, neg_count=15)\n",
    "ca3.build_all(min_rating=4, test_pct=0, verbose=True)"
   ]
  },
  {
   "cell_type": "code",
   "execution_count": 28,
   "id": "72b990a6",
   "metadata": {},
   "outputs": [
    {
     "data": {
      "application/vnd.jupyter.widget-view+json": {
       "model_id": "123d76e4dad247caa9b0925dc9dcc617",
       "version_major": 2,
       "version_minor": 0
      },
      "text/plain": [
       "  0%|          | 0/30522 [00:00<?, ?it/s]"
      ]
     },
     "metadata": {},
     "output_type": "display_data"
    },
    {
     "name": "stdout",
     "output_type": "stream",
     "text": [
      "New Embeddings Exported:  900\n",
      "File:  ddata/new_embeddings_r4_p3_n15_t0_c900.txt\n"
     ]
    }
   ],
   "source": [
    "ca3.export_embeddings('ddata/new_embeddings')"
   ]
  },
  {
   "cell_type": "code",
   "execution_count": null,
   "id": "291807ed",
   "metadata": {},
   "outputs": [],
   "source": []
  },
  {
   "cell_type": "code",
   "execution_count": null,
   "id": "87a0526d",
   "metadata": {},
   "outputs": [],
   "source": []
  },
  {
   "cell_type": "code",
   "execution_count": 29,
   "id": "8d626fa6",
   "metadata": {},
   "outputs": [
    {
     "name": "stdout",
     "output_type": "stream",
     "text": [
      "Initiate Abstraction Tree\n"
     ]
    },
    {
     "data": {
      "application/vnd.jupyter.widget-view+json": {
       "model_id": "38216a2f04764efeb5fff2ac035ee397",
       "version_major": 2,
       "version_minor": 0
      },
      "text/plain": [
       "  0%|          | 0/14510 [00:00<?, ?it/s]"
      ]
     },
     "metadata": {},
     "output_type": "display_data"
    },
    {
     "name": "stdout",
     "output_type": "stream",
     "text": [
      "Grow Abstraction Tree\n"
     ]
    },
    {
     "data": {
      "application/vnd.jupyter.widget-view+json": {
       "model_id": "407a38872ba24b66aed2bc0a1923a1f8",
       "version_major": 2,
       "version_minor": 0
      },
      "text/plain": [
       "  0%|          | 0/6881 [00:00<?, ?it/s]"
      ]
     },
     "metadata": {},
     "output_type": "display_data"
    },
    {
     "name": "stdout",
     "output_type": "stream",
     "text": [
      "Add Positive and Negative examples\n"
     ]
    },
    {
     "data": {
      "application/vnd.jupyter.widget-view+json": {
       "model_id": "221232db43d743fc85e6e640f1c017b5",
       "version_major": 2,
       "version_minor": 0
      },
      "text/plain": [
       "  0%|          | 0/1305 [00:00<?, ?it/s]"
      ]
     },
     "metadata": {},
     "output_type": "display_data"
    },
    {
     "name": "stdout",
     "output_type": "stream",
     "text": [
      "Fill out Train and Test sets\n"
     ]
    },
    {
     "data": {
      "application/vnd.jupyter.widget-view+json": {
       "model_id": "5ae9f77858f9457e8079fce4544e300d",
       "version_major": 2,
       "version_minor": 0
      },
      "text/plain": [
       "  0%|          | 0/1305 [00:00<?, ?it/s]"
      ]
     },
     "metadata": {},
     "output_type": "display_data"
    },
    {
     "name": "stdout",
     "output_type": "stream",
     "text": [
      "Build Classifiers\n"
     ]
    },
    {
     "data": {
      "application/vnd.jupyter.widget-view+json": {
       "model_id": "0e0d6fb83ec6427497a80905d4b810df",
       "version_major": 2,
       "version_minor": 0
      },
      "text/plain": [
       "  0%|          | 0/1305 [00:00<?, ?it/s]"
      ]
     },
     "metadata": {},
     "output_type": "display_data"
    },
    {
     "name": "stdout",
     "output_type": "stream",
     "text": [
      "Done\n"
     ]
    },
    {
     "data": {
      "application/vnd.jupyter.widget-view+json": {
       "model_id": "9a1edb79d4624f8c9bf84e519eaf4d7c",
       "version_major": 2,
       "version_minor": 0
      },
      "text/plain": [
       "  0%|          | 0/1031 [00:00<?, ?it/s]"
      ]
     },
     "metadata": {},
     "output_type": "display_data"
    },
    {
     "name": "stdout",
     "output_type": "stream",
     "text": [
      "score:     0.3789887088856161\n",
      "baseline:  0.09137807285124708\n"
     ]
    }
   ],
   "source": [
    "ca4 = ConcreteAbstract(wac2vec, concr_scores, wn, pos_count=3, neg_count=15)\n",
    "ca4.build_all(min_rating=2, test_pct=0.3, verbose=True)\n",
    "score, rand_baseline = ca2.evaluate_vs_distractors(10)\n",
    "print(\"score:    \", score)\n",
    "print(\"baseline: \", rand_baseline)"
   ]
  },
  {
   "cell_type": "code",
   "execution_count": 30,
   "id": "73ce01df",
   "metadata": {},
   "outputs": [
    {
     "name": "stdout",
     "output_type": "stream",
     "text": [
      "Initiate Abstraction Tree\n"
     ]
    },
    {
     "data": {
      "application/vnd.jupyter.widget-view+json": {
       "model_id": "72ec6d178b7f4ba1b36aee94b2e5e58e",
       "version_major": 2,
       "version_minor": 0
      },
      "text/plain": [
       "  0%|          | 0/14510 [00:00<?, ?it/s]"
      ]
     },
     "metadata": {},
     "output_type": "display_data"
    },
    {
     "name": "stdout",
     "output_type": "stream",
     "text": [
      "Grow Abstraction Tree\n"
     ]
    },
    {
     "data": {
      "application/vnd.jupyter.widget-view+json": {
       "model_id": "49890aa0c82f4f368f40ba4c5e1a6f92",
       "version_major": 2,
       "version_minor": 0
      },
      "text/plain": [
       "  0%|          | 0/6881 [00:00<?, ?it/s]"
      ]
     },
     "metadata": {},
     "output_type": "display_data"
    },
    {
     "name": "stdout",
     "output_type": "stream",
     "text": [
      "Add Positive and Negative examples\n"
     ]
    },
    {
     "data": {
      "application/vnd.jupyter.widget-view+json": {
       "model_id": "1e83cbae1f1946768804955b8fca5a3f",
       "version_major": 2,
       "version_minor": 0
      },
      "text/plain": [
       "  0%|          | 0/1305 [00:00<?, ?it/s]"
      ]
     },
     "metadata": {},
     "output_type": "display_data"
    },
    {
     "name": "stdout",
     "output_type": "stream",
     "text": [
      "Fill out Train and Test sets\n"
     ]
    },
    {
     "data": {
      "application/vnd.jupyter.widget-view+json": {
       "model_id": "c01980e94b2a46e59df41578c6f12c86",
       "version_major": 2,
       "version_minor": 0
      },
      "text/plain": [
       "  0%|          | 0/1305 [00:00<?, ?it/s]"
      ]
     },
     "metadata": {},
     "output_type": "display_data"
    },
    {
     "name": "stdout",
     "output_type": "stream",
     "text": [
      "Build Classifiers\n"
     ]
    },
    {
     "data": {
      "application/vnd.jupyter.widget-view+json": {
       "model_id": "41790ae8c90b4a36901e409f75de204a",
       "version_major": 2,
       "version_minor": 0
      },
      "text/plain": [
       "  0%|          | 0/1305 [00:00<?, ?it/s]"
      ]
     },
     "metadata": {},
     "output_type": "display_data"
    },
    {
     "name": "stdout",
     "output_type": "stream",
     "text": [
      "Done\n"
     ]
    }
   ],
   "source": [
    "ca5 = ConcreteAbstract(wac2vec, concr_scores, wn, pos_count=3, neg_count=15)\n",
    "ca5.build_all(min_rating=2, test_pct=0, verbose=True)"
   ]
  },
  {
   "cell_type": "code",
   "execution_count": 31,
   "id": "9c4eb594",
   "metadata": {},
   "outputs": [
    {
     "data": {
      "application/vnd.jupyter.widget-view+json": {
       "model_id": "15ea073050884ae8a507259840fe4710",
       "version_major": 2,
       "version_minor": 0
      },
      "text/plain": [
       "  0%|          | 0/30522 [00:00<?, ?it/s]"
      ]
     },
     "metadata": {},
     "output_type": "display_data"
    },
    {
     "name": "stdout",
     "output_type": "stream",
     "text": [
      "New Embeddings Exported:  1158\n",
      "File:  ddata/new_embeddings_r2_p3_n15_t0_c1158.txt\n"
     ]
    }
   ],
   "source": [
    "ca5.export_embeddings('ddata/new_embeddings')"
   ]
  },
  {
   "cell_type": "code",
   "execution_count": null,
   "id": "81054fb0",
   "metadata": {},
   "outputs": [],
   "source": []
  },
  {
   "cell_type": "code",
   "execution_count": null,
   "id": "28facfc6",
   "metadata": {},
   "outputs": [],
   "source": []
  },
  {
   "cell_type": "code",
   "execution_count": null,
   "id": "91f84073",
   "metadata": {},
   "outputs": [],
   "source": []
  },
  {
   "cell_type": "code",
   "execution_count": 32,
   "id": "bee19037",
   "metadata": {},
   "outputs": [
    {
     "name": "stdout",
     "output_type": "stream",
     "text": [
      "Initiate Abstraction Tree\n"
     ]
    },
    {
     "data": {
      "application/vnd.jupyter.widget-view+json": {
       "model_id": "3277acbc171e4d6e95856293d99a6a43",
       "version_major": 2,
       "version_minor": 0
      },
      "text/plain": [
       "  0%|          | 0/14510 [00:00<?, ?it/s]"
      ]
     },
     "metadata": {},
     "output_type": "display_data"
    },
    {
     "name": "stdout",
     "output_type": "stream",
     "text": [
      "Grow Abstraction Tree\n"
     ]
    },
    {
     "data": {
      "application/vnd.jupyter.widget-view+json": {
       "model_id": "fe6ccbbc7c624dc7a6bd34f6fc9a341b",
       "version_major": 2,
       "version_minor": 0
      },
      "text/plain": [
       "  0%|          | 0/6881 [00:00<?, ?it/s]"
      ]
     },
     "metadata": {},
     "output_type": "display_data"
    },
    {
     "name": "stdout",
     "output_type": "stream",
     "text": [
      "Add Positive and Negative examples\n"
     ]
    },
    {
     "data": {
      "application/vnd.jupyter.widget-view+json": {
       "model_id": "0dd82d6b11a34b8cac0f70aa4e697e4f",
       "version_major": 2,
       "version_minor": 0
      },
      "text/plain": [
       "  0%|          | 0/445 [00:00<?, ?it/s]"
      ]
     },
     "metadata": {},
     "output_type": "display_data"
    },
    {
     "name": "stdout",
     "output_type": "stream",
     "text": [
      "Fill out Train and Test sets\n"
     ]
    },
    {
     "data": {
      "application/vnd.jupyter.widget-view+json": {
       "model_id": "5ee0c42dde2949d79a80f0dcf5ad216a",
       "version_major": 2,
       "version_minor": 0
      },
      "text/plain": [
       "  0%|          | 0/445 [00:00<?, ?it/s]"
      ]
     },
     "metadata": {},
     "output_type": "display_data"
    },
    {
     "name": "stdout",
     "output_type": "stream",
     "text": [
      "Build Classifiers\n"
     ]
    },
    {
     "data": {
      "application/vnd.jupyter.widget-view+json": {
       "model_id": "c8522769545d451e99a72ef0f5c6412c",
       "version_major": 2,
       "version_minor": 0
      },
      "text/plain": [
       "  0%|          | 0/445 [00:00<?, ?it/s]"
      ]
     },
     "metadata": {},
     "output_type": "display_data"
    },
    {
     "name": "stdout",
     "output_type": "stream",
     "text": [
      "Done\n"
     ]
    }
   ],
   "source": [
    "ca7 = ConcreteAbstract(wac2vec, concr_scores, wn, pos_count=8, neg_count=15)\n",
    "ca7.build_all(min_rating=2, test_pct=0, verbose=True)"
   ]
  },
  {
   "cell_type": "code",
   "execution_count": 33,
   "id": "b53241bb",
   "metadata": {},
   "outputs": [
    {
     "data": {
      "application/vnd.jupyter.widget-view+json": {
       "model_id": "e00fa45cf3fa473baf5baebe6430c047",
       "version_major": 2,
       "version_minor": 0
      },
      "text/plain": [
       "  0%|          | 0/30522 [00:00<?, ?it/s]"
      ]
     },
     "metadata": {},
     "output_type": "display_data"
    },
    {
     "name": "stdout",
     "output_type": "stream",
     "text": [
      "New Embeddings Exported:  433\n",
      "File:  ddata/new_embeddings_r2_p8_n15_t0_c433.txt\n"
     ]
    }
   ],
   "source": [
    "ca7.export_embeddings('ddata/new_embeddings')"
   ]
  },
  {
   "cell_type": "code",
   "execution_count": null,
   "id": "a9953545",
   "metadata": {},
   "outputs": [],
   "source": []
  },
  {
   "cell_type": "code",
   "execution_count": null,
   "id": "e5053bc4",
   "metadata": {},
   "outputs": [],
   "source": []
  },
  {
   "cell_type": "code",
   "execution_count": 34,
   "id": "b9fa7688",
   "metadata": {},
   "outputs": [],
   "source": [
    "# Visualize 2D"
   ]
  },
  {
   "cell_type": "raw",
   "id": "59712e45",
   "metadata": {},
   "source": [
    "https://stackabuse.com/dimensionality-reduction-in-python-with-scikit-learn/\n",
    "https://towardsdatascience.com/dimension-reduction-techniques-with-python-f36ca7009e5c\n",
    " - maybe"
   ]
  },
  {
   "cell_type": "code",
   "execution_count": 35,
   "id": "8b42a7e4",
   "metadata": {},
   "outputs": [],
   "source": [
    "def visual_get_categories(ca, start_ss, depth=1):\n",
    "    hypos = ca.abstraction_tree.loc[start_ss, 'HYPONYMS']\n",
    "    if depth <= 0:\n",
    "        return hypos\n",
    "    \n",
    "    ret = []\n",
    "    for h in hypos:\n",
    "        ret = ret + visual_get_categories(ca, h, depth-1)\n",
    "    return ret\n",
    "\n",
    "def get_offspring(ca, parent_ss):\n",
    "    offspring = []\n",
    "    absraction_levels = []\n",
    "    hypos = ca.abstraction_tree.loc[parent_ss, 'HYPONYMS']\n",
    "    emb = ca.abstraction_tree.loc[parent_ss, 'EMBEDDING']\n",
    "    a_level = ca.abstraction_tree.loc[parent_ss, 'DIST2LEAF']\n",
    "\n",
    "    #print(parent_ss)\n",
    "    #print(emb)\n",
    "    #print(hypos)\n",
    "    if emb is not None:\n",
    "        offspring.append(emb)\n",
    "        absraction_levels.append(a_level)\n",
    "    for ss in hypos:\n",
    "        off, a_level = get_offspring(ca, ss)\n",
    "        offspring += off\n",
    "        absraction_levels += a_level\n",
    "    return offspring, absraction_levels\n",
    "\n",
    "def visual_get_X_features(ca, ss_list):\n",
    "    X_features = []\n",
    "    X_colors = []\n",
    "    for i, parent_ss in enumerate(ss_list):\n",
    "        #print(i)\n",
    "        offspring, a_levels = get_offspring(ca, parent_ss)\n",
    "        X_features += offspring\n",
    "        X_colors += [i]*len(offspring)\n",
    "        #X_colors += a_levels\n",
    "    \n",
    "    return X_features, X_colors"
   ]
  },
  {
   "cell_type": "code",
   "execution_count": 36,
   "id": "b405bdab",
   "metadata": {},
   "outputs": [
    {
     "name": "stdout",
     "output_type": "stream",
     "text": [
      "5358 5358\n"
     ]
    }
   ],
   "source": [
    "visual_categories = visual_get_categories(ca7, wn.synset('entity.n.01'), 2)\n",
    "X_features, X_colors = visual_get_X_features(ca7, visual_categories)\n",
    "print(len(X_features), len(X_colors))"
   ]
  },
  {
   "cell_type": "code",
   "execution_count": 37,
   "id": "70e55588",
   "metadata": {},
   "outputs": [],
   "source": [
    "import matplotlib.pyplot as plt\n",
    "from sklearn.decomposition import PCA"
   ]
  },
  {
   "cell_type": "code",
   "execution_count": 38,
   "id": "8ce3981b",
   "metadata": {},
   "outputs": [
    {
     "data": {
      "image/png": "[encoded data removed]",
      "text/plain": [
       "<Figure size 576x432 with 1 Axes>"
      ]
     },
     "metadata": {
      "needs_background": "light"
     },
     "output_type": "display_data"
    }
   ],
   "source": [
    "pca2 = PCA(n_components=368)\n",
    "pca2.fit(X_features)\n",
    "x_3d = pca2.transform(X_features)\n",
    "\n",
    "plt.figure(figsize=(8,6))\n",
    "plt.scatter(x_3d[:,0], x_3d[:,105], c=X_colors)\n",
    "plt.show()"
   ]
  },
  {
   "cell_type": "raw",
   "id": "6b10c82b",
   "metadata": {},
   "source": [
    "pca = PCA()\n",
    "pca.fit_transform(X_features)\n",
    "pca_variance = pca.explained_variance_"
   ]
  },
  {
   "cell_type": "raw",
   "id": "a7ad97f7",
   "metadata": {},
   "source": [
    "plt.figure(figsize=(8, 6))\n",
    "plt.bar(range(513), pca_variance, alpha=0.5, align='center', label='individual variance')\n",
    "plt.legend()\n",
    "plt.ylabel('Variance ratio')\n",
    "plt.xlabel('Principal components')\n",
    "plt.show()"
   ]
  },
  {
   "cell_type": "code",
   "execution_count": null,
   "id": "25c149e9",
   "metadata": {},
   "outputs": [],
   "source": []
  },
  {
   "cell_type": "code",
   "execution_count": null,
   "id": "5f6d2eb9",
   "metadata": {},
   "outputs": [],
   "source": []
  },
  {
   "cell_type": "code",
   "execution_count": null,
   "id": "ae2f0420",
   "metadata": {},
   "outputs": [],
   "source": [
    "# High vs Low abstractness"
   ]
  },
  {
   "cell_type": "code",
   "execution_count": 42,
   "id": "836b3209",
   "metadata": {},
   "outputs": [],
   "source": [
    "X = range(2, 20)"
   ]
  },
  {
   "cell_type": "code",
   "execution_count": 59,
   "id": "f0ff8e4c",
   "metadata": {},
   "outputs": [],
   "source": [
    "ca_test = ca7"
   ]
  },
  {
   "cell_type": "code",
   "execution_count": 60,
   "id": "57e44ee2",
   "metadata": {},
   "outputs": [
    {
     "data": {
      "text/plain": [
       "231"
      ]
     },
     "execution_count": 60,
     "metadata": {},
     "output_type": "execute_result"
    }
   ],
   "source": [
    "# Number of Classifiers (Low)\n",
    "len(ca_test._get_all_classifiers(min_leaf_dist=0, max_leaf_dist=4))"
   ]
  },
  {
   "cell_type": "code",
   "execution_count": 61,
   "id": "bcf36653",
   "metadata": {},
   "outputs": [
    {
     "data": {
      "application/vnd.jupyter.widget-view+json": {
       "model_id": "e57387a2f66f4d6c8ffd8cf3faf53c52",
       "version_major": 2,
       "version_minor": 0
      },
      "text/plain": [
       "  0%|          | 0/231 [00:00<?, ?it/s]"
      ]
     },
     "metadata": {},
     "output_type": "display_data"
    },
    {
     "ename": "ZeroDivisionError",
     "evalue": "division by zero",
     "output_type": "error",
     "traceback": [
      "\u001b[0;31m---------------------------------------------------------------------------\u001b[0m",
      "\u001b[0;31mZeroDivisionError\u001b[0m                         Traceback (most recent call last)",
      "Cell \u001b[0;32mIn[61], line 1\u001b[0m\n\u001b[0;32m----> 1\u001b[0m scores_baselines_low \u001b[38;5;241m=\u001b[39m [ca_test\u001b[38;5;241m.\u001b[39mevaluate_vs_distractors(x, min_leaf_dist\u001b[38;5;241m=\u001b[39m\u001b[38;5;241m0\u001b[39m, max_leaf_dist\u001b[38;5;241m=\u001b[39m\u001b[38;5;241m4\u001b[39m) \u001b[38;5;28;01mfor\u001b[39;00m x \u001b[38;5;129;01min\u001b[39;00m X]\n",
      "Cell \u001b[0;32mIn[61], line 1\u001b[0m, in \u001b[0;36m<listcomp>\u001b[0;34m(.0)\u001b[0m\n\u001b[0;32m----> 1\u001b[0m scores_baselines_low \u001b[38;5;241m=\u001b[39m [\u001b[43mca_test\u001b[49m\u001b[38;5;241;43m.\u001b[39;49m\u001b[43mevaluate_vs_distractors\u001b[49m\u001b[43m(\u001b[49m\u001b[43mx\u001b[49m\u001b[43m,\u001b[49m\u001b[43m \u001b[49m\u001b[43mmin_leaf_dist\u001b[49m\u001b[38;5;241;43m=\u001b[39;49m\u001b[38;5;241;43m0\u001b[39;49m\u001b[43m,\u001b[49m\u001b[43m \u001b[49m\u001b[43mmax_leaf_dist\u001b[49m\u001b[38;5;241;43m=\u001b[39;49m\u001b[38;5;241;43m4\u001b[39;49m\u001b[43m)\u001b[49m \u001b[38;5;28;01mfor\u001b[39;00m x \u001b[38;5;129;01min\u001b[39;00m X]\n",
      "File \u001b[0;32m~/school/cs536-natural-language-processing/concrete-abstract/concreteabstract.py:452\u001b[0m, in \u001b[0;36mConcreteAbstract.evaluate_vs_distractors\u001b[0;34m(self, num_distractors, min_leaf_dist, max_leaf_dist)\u001b[0m\n\u001b[1;32m    448\u001b[0m \u001b[38;5;250m\u001b[39m\u001b[38;5;124;03m\"\"\"Evaluates all classifiers vs a number of distractors.\u001b[39;00m\n\u001b[1;32m    449\u001b[0m \u001b[38;5;124;03mReturns a score and the computed random baseline.\"\"\"\u001b[39;00m\n\u001b[1;32m    451\u001b[0m classifiers \u001b[38;5;241m=\u001b[39m \u001b[38;5;28mself\u001b[39m\u001b[38;5;241m.\u001b[39m_get_all_classifiers(min_leaf_dist, max_leaf_dist)\n\u001b[0;32m--> 452\u001b[0m \u001b[38;5;28;01mreturn\u001b[39;00m \u001b[38;5;28;43mself\u001b[39;49m\u001b[38;5;241;43m.\u001b[39;49m\u001b[43m_evaluate_all_classifiers\u001b[49m\u001b[43m(\u001b[49m\u001b[43mclassifiers\u001b[49m\u001b[43m,\u001b[49m\u001b[43m \u001b[49m\u001b[43mnum_distractors\u001b[49m\u001b[43m)\u001b[49m\n",
      "File \u001b[0;32m~/school/cs536-natural-language-processing/concrete-abstract/concreteabstract.py:442\u001b[0m, in \u001b[0;36mConcreteAbstract._evaluate_all_classifiers\u001b[0;34m(self, classifiers, num_distractors)\u001b[0m\n\u001b[1;32m    439\u001b[0m     grand_total_tests \u001b[38;5;241m+\u001b[39m\u001b[38;5;241m=\u001b[39m total_tests\n\u001b[1;32m    440\u001b[0m     grand_total_possibilities \u001b[38;5;241m+\u001b[39m\u001b[38;5;241m=\u001b[39m total_possibilities\n\u001b[0;32m--> 442\u001b[0m score \u001b[38;5;241m=\u001b[39m \u001b[43mgrand_total_score\u001b[49m\u001b[38;5;241;43m/\u001b[39;49m\u001b[43mgrand_total_tests\u001b[49m\n\u001b[1;32m    443\u001b[0m baseline \u001b[38;5;241m=\u001b[39m grand_total_tests\u001b[38;5;241m/\u001b[39mgrand_total_possibilities\n\u001b[1;32m    445\u001b[0m \u001b[38;5;28;01mreturn\u001b[39;00m score, baseline\n",
      "\u001b[0;31mZeroDivisionError\u001b[0m: division by zero"
     ]
    }
   ],
   "source": [
    "scores_baselines_low = [ca_test.evaluate_vs_distractors(x, min_leaf_dist=0, max_leaf_dist=4) for x in X]"
   ]
  },
  {
   "cell_type": "code",
   "execution_count": null,
   "id": "47138025",
   "metadata": {},
   "outputs": [],
   "source": [
    "scores_low, baselines_low = zip(*scores_baselines_low)"
   ]
  },
  {
   "cell_type": "code",
   "execution_count": null,
   "id": "f0385521",
   "metadata": {},
   "outputs": [],
   "source": [
    "# Number of Classifiers (High)\n",
    "len(ca_test._get_all_classifiers(min_leaf_dist=5, max_leaf_dist=50))"
   ]
  },
  {
   "cell_type": "code",
   "execution_count": null,
   "id": "79a6848f",
   "metadata": {},
   "outputs": [],
   "source": [
    "scores_baselines_high = [ca_test.evaluate_vs_distractors(x, min_leaf_dist=5, max_leaf_dist=50) for x in X]"
   ]
  },
  {
   "cell_type": "code",
   "execution_count": null,
   "id": "276303c9",
   "metadata": {},
   "outputs": [],
   "source": [
    "scores_high, baselines_high = zip(*scores_baselines_high)"
   ]
  },
  {
   "cell_type": "code",
   "execution_count": null,
   "id": "7f015b96",
   "metadata": {},
   "outputs": [],
   "source": [
    "SMALL_SIZE = 8\n",
    "MEDIUM_SIZE = 15\n",
    "BIGGER_SIZE = 20\n",
    "\n",
    "plt.rc('font', size=MEDIUM_SIZE)          # controls default text sizes\n",
    "plt.rc('axes', titlesize=MEDIUM_SIZE)     # fontsize of the axes title\n",
    "plt.rc('axes', labelsize=MEDIUM_SIZE)    # fontsize of the x and y labels\n",
    "plt.rc('xtick', labelsize=MEDIUM_SIZE)    # fontsize of the tick labels\n",
    "plt.rc('ytick', labelsize=MEDIUM_SIZE)    # fontsize of the tick labels\n",
    "plt.rc('legend', fontsize=MEDIUM_SIZE)    # legend fontsize\n",
    "plt.rc('figure', titlesize=MEDIUM_SIZE)  # fontsize of the figure title\n",
    "\n",
    "plt.figure(figsize=(10,8))\n",
    "\n",
    "plt.plot(X, scores_high, label=\"high (5+)\")\n",
    "plt.plot(X, scores_low, label=\"low (4-)\")\n",
    "plt.plot(X, baselines_low, '-.', label=\"baseline low\")\n",
    "plt.plot(X, baselines_high, '-.', label=\"baseline high\")\n",
    "plt.title('high v.s. low abstractness (leaf distance)')\n",
    "plt.ylabel('accuracy')\n",
    "plt.xlabel('number of distractors')\n",
    "plt.legend(loc=\"upper right\")\n",
    "plt.show()\n",
    "plt.show()"
   ]
  },
  {
   "cell_type": "code",
   "execution_count": null,
   "id": "55843bcc",
   "metadata": {},
   "outputs": [],
   "source": [
    "# ca - yes (small) (3, 5, 20)\n",
    "# ca2 - yes (good) (4, 3, 15)\n"
   ]
  }
 ],
 "metadata": {
  "kernelspec": {
   "display_name": "Python 3",
   "language": "python",
   "name": "python3"
  },
  "language_info": {
   "codemirror_mode": {
    "name": "ipython",
    "version": 3
   },
   "file_extension": ".py",
   "mimetype": "text/x-python",
   "name": "python",
   "nbconvert_exporter": "python",
   "pygments_lexer": "ipython3",
   "version": "3.9.16"
  }
 },
 "nbformat": 4,
 "nbformat_minor": 5
}
