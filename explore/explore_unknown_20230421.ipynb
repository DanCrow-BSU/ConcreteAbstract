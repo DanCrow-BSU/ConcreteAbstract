{
 "cells": [
  {
   "cell_type": "code",
   "execution_count": 46,
   "id": "15ec3bfb",
   "metadata": {},
   "outputs": [],
   "source": [
    "from nltk.corpus import wordnet as wn\n",
    "import nltk"
   ]
  },
  {
   "cell_type": "code",
   "execution_count": null,
   "id": "586c2ccc",
   "metadata": {},
   "outputs": [],
   "source": []
  },
  {
   "cell_type": "code",
   "execution_count": null,
   "id": "80a89faa",
   "metadata": {},
   "outputs": [],
   "source": []
  },
  {
   "cell_type": "code",
   "execution_count": 47,
   "id": "4c3517b7",
   "metadata": {},
   "outputs": [],
   "source": [
    "import os\n",
    "import pickle\n",
    "#import matplotlib.pyplot as plt\n",
    "from sklearn.decomposition import PCA\n",
    "import numpy as np"
   ]
  },
  {
   "cell_type": "code",
   "execution_count": 48,
   "id": "258caa1e",
   "metadata": {
    "scrolled": false
   },
   "outputs": [],
   "source": [
    "import matplotlib.pyplot as plt\n",
    "from sklearn.decomposition import PCA"
   ]
  },
  {
   "cell_type": "code",
   "execution_count": 49,
   "id": "7f4699bf",
   "metadata": {},
   "outputs": [],
   "source": [
    "# Hyperparameters\n",
    "\n",
    "#concreteness_threshold = 2\n",
    "concreteness_threshold = 7\n",
    "\n",
    "# Number of positive examples we want for each classifier\n",
    "#pos_count = 3\n",
    "#neg_count = 9\n",
    "#pos_count = 10\n",
    "#neg_count = 20\n",
    "pos_count = 15\n",
    "neg_count = 40\n",
    "\n",
    "\n",
    "test_pct = 0.33 #0.33\n",
    "\n",
    "embedding_file = 'ddata/clip.bertvocab.embeddings.513.txt'\n",
    "embedding_pickle = 'ddata/clip.bertvocab.embeddings.513.pkl'\n",
    "concreteness_file = 'ddata/AC_ratings_google3m_koeper_SiW.csv'\n",
    "concreteness_pickle = 'ddata/AC_ratings_google3m_koeper_SiW.pkl'"
   ]
  },
  {
   "cell_type": "code",
   "execution_count": 50,
   "id": "82bd9616",
   "metadata": {},
   "outputs": [
    {
     "data": {
      "text/plain": [
       "30522"
      ]
     },
     "execution_count": 50,
     "metadata": {},
     "output_type": "execute_result"
    }
   ],
   "source": [
    "# wac2vec\n",
    "\n",
    "if os.path.isfile(embedding_pickle):\n",
    "    wac2vec = pickle.load(open(embedding_pickle, 'rb'))\n",
    "else:\n",
    "    with open(embedding_file) as f:\n",
    "        f = f.readlines()\n",
    "        f = [line.split() for line in f]\n",
    "        wac2vec = {line[0]:np.array(line[1:], dtype=np.float64) for line in f}\n",
    "        pickle.dump(wac2vec, open(embedding_pickle, \"wb\" ))\n",
    "\n",
    "len(wac2vec)"
   ]
  },
  {
   "cell_type": "code",
   "execution_count": 57,
   "id": "9a67919a",
   "metadata": {},
   "outputs": [
    {
     "data": {
      "text/plain": [
       "2168990"
      ]
     },
     "execution_count": 57,
     "metadata": {},
     "output_type": "execute_result"
    }
   ],
   "source": [
    "# concr_scores\n",
    "\n",
    "if os.path.isfile(concreteness_pickle):\n",
    "    concr_scores = pickle.load(open(concreteness_pickle, 'rb'))\n",
    "else:\n",
    "    concr_scores = pd.read_csv(concreteness_file, delimiter='\\t')\n",
    "    concr_scores = concr_scores.dropna()\n",
    "    concr_scores.WORD = concr_scores.WORD.apply(lambda x: x.replace(\"_\", \" \"))\n",
    "    concr_scores.index = concr_scores.WORD\n",
    "    pickle.dump(concr_scores, open(concreteness_pickle, \"wb\" ))\n",
    "\n",
    "len(concr_scores)"
   ]
  },
  {
   "cell_type": "code",
   "execution_count": 52,
   "id": "14512b91",
   "metadata": {},
   "outputs": [],
   "source": [
    "X_features = []\n",
    "for word in list(wac2vec.keys())[7000:7600]:\n",
    "    X_features.append(wac2vec[word])"
   ]
  },
  {
   "cell_type": "code",
   "execution_count": null,
   "id": "0b331ee8",
   "metadata": {},
   "outputs": [],
   "source": []
  },
  {
   "cell_type": "code",
   "execution_count": null,
   "id": "d9ea26f9",
   "metadata": {},
   "outputs": [],
   "source": []
  },
  {
   "cell_type": "code",
   "execution_count": 53,
   "id": "c82b36f0",
   "metadata": {},
   "outputs": [],
   "source": [
    "# Test ConcreteAbstract Class"
   ]
  },
  {
   "cell_type": "code",
   "execution_count": 58,
   "id": "db1072a5",
   "metadata": {},
   "outputs": [
    {
     "name": "stdout",
     "output_type": "stream",
     "text": [
      "The autoreload extension is already loaded. To reload it, use:\n",
      "  %reload_ext autoreload\n"
     ]
    }
   ],
   "source": [
    "%load_ext autoreload"
   ]
  },
  {
   "cell_type": "code",
   "execution_count": 59,
   "id": "1045eb6a",
   "metadata": {},
   "outputs": [],
   "source": [
    "%autoreload 2"
   ]
  },
  {
   "cell_type": "code",
   "execution_count": 60,
   "id": "05f86c48",
   "metadata": {},
   "outputs": [],
   "source": [
    "from concreteabstract import ConcreteAbstract"
   ]
  },
  {
   "cell_type": "code",
   "execution_count": 61,
   "id": "4b3c8f3a",
   "metadata": {},
   "outputs": [
    {
     "data": {
      "application/json": {
       "ascii": false,
       "bar_format": null,
       "colour": null,
       "elapsed": 0.004980802536010742,
       "initial": 0,
       "n": 0,
       "ncols": null,
       "nrows": 29,
       "postfix": null,
       "prefix": "",
       "rate": null,
       "total": 14510,
       "unit": "it",
       "unit_divisor": 1000,
       "unit_scale": false
      },
      "application/vnd.jupyter.widget-view+json": {
       "model_id": "3f7742df1fbc4c248ba60b19ea180872",
       "version_major": 2,
       "version_minor": 0
      },
      "text/plain": [
       "  0%|          | 0/14510 [00:00<?, ?it/s]"
      ]
     },
     "metadata": {},
     "output_type": "display_data"
    },
    {
     "data": {
      "application/json": {
       "ascii": false,
       "bar_format": null,
       "colour": null,
       "elapsed": 0.003985166549682617,
       "initial": 0,
       "n": 0,
       "ncols": null,
       "nrows": 29,
       "postfix": null,
       "prefix": "",
       "rate": null,
       "total": 17,
       "unit": "it",
       "unit_divisor": 1000,
       "unit_scale": false
      },
      "application/vnd.jupyter.widget-view+json": {
       "model_id": "8bb00bfae18b47538be71ce6e5890331",
       "version_major": 2,
       "version_minor": 0
      },
      "text/plain": [
       "  0%|          | 0/17 [00:00<?, ?it/s]"
      ]
     },
     "metadata": {},
     "output_type": "display_data"
    }
   ],
   "source": [
    "ca = ConcreteAbstract(wac2vec, concr_scores, wn)\n",
    "ca.init_abstraction_tree(min_rating=9)\n",
    "ca.grow_abstraction_tree()"
   ]
  },
  {
   "cell_type": "code",
   "execution_count": 13,
   "id": "1057566c",
   "metadata": {},
   "outputs": [],
   "source": [
    "#ca.build_display_tree(wn.synset('entity.n.01'), char_limit=5)"
   ]
  },
  {
   "cell_type": "raw",
   "id": "2ab86b69",
   "metadata": {},
   "source": [
    "pos_examples = ca.find_positive_examples(wn.synset('entity.n.01'))\n",
    "ca.find_negative_examples(wn.synset('entity.n.01'), pos_examples)"
   ]
  },
  {
   "cell_type": "code",
   "execution_count": 14,
   "id": "a09d4ec9",
   "metadata": {},
   "outputs": [
    {
     "data": {
      "application/json": {
       "ascii": false,
       "bar_format": null,
       "colour": null,
       "elapsed": 0.003990888595581055,
       "initial": 0,
       "n": 0,
       "ncols": null,
       "nrows": 29,
       "postfix": null,
       "prefix": "",
       "rate": null,
       "total": 4,
       "unit": "it",
       "unit_divisor": 1000,
       "unit_scale": false
      },
      "application/vnd.jupyter.widget-view+json": {
       "model_id": "34cb95b19ecf4bc5b0c522c26e05b970",
       "version_major": 2,
       "version_minor": 0
      },
      "text/plain": [
       "  0%|          | 0/4 [00:00<?, ?it/s]"
      ]
     },
     "metadata": {},
     "output_type": "display_data"
    }
   ],
   "source": [
    "ca.add_pos_neg_all()"
   ]
  },
  {
   "cell_type": "code",
   "execution_count": 15,
   "id": "3b60b2ba",
   "metadata": {},
   "outputs": [
    {
     "data": {
      "application/json": {
       "ascii": false,
       "bar_format": null,
       "colour": null,
       "elapsed": 0.0049228668212890625,
       "initial": 0,
       "n": 0,
       "ncols": null,
       "nrows": 29,
       "postfix": null,
       "prefix": "",
       "rate": null,
       "total": 4,
       "unit": "it",
       "unit_divisor": 1000,
       "unit_scale": false
      },
      "application/vnd.jupyter.widget-view+json": {
       "model_id": "67a4ca8e7a704f9cb3edddc9df83be22",
       "version_major": 2,
       "version_minor": 0
      },
      "text/plain": [
       "  0%|          | 0/4 [00:00<?, ?it/s]"
      ]
     },
     "metadata": {},
     "output_type": "display_data"
    }
   ],
   "source": [
    "ca.fill_out_train_test()"
   ]
  },
  {
   "cell_type": "code",
   "execution_count": 16,
   "id": "40601d60",
   "metadata": {},
   "outputs": [
    {
     "data": {
      "application/json": {
       "ascii": false,
       "bar_format": null,
       "colour": null,
       "elapsed": 0.003995180130004883,
       "initial": 0,
       "n": 0,
       "ncols": null,
       "nrows": 29,
       "postfix": null,
       "prefix": "",
       "rate": null,
       "total": 4,
       "unit": "it",
       "unit_divisor": 1000,
       "unit_scale": false
      },
      "application/vnd.jupyter.widget-view+json": {
       "model_id": "4c28f7e4a7f9426fa3cf8cea3c51e3c5",
       "version_major": 2,
       "version_minor": 0
      },
      "text/plain": [
       "  0%|          | 0/4 [00:00<?, ?it/s]"
      ]
     },
     "metadata": {},
     "output_type": "display_data"
    }
   ],
   "source": [
    "ca.build_classifiers()"
   ]
  },
  {
   "cell_type": "code",
   "execution_count": 17,
   "id": "882260b0",
   "metadata": {},
   "outputs": [
    {
     "data": {
      "text/plain": [
       "0.5"
      ]
     },
     "execution_count": 17,
     "metadata": {},
     "output_type": "execute_result"
    }
   ],
   "source": [
    "ca.comp_random_baseline()"
   ]
  },
  {
   "cell_type": "code",
   "execution_count": 18,
   "id": "c622045c",
   "metadata": {},
   "outputs": [
    {
     "data": {
      "text/plain": [
       "0.5945945945945946"
      ]
     },
     "execution_count": 18,
     "metadata": {},
     "output_type": "execute_result"
    }
   ],
   "source": [
    "ca.comp_most_common_baseline()"
   ]
  },
  {
   "cell_type": "code",
   "execution_count": 19,
   "id": "2035691d",
   "metadata": {},
   "outputs": [
    {
     "data": {
      "text/plain": [
       "0.7083333333333334"
      ]
     },
     "execution_count": 19,
     "metadata": {},
     "output_type": "execute_result"
    }
   ],
   "source": [
    "ca.evaluate_vs_negative_examples()"
   ]
  },
  {
   "cell_type": "code",
   "execution_count": 20,
   "id": "047af779",
   "metadata": {},
   "outputs": [
    {
     "data": {
      "application/json": {
       "ascii": false,
       "bar_format": null,
       "colour": null,
       "elapsed": 0.003988981246948242,
       "initial": 0,
       "n": 0,
       "ncols": null,
       "nrows": 29,
       "postfix": null,
       "prefix": "",
       "rate": null,
       "total": 4,
       "unit": "it",
       "unit_divisor": 1000,
       "unit_scale": false
      },
      "application/vnd.jupyter.widget-view+json": {
       "model_id": "f057fd32c6204e959905503cbad0d51d",
       "version_major": 2,
       "version_minor": 0
      },
      "text/plain": [
       "  0%|          | 0/4 [00:00<?, ?it/s]"
      ]
     },
     "metadata": {},
     "output_type": "display_data"
    },
    {
     "name": "stdout",
     "output_type": "stream",
     "text": [
      "score:     0.9333333333333333\n",
      "baseline:  0.6\n"
     ]
    }
   ],
   "source": [
    "score, rand_baseline = ca.evaluate_vs_distractors(10)\n",
    "print(\"score:    \", score)\n",
    "print(\"baseline: \", rand_baseline)"
   ]
  },
  {
   "cell_type": "code",
   "execution_count": null,
   "id": "541c6f3d",
   "metadata": {},
   "outputs": [],
   "source": []
  },
  {
   "cell_type": "code",
   "execution_count": null,
   "id": "259b4ad1",
   "metadata": {},
   "outputs": [],
   "source": []
  },
  {
   "cell_type": "code",
   "execution_count": 21,
   "id": "f558bbda",
   "metadata": {},
   "outputs": [],
   "source": [
    "ca = ConcreteAbstract(wac2vec, concr_scores, wn, pos_count=10, neg_count=20)"
   ]
  },
  {
   "cell_type": "code",
   "execution_count": 22,
   "id": "6185a3a9",
   "metadata": {},
   "outputs": [
    {
     "name": "stdout",
     "output_type": "stream",
     "text": [
      "Initiate Abstraction Tree\n"
     ]
    },
    {
     "data": {
      "application/json": {
       "ascii": false,
       "bar_format": null,
       "colour": null,
       "elapsed": 0.007973670959472656,
       "initial": 0,
       "n": 0,
       "ncols": null,
       "nrows": 29,
       "postfix": null,
       "prefix": "",
       "rate": null,
       "total": 14510,
       "unit": "it",
       "unit_divisor": 1000,
       "unit_scale": false
      },
      "application/vnd.jupyter.widget-view+json": {
       "model_id": "b5b4bbc813f6488abc838372f695313a",
       "version_major": 2,
       "version_minor": 0
      },
      "text/plain": [
       "  0%|          | 0/14510 [00:00<?, ?it/s]"
      ]
     },
     "metadata": {},
     "output_type": "display_data"
    },
    {
     "name": "stdout",
     "output_type": "stream",
     "text": [
      "Grow Abstraction Tree\n"
     ]
    },
    {
     "data": {
      "application/json": {
       "ascii": false,
       "bar_format": null,
       "colour": null,
       "elapsed": 0.0039861202239990234,
       "initial": 0,
       "n": 0,
       "ncols": null,
       "nrows": 29,
       "postfix": null,
       "prefix": "",
       "rate": null,
       "total": 343,
       "unit": "it",
       "unit_divisor": 1000,
       "unit_scale": false
      },
      "application/vnd.jupyter.widget-view+json": {
       "model_id": "075e247e562c46748a98253378248d31",
       "version_major": 2,
       "version_minor": 0
      },
      "text/plain": [
       "  0%|          | 0/343 [00:00<?, ?it/s]"
      ]
     },
     "metadata": {},
     "output_type": "display_data"
    },
    {
     "name": "stdout",
     "output_type": "stream",
     "text": [
      "Add Positive and Negative examples\n"
     ]
    },
    {
     "data": {
      "application/json": {
       "ascii": false,
       "bar_format": null,
       "colour": null,
       "elapsed": 0.003978729248046875,
       "initial": 0,
       "n": 0,
       "ncols": null,
       "nrows": 29,
       "postfix": null,
       "prefix": "",
       "rate": null,
       "total": 37,
       "unit": "it",
       "unit_divisor": 1000,
       "unit_scale": false
      },
      "application/vnd.jupyter.widget-view+json": {
       "model_id": "237d3e80b2774abb93094bf0266e9f9f",
       "version_major": 2,
       "version_minor": 0
      },
      "text/plain": [
       "  0%|          | 0/37 [00:00<?, ?it/s]"
      ]
     },
     "metadata": {},
     "output_type": "display_data"
    },
    {
     "name": "stdout",
     "output_type": "stream",
     "text": [
      "Fill out Train and Test sets\n"
     ]
    },
    {
     "data": {
      "application/json": {
       "ascii": false,
       "bar_format": null,
       "colour": null,
       "elapsed": 0.00398707389831543,
       "initial": 0,
       "n": 0,
       "ncols": null,
       "nrows": 29,
       "postfix": null,
       "prefix": "",
       "rate": null,
       "total": 37,
       "unit": "it",
       "unit_divisor": 1000,
       "unit_scale": false
      },
      "application/vnd.jupyter.widget-view+json": {
       "model_id": "978f82eaa3e349f5ad9de4da49efb638",
       "version_major": 2,
       "version_minor": 0
      },
      "text/plain": [
       "  0%|          | 0/37 [00:00<?, ?it/s]"
      ]
     },
     "metadata": {},
     "output_type": "display_data"
    },
    {
     "ename": "KeyboardInterrupt",
     "evalue": "",
     "output_type": "error",
     "traceback": [
      "\u001b[1;31m---------------------------------------------------------------------------\u001b[0m",
      "\u001b[1;31mKeyboardInterrupt\u001b[0m                         Traceback (most recent call last)",
      "Cell \u001b[1;32mIn[22], line 1\u001b[0m\n\u001b[1;32m----> 1\u001b[0m ca\u001b[38;5;241m.\u001b[39mbuild_all(min_rating\u001b[38;5;241m=\u001b[39m\u001b[38;5;241m8\u001b[39m, test_pct\u001b[38;5;241m=\u001b[39m\u001b[38;5;241m0.3\u001b[39m, verbose\u001b[38;5;241m=\u001b[39m\u001b[38;5;28;01mTrue\u001b[39;00m)\n",
      "File \u001b[1;32m~\\MyStuff\\school\\cs536-nlp\\final-project\\concreteabstract.py:479\u001b[0m, in \u001b[0;36mConcreteAbstract.build_all\u001b[1;34m(self, min_rating, test_pct, verbose)\u001b[0m\n\u001b[0;32m    477\u001b[0m \u001b[38;5;28mself\u001b[39m\u001b[38;5;241m.\u001b[39madd_pos_neg_all()\n\u001b[0;32m    478\u001b[0m \u001b[38;5;28mprint\u001b[39m(\u001b[38;5;124m\"\u001b[39m\u001b[38;5;124mFill out Train and Test sets\u001b[39m\u001b[38;5;124m\"\u001b[39m)\n\u001b[1;32m--> 479\u001b[0m \u001b[38;5;28mself\u001b[39m\u001b[38;5;241m.\u001b[39mfill_out_train_test(test_pct)\n\u001b[0;32m    480\u001b[0m \u001b[38;5;28mprint\u001b[39m(\u001b[38;5;124m\"\u001b[39m\u001b[38;5;124mBuild Classifiers\u001b[39m\u001b[38;5;124m\"\u001b[39m)\n\u001b[0;32m    481\u001b[0m \u001b[38;5;28mself\u001b[39m\u001b[38;5;241m.\u001b[39mbuild_classifiers()\n",
      "File \u001b[1;32m~\\MyStuff\\school\\cs536-nlp\\final-project\\concreteabstract.py:310\u001b[0m, in \u001b[0;36mConcreteAbstract.fill_out_train_test\u001b[1;34m(self, test_pct)\u001b[0m\n\u001b[0;32m    308\u001b[0m synsets \u001b[38;5;241m=\u001b[39m \u001b[38;5;28mself\u001b[39m\u001b[38;5;241m.\u001b[39m_get_classifier_capable()\n\u001b[0;32m    309\u001b[0m \u001b[38;5;28;01mfor\u001b[39;00m s \u001b[38;5;129;01min\u001b[39;00m tqdm(synsets):\n\u001b[1;32m--> 310\u001b[0m     X_train, X_test, y_train, y_test  \u001b[38;5;241m=\u001b[39m \u001b[38;5;28mself\u001b[39m\u001b[38;5;241m.\u001b[39m_build_train_test(s, test_pct)\n\u001b[0;32m    311\u001b[0m     \u001b[38;5;28mself\u001b[39m\u001b[38;5;241m.\u001b[39mabstraction_tree\u001b[38;5;241m.\u001b[39mat[s, \u001b[38;5;124m'\u001b[39m\u001b[38;5;124mX_TRAIN\u001b[39m\u001b[38;5;124m'\u001b[39m] \u001b[38;5;241m=\u001b[39m X_train\n\u001b[0;32m    312\u001b[0m     \u001b[38;5;28mself\u001b[39m\u001b[38;5;241m.\u001b[39mabstraction_tree\u001b[38;5;241m.\u001b[39mat[s, \u001b[38;5;124m'\u001b[39m\u001b[38;5;124mX_TEST\u001b[39m\u001b[38;5;124m'\u001b[39m]  \u001b[38;5;241m=\u001b[39m X_test\n",
      "File \u001b[1;32m~\\MyStuff\\school\\cs536-nlp\\final-project\\concreteabstract.py:291\u001b[0m, in \u001b[0;36mConcreteAbstract._build_train_test\u001b[1;34m(self, synset, test_pct)\u001b[0m\n\u001b[0;32m    289\u001b[0m \u001b[38;5;28;01mdef\u001b[39;00m \u001b[38;5;21m_build_train_test\u001b[39m(\u001b[38;5;28mself\u001b[39m, synset, test_pct):\n\u001b[0;32m    290\u001b[0m     pos_examples \u001b[38;5;241m=\u001b[39m \u001b[38;5;28mself\u001b[39m\u001b[38;5;241m.\u001b[39mfind_positive_examples(synset)\n\u001b[1;32m--> 291\u001b[0m     neg_examples \u001b[38;5;241m=\u001b[39m \u001b[38;5;28mself\u001b[39m\u001b[38;5;241m.\u001b[39mfind_negative_examples(synset, pos_examples)\n\u001b[0;32m    292\u001b[0m     X \u001b[38;5;241m=\u001b[39m pos_examples \u001b[38;5;241m+\u001b[39m neg_examples\n\u001b[0;32m    293\u001b[0m     y \u001b[38;5;241m=\u001b[39m \u001b[38;5;28mlist\u001b[39m(np\u001b[38;5;241m.\u001b[39mones(\u001b[38;5;28mlen\u001b[39m(pos_examples))) \u001b[38;5;241m+\u001b[39m \u001b[38;5;28mlist\u001b[39m(np\u001b[38;5;241m.\u001b[39mzeros(\u001b[38;5;28mlen\u001b[39m(neg_examples)))\n",
      "File \u001b[1;32m~\\MyStuff\\school\\cs536-nlp\\final-project\\concreteabstract.py:254\u001b[0m, in \u001b[0;36mConcreteAbstract.find_negative_examples\u001b[1;34m(self, synset, pos_examples)\u001b[0m\n\u001b[0;32m    252\u001b[0m \u001b[38;5;66;03m# Use only more concrete words (words that are closer to a leaf)\u001b[39;00m\n\u001b[0;32m    253\u001b[0m dist2leaf \u001b[38;5;241m=\u001b[39m \u001b[38;5;28mself\u001b[39m\u001b[38;5;241m.\u001b[39mabstraction_tree\u001b[38;5;241m.\u001b[39mloc[synset, \u001b[38;5;124m'\u001b[39m\u001b[38;5;124mDIST2LEAF\u001b[39m\u001b[38;5;124m'\u001b[39m]\n\u001b[1;32m--> 254\u001b[0m neg \u001b[38;5;241m=\u001b[39m neg[\u001b[38;5;28mlist\u001b[39m(\u001b[38;5;28mmap\u001b[39m(\u001b[38;5;28;01mlambda\u001b[39;00m x: \u001b[38;5;28mself\u001b[39m\u001b[38;5;241m.\u001b[39m_is_closer_to_leaf(x, dist2leaf), neg))]\n\u001b[0;32m    255\u001b[0m \u001b[38;5;66;03m# neg examples not in positive examples\u001b[39;00m\n\u001b[0;32m    256\u001b[0m neg \u001b[38;5;241m=\u001b[39m \u001b[38;5;28mset\u001b[39m(neg) \u001b[38;5;241m-\u001b[39m \u001b[38;5;28mset\u001b[39m(pos_examples)\n",
      "File \u001b[1;32m~\\MyStuff\\school\\cs536-nlp\\final-project\\concreteabstract.py:254\u001b[0m, in \u001b[0;36mConcreteAbstract.find_negative_examples.<locals>.<lambda>\u001b[1;34m(x)\u001b[0m\n\u001b[0;32m    252\u001b[0m \u001b[38;5;66;03m# Use only more concrete words (words that are closer to a leaf)\u001b[39;00m\n\u001b[0;32m    253\u001b[0m dist2leaf \u001b[38;5;241m=\u001b[39m \u001b[38;5;28mself\u001b[39m\u001b[38;5;241m.\u001b[39mabstraction_tree\u001b[38;5;241m.\u001b[39mloc[synset, \u001b[38;5;124m'\u001b[39m\u001b[38;5;124mDIST2LEAF\u001b[39m\u001b[38;5;124m'\u001b[39m]\n\u001b[1;32m--> 254\u001b[0m neg \u001b[38;5;241m=\u001b[39m neg[\u001b[38;5;28mlist\u001b[39m(\u001b[38;5;28mmap\u001b[39m(\u001b[38;5;28;01mlambda\u001b[39;00m x: \u001b[38;5;28mself\u001b[39m\u001b[38;5;241m.\u001b[39m_is_closer_to_leaf(x, dist2leaf), neg))]\n\u001b[0;32m    255\u001b[0m \u001b[38;5;66;03m# neg examples not in positive examples\u001b[39;00m\n\u001b[0;32m    256\u001b[0m neg \u001b[38;5;241m=\u001b[39m \u001b[38;5;28mset\u001b[39m(neg) \u001b[38;5;241m-\u001b[39m \u001b[38;5;28mset\u001b[39m(pos_examples)\n",
      "File \u001b[1;32m~\\MyStuff\\school\\cs536-nlp\\final-project\\concreteabstract.py:207\u001b[0m, in \u001b[0;36mConcreteAbstract._is_closer_to_leaf\u001b[1;34m(self, synset, dist)\u001b[0m\n\u001b[0;32m    205\u001b[0m \u001b[38;5;28;01mdef\u001b[39;00m \u001b[38;5;21m_is_closer_to_leaf\u001b[39m(\u001b[38;5;28mself\u001b[39m, synset, dist):\n\u001b[0;32m    206\u001b[0m     \u001b[38;5;124;03m\"\"\"Return true if the synset is closer to a leaf than dist.\"\"\"\u001b[39;00m\n\u001b[1;32m--> 207\u001b[0m     \u001b[38;5;28;01mreturn\u001b[39;00m \u001b[38;5;28mself\u001b[39m\u001b[38;5;241m.\u001b[39m_dist2leaf(synset) \u001b[38;5;241m<\u001b[39m dist\n",
      "File \u001b[1;32m~\\MyStuff\\school\\cs536-nlp\\final-project\\concreteabstract.py:203\u001b[0m, in \u001b[0;36mConcreteAbstract._dist2leaf\u001b[1;34m(self, synset)\u001b[0m\n\u001b[0;32m    202\u001b[0m \u001b[38;5;28;01mdef\u001b[39;00m \u001b[38;5;21m_dist2leaf\u001b[39m(\u001b[38;5;28mself\u001b[39m, synset):\n\u001b[1;32m--> 203\u001b[0m     \u001b[38;5;28;01mreturn\u001b[39;00m \u001b[38;5;28mself\u001b[39m\u001b[38;5;241m.\u001b[39mabstraction_tree\u001b[38;5;241m.\u001b[39mloc[synset, \u001b[38;5;124m'\u001b[39m\u001b[38;5;124mDIST2LEAF\u001b[39m\u001b[38;5;124m'\u001b[39m]\n",
      "File \u001b[1;32m~\\.conda\\envs\\ai\\Lib\\site-packages\\pandas\\core\\indexing.py:1067\u001b[0m, in \u001b[0;36m_LocationIndexer.__getitem__\u001b[1;34m(self, key)\u001b[0m\n\u001b[0;32m   1065\u001b[0m     \u001b[38;5;28;01mif\u001b[39;00m \u001b[38;5;28mself\u001b[39m\u001b[38;5;241m.\u001b[39m_is_scalar_access(key):\n\u001b[0;32m   1066\u001b[0m         \u001b[38;5;28;01mreturn\u001b[39;00m \u001b[38;5;28mself\u001b[39m\u001b[38;5;241m.\u001b[39mobj\u001b[38;5;241m.\u001b[39m_get_value(\u001b[38;5;241m*\u001b[39mkey, takeable\u001b[38;5;241m=\u001b[39m\u001b[38;5;28mself\u001b[39m\u001b[38;5;241m.\u001b[39m_takeable)\n\u001b[1;32m-> 1067\u001b[0m     \u001b[38;5;28;01mreturn\u001b[39;00m \u001b[38;5;28mself\u001b[39m\u001b[38;5;241m.\u001b[39m_getitem_tuple(key)\n\u001b[0;32m   1068\u001b[0m \u001b[38;5;28;01melse\u001b[39;00m:\n\u001b[0;32m   1069\u001b[0m     \u001b[38;5;66;03m# we by definition only have the 0th axis\u001b[39;00m\n\u001b[0;32m   1070\u001b[0m     axis \u001b[38;5;241m=\u001b[39m \u001b[38;5;28mself\u001b[39m\u001b[38;5;241m.\u001b[39maxis \u001b[38;5;129;01mor\u001b[39;00m \u001b[38;5;241m0\u001b[39m\n",
      "File \u001b[1;32m~\\.conda\\envs\\ai\\Lib\\site-packages\\pandas\\core\\indexing.py:1247\u001b[0m, in \u001b[0;36m_LocIndexer._getitem_tuple\u001b[1;34m(self, tup)\u001b[0m\n\u001b[0;32m   1245\u001b[0m \u001b[38;5;28;01mwith\u001b[39;00m suppress(IndexingError):\n\u001b[0;32m   1246\u001b[0m     tup \u001b[38;5;241m=\u001b[39m \u001b[38;5;28mself\u001b[39m\u001b[38;5;241m.\u001b[39m_expand_ellipsis(tup)\n\u001b[1;32m-> 1247\u001b[0m     \u001b[38;5;28;01mreturn\u001b[39;00m \u001b[38;5;28mself\u001b[39m\u001b[38;5;241m.\u001b[39m_getitem_lowerdim(tup)\n\u001b[0;32m   1249\u001b[0m \u001b[38;5;66;03m# no multi-index, so validate all of the indexers\u001b[39;00m\n\u001b[0;32m   1250\u001b[0m tup \u001b[38;5;241m=\u001b[39m \u001b[38;5;28mself\u001b[39m\u001b[38;5;241m.\u001b[39m_validate_tuple_indexer(tup)\n",
      "File \u001b[1;32m~\\.conda\\envs\\ai\\Lib\\site-packages\\pandas\\core\\indexing.py:967\u001b[0m, in \u001b[0;36m_LocationIndexer._getitem_lowerdim\u001b[1;34m(self, tup)\u001b[0m\n\u001b[0;32m    963\u001b[0m \u001b[38;5;28;01mfor\u001b[39;00m i, key \u001b[38;5;129;01min\u001b[39;00m \u001b[38;5;28menumerate\u001b[39m(tup):\n\u001b[0;32m    964\u001b[0m     \u001b[38;5;28;01mif\u001b[39;00m is_label_like(key):\n\u001b[0;32m    965\u001b[0m         \u001b[38;5;66;03m# We don't need to check for tuples here because those are\u001b[39;00m\n\u001b[0;32m    966\u001b[0m         \u001b[38;5;66;03m#  caught by the _is_nested_tuple_indexer check above.\u001b[39;00m\n\u001b[1;32m--> 967\u001b[0m         section \u001b[38;5;241m=\u001b[39m \u001b[38;5;28mself\u001b[39m\u001b[38;5;241m.\u001b[39m_getitem_axis(key, axis\u001b[38;5;241m=\u001b[39mi)\n\u001b[0;32m    969\u001b[0m         \u001b[38;5;66;03m# We should never have a scalar section here, because\u001b[39;00m\n\u001b[0;32m    970\u001b[0m         \u001b[38;5;66;03m#  _getitem_lowerdim is only called after a check for\u001b[39;00m\n\u001b[0;32m    971\u001b[0m         \u001b[38;5;66;03m#  is_scalar_access, which that would be.\u001b[39;00m\n\u001b[0;32m    972\u001b[0m         \u001b[38;5;28;01mif\u001b[39;00m section\u001b[38;5;241m.\u001b[39mndim \u001b[38;5;241m==\u001b[39m \u001b[38;5;28mself\u001b[39m\u001b[38;5;241m.\u001b[39mndim:\n\u001b[0;32m    973\u001b[0m             \u001b[38;5;66;03m# we're in the middle of slicing through a MultiIndex\u001b[39;00m\n\u001b[0;32m    974\u001b[0m             \u001b[38;5;66;03m# revise the key wrt to `section` by inserting an _NS\u001b[39;00m\n",
      "File \u001b[1;32m~\\.conda\\envs\\ai\\Lib\\site-packages\\pandas\\core\\indexing.py:1312\u001b[0m, in \u001b[0;36m_LocIndexer._getitem_axis\u001b[1;34m(self, key, axis)\u001b[0m\n\u001b[0;32m   1310\u001b[0m \u001b[38;5;66;03m# fall thru to straight lookup\u001b[39;00m\n\u001b[0;32m   1311\u001b[0m \u001b[38;5;28mself\u001b[39m\u001b[38;5;241m.\u001b[39m_validate_key(key, axis)\n\u001b[1;32m-> 1312\u001b[0m \u001b[38;5;28;01mreturn\u001b[39;00m \u001b[38;5;28mself\u001b[39m\u001b[38;5;241m.\u001b[39m_get_label(key, axis\u001b[38;5;241m=\u001b[39maxis)\n",
      "File \u001b[1;32m~\\.conda\\envs\\ai\\Lib\\site-packages\\pandas\\core\\indexing.py:1260\u001b[0m, in \u001b[0;36m_LocIndexer._get_label\u001b[1;34m(self, label, axis)\u001b[0m\n\u001b[0;32m   1258\u001b[0m \u001b[38;5;28;01mdef\u001b[39;00m \u001b[38;5;21m_get_label\u001b[39m(\u001b[38;5;28mself\u001b[39m, label, axis: \u001b[38;5;28mint\u001b[39m):\n\u001b[0;32m   1259\u001b[0m     \u001b[38;5;66;03m# GH#5567 this will fail if the label is not present in the axis.\u001b[39;00m\n\u001b[1;32m-> 1260\u001b[0m     \u001b[38;5;28;01mreturn\u001b[39;00m \u001b[38;5;28mself\u001b[39m\u001b[38;5;241m.\u001b[39mobj\u001b[38;5;241m.\u001b[39mxs(label, axis\u001b[38;5;241m=\u001b[39maxis)\n",
      "File \u001b[1;32m~\\.conda\\envs\\ai\\Lib\\site-packages\\pandas\\core\\generic.py:4056\u001b[0m, in \u001b[0;36mNDFrame.xs\u001b[1;34m(self, key, axis, level, drop_level)\u001b[0m\n\u001b[0;32m   4054\u001b[0m             new_index \u001b[38;5;241m=\u001b[39m index[loc]\n\u001b[0;32m   4055\u001b[0m \u001b[38;5;28;01melse\u001b[39;00m:\n\u001b[1;32m-> 4056\u001b[0m     loc \u001b[38;5;241m=\u001b[39m index\u001b[38;5;241m.\u001b[39mget_loc(key)\n\u001b[0;32m   4058\u001b[0m     \u001b[38;5;28;01mif\u001b[39;00m \u001b[38;5;28misinstance\u001b[39m(loc, np\u001b[38;5;241m.\u001b[39mndarray):\n\u001b[0;32m   4059\u001b[0m         \u001b[38;5;28;01mif\u001b[39;00m loc\u001b[38;5;241m.\u001b[39mdtype \u001b[38;5;241m==\u001b[39m np\u001b[38;5;241m.\u001b[39mbool_:\n",
      "File \u001b[1;32m~\\.conda\\envs\\ai\\Lib\\site-packages\\pandas\\core\\indexes\\base.py:3754\u001b[0m, in \u001b[0;36mIndex.get_loc\u001b[1;34m(self, key, method, tolerance)\u001b[0m\n\u001b[0;32m   3749\u001b[0m     \u001b[38;5;28;01mreturn\u001b[39;00m other, result_name\n\u001b[0;32m   3751\u001b[0m \u001b[38;5;66;03m# --------------------------------------------------------------------\u001b[39;00m\n\u001b[0;32m   3752\u001b[0m \u001b[38;5;66;03m# Indexing Methods\u001b[39;00m\n\u001b[1;32m-> 3754\u001b[0m \u001b[38;5;28;01mdef\u001b[39;00m \u001b[38;5;21mget_loc\u001b[39m(\u001b[38;5;28mself\u001b[39m, key, method\u001b[38;5;241m=\u001b[39m\u001b[38;5;28;01mNone\u001b[39;00m, tolerance\u001b[38;5;241m=\u001b[39m\u001b[38;5;28;01mNone\u001b[39;00m):\n\u001b[0;32m   3755\u001b[0m     \u001b[38;5;124;03m\"\"\"\u001b[39;00m\n\u001b[0;32m   3756\u001b[0m \u001b[38;5;124;03m    Get integer location, slice or boolean mask for requested label.\u001b[39;00m\n\u001b[0;32m   3757\u001b[0m \n\u001b[1;32m   (...)\u001b[0m\n\u001b[0;32m   3792\u001b[0m \u001b[38;5;124;03m    array([False,  True, False,  True])\u001b[39;00m\n\u001b[0;32m   3793\u001b[0m \u001b[38;5;124;03m    \"\"\"\u001b[39;00m\n\u001b[0;32m   3794\u001b[0m     \u001b[38;5;28;01mif\u001b[39;00m method \u001b[38;5;129;01mis\u001b[39;00m \u001b[38;5;28;01mNone\u001b[39;00m:\n",
      "\u001b[1;31mKeyboardInterrupt\u001b[0m: "
     ]
    }
   ],
   "source": [
    "ca.build_all(min_rating=8, test_pct=0.3, verbose=True)"
   ]
  },
  {
   "cell_type": "code",
   "execution_count": null,
   "id": "caab9b90",
   "metadata": {},
   "outputs": [],
   "source": [
    "ca.export_embeddings('ddata/new_embeddings')"
   ]
  },
  {
   "cell_type": "code",
   "execution_count": null,
   "id": "267b305b",
   "metadata": {},
   "outputs": [],
   "source": []
  },
  {
   "cell_type": "code",
   "execution_count": null,
   "id": "cecb9597",
   "metadata": {},
   "outputs": [],
   "source": []
  },
  {
   "cell_type": "code",
   "execution_count": null,
   "id": "452339ce",
   "metadata": {},
   "outputs": [],
   "source": [
    "# Let's find a good set of hyperparameters"
   ]
  },
  {
   "cell_type": "code",
   "execution_count": null,
   "id": "498229fc",
   "metadata": {},
   "outputs": [],
   "source": [
    "ca = ConcreteAbstract(wac2vec, concr_scores, wn, pos_count=5, neg_count=20)\n",
    "ca.build_all(min_rating=5, test_pct=0.3, verbose=True)\n",
    "score, rand_baseline = ca.evaluate_vs_distractors(10)\n",
    "print(\"score:    \", score)\n",
    "print(\"baseline: \", rand_baseline)"
   ]
  },
  {
   "cell_type": "code",
   "execution_count": null,
   "id": "34f6ba31",
   "metadata": {},
   "outputs": [],
   "source": [
    "ca.export_embeddings('ddata/new_embeddings')"
   ]
  },
  {
   "cell_type": "code",
   "execution_count": null,
   "id": "44390602",
   "metadata": {},
   "outputs": [],
   "source": []
  },
  {
   "cell_type": "code",
   "execution_count": null,
   "id": "a5f834b4",
   "metadata": {},
   "outputs": [],
   "source": [
    "ca2 = ConcreteAbstract(wac2vec, concr_scores, wn, pos_count=3, neg_count=15)\n",
    "ca2.build_all(min_rating=4, test_pct=0.3, verbose=True)\n",
    "score, rand_baseline = ca2.evaluate_vs_distractors(10)\n",
    "print(\"score:    \", score)\n",
    "print(\"baseline: \", rand_baseline)"
   ]
  },
  {
   "cell_type": "code",
   "execution_count": null,
   "id": "67f66bfd",
   "metadata": {},
   "outputs": [],
   "source": [
    "ca3 = ConcreteAbstract(wac2vec, concr_scores, wn, pos_count=3, neg_count=15)\n",
    "ca3.build_all(min_rating=4, test_pct=0, verbose=True)"
   ]
  },
  {
   "cell_type": "code",
   "execution_count": null,
   "id": "c37b90fa",
   "metadata": {},
   "outputs": [],
   "source": [
    "ca3.export_embeddings('ddata/new_embeddings')"
   ]
  },
  {
   "cell_type": "code",
   "execution_count": null,
   "id": "db6b2453",
   "metadata": {},
   "outputs": [],
   "source": []
  },
  {
   "cell_type": "code",
   "execution_count": null,
   "id": "1806ca71",
   "metadata": {},
   "outputs": [],
   "source": []
  },
  {
   "cell_type": "code",
   "execution_count": null,
   "id": "3c6848cc",
   "metadata": {},
   "outputs": [],
   "source": [
    "ca4 = ConcreteAbstract(wac2vec, concr_scores, wn, pos_count=3, neg_count=15)\n",
    "ca4.build_all(min_rating=2, test_pct=0.3, verbose=True)\n",
    "score, rand_baseline = ca2.evaluate_vs_distractors(10)\n",
    "print(\"score:    \", score)\n",
    "print(\"baseline: \", rand_baseline)"
   ]
  },
  {
   "cell_type": "code",
   "execution_count": null,
   "id": "d87c7760",
   "metadata": {},
   "outputs": [],
   "source": [
    "ca5 = ConcreteAbstract(wac2vec, concr_scores, wn, pos_count=3, neg_count=15)\n",
    "ca5.build_all(min_rating=2, test_pct=0, verbose=True)"
   ]
  },
  {
   "cell_type": "code",
   "execution_count": null,
   "id": "6bd8f407",
   "metadata": {},
   "outputs": [],
   "source": [
    "ca5.export_embeddings('ddata/new_embeddings')"
   ]
  },
  {
   "cell_type": "code",
   "execution_count": null,
   "id": "8703558a",
   "metadata": {},
   "outputs": [],
   "source": []
  },
  {
   "cell_type": "code",
   "execution_count": null,
   "id": "077800c0",
   "metadata": {},
   "outputs": [],
   "source": []
  },
  {
   "cell_type": "code",
   "execution_count": null,
   "id": "a81d59f8",
   "metadata": {},
   "outputs": [],
   "source": []
  },
  {
   "cell_type": "code",
   "execution_count": null,
   "id": "153ce39e",
   "metadata": {},
   "outputs": [],
   "source": [
    "ca7 = ConcreteAbstract(wac2vec, concr_scores, wn, pos_count=8, neg_count=15)\n",
    "ca7.build_all(min_rating=2, test_pct=0, verbose=True)"
   ]
  },
  {
   "cell_type": "code",
   "execution_count": null,
   "id": "7286c576",
   "metadata": {},
   "outputs": [],
   "source": [
    "ca7.export_embeddings('ddata/new_embeddings')"
   ]
  },
  {
   "cell_type": "code",
   "execution_count": null,
   "id": "08794151",
   "metadata": {},
   "outputs": [],
   "source": []
  },
  {
   "cell_type": "code",
   "execution_count": null,
   "id": "e94e19ac",
   "metadata": {},
   "outputs": [],
   "source": []
  },
  {
   "cell_type": "code",
   "execution_count": null,
   "id": "2dc775a7",
   "metadata": {},
   "outputs": [],
   "source": [
    "# Visualize 2D"
   ]
  },
  {
   "cell_type": "raw",
   "id": "434e2f21",
   "metadata": {},
   "source": [
    "https://stackabuse.com/dimensionality-reduction-in-python-with-scikit-learn/\n",
    "https://towardsdatascience.com/dimension-reduction-techniques-with-python-f36ca7009e5c\n",
    " - maybe"
   ]
  },
  {
   "cell_type": "code",
   "execution_count": 33,
   "id": "3196968b",
   "metadata": {},
   "outputs": [],
   "source": [
    "def visual_get_categories(ca, start_ss, depth=1):\n",
    "    hypos = ca.abstraction_tree.loc[start_ss, 'HYPONYMS']\n",
    "    if depth <= 0:\n",
    "        return hypos\n",
    "    \n",
    "    ret = []\n",
    "    for h in hypos:\n",
    "        ret = ret + visual_get_categories(ca, h, depth-1)\n",
    "    return ret\n",
    "\n",
    "def get_offspring(ca, parent_ss):\n",
    "    offspring = []\n",
    "    absraction_levels = []\n",
    "    hypos = ca.abstraction_tree.loc[parent_ss, 'HYPONYMS']\n",
    "    emb = ca.abstraction_tree.loc[parent_ss, 'EMBEDDING']\n",
    "    a_level = ca.abstraction_tree.loc[parent_ss, 'DIST2LEAF']\n",
    "\n",
    "    #print(parent_ss)\n",
    "    #print(emb)\n",
    "    #print(hypos)\n",
    "    if emb is not None:\n",
    "        offspring.append(emb)\n",
    "        absraction_levels.append(a_level)\n",
    "    for ss in hypos:\n",
    "        off, a_level = get_offspring(ca, ss)\n",
    "        offspring += off\n",
    "        absraction_levels += a_level\n",
    "    return offspring, absraction_levels\n",
    "\n",
    "def visual_get_X_features(ca, ss_list):\n",
    "    X_features = []\n",
    "    X_colors = []\n",
    "    for i, parent_ss in enumerate(ss_list):\n",
    "        #print(i)\n",
    "        offspring, a_levels = get_offspring(ca, parent_ss)\n",
    "        X_features += offspring\n",
    "        #X_colors += [i]*len(offspring)\n",
    "        X_colors += a_levels\n",
    "    \n",
    "    return X_features, X_colors"
   ]
  },
  {
   "cell_type": "code",
   "execution_count": null,
   "id": "e014eea2",
   "metadata": {},
   "outputs": [],
   "source": [
    "visual_categories = visual_get_categories(ca7, wn.synset('entity.n.01'), 2)\n",
    "X_features, X_colors = visual_get_X_features(ca7, visual_categories)\n",
    "print(len(X_features), len(X_colors))"
   ]
  },
  {
   "cell_type": "code",
   "execution_count": null,
   "id": "a88637be",
   "metadata": {},
   "outputs": [],
   "source": [
    "import matplotlib.pyplot as plt\n",
    "from sklearn.decomposition import PCA"
   ]
  },
  {
   "cell_type": "code",
   "execution_count": null,
   "id": "d618ee8c",
   "metadata": {},
   "outputs": [],
   "source": [
    "pca2 = PCA(n_components=368)\n",
    "pca2.fit(X_features)\n",
    "x_3d = pca2.transform(X_features)\n",
    "\n",
    "plt.figure(figsize=(8,6))\n",
    "plt.scatter(x_3d[:,0], x_3d[:,105], c=X_colors)\n",
    "plt.show()"
   ]
  },
  {
   "cell_type": "raw",
   "id": "78aa1129",
   "metadata": {},
   "source": [
    "pca = PCA()\n",
    "pca.fit_transform(X_features)\n",
    "pca_variance = pca.explained_variance_"
   ]
  },
  {
   "cell_type": "raw",
   "id": "0d6cffe2",
   "metadata": {},
   "source": [
    "plt.figure(figsize=(8, 6))\n",
    "plt.bar(range(513), pca_variance, alpha=0.5, align='center', label='individual variance')\n",
    "plt.legend()\n",
    "plt.ylabel('Variance ratio')\n",
    "plt.xlabel('Principal components')\n",
    "plt.show()"
   ]
  },
  {
   "cell_type": "code",
   "execution_count": null,
   "id": "1574f3cd",
   "metadata": {},
   "outputs": [],
   "source": []
  },
  {
   "cell_type": "code",
   "execution_count": null,
   "id": "a5a18cb8",
   "metadata": {},
   "outputs": [],
   "source": []
  },
  {
   "cell_type": "code",
   "execution_count": null,
   "id": "7947083e",
   "metadata": {},
   "outputs": [],
   "source": []
  },
  {
   "cell_type": "code",
   "execution_count": null,
   "id": "2d756ad2",
   "metadata": {},
   "outputs": [],
   "source": [
    "# Average Exploration"
   ]
  },
  {
   "cell_type": "code",
   "execution_count": 85,
   "id": "bc4e02d9",
   "metadata": {},
   "outputs": [
    {
     "data": {
      "application/json": {
       "ascii": false,
       "bar_format": null,
       "colour": null,
       "elapsed": 0.004975318908691406,
       "initial": 0,
       "n": 0,
       "ncols": null,
       "nrows": 29,
       "postfix": null,
       "prefix": "",
       "rate": null,
       "total": 14510,
       "unit": "it",
       "unit_divisor": 1000,
       "unit_scale": false
      },
      "application/vnd.jupyter.widget-view+json": {
       "model_id": "9dc2d3cccdc54e1dbd9cb10fc61035d0",
       "version_major": 2,
       "version_minor": 0
      },
      "text/plain": [
       "  0%|          | 0/14510 [00:00<?, ?it/s]"
      ]
     },
     "metadata": {},
     "output_type": "display_data"
    },
    {
     "data": {
      "application/json": {
       "ascii": false,
       "bar_format": null,
       "colour": null,
       "elapsed": 0.004983425140380859,
       "initial": 0,
       "n": 0,
       "ncols": null,
       "nrows": 29,
       "postfix": null,
       "prefix": "",
       "rate": null,
       "total": 3605,
       "unit": "it",
       "unit_divisor": 1000,
       "unit_scale": false
      },
      "application/vnd.jupyter.widget-view+json": {
       "model_id": "29ae020556344a05bbaf200e5c216893",
       "version_major": 2,
       "version_minor": 0
      },
      "text/plain": [
       "  0%|          | 0/3605 [00:00<?, ?it/s]"
      ]
     },
     "metadata": {},
     "output_type": "display_data"
    }
   ],
   "source": [
    "ca = ConcreteAbstract(wac2vec, concr_scores, wn)\n",
    "ca.init_abstraction_tree(min_rating=5)\n",
    "ca.grow_abstraction_tree()"
   ]
  },
  {
   "cell_type": "code",
   "execution_count": 86,
   "id": "3f1896bc",
   "metadata": {
    "scrolled": true
   },
   "outputs": [
    {
     "data": {
      "application/json": {
       "ascii": false,
       "bar_format": null,
       "colour": null,
       "elapsed": 0.0039691925048828125,
       "initial": 0,
       "n": 0,
       "ncols": null,
       "nrows": 29,
       "postfix": null,
       "prefix": "",
       "rate": null,
       "total": 2827,
       "unit": "it",
       "unit_divisor": 1000,
       "unit_scale": false
      },
      "application/vnd.jupyter.widget-view+json": {
       "model_id": "ac5cd3c0cdb944798bbd587f8ec9d492",
       "version_major": 2,
       "version_minor": 0
      },
      "text/plain": [
       "  0%|          | 0/2827 [00:00<?, ?it/s]"
      ]
     },
     "metadata": {},
     "output_type": "display_data"
    }
   ],
   "source": [
    "ca.build_average_embeddings()"
   ]
  },
  {
   "cell_type": "code",
   "execution_count": 87,
   "id": "383da526",
   "metadata": {},
   "outputs": [
    {
     "data": {
      "text/plain": [
       "2827"
      ]
     },
     "execution_count": 87,
     "metadata": {},
     "output_type": "execute_result"
    }
   ],
   "source": [
    "ca.average_embedding_count()"
   ]
  },
  {
   "cell_type": "code",
   "execution_count": 26,
   "id": "8bc0686e",
   "metadata": {},
   "outputs": [
    {
     "data": {
      "text/html": [
       "<div>\n",
       "<style scoped>\n",
       "    .dataframe tbody tr th:only-of-type {\n",
       "        vertical-align: middle;\n",
       "    }\n",
       "\n",
       "    .dataframe tbody tr th {\n",
       "        vertical-align: top;\n",
       "    }\n",
       "\n",
       "    .dataframe thead th {\n",
       "        text-align: right;\n",
       "    }\n",
       "</style>\n",
       "<table border=\"1\" class=\"dataframe\">\n",
       "  <thead>\n",
       "    <tr style=\"text-align: right;\">\n",
       "      <th></th>\n",
       "      <th>SYNSET</th>\n",
       "      <th>WORD</th>\n",
       "      <th>DIST2LEAF</th>\n",
       "      <th>NUM_LEAVES</th>\n",
       "      <th>HYPERNYM</th>\n",
       "      <th>HYPONYMS</th>\n",
       "      <th>EMBEDDING</th>\n",
       "    </tr>\n",
       "    <tr>\n",
       "      <th>SYNSET</th>\n",
       "      <th></th>\n",
       "      <th></th>\n",
       "      <th></th>\n",
       "      <th></th>\n",
       "      <th></th>\n",
       "      <th></th>\n",
       "      <th></th>\n",
       "    </tr>\n",
       "  </thead>\n",
       "  <tbody>\n",
       "    <tr>\n",
       "      <th>Synset('tracker.n.01')</th>\n",
       "      <td>Synset('tracker.n.01')</td>\n",
       "      <td>tracker</td>\n",
       "      <td>0</td>\n",
       "      <td>1</td>\n",
       "      <td>[Synset('hunter.n.01')]</td>\n",
       "      <td>[]</td>\n",
       "      <td>[0.05986997594351885, 0.04477477263618056, 0.0...</td>\n",
       "    </tr>\n",
       "    <tr>\n",
       "      <th>Synset('banana.n.01')</th>\n",
       "      <td>Synset('banana.n.01')</td>\n",
       "      <td>banana</td>\n",
       "      <td>0</td>\n",
       "      <td>1</td>\n",
       "      <td>[Synset('herb.n.01')]</td>\n",
       "      <td>[]</td>\n",
       "      <td>[0.05985448005640845, 0.030340837990694418, -0...</td>\n",
       "    </tr>\n",
       "    <tr>\n",
       "      <th>Synset('wrapping.n.01')</th>\n",
       "      <td>Synset('wrapping.n.01')</td>\n",
       "      <td>wrapping</td>\n",
       "      <td>0</td>\n",
       "      <td>1</td>\n",
       "      <td>[Synset('covering.n.02')]</td>\n",
       "      <td>[]</td>\n",
       "      <td>[0.01929052366807369, -0.04730167679343691, -0...</td>\n",
       "    </tr>\n",
       "    <tr>\n",
       "      <th>Synset('figure.n.01')</th>\n",
       "      <td>Synset('figure.n.01')</td>\n",
       "      <td>fig</td>\n",
       "      <td>0</td>\n",
       "      <td>1</td>\n",
       "      <td>[Synset('illustration.n.01')]</td>\n",
       "      <td>[]</td>\n",
       "      <td>[-0.35038071623274214, -0.18741347667293456, -...</td>\n",
       "    </tr>\n",
       "    <tr>\n",
       "      <th>Synset('outskirts.n.01')</th>\n",
       "      <td>Synset('outskirts.n.01')</td>\n",
       "      <td>outskirts</td>\n",
       "      <td>0</td>\n",
       "      <td>1</td>\n",
       "      <td>[Synset('section.n.03')]</td>\n",
       "      <td>[]</td>\n",
       "      <td>[0.02815745105900946, 0.16541310872338838, 0.1...</td>\n",
       "    </tr>\n",
       "    <tr>\n",
       "      <th>...</th>\n",
       "      <td>...</td>\n",
       "      <td>...</td>\n",
       "      <td>...</td>\n",
       "      <td>...</td>\n",
       "      <td>...</td>\n",
       "      <td>...</td>\n",
       "      <td>...</td>\n",
       "    </tr>\n",
       "    <tr>\n",
       "      <th>Synset('material_resource.n.01')</th>\n",
       "      <td>Synset('material_resource.n.01')</td>\n",
       "      <td>None</td>\n",
       "      <td>5</td>\n",
       "      <td>1</td>\n",
       "      <td>[Synset('assets.n.01')]</td>\n",
       "      <td>[Synset('wealth.n.03')]</td>\n",
       "      <td>[0.1253269690484357, -0.026361485874611238, 0....</td>\n",
       "    </tr>\n",
       "    <tr>\n",
       "      <th>Synset('charge.n.08')</th>\n",
       "      <td>Synset('charge.n.08')</td>\n",
       "      <td>None</td>\n",
       "      <td>5</td>\n",
       "      <td>1</td>\n",
       "      <td>[Synset('liabilities.n.01')]</td>\n",
       "      <td>[Synset('levy.n.01')]</td>\n",
       "      <td>[-0.1015565007769945, 0.09771269013708984, -0....</td>\n",
       "    </tr>\n",
       "    <tr>\n",
       "      <th>Synset('react.v.01')</th>\n",
       "      <td>Synset('react.v.01')</td>\n",
       "      <td>None</td>\n",
       "      <td>5</td>\n",
       "      <td>1</td>\n",
       "      <td>[Synset('act.v.01')]</td>\n",
       "      <td>[Synset('accept.v.03')]</td>\n",
       "      <td>[-0.17041495578349733, 0.06358745190850727, -0...</td>\n",
       "    </tr>\n",
       "    <tr>\n",
       "      <th>Synset('think.v.03')</th>\n",
       "      <td>Synset('think.v.03')</td>\n",
       "      <td>None</td>\n",
       "      <td>5</td>\n",
       "      <td>1</td>\n",
       "      <td>[]</td>\n",
       "      <td>[Synset('reason.v.03')]</td>\n",
       "      <td>[-0.00016634695670663397, -0.05859434451083169...</td>\n",
       "    </tr>\n",
       "    <tr>\n",
       "      <th>Synset('continuance.n.01')</th>\n",
       "      <td>Synset('continuance.n.01')</td>\n",
       "      <td>None</td>\n",
       "      <td>5</td>\n",
       "      <td>1</td>\n",
       "      <td>[Synset('activity.n.01')]</td>\n",
       "      <td>[Synset('repetition.n.02')]</td>\n",
       "      <td>[-0.07844732860305119, 0.016593362105141948, -...</td>\n",
       "    </tr>\n",
       "  </tbody>\n",
       "</table>\n",
       "<p>8255 rows × 7 columns</p>\n",
       "</div>"
      ],
      "text/plain": [
       "                                                            SYNSET       WORD  \\\n",
       "SYNSET                                                                          \n",
       "Synset('tracker.n.01')                      Synset('tracker.n.01')    tracker   \n",
       "Synset('banana.n.01')                        Synset('banana.n.01')     banana   \n",
       "Synset('wrapping.n.01')                    Synset('wrapping.n.01')   wrapping   \n",
       "Synset('figure.n.01')                        Synset('figure.n.01')        fig   \n",
       "Synset('outskirts.n.01')                  Synset('outskirts.n.01')  outskirts   \n",
       "...                                                            ...        ...   \n",
       "Synset('material_resource.n.01')  Synset('material_resource.n.01')       None   \n",
       "Synset('charge.n.08')                        Synset('charge.n.08')       None   \n",
       "Synset('react.v.01')                          Synset('react.v.01')       None   \n",
       "Synset('think.v.03')                          Synset('think.v.03')       None   \n",
       "Synset('continuance.n.01')              Synset('continuance.n.01')       None   \n",
       "\n",
       "                                  DIST2LEAF  NUM_LEAVES  \\\n",
       "SYNSET                                                    \n",
       "Synset('tracker.n.01')                    0           1   \n",
       "Synset('banana.n.01')                     0           1   \n",
       "Synset('wrapping.n.01')                   0           1   \n",
       "Synset('figure.n.01')                     0           1   \n",
       "Synset('outskirts.n.01')                  0           1   \n",
       "...                                     ...         ...   \n",
       "Synset('material_resource.n.01')          5           1   \n",
       "Synset('charge.n.08')                     5           1   \n",
       "Synset('react.v.01')                      5           1   \n",
       "Synset('think.v.03')                      5           1   \n",
       "Synset('continuance.n.01')                5           1   \n",
       "\n",
       "                                                       HYPERNYM  \\\n",
       "SYNSET                                                            \n",
       "Synset('tracker.n.01')                  [Synset('hunter.n.01')]   \n",
       "Synset('banana.n.01')                     [Synset('herb.n.01')]   \n",
       "Synset('wrapping.n.01')               [Synset('covering.n.02')]   \n",
       "Synset('figure.n.01')             [Synset('illustration.n.01')]   \n",
       "Synset('outskirts.n.01')               [Synset('section.n.03')]   \n",
       "...                                                         ...   \n",
       "Synset('material_resource.n.01')        [Synset('assets.n.01')]   \n",
       "Synset('charge.n.08')              [Synset('liabilities.n.01')]   \n",
       "Synset('react.v.01')                       [Synset('act.v.01')]   \n",
       "Synset('think.v.03')                                         []   \n",
       "Synset('continuance.n.01')            [Synset('activity.n.01')]   \n",
       "\n",
       "                                                     HYPONYMS  \\\n",
       "SYNSET                                                          \n",
       "Synset('tracker.n.01')                                     []   \n",
       "Synset('banana.n.01')                                      []   \n",
       "Synset('wrapping.n.01')                                    []   \n",
       "Synset('figure.n.01')                                      []   \n",
       "Synset('outskirts.n.01')                                   []   \n",
       "...                                                       ...   \n",
       "Synset('material_resource.n.01')      [Synset('wealth.n.03')]   \n",
       "Synset('charge.n.08')                   [Synset('levy.n.01')]   \n",
       "Synset('react.v.01')                  [Synset('accept.v.03')]   \n",
       "Synset('think.v.03')                  [Synset('reason.v.03')]   \n",
       "Synset('continuance.n.01')        [Synset('repetition.n.02')]   \n",
       "\n",
       "                                                                          EMBEDDING  \n",
       "SYNSET                                                                               \n",
       "Synset('tracker.n.01')            [0.05986997594351885, 0.04477477263618056, 0.0...  \n",
       "Synset('banana.n.01')             [0.05985448005640845, 0.030340837990694418, -0...  \n",
       "Synset('wrapping.n.01')           [0.01929052366807369, -0.04730167679343691, -0...  \n",
       "Synset('figure.n.01')             [-0.35038071623274214, -0.18741347667293456, -...  \n",
       "Synset('outskirts.n.01')          [0.02815745105900946, 0.16541310872338838, 0.1...  \n",
       "...                                                                             ...  \n",
       "Synset('material_resource.n.01')  [0.1253269690484357, -0.026361485874611238, 0....  \n",
       "Synset('charge.n.08')             [-0.1015565007769945, 0.09771269013708984, -0....  \n",
       "Synset('react.v.01')              [-0.17041495578349733, 0.06358745190850727, -0...  \n",
       "Synset('think.v.03')              [-0.00016634695670663397, -0.05859434451083169...  \n",
       "Synset('continuance.n.01')        [-0.07844732860305119, 0.016593362105141948, -...  \n",
       "\n",
       "[8255 rows x 7 columns]"
      ]
     },
     "execution_count": 26,
     "metadata": {},
     "output_type": "execute_result"
    }
   ],
   "source": [
    "ca.abstraction_tree"
   ]
  },
  {
   "cell_type": "raw",
   "id": "fa550759",
   "metadata": {},
   "source": [
    "ca.export_embeddings('ddata/avg_embeddings')"
   ]
  },
  {
   "cell_type": "code",
   "execution_count": null,
   "id": "4ed4f243",
   "metadata": {},
   "outputs": [],
   "source": []
  },
  {
   "cell_type": "code",
   "execution_count": null,
   "id": "92c3d842",
   "metadata": {},
   "outputs": [],
   "source": []
  },
  {
   "cell_type": "code",
   "execution_count": 41,
   "id": "326ce63e",
   "metadata": {},
   "outputs": [
    {
     "name": "stdout",
     "output_type": "stream",
     "text": [
      "212 212\n"
     ]
    }
   ],
   "source": [
    "#visual_categories = visual_get_categories(ca, wn.synset('entity.n.01'), 2)\n",
    "visual_categories = visual_get_categories(ca, wn.synset('animal.n.01'), 2)\n",
    "X_features, X_colors = visual_get_X_features(ca, visual_categories)\n",
    "print(len(X_features), len(X_colors))"
   ]
  },
  {
   "cell_type": "code",
   "execution_count": 45,
   "id": "e70bca63",
   "metadata": {},
   "outputs": [
    {
     "data": {
      "image/png": "[encoded data removed]",
      "text/plain": [
       "<Figure size 800x600 with 1 Axes>"
      ]
     },
     "metadata": {},
     "output_type": "display_data"
    }
   ],
   "source": [
    "pca = PCA(n_components=212)\n",
    "pca.fit(X_features)\n",
    "x_3d = pca.transform(X_features)\n",
    "\n",
    "plt.figure(figsize=(8,6))\n",
    "plt.scatter(x_3d[:,0], x_3d[:,211], c=X_colors)\n",
    "plt.show()"
   ]
  },
  {
   "cell_type": "code",
   "execution_count": null,
   "id": "1dfea164",
   "metadata": {},
   "outputs": [],
   "source": []
  },
  {
   "cell_type": "code",
   "execution_count": 88,
   "id": "b0988a7f",
   "metadata": {},
   "outputs": [],
   "source": [
    "at = ca.abstraction_tree"
   ]
  },
  {
   "cell_type": "code",
   "execution_count": null,
   "id": "708d52a7",
   "metadata": {},
   "outputs": [],
   "source": []
  },
  {
   "cell_type": "code",
   "execution_count": 89,
   "id": "8b7e2a53",
   "metadata": {},
   "outputs": [],
   "source": [
    "words = [w for w in at['WORD'] if w is not None]"
   ]
  },
  {
   "cell_type": "code",
   "execution_count": 90,
   "id": "13ca4c07",
   "metadata": {},
   "outputs": [
    {
     "data": {
      "text/plain": [
       "3605"
      ]
     },
     "execution_count": 90,
     "metadata": {},
     "output_type": "execute_result"
    }
   ],
   "source": [
    "len(words)"
   ]
  },
  {
   "cell_type": "code",
   "execution_count": 92,
   "id": "9f8b5335",
   "metadata": {
    "scrolled": false
   },
   "outputs": [
    {
     "name": "stdout",
     "output_type": "stream",
     "text": [
      "tracker\n",
      "wrapping\n",
      "outskirts\n",
      "slicing\n",
      "melted\n",
      "diva\n",
      "rehearsal\n",
      "orphan\n",
      "north\n",
      "letterman\n",
      "papa\n",
      "sarah\n",
      "metropolis\n",
      "idaho\n",
      "vomiting\n",
      "dodge\n",
      "niagara\n",
      "yankee\n",
      "baba\n",
      "reagan\n",
      "vortex\n",
      "graduate\n",
      "jew\n",
      "pinched\n",
      "flowering\n",
      "freeze\n",
      "wilderness\n",
      "perry\n",
      "bruce\n",
      "superintendent\n",
      "bedside\n",
      "revue\n",
      "woven\n",
      "bony\n",
      "sentinel\n",
      "orgasm\n",
      "ghost\n",
      "blowing\n",
      "west\n",
      "slaughter\n",
      "tubular\n",
      "squad\n",
      "piercing\n",
      "mayer\n",
      "swarm\n",
      "mobile\n",
      "pinning\n",
      "smoky\n",
      "sniff\n",
      "companion\n",
      "downstream\n",
      "buyer\n",
      "stephen\n",
      "psalm\n",
      "crash\n",
      "giant\n",
      "ace\n",
      "hometown\n",
      "norfolk\n",
      "beat\n",
      "johnson\n",
      "york\n",
      "telecast\n",
      "mao\n",
      "priestess\n",
      "mohammed\n",
      "hydra\n",
      "sermon\n",
      "mack\n",
      "adjutant\n",
      "edmonton\n",
      "quartermaster\n",
      "secretary\n",
      "trim\n",
      "ride\n",
      "biographer\n",
      "champion\n",
      "doubles\n",
      "excavation\n",
      "utah\n",
      "posterior\n",
      "avenue\n",
      "spill\n",
      "corona\n",
      "miller\n",
      "touch\n",
      "purple\n",
      "ventilation\n",
      "uniformed\n",
      "coordinator\n",
      "brooklyn\n",
      "nightfall\n",
      "schedule\n",
      "panzer\n",
      "aboard\n",
      "licked\n",
      "vane\n",
      "palmer\n",
      "strike\n",
      "plymouth\n",
      "chorus\n",
      "membrane\n",
      "space\n",
      "memoir\n",
      "punjabi\n",
      "gig\n",
      "greenwood\n",
      "crawford\n",
      "vista\n",
      "auditor\n",
      "taxpayer\n",
      "carmine\n",
      "slash\n",
      "cody\n",
      "press\n",
      "pali\n",
      "bradford\n",
      "gap\n",
      "stabbing\n",
      "jacob\n",
      "nap\n",
      "crawling\n",
      "arc\n",
      "survivor\n",
      "sliding\n",
      "timer\n",
      "tribe\n",
      "townspeople\n",
      "glint\n",
      "mounted\n",
      "collins\n",
      "armchair\n",
      "transcript\n",
      "autopsy\n",
      "gal\n",
      "soundtrack\n",
      "charleston\n",
      "fauna\n",
      "parker\n",
      "valencia\n",
      "hackney\n",
      "cycling\n",
      "shannon\n",
      "duchy\n",
      "sigh\n",
      "superstructure\n",
      "whore\n",
      "radius\n",
      "backdrop\n",
      "gia\n",
      "jefferson\n",
      "cascade\n",
      "madison\n",
      "flashing\n",
      "story\n",
      "broker\n",
      "poll\n",
      "pedestrian\n",
      "dutch\n",
      "squeeze\n",
      "cuisine\n",
      "fight\n",
      "venus\n",
      "michael\n",
      "laughing\n",
      "freshman\n",
      "scowl\n",
      "grazing\n",
      "reaper\n",
      "heiress\n",
      "essay\n",
      "chapman\n",
      "conical\n",
      "raining\n",
      "skinny\n",
      "tuberculosis\n",
      "boating\n",
      "yoga\n",
      "slit\n",
      "hammering\n",
      "easter\n",
      "dozen\n",
      "memorabilia\n",
      "inch\n",
      "sang\n",
      "romeo\n",
      "holland\n",
      "backbone\n",
      "prick\n",
      "sprint\n",
      "octave\n",
      "midwest\n",
      "bali\n",
      "chloride\n",
      "fresno\n",
      "filming\n",
      "staring\n",
      "convict\n",
      "cambridge\n",
      "cv\n",
      "sulfate\n",
      "class\n",
      "omaha\n",
      "piedmont\n",
      "jerking\n",
      "ford\n",
      "lister\n",
      "liter\n",
      "lewis\n",
      "sitting\n",
      "zombie\n",
      "sandy\n",
      "archduke\n",
      "homemade\n",
      "manual\n",
      "wrapped\n",
      "whitish\n",
      "bust\n",
      "naga\n",
      "charlotte\n",
      "stretch\n",
      "tai\n",
      "indiana\n",
      "jurist\n",
      "drive\n",
      "grandmaster\n",
      "beating\n",
      "teresa\n",
      "confederate\n",
      "printing\n",
      "haji\n",
      "torah\n",
      "portsmouth\n",
      "substrate\n",
      "southeastern\n",
      "williams\n",
      "tia\n",
      "nominee\n",
      "fowler\n",
      "rolling\n",
      "libya\n",
      "marquis\n",
      "brawl\n",
      "cm\n",
      "portal\n",
      "aperture\n",
      "cutler\n",
      "lincoln\n",
      "cooler\n",
      "solar\n",
      "militia\n",
      "beau\n",
      "diet\n",
      "wheeled\n",
      "cast\n",
      "mei\n",
      "kicking\n",
      "moderator\n",
      "dynamo\n",
      "pneumonia\n",
      "duchess\n",
      "count\n",
      "homer\n",
      "recording\n",
      "marks\n",
      "college\n",
      "anatomy\n",
      "fried\n",
      "cuckoo\n",
      "bladed\n",
      "peck\n",
      "blog\n",
      "tenth\n",
      "dylan\n",
      "dyer\n",
      "duo\n",
      "explode\n",
      "corporal\n",
      "authorities\n",
      "lima\n",
      "flip\n",
      "bulge\n",
      "driving\n",
      "anthology\n",
      "stud\n",
      "coupe\n",
      "forestry\n",
      "immigrant\n",
      "victoria\n",
      "arsenal\n",
      "husky\n",
      "eden\n",
      "drone\n",
      "outdoor\n",
      "chaplin\n",
      "nitrate\n",
      "triple\n",
      "sinking\n",
      "murder\n",
      "raped\n",
      "trigger\n",
      "grinding\n",
      "regent\n",
      "edge\n",
      "maze\n",
      "forty\n",
      "tyler\n",
      "hostage\n",
      "barrister\n",
      "delegate\n",
      "beijing\n",
      "campbell\n",
      "schmidt\n",
      "ross\n",
      "old\n",
      "sip\n",
      "skinner\n",
      "frozen\n",
      "businessmen\n",
      "angelica\n",
      "cracking\n",
      "cortex\n",
      "bill\n",
      "hydraulic\n",
      "tucson\n",
      "amazon\n",
      "wei\n",
      "roma\n",
      "naturalist\n",
      "kilometer\n",
      "raider\n",
      "buff\n",
      "chewing\n",
      "pregnancy\n",
      "match\n",
      "marathon\n",
      "accessory\n",
      "designer\n",
      "toby\n",
      "drip\n",
      "crawl\n",
      "jamaica\n",
      "inferno\n",
      "aft\n",
      "etched\n",
      "peeled\n",
      "spicy\n",
      "baroness\n",
      "brooke\n",
      "tournament\n",
      "cold\n",
      "booker\n",
      "melt\n",
      "hamilton\n",
      "coroner\n",
      "hospice\n",
      "shed\n",
      "rip\n",
      "hurling\n",
      "missouri\n",
      "queue\n",
      "emery\n",
      "donor\n",
      "waving\n",
      "india\n",
      "russell\n",
      "rash\n",
      "iowa\n",
      "auction\n",
      "chambers\n",
      "protruding\n",
      "sleeper\n",
      "cooked\n",
      "swallow\n",
      "kelly\n",
      "vein\n",
      "titan\n",
      "steer\n",
      "newport\n",
      "eighteen\n",
      "milwaukee\n",
      "choked\n",
      "cleveland\n",
      "arthritis\n",
      "glenn\n",
      "pregnant\n",
      "citation\n",
      "anna\n",
      "chester\n",
      "lying\n",
      "sydney\n",
      "bibliography\n",
      "twenty\n",
      "pow\n",
      "prize\n",
      "maryland\n",
      "dj\n",
      "sutra\n",
      "arizona\n",
      "dane\n",
      "webb\n",
      "brushed\n",
      "fracture\n",
      "brigade\n",
      "skinned\n",
      "helix\n",
      "image\n",
      "detroit\n",
      "strangled\n",
      "burial\n",
      "patient\n",
      "flat\n",
      "bearer\n",
      "ecstasy\n",
      "guru\n",
      "pollution\n",
      "winger\n",
      "bum\n",
      "voyager\n",
      "album\n",
      "lloyd\n",
      "practitioner\n",
      "spanish\n",
      "implant\n",
      "destination\n",
      "samurai\n",
      "nave\n",
      "psychologist\n",
      "boxed\n",
      "minneapolis\n",
      "superman\n",
      "yuan\n",
      "southbound\n",
      "sobbing\n",
      "tibet\n",
      "hermitage\n",
      "splash\n",
      "frontier\n",
      "swell\n",
      "drunk\n",
      "broken\n",
      "tulsa\n",
      "camping\n",
      "puff\n",
      "simon\n",
      "drown\n",
      "rbi\n",
      "saturday\n",
      "anderson\n",
      "spraying\n",
      "potassium\n",
      "kv\n",
      "sage\n",
      "pour\n",
      "grind\n",
      "chapter\n",
      "upstream\n",
      "dell\n",
      "pitching\n",
      "carter\n",
      "heroine\n",
      "healer\n",
      "shooter\n",
      "collision\n",
      "argus\n",
      "ethernet\n",
      "deserts\n",
      "diagonal\n",
      "berber\n",
      "nashville\n",
      "grassy\n",
      "bubbling\n",
      "rustling\n",
      "complexion\n",
      "glucose\n",
      "ounce\n",
      "ballast\n",
      "crushed\n",
      "bachelor\n",
      "tammy\n",
      "rolled\n",
      "genie\n",
      "siren\n",
      "matt\n"
     ]
    },
    {
     "ename": "KeyboardInterrupt",
     "evalue": "",
     "output_type": "error",
     "traceback": [
      "\u001b[1;31m---------------------------------------------------------------------------\u001b[0m",
      "\u001b[1;31mKeyboardInterrupt\u001b[0m                         Traceback (most recent call last)",
      "Cell \u001b[1;32mIn[92], line 2\u001b[0m\n\u001b[0;32m      1\u001b[0m \u001b[38;5;28;01mfor\u001b[39;00m w \u001b[38;5;129;01min\u001b[39;00m words:\n\u001b[1;32m----> 2\u001b[0m     \u001b[38;5;28;01mif\u001b[39;00m concr_scores\u001b[38;5;241m.\u001b[39mloc[w][\u001b[38;5;124m'\u001b[39m\u001b[38;5;124mRATING\u001b[39m\u001b[38;5;124m'\u001b[39m] \u001b[38;5;241m<\u001b[39m \u001b[38;5;241m6\u001b[39m:\n\u001b[0;32m      3\u001b[0m         \u001b[38;5;28mprint\u001b[39m(w)\n",
      "File \u001b[1;32m~\\.conda\\envs\\ai\\Lib\\site-packages\\pandas\\core\\indexing.py:1073\u001b[0m, in \u001b[0;36m_LocationIndexer.__getitem__\u001b[1;34m(self, key)\u001b[0m\n\u001b[0;32m   1070\u001b[0m axis \u001b[38;5;241m=\u001b[39m \u001b[38;5;28mself\u001b[39m\u001b[38;5;241m.\u001b[39maxis \u001b[38;5;129;01mor\u001b[39;00m \u001b[38;5;241m0\u001b[39m\n\u001b[0;32m   1072\u001b[0m maybe_callable \u001b[38;5;241m=\u001b[39m com\u001b[38;5;241m.\u001b[39mapply_if_callable(key, \u001b[38;5;28mself\u001b[39m\u001b[38;5;241m.\u001b[39mobj)\n\u001b[1;32m-> 1073\u001b[0m \u001b[38;5;28;01mreturn\u001b[39;00m \u001b[38;5;28mself\u001b[39m\u001b[38;5;241m.\u001b[39m_getitem_axis(maybe_callable, axis\u001b[38;5;241m=\u001b[39maxis)\n",
      "File \u001b[1;32m~\\.conda\\envs\\ai\\Lib\\site-packages\\pandas\\core\\indexing.py:1312\u001b[0m, in \u001b[0;36m_LocIndexer._getitem_axis\u001b[1;34m(self, key, axis)\u001b[0m\n\u001b[0;32m   1310\u001b[0m \u001b[38;5;66;03m# fall thru to straight lookup\u001b[39;00m\n\u001b[0;32m   1311\u001b[0m \u001b[38;5;28mself\u001b[39m\u001b[38;5;241m.\u001b[39m_validate_key(key, axis)\n\u001b[1;32m-> 1312\u001b[0m \u001b[38;5;28;01mreturn\u001b[39;00m \u001b[38;5;28mself\u001b[39m\u001b[38;5;241m.\u001b[39m_get_label(key, axis\u001b[38;5;241m=\u001b[39maxis)\n",
      "File \u001b[1;32m~\\.conda\\envs\\ai\\Lib\\site-packages\\pandas\\core\\indexing.py:1260\u001b[0m, in \u001b[0;36m_LocIndexer._get_label\u001b[1;34m(self, label, axis)\u001b[0m\n\u001b[0;32m   1258\u001b[0m \u001b[38;5;28;01mdef\u001b[39;00m \u001b[38;5;21m_get_label\u001b[39m(\u001b[38;5;28mself\u001b[39m, label, axis: \u001b[38;5;28mint\u001b[39m):\n\u001b[0;32m   1259\u001b[0m     \u001b[38;5;66;03m# GH#5567 this will fail if the label is not present in the axis.\u001b[39;00m\n\u001b[1;32m-> 1260\u001b[0m     \u001b[38;5;28;01mreturn\u001b[39;00m \u001b[38;5;28mself\u001b[39m\u001b[38;5;241m.\u001b[39mobj\u001b[38;5;241m.\u001b[39mxs(label, axis\u001b[38;5;241m=\u001b[39maxis)\n",
      "File \u001b[1;32m~\\.conda\\envs\\ai\\Lib\\site-packages\\pandas\\core\\generic.py:4056\u001b[0m, in \u001b[0;36mNDFrame.xs\u001b[1;34m(self, key, axis, level, drop_level)\u001b[0m\n\u001b[0;32m   4054\u001b[0m             new_index \u001b[38;5;241m=\u001b[39m index[loc]\n\u001b[0;32m   4055\u001b[0m \u001b[38;5;28;01melse\u001b[39;00m:\n\u001b[1;32m-> 4056\u001b[0m     loc \u001b[38;5;241m=\u001b[39m index\u001b[38;5;241m.\u001b[39mget_loc(key)\n\u001b[0;32m   4058\u001b[0m     \u001b[38;5;28;01mif\u001b[39;00m \u001b[38;5;28misinstance\u001b[39m(loc, np\u001b[38;5;241m.\u001b[39mndarray):\n\u001b[0;32m   4059\u001b[0m         \u001b[38;5;28;01mif\u001b[39;00m loc\u001b[38;5;241m.\u001b[39mdtype \u001b[38;5;241m==\u001b[39m np\u001b[38;5;241m.\u001b[39mbool_:\n",
      "File \u001b[1;32m~\\.conda\\envs\\ai\\Lib\\site-packages\\pandas\\core\\indexes\\base.py:3802\u001b[0m, in \u001b[0;36mIndex.get_loc\u001b[1;34m(self, key, method, tolerance)\u001b[0m\n\u001b[0;32m   3800\u001b[0m casted_key \u001b[38;5;241m=\u001b[39m \u001b[38;5;28mself\u001b[39m\u001b[38;5;241m.\u001b[39m_maybe_cast_indexer(key)\n\u001b[0;32m   3801\u001b[0m \u001b[38;5;28;01mtry\u001b[39;00m:\n\u001b[1;32m-> 3802\u001b[0m     \u001b[38;5;28;01mreturn\u001b[39;00m \u001b[38;5;28mself\u001b[39m\u001b[38;5;241m.\u001b[39m_engine\u001b[38;5;241m.\u001b[39mget_loc(casted_key)\n\u001b[0;32m   3803\u001b[0m \u001b[38;5;28;01mexcept\u001b[39;00m \u001b[38;5;167;01mKeyError\u001b[39;00m \u001b[38;5;28;01mas\u001b[39;00m err:\n\u001b[0;32m   3804\u001b[0m     \u001b[38;5;28;01mraise\u001b[39;00m \u001b[38;5;167;01mKeyError\u001b[39;00m(key) \u001b[38;5;28;01mfrom\u001b[39;00m \u001b[38;5;21;01merr\u001b[39;00m\n",
      "File \u001b[1;32m~\\.conda\\envs\\ai\\Lib\\site-packages\\pandas\\_libs\\index.pyx:138\u001b[0m, in \u001b[0;36mpandas._libs.index.IndexEngine.get_loc\u001b[1;34m()\u001b[0m\n",
      "File \u001b[1;32m~\\.conda\\envs\\ai\\Lib\\site-packages\\pandas\\_libs\\index.pyx:162\u001b[0m, in \u001b[0;36mpandas._libs.index.IndexEngine.get_loc\u001b[1;34m()\u001b[0m\n",
      "File \u001b[1;32m~\\.conda\\envs\\ai\\Lib\\site-packages\\pandas\\_libs\\index.pyx:203\u001b[0m, in \u001b[0;36mpandas._libs.index.IndexEngine._get_loc_duplicates\u001b[1;34m()\u001b[0m\n",
      "File \u001b[1;32m~\\.conda\\envs\\ai\\Lib\\site-packages\\pandas\\_libs\\index.pyx:211\u001b[0m, in \u001b[0;36mpandas._libs.index.IndexEngine._maybe_get_bool_indexer\u001b[1;34m()\u001b[0m\n",
      "File \u001b[1;32m~\\.conda\\envs\\ai\\Lib\\site-packages\\pandas\\_libs\\index.pyx:99\u001b[0m, in \u001b[0;36mpandas._libs.index._unpack_bool_indexer\u001b[1;34m()\u001b[0m\n",
      "File \u001b[1;32m<__array_function__ internals>:180\u001b[0m, in \u001b[0;36mwhere\u001b[1;34m(*args, **kwargs)\u001b[0m\n",
      "\u001b[1;31mKeyboardInterrupt\u001b[0m: "
     ]
    }
   ],
   "source": [
    "for w in words:\n",
    "    if concr_scores.loc[w]['RATING'] < 6:\n",
    "        print(w)"
   ]
  },
  {
   "cell_type": "code",
   "execution_count": null,
   "id": "e3a11735",
   "metadata": {},
   "outputs": [],
   "source": []
  }
 ],
 "metadata": {
  "kernelspec": {
   "display_name": "Python 3 (ipykernel)",
   "language": "python",
   "name": "python3"
  },
  "language_info": {
   "codemirror_mode": {
    "name": "ipython",
    "version": 3
   },
   "file_extension": ".py",
   "mimetype": "text/x-python",
   "name": "python",
   "nbconvert_exporter": "python",
   "pygments_lexer": "ipython3",
   "version": "3.11.2"
  }
 },
 "nbformat": 4,
 "nbformat_minor": 5
}
